{
 "cells": [
  {
   "cell_type": "code",
   "execution_count": 33,
   "id": "24367c48",
   "metadata": {},
   "outputs": [
    {
     "name": "stdout",
     "output_type": "stream",
     "text": [
      "printed in the else block\n"
     ]
    }
   ],
   "source": [
    "if False:\n",
    "    print (\"my name is bharath.\")\n",
    "    \n",
    "else:\n",
    "    print(\"printed in the else block\")\n",
    "    "
   ]
  },
  {
   "cell_type": "code",
   "execution_count": 16,
   "id": "befd2180",
   "metadata": {},
   "outputs": [
    {
     "name": "stdout",
     "output_type": "stream",
     "text": [
      "my name is Bharath\n"
     ]
    }
   ],
   "source": [
    "name = \"Bharath\"\n",
    "\n",
    "if name == \"Bharath\":\n",
    "    print(\"my name is Bharath\")"
   ]
  },
  {
   "cell_type": "code",
   "execution_count": 17,
   "id": "d83b19d1",
   "metadata": {},
   "outputs": [
    {
     "name": "stdout",
     "output_type": "stream",
     "text": [
      "Bharath\n"
     ]
    }
   ],
   "source": [
    "print(name)"
   ]
  },
  {
   "cell_type": "code",
   "execution_count": 18,
   "id": "d7ece2d1",
   "metadata": {},
   "outputs": [
    {
     "name": "stdout",
     "output_type": "stream",
     "text": [
      "your name is bharath\n"
     ]
    }
   ],
   "source": [
    "if name==\"no name\":\n",
    "    print( \"what is your name\")\n",
    "elif name==\"Bharath\":\n",
    "    print (\"your name is bharath\")\n",
    "else:\n",
    "    print (\"type your name\")"
   ]
  },
  {
   "cell_type": "code",
   "execution_count": 27,
   "id": "80600419",
   "metadata": {},
   "outputs": [
    {
     "name": "stdout",
     "output_type": "stream",
     "text": [
      "mr\n",
      "what is your name\n"
     ]
    }
   ],
   "source": [
    "name=\"mr\"\n",
    "print (name)\n",
    "\n",
    "\n",
    "if name==\"mr\":\n",
    "    print( \"what is your name\")\n",
    "elif name==\"Bharath\":\n",
    "    print (\"your name is bharath\")\n",
    "else:\n",
    "    print (\"type your name\")"
   ]
  },
  {
   "cell_type": "code",
   "execution_count": 28,
   "id": "6ca822cb",
   "metadata": {},
   "outputs": [
    {
     "name": "stdout",
     "output_type": "stream",
     "text": [
      "mr\n"
     ]
    }
   ],
   "source": [
    "print(name)"
   ]
  },
  {
   "cell_type": "code",
   "execution_count": 30,
   "id": "cffefa71",
   "metadata": {},
   "outputs": [],
   "source": [
    "name=\"hero\""
   ]
  },
  {
   "cell_type": "code",
   "execution_count": 31,
   "id": "92e37668",
   "metadata": {},
   "outputs": [
    {
     "name": "stdout",
     "output_type": "stream",
     "text": [
      "type your name\n"
     ]
    }
   ],
   "source": [
    "if name==\"no name\":\n",
    "    print( \"what is your name\")\n",
    "elif name==\"Bharath\":\n",
    "    print (\"your name is bharath\")\n",
    "else:\n",
    "    print (\"type your name\")"
   ]
  },
  {
   "cell_type": "code",
   "execution_count": null,
   "id": "919b4296",
   "metadata": {},
   "outputs": [],
   "source": [
    "loc=\"bank\"\n",
    "\n",
    "if loc==\"auto shop\":\n",
    "    print(\"\")"
   ]
  }
 ],
 "metadata": {
  "kernelspec": {
   "display_name": "Python 3",
   "language": "python",
   "name": "python3"
  },
  "language_info": {
   "codemirror_mode": {
    "name": "ipython",
    "version": 3
   },
   "file_extension": ".py",
   "mimetype": "text/x-python",
   "name": "python",
   "nbconvert_exporter": "python",
   "pygments_lexer": "ipython3",
   "version": "3.8.8"
  }
 },
 "nbformat": 4,
 "nbformat_minor": 5
}
