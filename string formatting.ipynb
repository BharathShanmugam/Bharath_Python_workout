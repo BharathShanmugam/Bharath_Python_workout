{
 "cells": [
  {
   "cell_type": "code",
   "execution_count": 4,
   "id": "f7a6abcf",
   "metadata": {},
   "outputs": [],
   "source": [
    "#.format()method"
   ]
  },
  {
   "cell_type": "code",
   "execution_count": 23,
   "id": "072835b9",
   "metadata": {},
   "outputs": [],
   "source": [
    "my_name=Bharath"
   ]
  },
  {
   "cell_type": "code",
   "execution_count": 6,
   "id": "c48ea4c6",
   "metadata": {},
   "outputs": [],
   "source": [
    "my_age=20"
   ]
  },
  {
   "cell_type": "code",
   "execution_count": null,
   "id": "9bd29774",
   "metadata": {},
   "outputs": [],
   "source": [
    "\n"
   ]
  },
  {
   "cell_type": "code",
   "execution_count": 43,
   "id": "f4d9a8e2",
   "metadata": {},
   "outputs": [
    {
     "name": "stdout",
     "output_type": "stream",
     "text": [
      "My name is Bharath, my age is 20, iam a student\n"
     ]
    }
   ],
   "source": [
    "print('My name is {}, my age is {}, iam a {}'.format('Bharath','20','student'))\n"
   ]
  },
  {
   "cell_type": "code",
   "execution_count": 44,
   "id": "69d310f9",
   "metadata": {},
   "outputs": [],
   "source": [
    "#f string formate"
   ]
  },
  {
   "cell_type": "code",
   "execution_count": 45,
   "id": "6bbf3073",
   "metadata": {},
   "outputs": [
    {
     "name": "stdout",
     "output_type": "stream",
     "text": [
      "hello Bharath,your age is20\n"
     ]
    }
   ],
   "source": [
    "print(f\"hello {my_name},your age is{my_age}\")"
   ]
  },
  {
   "cell_type": "code",
   "execution_count": 46,
   "id": "0e1ad7df",
   "metadata": {},
   "outputs": [
    {
     "data": {
      "text/plain": [
       "'20'"
      ]
     },
     "execution_count": 46,
     "metadata": {},
     "output_type": "execute_result"
    }
   ],
   "source": [
    "my_age"
   ]
  },
  {
   "cell_type": "code",
   "execution_count": null,
   "id": "94bc1996",
   "metadata": {},
   "outputs": [],
   "source": []
  },
  {
   "cell_type": "code",
   "execution_count": null,
   "id": "76ad1f98",
   "metadata": {},
   "outputs": [],
   "source": []
  }
 ],
 "metadata": {
  "kernelspec": {
   "display_name": "Python 3",
   "language": "python",
   "name": "python3"
  },
  "language_info": {
   "codemirror_mode": {
    "name": "ipython",
    "version": 3
   },
   "file_extension": ".py",
   "mimetype": "text/x-python",
   "name": "python",
   "nbconvert_exporter": "python",
   "pygments_lexer": "ipython3",
   "version": "3.8.8"
  }
 },
 "nbformat": 4,
 "nbformat_minor": 5
}
