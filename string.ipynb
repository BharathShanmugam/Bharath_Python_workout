{
 "cells": [
  {
   "cell_type": "code",
   "execution_count": 1,
   "id": "ab980067",
   "metadata": {},
   "outputs": [
    {
     "data": {
      "text/plain": [
       "'hello world'"
      ]
     },
     "execution_count": 1,
     "metadata": {},
     "output_type": "execute_result"
    }
   ],
   "source": [
    "'hello world'"
   ]
  },
  {
   "cell_type": "code",
   "execution_count": 2,
   "id": "8ad7694f",
   "metadata": {},
   "outputs": [
    {
     "data": {
      "text/plain": [
       "'hi bharath'"
      ]
     },
     "execution_count": 2,
     "metadata": {},
     "output_type": "execute_result"
    }
   ],
   "source": [
    "\"hi bharath\""
   ]
  },
  {
   "cell_type": "code",
   "execution_count": 3,
   "id": "a4a3f2e7",
   "metadata": {},
   "outputs": [
    {
     "data": {
      "text/plain": [
       "\"It's me\""
      ]
     },
     "execution_count": 3,
     "metadata": {},
     "output_type": "execute_result"
    }
   ],
   "source": [
    "\"It's me\""
   ]
  },
  {
   "cell_type": "code",
   "execution_count": 4,
   "id": "349a9da6",
   "metadata": {},
   "outputs": [
    {
     "data": {
      "text/plain": [
       "'hello bharath'"
      ]
     },
     "execution_count": 4,
     "metadata": {},
     "output_type": "execute_result"
    }
   ],
   "source": [
    "\"hello world\"\n",
    "\"hello bharath\""
   ]
  },
  {
   "cell_type": "markdown",
   "id": "8ce9d6f2",
   "metadata": {},
   "source": [
    "for typing more than one string use (printsmt)"
   ]
  },
  {
   "cell_type": "code",
   "execution_count": 5,
   "id": "65c610b7",
   "metadata": {},
   "outputs": [
    {
     "name": "stdout",
     "output_type": "stream",
     "text": [
      "hi ra\n"
     ]
    },
    {
     "data": {
      "text/plain": [
       "'hello ra'"
      ]
     },
     "execution_count": 5,
     "metadata": {},
     "output_type": "execute_result"
    }
   ],
   "source": [
    "print('hi ra')\n",
    "'hello ra'"
   ]
  },
  {
   "cell_type": "code",
   "execution_count": 6,
   "id": "e5aee73e",
   "metadata": {},
   "outputs": [
    {
     "name": "stdout",
     "output_type": "stream",
     "text": [
      "hi bharath\n",
      "hello bharath\n"
     ]
    }
   ],
   "source": [
    "print('hi bharath')\n",
    "print('hello bharath')"
   ]
  },
  {
   "cell_type": "code",
   "execution_count": 8,
   "id": "1bd65402",
   "metadata": {},
   "outputs": [
    {
     "name": "stdout",
     "output_type": "stream",
     "text": [
      "hi\n",
      "bharath\n"
     ]
    }
   ],
   "source": [
    "print('hi\\nbharath')"
   ]
  },
  {
   "cell_type": "code",
   "execution_count": 9,
   "id": "ed9495bd",
   "metadata": {},
   "outputs": [
    {
     "name": "stdout",
     "output_type": "stream",
     "text": [
      "hi \n",
      " bharath\n"
     ]
    }
   ],
   "source": [
    "print('hi \\n bharath')"
   ]
  },
  {
   "cell_type": "code",
   "execution_count": 12,
   "id": "153952be",
   "metadata": {},
   "outputs": [
    {
     "name": "stdout",
     "output_type": "stream",
     "text": [
      "hi \tbharath \n"
     ]
    }
   ],
   "source": [
    "print('hi \\tbharath ')"
   ]
  },
  {
   "cell_type": "code",
   "execution_count": 20,
   "id": "1bdbe79d",
   "metadata": {},
   "outputs": [
    {
     "data": {
      "text/plain": [
       "7"
      ]
     },
     "execution_count": 20,
     "metadata": {},
     "output_type": "execute_result"
    }
   ],
   "source": [
    "len('bharath')"
   ]
  },
  {
   "cell_type": "code",
   "execution_count": 21,
   "id": "815e7d88",
   "metadata": {},
   "outputs": [
    {
     "data": {
      "text/plain": [
       "2"
      ]
     },
     "execution_count": 21,
     "metadata": {},
     "output_type": "execute_result"
    }
   ],
   "source": [
    "len(\"hi\")"
   ]
  },
  {
   "cell_type": "code",
   "execution_count": 22,
   "id": "3d7023ee",
   "metadata": {},
   "outputs": [
    {
     "data": {
      "text/plain": [
       "7"
      ]
     },
     "execution_count": 22,
     "metadata": {},
     "output_type": "execute_result"
    }
   ],
   "source": [
    "len('bharath')"
   ]
  },
  {
   "cell_type": "code",
   "execution_count": 23,
   "id": "316ff92e",
   "metadata": {},
   "outputs": [
    {
     "data": {
      "text/plain": [
       "6"
      ]
     },
     "execution_count": 23,
     "metadata": {},
     "output_type": "execute_result"
    }
   ],
   "source": [
    "len(\"ganapa\")\n"
   ]
  },
  {
   "cell_type": "markdown",
   "id": "995c8025",
   "metadata": {},
   "source": [
    "***indexing***\n"
   ]
  },
  {
   "cell_type": "markdown",
   "id": "d390c5a9",
   "metadata": {},
   "source": [
    "to find the letter at any part of the string"
   ]
  },
  {
   "cell_type": "code",
   "execution_count": 7,
   "id": "b6d5e622",
   "metadata": {},
   "outputs": [],
   "source": [
    "mystring=\"abcdefghijklmnopqrstuvwxyz\"\n"
   ]
  },
  {
   "cell_type": "code",
   "execution_count": 5,
   "id": "efbc3fe2",
   "metadata": {},
   "outputs": [
    {
     "data": {
      "text/plain": [
       "'abcdefghijklmnopqrstuvwxyz'"
      ]
     },
     "execution_count": 5,
     "metadata": {},
     "output_type": "execute_result"
    }
   ],
   "source": [
    "mystring"
   ]
  },
  {
   "cell_type": "code",
   "execution_count": 11,
   "id": "6aa797d7",
   "metadata": {},
   "outputs": [
    {
     "data": {
      "text/plain": [
       "'h'"
      ]
     },
     "execution_count": 11,
     "metadata": {},
     "output_type": "execute_result"
    }
   ],
   "source": [
    "mystring[7]"
   ]
  },
  {
   "cell_type": "code",
   "execution_count": 13,
   "id": "b6412c29",
   "metadata": {},
   "outputs": [
    {
     "data": {
      "text/plain": [
       "'b'"
      ]
     },
     "execution_count": 13,
     "metadata": {},
     "output_type": "execute_result"
    }
   ],
   "source": [
    "mystring[1]"
   ]
  },
  {
   "cell_type": "code",
   "execution_count": 16,
   "id": "40729e37",
   "metadata": {},
   "outputs": [
    {
     "data": {
      "text/plain": [
       "'a'"
      ]
     },
     "execution_count": 16,
     "metadata": {},
     "output_type": "execute_result"
    }
   ],
   "source": [
    "mystring[0]\n"
   ]
  },
  {
   "cell_type": "markdown",
   "id": "c5ce2903",
   "metadata": {},
   "source": [
    "***slicing***\n"
   ]
  },
  {
   "cell_type": "markdown",
   "id": "8ef067ed",
   "metadata": {},
   "source": [
    "to syntax[start:stop:step]"
   ]
  },
  {
   "cell_type": "code",
   "execution_count": 17,
   "id": "dddf2c81",
   "metadata": {},
   "outputs": [
    {
     "data": {
      "text/plain": [
       "'abcdefghijklmnopqrstuvwxyz'"
      ]
     },
     "execution_count": 17,
     "metadata": {},
     "output_type": "execute_result"
    }
   ],
   "source": [
    "mystring"
   ]
  },
  {
   "cell_type": "code",
   "execution_count": 18,
   "id": "94df9cef",
   "metadata": {},
   "outputs": [
    {
     "data": {
      "text/plain": [
       "'hijklmnopqrstuvwxyz'"
      ]
     },
     "execution_count": 18,
     "metadata": {},
     "output_type": "execute_result"
    }
   ],
   "source": [
    "mystring[7:]"
   ]
  },
  {
   "cell_type": "code",
   "execution_count": 19,
   "id": "c74bff76",
   "metadata": {},
   "outputs": [
    {
     "data": {
      "text/plain": [
       "'abcdefg'"
      ]
     },
     "execution_count": 19,
     "metadata": {},
     "output_type": "execute_result"
    }
   ],
   "source": [
    "mystring[:7]"
   ]
  },
  {
   "cell_type": "code",
   "execution_count": 20,
   "id": "224c9f82",
   "metadata": {},
   "outputs": [
    {
     "data": {
      "text/plain": [
       "'bcdefg'"
      ]
     },
     "execution_count": 20,
     "metadata": {},
     "output_type": "execute_result"
    }
   ],
   "source": [
    "mystring[1:7]"
   ]
  },
  {
   "cell_type": "code",
   "execution_count": 21,
   "id": "1519f7e5",
   "metadata": {},
   "outputs": [
    {
     "data": {
      "text/plain": [
       "'a'"
      ]
     },
     "execution_count": 21,
     "metadata": {},
     "output_type": "execute_result"
    }
   ],
   "source": [
    "mystring[0:1]"
   ]
  },
  {
   "cell_type": "markdown",
   "id": "bd906193",
   "metadata": {},
   "source": [
    "reversing the string [::-1]\n"
   ]
  },
  {
   "cell_type": "code",
   "execution_count": 22,
   "id": "166792e7",
   "metadata": {},
   "outputs": [
    {
     "data": {
      "text/plain": [
       "'abcdefghijklmnopqrstuvwxyz'"
      ]
     },
     "execution_count": 22,
     "metadata": {},
     "output_type": "execute_result"
    }
   ],
   "source": [
    "mystring[::]"
   ]
  },
  {
   "cell_type": "code",
   "execution_count": 23,
   "id": "3f44b5ce",
   "metadata": {},
   "outputs": [
    {
     "data": {
      "text/plain": [
       "'zyxwvutsrqponmlkjihgfedcba'"
      ]
     },
     "execution_count": 23,
     "metadata": {},
     "output_type": "execute_result"
    }
   ],
   "source": [
    "mystring[::-1]"
   ]
  },
  {
   "cell_type": "markdown",
   "id": "fc5d4bc2",
   "metadata": {},
   "source": [
    "***important for interview***\n"
   ]
  },
  {
   "cell_type": "code",
   "execution_count": 24,
   "id": "436fa939",
   "metadata": {},
   "outputs": [
    {
     "data": {
      "text/plain": [
       "'bd'"
      ]
     },
     "execution_count": 24,
     "metadata": {},
     "output_type": "execute_result"
    }
   ],
   "source": [
    "mystring[1:5:2]"
   ]
  },
  {
   "cell_type": "code",
   "execution_count": 2,
   "id": "e264cccb",
   "metadata": {},
   "outputs": [],
   "source": [
    "bharath=\"shanmugam\""
   ]
  },
  {
   "cell_type": "code",
   "execution_count": 2,
   "id": "8524f188",
   "metadata": {},
   "outputs": [],
   "source": [
    "a=\"bharath\""
   ]
  },
  {
   "cell_type": "code",
   "execution_count": 3,
   "id": "95d5afdd",
   "metadata": {},
   "outputs": [
    {
     "name": "stdout",
     "output_type": "stream",
     "text": [
      "bharath\n"
     ]
    }
   ],
   "source": [
    "print(a)"
   ]
  },
  {
   "cell_type": "code",
   "execution_count": 4,
   "id": "89afc80d",
   "metadata": {},
   "outputs": [
    {
     "data": {
      "text/plain": [
       "'r'"
      ]
     },
     "execution_count": 4,
     "metadata": {},
     "output_type": "execute_result"
    }
   ],
   "source": [
    "a[3]"
   ]
  },
  {
   "cell_type": "code",
   "execution_count": 6,
   "id": "8503275a",
   "metadata": {},
   "outputs": [
    {
     "data": {
      "text/plain": [
       "'h'"
      ]
     },
     "execution_count": 6,
     "metadata": {},
     "output_type": "execute_result"
    }
   ],
   "source": [
    "a[1:4:3]"
   ]
  },
  {
   "cell_type": "code",
   "execution_count": 7,
   "id": "34ff88d7",
   "metadata": {},
   "outputs": [],
   "source": [
    "b=\"abcdefghijklmhnopqrstuvwxyz\""
   ]
  },
  {
   "cell_type": "code",
   "execution_count": 8,
   "id": "9a34dd56",
   "metadata": {},
   "outputs": [
    {
     "name": "stdout",
     "output_type": "stream",
     "text": [
      "abcdefghijklmhnopqrstuvwxyz\n"
     ]
    }
   ],
   "source": [
    "print(b)"
   ]
  },
  {
   "cell_type": "code",
   "execution_count": 9,
   "id": "fb0c32cc",
   "metadata": {},
   "outputs": [
    {
     "data": {
      "text/plain": [
       "'chmqv'"
      ]
     },
     "execution_count": 9,
     "metadata": {},
     "output_type": "execute_result"
    }
   ],
   "source": [
    "b[2:23:5]"
   ]
  },
  {
   "cell_type": "code",
   "execution_count": 3,
   "id": "1715a126",
   "metadata": {},
   "outputs": [],
   "source": [
    "pig=\"chandana\""
   ]
  },
  {
   "cell_type": "code",
   "execution_count": 4,
   "id": "c91ce7fd",
   "metadata": {},
   "outputs": [
    {
     "name": "stdout",
     "output_type": "stream",
     "text": [
      "chandana\n"
     ]
    }
   ],
   "source": [
    "print(pig)"
   ]
  },
  {
   "cell_type": "code",
   "execution_count": 8,
   "id": "bd4b5099",
   "metadata": {},
   "outputs": [
    {
     "data": {
      "text/plain": [
       "8"
      ]
     },
     "execution_count": 8,
     "metadata": {},
     "output_type": "execute_result"
    }
   ],
   "source": [
    "len(pig)"
   ]
  },
  {
   "cell_type": "code",
   "execution_count": null,
   "id": "0e1e2474",
   "metadata": {},
   "outputs": [],
   "source": []
  },
  {
   "cell_type": "code",
   "execution_count": null,
   "id": "e9e53775",
   "metadata": {},
   "outputs": [],
   "source": []
  }
 ],
 "metadata": {
  "kernelspec": {
   "display_name": "Python 3",
   "language": "python",
   "name": "python3"
  },
  "language_info": {
   "codemirror_mode": {
    "name": "ipython",
    "version": 3
   },
   "file_extension": ".py",
   "mimetype": "text/x-python",
   "name": "python",
   "nbconvert_exporter": "python",
   "pygments_lexer": "ipython3",
   "version": "3.8.8"
  }
 },
 "nbformat": 4,
 "nbformat_minor": 5
}
