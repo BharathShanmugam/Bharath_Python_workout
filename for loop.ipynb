{
 "cells": [
  {
   "cell_type": "markdown",
   "id": "e6e91ef6",
   "metadata": {},
   "source": [
    "syntx for for loop\n"
   ]
  },
  {
   "cell_type": "code",
   "execution_count": 44,
   "id": "c24aee31",
   "metadata": {},
   "outputs": [
    {
     "data": {
      "text/plain": [
       "'bharath'"
      ]
     },
     "execution_count": 44,
     "metadata": {},
     "output_type": "execute_result"
    }
   ],
   "source": [
    "'bharath'"
   ]
  },
  {
   "cell_type": "code",
   "execution_count": 7,
   "id": "07054a92",
   "metadata": {},
   "outputs": [],
   "source": [
    "bharath= (1,2,3,4)"
   ]
  },
  {
   "cell_type": "code",
   "execution_count": 5,
   "id": "8fe4ed1e",
   "metadata": {},
   "outputs": [
    {
     "name": "stdout",
     "output_type": "stream",
     "text": [
      "1\n",
      "2\n",
      "3\n",
      "4\n"
     ]
    }
   ],
   "source": [
    "for char in bharath:\n",
    "    print(char)"
   ]
  },
  {
   "cell_type": "code",
   "execution_count": 6,
   "id": "7a08cbd7",
   "metadata": {},
   "outputs": [
    {
     "name": "stdout",
     "output_type": "stream",
     "text": [
      "Bharath\n",
      "Bharath\n",
      "Bharath\n",
      "Bharath\n"
     ]
    }
   ],
   "source": [
    "for char in bharath:\n",
    "    print(\"Bharath\")"
   ]
  },
  {
   "cell_type": "code",
   "execution_count": 9,
   "id": "8262ed31",
   "metadata": {},
   "outputs": [
    {
     "data": {
      "text/plain": [
       "tuple"
      ]
     },
     "execution_count": 9,
     "metadata": {},
     "output_type": "execute_result"
    }
   ],
   "source": [
    "type(bharath)"
   ]
  },
  {
   "cell_type": "code",
   "execution_count": 11,
   "id": "02e2f2c1",
   "metadata": {},
   "outputs": [],
   "source": [
    "my_list=[1,2,3,4,5,6,7,8,9,10]"
   ]
  },
  {
   "cell_type": "code",
   "execution_count": 12,
   "id": "e5d699e9",
   "metadata": {},
   "outputs": [
    {
     "name": "stdout",
     "output_type": "stream",
     "text": [
      "1\n",
      "2\n",
      "3\n",
      "4\n",
      "5\n",
      "6\n",
      "7\n",
      "8\n",
      "9\n",
      "10\n"
     ]
    }
   ],
   "source": [
    "for num in my_list:\n",
    "    print(num)"
   ]
  },
  {
   "cell_type": "code",
   "execution_count": 33,
   "id": "a725c8f3",
   "metadata": {},
   "outputs": [
    {
     "name": "stdout",
     "output_type": "stream",
     "text": [
      "5\n"
     ]
    }
   ],
   "source": [
    "#checking the number\n",
    "\n",
    "for num in my_list:\n",
    "    if num==5:\n",
    "        print(num)\n",
    "    "
   ]
  },
  {
   "cell_type": "code",
   "execution_count": 36,
   "id": "56cda8de",
   "metadata": {},
   "outputs": [
    {
     "name": "stdout",
     "output_type": "stream",
     "text": [
      "2\n",
      "4\n",
      "6\n",
      "8\n",
      "10\n"
     ]
    }
   ],
   "source": [
    "for num in my_list:\n",
    "    if num %2==0:\n",
    "        print(num)"
   ]
  },
  {
   "cell_type": "markdown",
   "id": "dc79a0e0",
   "metadata": {},
   "source": [
    "***to find the num odd and even***"
   ]
  },
  {
   "cell_type": "code",
   "execution_count": 43,
   "id": "57be8f64",
   "metadata": {},
   "outputs": [
    {
     "name": "stdout",
     "output_type": "stream",
     "text": [
      "odd:1\n",
      "2\n",
      "odd:3\n",
      "4\n",
      "odd:5\n",
      "6\n",
      "odd:7\n",
      "8\n",
      "odd:9\n",
      "10\n"
     ]
    }
   ],
   "source": [
    "for num in my_list:\n",
    "    if num %2==0:\n",
    "        print(num)\n",
    "    else:\n",
    "        print(f'odd:{num}')"
   ]
  },
  {
   "cell_type": "code",
   "execution_count": 47,
   "id": "fa41a1da",
   "metadata": {},
   "outputs": [
    {
     "name": "stdout",
     "output_type": "stream",
     "text": [
      "odd[1, 2, 3, 4, 5, 6, 7, 8, 9, 10]\n"
     ]
    }
   ],
   "source": [
    "print(f'odd{my_list}')"
   ]
  },
  {
   "cell_type": "code",
   "execution_count": 62,
   "id": "35e2d679",
   "metadata": {},
   "outputs": [
    {
     "name": "stdout",
     "output_type": "stream",
     "text": [
      "1\n",
      "3\n",
      "6\n",
      "10\n",
      "15\n",
      "21\n",
      "28\n",
      "36\n",
      "45\n",
      "55\n"
     ]
    }
   ],
   "source": [
    "list_sum=0\n",
    "\n",
    "for num in my_list:\n",
    "    list_sum=list_sum+num\n",
    "    print(list_sum)"
   ]
  },
  {
   "cell_type": "code",
   "execution_count": 65,
   "id": "5854b4e8",
   "metadata": {},
   "outputs": [
    {
     "name": "stdout",
     "output_type": "stream",
     "text": [
      "55\n"
     ]
    }
   ],
   "source": [
    "list_sum=0\n",
    "\n",
    "for num in my_list:\n",
    "    list_sum=list_sum+num\n",
    "    #if the prnt stmt comes out side the indetation it will print the last value\n",
    "print(list_sum)"
   ]
  },
  {
   "cell_type": "markdown",
   "id": "2d4b8149",
   "metadata": {},
   "source": [
    "for loop in string"
   ]
  },
  {
   "cell_type": "code",
   "execution_count": 66,
   "id": "9e58c9af",
   "metadata": {},
   "outputs": [],
   "source": [
    "my_sting=\"Bharath\""
   ]
  },
  {
   "cell_type": "code",
   "execution_count": 67,
   "id": "b88382f4",
   "metadata": {},
   "outputs": [
    {
     "name": "stdout",
     "output_type": "stream",
     "text": [
      "Bharath\n"
     ]
    }
   ],
   "source": [
    "print(my_sting)"
   ]
  },
  {
   "cell_type": "code",
   "execution_count": 68,
   "id": "10c2bb1b",
   "metadata": {},
   "outputs": [
    {
     "name": "stdout",
     "output_type": "stream",
     "text": [
      "B\n",
      "h\n",
      "a\n",
      "r\n",
      "a\n",
      "t\n",
      "h\n"
     ]
    }
   ],
   "source": [
    "for char in my_sting:\n",
    "    print (char)"
   ]
  },
  {
   "cell_type": "code",
   "execution_count": 74,
   "id": "b8b0cae7",
   "metadata": {},
   "outputs": [
    {
     "name": "stdout",
     "output_type": "stream",
     "text": [
      "bharath\n",
      "bharath\n",
      "bharath\n",
      "bharath\n",
      "bharath\n",
      "bharath\n",
      "bharath\n"
     ]
    }
   ],
   "source": [
    "for char in my_sting:\n",
    "    print (\"bharath\")"
   ]
  },
  {
   "cell_type": "markdown",
   "id": "b786bdb8",
   "metadata": {},
   "source": [
    "for loop in tuple\n"
   ]
  },
  {
   "cell_type": "code",
   "execution_count": 75,
   "id": "1c47d1b1",
   "metadata": {},
   "outputs": [],
   "source": [
    "tup=(1,2,3)"
   ]
  },
  {
   "cell_type": "code",
   "execution_count": 76,
   "id": "d7b7f5d1",
   "metadata": {},
   "outputs": [
    {
     "name": "stdout",
     "output_type": "stream",
     "text": [
      "(1, 2, 3)\n",
      "(1, 2, 3)\n",
      "(1, 2, 3)\n"
     ]
    }
   ],
   "source": [
    "for item in tup:\n",
    "    print(tup)"
   ]
  },
  {
   "cell_type": "code",
   "execution_count": 77,
   "id": "ab7b1f50",
   "metadata": {},
   "outputs": [],
   "source": [
    "#ex 2"
   ]
  },
  {
   "cell_type": "code",
   "execution_count": 78,
   "id": "5f7760bc",
   "metadata": {},
   "outputs": [
    {
     "name": "stdout",
     "output_type": "stream",
     "text": [
      "1\n",
      "2\n",
      "3\n"
     ]
    }
   ],
   "source": [
    "for item in tup:\n",
    "    print(item)"
   ]
  },
  {
   "cell_type": "code",
   "execution_count": 79,
   "id": "a6ccd290",
   "metadata": {},
   "outputs": [],
   "source": [
    "mylist=[(1,2),(3,4),(5,6)]\n",
    "\n"
   ]
  },
  {
   "cell_type": "code",
   "execution_count": 80,
   "id": "419e3a87",
   "metadata": {},
   "outputs": [
    {
     "name": "stdout",
     "output_type": "stream",
     "text": [
      "(1, 2)\n",
      "(3, 4)\n",
      "(5, 6)\n"
     ]
    }
   ],
   "source": [
    "for item in mylist:\n",
    "    print(item)"
   ]
  },
  {
   "cell_type": "code",
   "execution_count": 81,
   "id": "55b4d742",
   "metadata": {},
   "outputs": [
    {
     "name": "stdout",
     "output_type": "stream",
     "text": [
      "2\n",
      "4\n",
      "6\n"
     ]
    }
   ],
   "source": [
    "for a,b in mylist:\n",
    "    print (b)"
   ]
  },
  {
   "cell_type": "code",
   "execution_count": 82,
   "id": "bd0cb18d",
   "metadata": {},
   "outputs": [
    {
     "name": "stdout",
     "output_type": "stream",
     "text": [
      "1\n",
      "3\n",
      "5\n"
     ]
    }
   ],
   "source": [
    "for a,b in mylist:\n",
    "    print (a)"
   ]
  },
  {
   "cell_type": "markdown",
   "id": "82762699",
   "metadata": {},
   "source": [
    "#for loop in dictionary"
   ]
  },
  {
   "cell_type": "code",
   "execution_count": 91,
   "id": "5235983f",
   "metadata": {},
   "outputs": [],
   "source": [
    "mydict={\"k1\":1,\"k2\":22,\"k3\":333}"
   ]
  },
  {
   "cell_type": "code",
   "execution_count": 92,
   "id": "9f6ee885",
   "metadata": {},
   "outputs": [
    {
     "name": "stdout",
     "output_type": "stream",
     "text": [
      "k 1\n",
      "k 2\n",
      "k 3\n"
     ]
    }
   ],
   "source": [
    "for a,b in mydict:\n",
    "    print(a,b)"
   ]
  },
  {
   "cell_type": "code",
   "execution_count": 93,
   "id": "428384b7",
   "metadata": {},
   "outputs": [
    {
     "name": "stdout",
     "output_type": "stream",
     "text": [
      "k1\n",
      "k2\n",
      "k3\n"
     ]
    }
   ],
   "source": [
    "for item in mydict:\n",
    "    print (item)"
   ]
  },
  {
   "cell_type": "code",
   "execution_count": 98,
   "id": "2b96bd57",
   "metadata": {},
   "outputs": [
    {
     "name": "stdout",
     "output_type": "stream",
     "text": [
      "1\n",
      "2\n",
      "3\n"
     ]
    }
   ],
   "source": [
    "for item,value in mydict:\n",
    "    print(value)"
   ]
  },
  {
   "cell_type": "code",
   "execution_count": 115,
   "id": "c9b74f47",
   "metadata": {},
   "outputs": [
    {
     "name": "stdout",
     "output_type": "stream",
     "text": [
      "waste\n",
      "waste\n",
      "waste\n"
     ]
    }
   ],
   "source": [
    "for a,b in mydict:\n",
    "    if a==2:\n",
    "        print(b)\n",
    "    else:\n",
    "        print(\"waste\")"
   ]
  },
  {
   "cell_type": "code",
   "execution_count": null,
   "id": "a072cf91",
   "metadata": {},
   "outputs": [],
   "source": []
  }
 ],
 "metadata": {
  "kernelspec": {
   "display_name": "Python 3",
   "language": "python",
   "name": "python3"
  },
  "language_info": {
   "codemirror_mode": {
    "name": "ipython",
    "version": 3
   },
   "file_extension": ".py",
   "mimetype": "text/x-python",
   "name": "python",
   "nbconvert_exporter": "python",
   "pygments_lexer": "ipython3",
   "version": "3.8.8"
  }
 },
 "nbformat": 4,
 "nbformat_minor": 5
}
