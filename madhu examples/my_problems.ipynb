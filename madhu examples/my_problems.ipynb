{
 "cells": [
  {
   "cell_type": "code",
   "execution_count": 4,
   "id": "3632f575",
   "metadata": {},
   "outputs": [
    {
     "name": "stdout",
     "output_type": "stream",
     "text": [
      "enter a number:  6\n",
      "6 is not a prime number\n"
     ]
    }
   ],
   "source": [
    "#prime number\n",
    "n = int(input(\"enter a number:  \"))\n",
    "if n >= 1:\n",
    "    for i in range(2,n):\n",
    "        if n % 2== 0:\n",
    "            print(n,\"is not a prime number\")\n",
    "            break\n",
    "    else:\n",
    "        print(n,\"is a prime number\")\n",
    "    "
   ]
  },
  {
   "cell_type": "code",
   "execution_count": 5,
   "id": "14f9c602",
   "metadata": {},
   "outputs": [
    {
     "name": "stdout",
     "output_type": "stream",
     "text": [
      "enter a number:  6\n",
      "6 is a even number\n"
     ]
    }
   ],
   "source": [
    "#even or odd number\n",
    "n = int(input(\"enter a number:  \"))\n",
    "if n % 2 == 0:\n",
    "    print(n, \"is a even number\")\n",
    "else:\n",
    "    print(n, \"is a odd number\")"
   ]
  },
  {
   "cell_type": "code",
   "execution_count": 10,
   "id": "e14d00e8",
   "metadata": {},
   "outputs": [
    {
     "name": "stdout",
     "output_type": "stream",
     "text": [
      "enter a number:  66\n",
      "it is not a amstrong number\n"
     ]
    }
   ],
   "source": [
    "n=input(\"enter a number:  \")\n",
    "sum=0\n",
    "for i in n:\n",
    "    sum=sum + int(i)**3\n",
    "if sum==int(n):\n",
    "    print(\"it is a amstrong number\")\n",
    "else:\n",
    "    print(\"it is not a amstrong number\")\n",
    "    "
   ]
  },
  {
   "cell_type": "code",
   "execution_count": null,
   "id": "5ec3ab8a",
   "metadata": {},
   "outputs": [],
   "source": []
  }
 ],
 "metadata": {
  "kernelspec": {
   "display_name": "Python 3",
   "language": "python",
   "name": "python3"
  },
  "language_info": {
   "codemirror_mode": {
    "name": "ipython",
    "version": 3
   },
   "file_extension": ".py",
   "mimetype": "text/x-python",
   "name": "python",
   "nbconvert_exporter": "python",
   "pygments_lexer": "ipython3",
   "version": "3.8.8"
  }
 },
 "nbformat": 4,
 "nbformat_minor": 5
}
