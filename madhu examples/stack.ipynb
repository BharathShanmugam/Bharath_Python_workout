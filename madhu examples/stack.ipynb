{
 "cells": [
  {
   "cell_type": "code",
   "execution_count": 17,
   "id": "4f528b71",
   "metadata": {},
   "outputs": [],
   "source": [
    "#stack is a linierddata structures \n",
    "#it follows LIFO methiod (Last In First Out)\n",
    "#New element added in one end and remofe at end onlu\n",
    "#Inserted element is known as pull\n",
    "#deleted operation is known as pull\n",
    "#It time cpmplexity 0(1)"
   ]
  },
  {
   "cell_type": "code",
   "execution_count": 3,
   "id": "59c09d2a",
   "metadata": {},
   "outputs": [],
   "source": [
    "class Stack():\n",
    "    #constructor\n",
    "    def __init__(self):\n",
    "        self.stack=[]  #storing this data in list\n",
    "        self.items = 0 #index value is zero\n",
    "        \n",
    "    def isEmpty(self):\n",
    "        return self.stack == []  #this line of code checks the line is empty or not\n",
    "    \n",
    "    #pusing the element\n",
    "    def push(self,data):\n",
    "        self.stack.insert(self.items,data)\n",
    "        self.items += 1  #incrementing the index\n",
    "        return '{} pushed to stack'.format(data)\n",
    "    \n",
    "    #poping the element\n",
    "    def pop(self):\n",
    "        self.items -= 1  #removing the index to delete the item\n",
    "        data = self.stack.pop(self.items)\n",
    "        return '{} pop from stack'.format(data)\n",
    "    def stacksize(self):\n",
    "        return len(self.Stack)\n",
    "    "
   ]
  },
  {
   "cell_type": "code",
   "execution_count": 4,
   "id": "d0e6b1f6",
   "metadata": {},
   "outputs": [
    {
     "name": "stdout",
     "output_type": "stream",
     "text": [
      "2 pushed to stack\n",
      "3 pushed to stack\n",
      "4 pushed to stack\n",
      "5 pushed to stack\n",
      "6 pushed to stack\n"
     ]
    }
   ],
   "source": [
    "#testing \n",
    "if __name__ =='__main__':\n",
    "    s= Stack()\n",
    "    data = 0\n",
    "    print(s.push(2))\n",
    "    print(s.push(3))\n",
    "    print(s.push(4))\n",
    "    print(s.push(5))\n",
    "    print(s.push(6))\n",
    "    \n",
    "    "
   ]
  },
  {
   "cell_type": "code",
   "execution_count": 27,
   "id": "05ab71c7",
   "metadata": {},
   "outputs": [
    {
     "name": "stdout",
     "output_type": "stream",
     "text": [
      "6 pop from stack\n"
     ]
    }
   ],
   "source": [
    "print(s.pop())"
   ]
  },
  {
   "cell_type": "code",
   "execution_count": 5,
   "id": "8b81a05e",
   "metadata": {},
   "outputs": [
    {
     "data": {
      "text/plain": [
       "__main__.Stack"
      ]
     },
     "execution_count": 5,
     "metadata": {},
     "output_type": "execute_result"
    }
   ],
   "source": [
    "Stack"
   ]
  },
  {
   "cell_type": "code",
   "execution_count": null,
   "id": "6f77c96e",
   "metadata": {},
   "outputs": [],
   "source": []
  },
  {
   "cell_type": "code",
   "execution_count": null,
   "id": "82d034b3",
   "metadata": {},
   "outputs": [],
   "source": []
  },
  {
   "cell_type": "code",
   "execution_count": null,
   "id": "ca0ea665",
   "metadata": {},
   "outputs": [],
   "source": []
  },
  {
   "cell_type": "code",
   "execution_count": null,
   "id": "5f71a742",
   "metadata": {},
   "outputs": [],
   "source": []
  },
  {
   "cell_type": "code",
   "execution_count": null,
   "id": "3ffbec24",
   "metadata": {},
   "outputs": [],
   "source": []
  },
  {
   "cell_type": "code",
   "execution_count": null,
   "id": "5566a09d",
   "metadata": {},
   "outputs": [],
   "source": []
  },
  {
   "cell_type": "code",
   "execution_count": null,
   "id": "5da16311",
   "metadata": {},
   "outputs": [],
   "source": []
  },
  {
   "cell_type": "code",
   "execution_count": null,
   "id": "7cdbe0fd",
   "metadata": {},
   "outputs": [],
   "source": []
  },
  {
   "cell_type": "code",
   "execution_count": null,
   "id": "c6746155",
   "metadata": {},
   "outputs": [],
   "source": []
  },
  {
   "cell_type": "code",
   "execution_count": 3,
   "id": "8f69b369",
   "metadata": {},
   "outputs": [],
   "source": [
    "class Stack():\n",
    "    #constructor\n",
    "    def __init__(self):\n",
    "        self.stack=[]  #storing this data in list\n",
    "        self.items = 0 #index value is zero\n",
    "        \n",
    "    #def isEmpty(self):\n",
    "      #  return self.stack == []  #this line of code checks the line is empty or not\n",
    "    \n",
    "    #pusing the element\n",
    "    def push(self,data):\n",
    "        self.stack.insert(self.items,data)\n",
    "        self.items += 1  #incrementing the index\n",
    "        return '{} pushed to stack'.format(data)\n",
    "    \n",
    "    #poping the element\n",
    "    def pop(self):\n",
    "        self.items -= 1  #removing the index to delete the item\n",
    "        data = self.stack.pop(self.items)\n",
    "        return '{} pop from stack'.format(data)\n",
    "    #def stacksize(self):\n",
    "        #return len(self.Stack)"
   ]
  },
  {
   "cell_type": "code",
   "execution_count": 5,
   "id": "4dce236a",
   "metadata": {},
   "outputs": [],
   "source": [
    "class Stack(object):\n",
    "    def __init__(self):\n",
    "        self.stack = []\n",
    "        self.index = 0\n",
    "    def IfEmpty (self):\n",
    "        self.IfEmpty == []\n",
    "    def push (self,data):\n",
    "        self.stack.insert(self.index,data)\n",
    "        self.index += 1\n",
    "        return '{} as push in stack'.format(data)\n",
    "    def pull(self):\n",
    "        self.index = -1\n",
    "        data =self.stack.pop(self.index)\n",
    "        return '{} as pull in stack'.format(data)"
   ]
  },
  {
   "cell_type": "code",
   "execution_count": 6,
   "id": "695aab0a",
   "metadata": {},
   "outputs": [
    {
     "name": "stdout",
     "output_type": "stream",
     "text": [
      "2 as push in stack\n",
      "2 as pull in stack\n"
     ]
    }
   ],
   "source": [
    "if __name__=='__main__':\n",
    "    s = Stack()\n",
    "    print(s.push(2))\n",
    "    print(s.pull())"
   ]
  },
  {
   "cell_type": "code",
   "execution_count": 3,
   "id": "e32c5336",
   "metadata": {},
   "outputs": [],
   "source": [
    "class Stack(object):\n",
    "    def __init__(self):\n",
    "        self.stack = []\n",
    "        self.index= 0\n",
    "    def isempty(self):\n",
    "        self.stack == []\n",
    "    def push(self,data):\n",
    "        self.stack.insert(self.index,data)\n",
    "        self.index +=1\n",
    "        return '{} as push in stack'.format(data)\n",
    "    def pop(self):\n",
    "        self.index -= 1\n",
    "        data =self.stack.pop(self.index)\n",
    "        return '{} as pulled in stack'.format(data)"
   ]
  },
  {
   "cell_type": "code",
   "execution_count": 4,
   "id": "e3b606c5",
   "metadata": {},
   "outputs": [
    {
     "name": "stdout",
     "output_type": "stream",
     "text": [
      "2 as push in stack\n",
      "2 as pulled in stack\n"
     ]
    }
   ],
   "source": [
    "if __name__=='__main__':\n",
    "    s = Stack()\n",
    "    print(s.push(2))\n",
    "    print(s.pop())"
   ]
  },
  {
   "cell_type": "code",
   "execution_count": null,
   "id": "ef017495",
   "metadata": {},
   "outputs": [],
   "source": []
  },
  {
   "cell_type": "code",
   "execution_count": null,
   "id": "5c0b1db3",
   "metadata": {},
   "outputs": [],
   "source": []
  }
 ],
 "metadata": {
  "kernelspec": {
   "display_name": "Python 3 (ipykernel)",
   "language": "python",
   "name": "python3"
  },
  "language_info": {
   "codemirror_mode": {
    "name": "ipython",
    "version": 3
   },
   "file_extension": ".py",
   "mimetype": "text/x-python",
   "name": "python",
   "nbconvert_exporter": "python",
   "pygments_lexer": "ipython3",
   "version": "3.9.13"
  }
 },
 "nbformat": 4,
 "nbformat_minor": 5
}
