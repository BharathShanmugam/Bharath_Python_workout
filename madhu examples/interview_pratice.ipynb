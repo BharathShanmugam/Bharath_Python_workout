{
 "cells": [
  {
   "cell_type": "code",
   "execution_count": 1,
   "id": "2a0e9f78",
   "metadata": {},
   "outputs": [],
   "source": [
    "#WRITE A PROGRAM TO GET THE MATCHING CHARACTERS IN A STRING"
   ]
  },
  {
   "cell_type": "code",
   "execution_count": 2,
   "id": "bdb18c8a",
   "metadata": {},
   "outputs": [],
   "source": [
    "#oka string yaadhainna letter rendu sarllu laydh dhanikanna yakkuva vasthay dhani ni string matching antar M"
   ]
  },
  {
   "cell_type": "code",
   "execution_count": 1,
   "id": "7a67b3f9",
   "metadata": {},
   "outputs": [],
   "source": [
    "#EXAMPLE 2"
   ]
  },
  {
   "cell_type": "code",
   "execution_count": 23,
   "id": "580d576a",
   "metadata": {},
   "outputs": [
    {
     "name": "stdout",
     "output_type": "stream",
     "text": [
      "{'H', 'M', 'U', 'A'}\n"
     ]
    }
   ],
   "source": [
    "name = 'MADHUMITHA SHANMUGAM'\n",
    "matching_characters.add(i)\n",
    "for i in name:\n",
    "    if (name.count(i)>1):\n",
    "        matching_characters.add(i)\n",
    "print(matching_characters)"
   ]
  },
  {
   "cell_type": "code",
   "execution_count": 24,
   "id": "f7520380",
   "metadata": {},
   "outputs": [
    {
     "name": "stdout",
     "output_type": "stream",
     "text": [
      "{'H', 'M', 'U', 'A'}\n"
     ]
    }
   ],
   "source": [
    "string = \"MADHUMITHA\"\n",
    "matching_characters = set()\n",
    "for i in string:\n",
    "    if (name.count(i)>1):\n",
    "        matching_characters.add(i)\n",
    "print(matching_characters)"
   ]
  },
  {
   "cell_type": "code",
   "execution_count": 9,
   "id": "1dc7f8c1",
   "metadata": {},
   "outputs": [],
   "source": [
    "name=\"MADHUMITHA\""
   ]
  },
  {
   "cell_type": "code",
   "execution_count": 11,
   "id": "866bb908",
   "metadata": {},
   "outputs": [
    {
     "name": "stdout",
     "output_type": "stream",
     "text": [
      "MADHUMITHA\n"
     ]
    }
   ],
   "source": [
    "print(name)"
   ]
  },
  {
   "cell_type": "code",
   "execution_count": 14,
   "id": "be77dbca",
   "metadata": {},
   "outputs": [],
   "source": [
    "name= set()"
   ]
  },
  {
   "cell_type": "code",
   "execution_count": 84,
   "id": "646c971c",
   "metadata": {},
   "outputs": [
    {
     "data": {
      "text/plain": [
       "'MADHUMITHA SHANMUGAM'"
      ]
     },
     "execution_count": 84,
     "metadata": {},
     "output_type": "execute_result"
    }
   ],
   "source": [
    "name"
   ]
  },
  {
   "cell_type": "code",
   "execution_count": 2,
   "id": "d9c31a01",
   "metadata": {},
   "outputs": [
    {
     "ename": "TypeError",
     "evalue": "count() takes at least 1 argument (0 given)",
     "output_type": "error",
     "traceback": [
      "\u001b[1;31m---------------------------------------------------------------------------\u001b[0m",
      "\u001b[1;31mTypeError\u001b[0m                                 Traceback (most recent call last)",
      "\u001b[1;32m<ipython-input-2-d50e4b7e5513>\u001b[0m in \u001b[0;36m<module>\u001b[1;34m\u001b[0m\n\u001b[0;32m      2\u001b[0m \u001b[0mmatching_characters\u001b[0m \u001b[1;33m=\u001b[0m \u001b[0mset\u001b[0m\u001b[1;33m(\u001b[0m\u001b[1;33m)\u001b[0m\u001b[1;33m\u001b[0m\u001b[1;33m\u001b[0m\u001b[0m\n\u001b[0;32m      3\u001b[0m \u001b[1;32mfor\u001b[0m \u001b[0mi\u001b[0m \u001b[1;32min\u001b[0m \u001b[0mstring\u001b[0m\u001b[1;33m:\u001b[0m\u001b[1;33m\u001b[0m\u001b[1;33m\u001b[0m\u001b[0m\n\u001b[1;32m----> 4\u001b[1;33m     \u001b[1;32mif\u001b[0m \u001b[1;33m(\u001b[0m\u001b[0mi\u001b[0m\u001b[1;33m.\u001b[0m\u001b[0mcount\u001b[0m\u001b[1;33m(\u001b[0m\u001b[1;33m)\u001b[0m\u001b[1;33m>\u001b[0m\u001b[1;36m1\u001b[0m\u001b[1;33m)\u001b[0m\u001b[1;33m:\u001b[0m\u001b[1;33m\u001b[0m\u001b[1;33m\u001b[0m\u001b[0m\n\u001b[0m\u001b[0;32m      5\u001b[0m         \u001b[0mmatching_characters\u001b[0m\u001b[1;33m.\u001b[0m\u001b[0madd\u001b[0m\u001b[1;33m(\u001b[0m\u001b[0mi\u001b[0m\u001b[1;33m)\u001b[0m\u001b[1;33m\u001b[0m\u001b[1;33m\u001b[0m\u001b[0m\n\u001b[0;32m      6\u001b[0m \u001b[0mprint\u001b[0m\u001b[1;33m(\u001b[0m\u001b[0mmatching_characters\u001b[0m\u001b[1;33m)\u001b[0m\u001b[1;33m\u001b[0m\u001b[1;33m\u001b[0m\u001b[0m\n",
      "\u001b[1;31mTypeError\u001b[0m: count() takes at least 1 argument (0 given)"
     ]
    }
   ],
   "source": []
  },
  {
   "cell_type": "code",
   "execution_count": 1,
   "id": "640b6460",
   "metadata": {},
   "outputs": [
    {
     "ename": "AttributeError",
     "evalue": "'set' object has no attribute 'count'",
     "output_type": "error",
     "traceback": [
      "\u001b[1;31m---------------------------------------------------------------------------\u001b[0m",
      "\u001b[1;31mAttributeError\u001b[0m                            Traceback (most recent call last)",
      "\u001b[1;32m<ipython-input-1-28f3361af3ba>\u001b[0m in \u001b[0;36m<module>\u001b[1;34m\u001b[0m\n\u001b[0;32m      2\u001b[0m \u001b[0mapple\u001b[0m\u001b[1;33m=\u001b[0m \u001b[0mset\u001b[0m\u001b[1;33m(\u001b[0m\u001b[1;33m)\u001b[0m\u001b[1;33m\u001b[0m\u001b[1;33m\u001b[0m\u001b[0m\n\u001b[0;32m      3\u001b[0m \u001b[1;32mfor\u001b[0m \u001b[0mi\u001b[0m \u001b[1;32min\u001b[0m \u001b[0mstring\u001b[0m\u001b[1;33m:\u001b[0m\u001b[1;33m\u001b[0m\u001b[1;33m\u001b[0m\u001b[0m\n\u001b[1;32m----> 4\u001b[1;33m     \u001b[1;32mif\u001b[0m \u001b[1;33m(\u001b[0m\u001b[0mapple\u001b[0m\u001b[1;33m.\u001b[0m\u001b[0mcount\u001b[0m\u001b[1;33m(\u001b[0m\u001b[0mi\u001b[0m\u001b[1;33m)\u001b[0m\u001b[1;33m>\u001b[0m\u001b[1;36m1\u001b[0m\u001b[1;33m)\u001b[0m\u001b[1;33m:\u001b[0m\u001b[1;33m\u001b[0m\u001b[1;33m\u001b[0m\u001b[0m\n\u001b[0m\u001b[0;32m      5\u001b[0m         \u001b[0mapple\u001b[0m\u001b[1;33m.\u001b[0m\u001b[0madd\u001b[0m\u001b[1;33m(\u001b[0m\u001b[0mi\u001b[0m\u001b[1;33m)\u001b[0m\u001b[1;33m\u001b[0m\u001b[1;33m\u001b[0m\u001b[0m\n\u001b[0;32m      6\u001b[0m \u001b[0mprint\u001b[0m\u001b[1;33m(\u001b[0m\u001b[0mapple\u001b[0m\u001b[1;33m)\u001b[0m\u001b[1;33m\u001b[0m\u001b[1;33m\u001b[0m\u001b[0m\n",
      "\u001b[1;31mAttributeError\u001b[0m: 'set' object has no attribute 'count'"
     ]
    }
   ],
   "source": [
    "string = \"MADHUMITHA SHANMUGAM\"\n",
    "apple= set()\n",
    "for i in string:\n",
    "    if (apple.count(i)>1):\n",
    "        apple.add(i)\n",
    "print(apple)\n",
    "        "
   ]
  },
  {
   "cell_type": "code",
   "execution_count": 76,
   "id": "407231dd",
   "metadata": {},
   "outputs": [],
   "source": [
    "d = [1,3,5,2,5,3,5,3,5,34,34,24]"
   ]
  },
  {
   "cell_type": "code",
   "execution_count": 82,
   "id": "fa3448e3",
   "metadata": {},
   "outputs": [
    {
     "name": "stdout",
     "output_type": "stream",
     "text": [
      "5\n",
      "5\n",
      "5\n",
      "5\n"
     ]
    }
   ],
   "source": [
    "for i in d:\n",
    "    if (d.count(i)>3):\n",
    "        print(i)"
   ]
  },
  {
   "cell_type": "code",
   "execution_count": 78,
   "id": "27afdd8d",
   "metadata": {},
   "outputs": [
    {
     "data": {
      "text/plain": [
       "[1, 2, 3, 3, 3, 5, 5, 5, 5, 24, 34, 34]"
      ]
     },
     "execution_count": 78,
     "metadata": {},
     "output_type": "execute_result"
    }
   ],
   "source": [
    "d"
   ]
  },
  {
   "cell_type": "code",
   "execution_count": 56,
   "id": "39d0cb11",
   "metadata": {},
   "outputs": [
    {
     "data": {
      "text/plain": [
       "2"
      ]
     },
     "execution_count": 56,
     "metadata": {},
     "output_type": "execute_result"
    }
   ],
   "source": [
    "h = ['j','h','j']\n",
    "h.count('j')"
   ]
  },
  {
   "cell_type": "code",
   "execution_count": 58,
   "id": "478bd079",
   "metadata": {},
   "outputs": [],
   "source": [
    "h=set()"
   ]
  },
  {
   "cell_type": "code",
   "execution_count": 59,
   "id": "e3722c55",
   "metadata": {},
   "outputs": [
    {
     "data": {
      "text/plain": [
       "set()"
      ]
     },
     "execution_count": 59,
     "metadata": {},
     "output_type": "execute_result"
    }
   ],
   "source": [
    "h"
   ]
  },
  {
   "cell_type": "code",
   "execution_count": null,
   "id": "fde4b5c9",
   "metadata": {},
   "outputs": [],
   "source": []
  },
  {
   "cell_type": "code",
   "execution_count": 49,
   "id": "12d4c48e",
   "metadata": {},
   "outputs": [
    {
     "data": {
      "text/plain": [
       "set()"
      ]
     },
     "execution_count": 49,
     "metadata": {},
     "output_type": "execute_result"
    }
   ],
   "source": [
    "set(m)"
   ]
  },
  {
   "cell_type": "code",
   "execution_count": null,
   "id": "2b99962f",
   "metadata": {},
   "outputs": [],
   "source": []
  },
  {
   "cell_type": "code",
   "execution_count": 1,
   "id": "6f942f56",
   "metadata": {},
   "outputs": [
    {
     "name": "stdout",
     "output_type": "stream",
     "text": [
      "{'A', 'H', 'M', 'U'}\n"
     ]
    }
   ],
   "source": [
    "name = 'MADHUMITHA SHANMUGAM'\n",
    "apple = set()\n",
    "for i in name:\n",
    "    if (name.count(i)>1):\n",
    "        apple.add(i)\n",
    "print(apple)"
   ]
  },
  {
   "cell_type": "code",
   "execution_count": 1,
   "id": "e52cbbea",
   "metadata": {},
   "outputs": [],
   "source": [
    "#HOW TO CALCULATE THE NUMBER OF VOWELS AND CONSONANTS IN A STRING?"
   ]
  },
  {
   "cell_type": "code",
   "execution_count": 3,
   "id": "64194c6e",
   "metadata": {},
   "outputs": [
    {
     "name": "stdout",
     "output_type": "stream",
     "text": [
      "The count of the vowels are 7\n",
      "the count of the consonents are 15\n"
     ]
    }
   ],
   "source": [
    "vowel_count = 0\n",
    "\n",
    "consonent_count = 0\n",
    "\n",
    "\n",
    "string = \"This is my first Interview\";\n",
    "string = string.lower()\n",
    "\n",
    "for i in range(0,len(string)):\n",
    "    \n",
    "    if string[i]in ('a','e','i','o','u'):\n",
    "        \n",
    "        vowel_count = vowel_count + 1;\n",
    "        \n",
    "    elif (string[i]>= 'a' and string[i] <= 'z'):\n",
    "        \n",
    "        consonent_count = consonent_count + 1\n",
    "        \n",
    "print('The count of the vowels are',vowel_count)\n",
    "\n",
    "print('the count of the consonents are',consonent_count)"
   ]
  },
  {
   "cell_type": "code",
   "execution_count": 1,
   "id": "d79659a1",
   "metadata": {},
   "outputs": [
    {
     "name": "stdout",
     "output_type": "stream",
     "text": [
      "enter a number:  7\n",
      "* \n",
      "* * \n",
      "* * * \n",
      "* * * * \n",
      "* * * * * \n",
      "* * * * * * \n",
      "* * * * * * * \n"
     ]
    }
   ],
   "source": [
    "col = int(input(\"enter a number:  \"))\n",
    "row = 1\n",
    "while(row <= col ):\n",
    "    star = 1\n",
    "    while(star<= row):\n",
    "        print(\"*\", end=\" \")\n",
    "        star = star + 1\n",
    "    print()\n",
    "    row = row + 1"
   ]
  },
  {
   "cell_type": "code",
   "execution_count": 3,
   "id": "f1dbed3e",
   "metadata": {},
   "outputs": [
    {
     "name": "stdout",
     "output_type": "stream",
     "text": [
      "enter a number:   8\n",
      "1 \n",
      "1 2 \n",
      "1 2 3 \n",
      "1 2 3 4 \n",
      "1 2 3 4 5 \n",
      "1 2 3 4 5 6 \n",
      "1 2 3 4 5 6 7 \n",
      "1 2 3 4 5 6 7 8 \n",
      "1 2 3 4 5 6 7 8 9 \n"
     ]
    }
   ],
   "source": [
    "col = int(input(\"enter a number:   \"))\n",
    "row = 0\n",
    "while(row<= col):\n",
    "    num = 0\n",
    "    while (num<= row):\n",
    "        print(num+ 1,end =\" \")\n",
    "        num = num + 1\n",
    "    print()\n",
    "    row = row + 1"
   ]
  },
  {
   "cell_type": "code",
   "execution_count": null,
   "id": "3923a0bd",
   "metadata": {},
   "outputs": [],
   "source": []
  }
 ],
 "metadata": {
  "kernelspec": {
   "display_name": "Python 3 (ipykernel)",
   "language": "python",
   "name": "python3"
  },
  "language_info": {
   "codemirror_mode": {
    "name": "ipython",
    "version": 3
   },
   "file_extension": ".py",
   "mimetype": "text/x-python",
   "name": "python",
   "nbconvert_exporter": "python",
   "pygments_lexer": "ipython3",
   "version": "3.11.1"
  }
 },
 "nbformat": 4,
 "nbformat_minor": 5
}
