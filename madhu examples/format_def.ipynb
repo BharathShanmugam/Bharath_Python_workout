{
 "cells": [
  {
   "cell_type": "code",
   "execution_count": 12,
   "id": "3c67f785",
   "metadata": {},
   "outputs": [
    {
     "name": "stdout",
     "output_type": "stream",
     "text": [
      "hello i am madhumitha\n"
     ]
    }
   ],
   "source": [
    "print(\"{} i am madhumitha\".format(\"hello\"))"
   ]
  },
  {
   "cell_type": "code",
   "execution_count": 13,
   "id": "8b348e60",
   "metadata": {},
   "outputs": [
    {
     "name": "stdout",
     "output_type": "stream",
     "text": [
      "this is my program in python\n"
     ]
    }
   ],
   "source": [
    "str = \"this is my program {}\"\n",
    "print(str.format('in python'))"
   ]
  },
  {
   "cell_type": "code",
   "execution_count": 15,
   "id": "8d8183d4",
   "metadata": {},
   "outputs": [
    {
     "name": "stdout",
     "output_type": "stream",
     "text": [
      "hello this is madhumitha shanmugam\n"
     ]
    }
   ],
   "source": [
    "print(\"hello this is {}{} {}\".format(\"madhu\",'mitha','shanmugam','jgh'))"
   ]
  },
  {
   "cell_type": "code",
   "execution_count": 16,
   "id": "ad89493c",
   "metadata": {},
   "outputs": [],
   "source": [
    "my_string = ('{} is a good girl and she has more {}')"
   ]
  },
  {
   "cell_type": "code",
   "execution_count": 17,
   "id": "6ceb29ae",
   "metadata": {},
   "outputs": [
    {
     "name": "stdout",
     "output_type": "stream",
     "text": [
      "madhu is a good girl and she has more talent\n"
     ]
    }
   ],
   "source": [
    "print(my_string.format('madhu','talent'))"
   ]
  },
  {
   "cell_type": "code",
   "execution_count": 19,
   "id": "1160f058",
   "metadata": {},
   "outputs": [
    {
     "name": "stdout",
     "output_type": "stream",
     "text": [
      "apple price is 110\n"
     ]
    }
   ],
   "source": [
    "print('apple price is {}'.format(110))"
   ]
  },
  {
   "cell_type": "code",
   "execution_count": 22,
   "id": "4cfc3e66",
   "metadata": {},
   "outputs": [],
   "source": [
    "def say_hello():\n",
    "    print(\"hello\")\n",
    "    print(\"world\")"
   ]
  },
  {
   "cell_type": "code",
   "execution_count": 23,
   "id": "fb1927e6",
   "metadata": {},
   "outputs": [
    {
     "name": "stdout",
     "output_type": "stream",
     "text": [
      "hello\n",
      "world\n"
     ]
    }
   ],
   "source": [
    "say_hello()"
   ]
  },
  {
   "cell_type": "code",
   "execution_count": 29,
   "id": "81fae7d9",
   "metadata": {},
   "outputs": [],
   "source": [
    "def say_hello(name='madhu'):\n",
    "    print(f'hello {name}')"
   ]
  },
  {
   "cell_type": "code",
   "execution_count": 30,
   "id": "8ea165ac",
   "metadata": {},
   "outputs": [
    {
     "name": "stdout",
     "output_type": "stream",
     "text": [
      "hello madhu\n"
     ]
    }
   ],
   "source": [
    "say_hello()"
   ]
  },
  {
   "cell_type": "code",
   "execution_count": null,
   "id": "b1edd02d",
   "metadata": {},
   "outputs": [],
   "source": []
  }
 ],
 "metadata": {
  "kernelspec": {
   "display_name": "Python 3",
   "language": "python",
   "name": "python3"
  },
  "language_info": {
   "codemirror_mode": {
    "name": "ipython",
    "version": 3
   },
   "file_extension": ".py",
   "mimetype": "text/x-python",
   "name": "python",
   "nbconvert_exporter": "python",
   "pygments_lexer": "ipython3",
   "version": "3.8.8"
  }
 },
 "nbformat": 4,
 "nbformat_minor": 5
}
