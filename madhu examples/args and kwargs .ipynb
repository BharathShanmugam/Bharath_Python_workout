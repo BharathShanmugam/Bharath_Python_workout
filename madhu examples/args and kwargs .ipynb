{
 "cells": [
  {
   "cell_type": "code",
   "execution_count": 1,
   "id": "252c19c4",
   "metadata": {},
   "outputs": [],
   "source": [
    "#this are the two functional parameters"
   ]
  },
  {
   "cell_type": "code",
   "execution_count": 5,
   "id": "883437a1",
   "metadata": {},
   "outputs": [],
   "source": [
    "def myfunc(a,b):\n",
    "    #returns 5% of the sum of a and b\n",
    "    return sum((a,b)) * 0.05\n",
    "            #here a and b are known as positional arguments"
   ]
  },
  {
   "cell_type": "code",
   "execution_count": 6,
   "id": "b106247c",
   "metadata": {},
   "outputs": [
    {
     "data": {
      "text/plain": [
       "5.0"
      ]
     },
     "execution_count": 6,
     "metadata": {},
     "output_type": "execute_result"
    }
   ],
   "source": [
    "myfunc(40,60)"
   ]
  },
  {
   "cell_type": "code",
   "execution_count": 7,
   "id": "b0f84e4f",
   "metadata": {},
   "outputs": [],
   "source": [
    "def myfunc(*args):\n",
    "    return sum (args) * 0.05 "
   ]
  },
  {
   "cell_type": "code",
   "execution_count": 9,
   "id": "3d6fbbb3",
   "metadata": {},
   "outputs": [
    {
     "data": {
      "text/plain": [
       "12.8"
      ]
     },
     "execution_count": 9,
     "metadata": {},
     "output_type": "execute_result"
    }
   ],
   "source": [
    "myfunc(29,38,91,98)   #we can add here many number we have no problems to add here"
   ]
  },
  {
   "cell_type": "code",
   "execution_count": 10,
   "id": "ae705dc9",
   "metadata": {},
   "outputs": [],
   "source": [
    "def nyfunc(*args):\n",
    "    for item in args:\n",
    "        print(item)"
   ]
  },
  {
   "cell_type": "code",
   "execution_count": 11,
   "id": "2ab20351",
   "metadata": {},
   "outputs": [
    {
     "data": {
      "text/plain": [
       "12.5"
      ]
     },
     "execution_count": 11,
     "metadata": {},
     "output_type": "execute_result"
    }
   ],
   "source": [
    "myfunc(40,50,60,100)"
   ]
  },
  {
   "cell_type": "code",
   "execution_count": 13,
   "id": "5161e4aa",
   "metadata": {},
   "outputs": [],
   "source": [
    "def myfunc(**kwargs):\n",
    "    print(kwargs)\n",
    "    if 'fruit' in kwargs:\n",
    "        print ('my fruit of choice is {}.'.format(kwargs['fruit']))\n",
    "    else:\n",
    "        print(\"I did not find any fruit here\")"
   ]
  },
  {
   "cell_type": "code",
   "execution_count": 14,
   "id": "dfbaa983",
   "metadata": {},
   "outputs": [
    {
     "name": "stdout",
     "output_type": "stream",
     "text": [
      "{'fruits': 'apple'}\n",
      "I did not find any fruit here\n"
     ]
    }
   ],
   "source": [
    "myfunc(fruits=\"apple\")"
   ]
  },
  {
   "cell_type": "code",
   "execution_count": 21,
   "id": "23280137",
   "metadata": {},
   "outputs": [],
   "source": [
    "def myfunc(*args, **kwargs):\n",
    "    print(args)\n",
    "    print(kwargs)\n",
    "    print(\"i would like {} {}\".format(args[0],kwargs['food']))"
   ]
  },
  {
   "cell_type": "code",
   "execution_count": 22,
   "id": "65eb1748",
   "metadata": {},
   "outputs": [
    {
     "name": "stdout",
     "output_type": "stream",
     "text": [
      "(10, 20, 30)\n",
      "{'fruit': 'orange', 'food': 'egg'}\n",
      "i would like 10 egg\n"
     ]
    }
   ],
   "source": [
    "myfunc(10,20,30,fruit='orange',food='egg')"
   ]
  },
  {
   "cell_type": "code",
   "execution_count": null,
   "id": "278ad145",
   "metadata": {},
   "outputs": [],
   "source": []
  },
  {
   "cell_type": "code",
   "execution_count": null,
   "id": "4a7d527f",
   "metadata": {},
   "outputs": [],
   "source": []
  },
  {
   "cell_type": "code",
   "execution_count": null,
   "id": "ccd7db95",
   "metadata": {},
   "outputs": [],
   "source": []
  },
  {
   "cell_type": "code",
   "execution_count": null,
   "id": "99214b50",
   "metadata": {},
   "outputs": [],
   "source": []
  },
  {
   "cell_type": "code",
   "execution_count": null,
   "id": "3124e85c",
   "metadata": {},
   "outputs": [],
   "source": []
  },
  {
   "cell_type": "code",
   "execution_count": null,
   "id": "cf8c166e",
   "metadata": {},
   "outputs": [],
   "source": []
  },
  {
   "cell_type": "code",
   "execution_count": null,
   "id": "572965d2",
   "metadata": {},
   "outputs": [],
   "source": []
  },
  {
   "cell_type": "code",
   "execution_count": null,
   "id": "bc13691c",
   "metadata": {},
   "outputs": [],
   "source": []
  },
  {
   "cell_type": "markdown",
   "id": "224e35e3",
   "metadata": {},
   "source": [
    "args"
   ]
  },
  {
   "cell_type": "code",
   "execution_count": 12,
   "id": "0732c191",
   "metadata": {},
   "outputs": [],
   "source": [
    "def myfunc (a,b):\n",
    "    return sum((a,b)) * 0.5"
   ]
  },
  {
   "cell_type": "code",
   "execution_count": 13,
   "id": "0159a5db",
   "metadata": {},
   "outputs": [
    {
     "ename": "TypeError",
     "evalue": "myfunc() takes 2 positional arguments but 3 were given",
     "output_type": "error",
     "traceback": [
      "\u001b[1;31m---------------------------------------------------------------------------\u001b[0m",
      "\u001b[1;31mTypeError\u001b[0m                                 Traceback (most recent call last)",
      "\u001b[1;32m~\\AppData\\Local\\Temp\\ipykernel_10076\\560668659.py\u001b[0m in \u001b[0;36m<module>\u001b[1;34m\u001b[0m\n\u001b[1;32m----> 1\u001b[1;33m \u001b[0mmyfunc\u001b[0m\u001b[1;33m(\u001b[0m\u001b[1;36m40\u001b[0m\u001b[1;33m,\u001b[0m\u001b[1;36m60\u001b[0m\u001b[1;33m,\u001b[0m\u001b[1;36m63\u001b[0m\u001b[1;33m)\u001b[0m\u001b[1;33m\u001b[0m\u001b[1;33m\u001b[0m\u001b[0m\n\u001b[0m",
      "\u001b[1;31mTypeError\u001b[0m: myfunc() takes 2 positional arguments but 3 were given"
     ]
    }
   ],
   "source": [
    "myfunc(40,60,63)"
   ]
  },
  {
   "cell_type": "code",
   "execution_count": 6,
   "id": "235021f8",
   "metadata": {},
   "outputs": [],
   "source": [
    "def myfunc (*args):\n",
    "    return sum(args)*0.5"
   ]
  },
  {
   "cell_type": "code",
   "execution_count": 8,
   "id": "4cd45504",
   "metadata": {},
   "outputs": [
    {
     "data": {
      "text/plain": [
       "140.0"
      ]
     },
     "execution_count": 8,
     "metadata": {},
     "output_type": "execute_result"
    }
   ],
   "source": [
    "myfunc(40,60,80,100)"
   ]
  },
  {
   "cell_type": "markdown",
   "id": "269d5697",
   "metadata": {},
   "source": [
    "kwargs"
   ]
  },
  {
   "cell_type": "code",
   "execution_count": 15,
   "id": "71f9d278",
   "metadata": {},
   "outputs": [],
   "source": [
    "def myfunc (**kwargs):\n",
    "    print(kwargs)\n",
    "    if \"fruit\" in kwargs:\n",
    "        print('my fruit of choice is {}'.format(kwargs['fruit']))\n",
    "    else:\n",
    "        print(\"i didnt find any fruit\")"
   ]
  },
  {
   "cell_type": "code",
   "execution_count": 16,
   "id": "2b85cf34",
   "metadata": {},
   "outputs": [
    {
     "name": "stdout",
     "output_type": "stream",
     "text": [
      "{'fruit': 'apple', 'food': 'egg'}\n",
      "my fruit of choice is apple\n"
     ]
    }
   ],
   "source": [
    "myfunc(fruit = \"apple\",food = \"egg\")"
   ]
  },
  {
   "cell_type": "code",
   "execution_count": 22,
   "id": "e9395013",
   "metadata": {},
   "outputs": [],
   "source": [
    "def myfunc(*args, **kwargs):\n",
    "    print(args)\n",
    "    print(kwargs)\n",
    "    print(\"i wuld like {} {}\".format(args[0],kwargs[\"food\"]))"
   ]
  },
  {
   "cell_type": "code",
   "execution_count": 20,
   "id": "9945221a",
   "metadata": {},
   "outputs": [
    {
     "name": "stdout",
     "output_type": "stream",
     "text": [
      "(10, 20, 30)\n",
      "{'fruit': 'orange', 'food': 'chicken'}\n",
      "i wuld like 10 chicken\n"
     ]
    }
   ],
   "source": [
    "myfunc(10,20,30,fruit=\"orange\",food = \"chicken\")"
   ]
  },
  {
   "cell_type": "code",
   "execution_count": null,
   "id": "a56d8666",
   "metadata": {},
   "outputs": [],
   "source": []
  }
 ],
 "metadata": {
  "kernelspec": {
   "display_name": "Python 3 (ipykernel)",
   "language": "python",
   "name": "python3"
  },
  "language_info": {
   "codemirror_mode": {
    "name": "ipython",
    "version": 3
   },
   "file_extension": ".py",
   "mimetype": "text/x-python",
   "name": "python",
   "nbconvert_exporter": "python",
   "pygments_lexer": "ipython3",
   "version": "3.9.13"
  }
 },
 "nbformat": 4,
 "nbformat_minor": 5
}
