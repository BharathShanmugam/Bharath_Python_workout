{
 "cells": [
  {
   "cell_type": "code",
   "execution_count": 1,
   "id": "b89ce12d",
   "metadata": {},
   "outputs": [],
   "source": [
    "#introduction to graphs\n",
    "#types of graphs\n",
    "#adjacency lists and matrix \n",
    "#CRUD Operations on Graphs\n",
    "#Depth First search \n",
    "#Breadth First search"
   ]
  },
  {
   "cell_type": "code",
   "execution_count": 2,
   "id": "d12977de",
   "metadata": {},
   "outputs": [],
   "source": [
    "#A graph is a hierarchical datastructure that consists of nodes and edges. Nodes contain the vertex or data point,\n",
    "#and the edges connect the nodes/ vetices together"
   ]
  },
  {
   "cell_type": "code",
   "execution_count": 3,
   "id": "2bcbe56f",
   "metadata": {},
   "outputs": [],
   "source": [
    "#advantages of graphs data structure\n",
    "#applications are immense ranging from social media networks like facebook, google maos, etc.\n",
    "#unlike trees, which is a special type of graph, graph represent links between the vertices and are multidirectional.\n",
    "#Easier implementation helps in performin various operations on the graph data structures with utmost eggiciency."
   ]
  },
  {
   "cell_type": "code",
   "execution_count": 4,
   "id": "516f6384",
   "metadata": {},
   "outputs": [],
   "source": [
    "#types of graphs\n",
    "#Directed graph the edges showing the direction ------> to the next node. "
   ]
  },
  {
   "cell_type": "code",
   "execution_count": 5,
   "id": "5e1ee4c7",
   "metadata": {},
   "outputs": [],
   "source": [
    "#undirected graphs: it will not show the directions ------ between the nodes."
   ]
  },
  {
   "cell_type": "code",
   "execution_count": 6,
   "id": "0e3e9bd1",
   "metadata": {},
   "outputs": [],
   "source": [
    "#weighted graphs: there will be an additional alue or weight associated with each of the edge ---2---->"
   ]
  },
  {
   "cell_type": "code",
   "execution_count": 7,
   "id": "157540e0",
   "metadata": {},
   "outputs": [],
   "source": [
    "#adjancecy list: \n",
    "#an adjancency list is used to represent a graph, whre each of the index is the vertex in the graph and forms a list\n",
    "#with its adjancent nodes/ Vertices."
   ]
  },
  {
   "cell_type": "code",
   "execution_count": 8,
   "id": "0d8a2ecc",
   "metadata": {},
   "outputs": [],
   "source": [
    "#adjancecy matrix:\n",
    "#an adjacenc matrix is similar to a list where it represents the graph inn a matrix the edges are shown with the\n",
    "#corresponding values in the adjaceny matrix"
   ]
  },
  {
   "cell_type": "code",
   "execution_count": 9,
   "id": "10431109",
   "metadata": {},
   "outputs": [],
   "source": [
    "#Depth first search:\n",
    "#put one of the vertices on top of the stack\n",
    "#pop the last item in the stack and push into the visited list.\n",
    "#for each adjancent node that is not in the visited list push in the stack. Repeat untill all the nodes have been visited"
   ]
  },
  {
   "cell_type": "code",
   "execution_count": 10,
   "id": "d93cd011",
   "metadata": {},
   "outputs": [],
   "source": [
    "#Breath first search:\n",
    "#put one of the vertices at the back of the queue\n",
    "#pop the item in the front of the queue and push into the visited list\n",
    "#for each adjacent node that is not in visied list, push in the back of the queue. repeat until all the nodes\n",
    "  #have been visited"
   ]
  },
  {
   "cell_type": "code",
   "execution_count": 11,
   "id": "2f81fae4",
   "metadata": {},
   "outputs": [],
   "source": [
    "#graph implimentation using adjancecy matrix"
   ]
  },
  {
   "cell_type": "code",
   "execution_count": 9,
   "id": "aee284c5",
   "metadata": {},
   "outputs": [],
   "source": [
    "class Graphs:\n",
    "    def __init__(self,size):\n",
    "        self.size =size  #vertices_no\n",
    "        self.graph = []\n",
    "        self.vertex = []\n",
    "        \n",
    "    def add_vertex(self,v):\n",
    "        if v in self.vertex:\n",
    "            pass\n",
    "        else:\n",
    "            self.vertex.append(v)\n",
    "            temp=[]\n",
    "            for i in range(self.size):\n",
    "                temp.append(0)\n",
    "            self.graph.append(temp)\n",
    "            \n",
    "    def add_edges(self, v1, v2, e):\n",
    "        i1 = self.vertex.index(v1)\n",
    "        i2 = self.vertex.index(v2)\n",
    "        self.graph[i1][i2] = e\n",
    "        \n",
    "    def rem_edges(self,v1,v2):\n",
    "        i1 = self.vertex.index(v1)\n",
    "        i2 = self.vertex.index(v2)\n",
    "        self.graph[i1][i2] = 0\n",
    "        \n",
    "    def printGr (self):\n",
    "        for i in range(self.size):\n",
    "            for j in range(self.size):\n",
    "                print(self.vertex[i], \"->\",self.vertex[j], \"edge weight: \", self.graph[i][j])\n",
    "            \n",
    "        \n",
    "    "
   ]
  },
  {
   "cell_type": "code",
   "execution_count": 11,
   "id": "a33b2c04",
   "metadata": {},
   "outputs": [
    {
     "name": "stdout",
     "output_type": "stream",
     "text": [
      "1 -> 1 edge weight:  0\n",
      "1 -> 2 edge weight:  1\n",
      "1 -> 3 edge weight:  1\n",
      "1 -> 4 edge weight:  0\n",
      "2 -> 1 edge weight:  0\n",
      "2 -> 2 edge weight:  0\n",
      "2 -> 3 edge weight:  3\n",
      "2 -> 4 edge weight:  0\n",
      "3 -> 1 edge weight:  0\n",
      "3 -> 2 edge weight:  0\n",
      "3 -> 3 edge weight:  0\n",
      "3 -> 4 edge weight:  4\n",
      "4 -> 1 edge weight:  5\n",
      "4 -> 2 edge weight:  0\n",
      "4 -> 3 edge weight:  0\n",
      "4 -> 4 edge weight:  0\n",
      "[[0, 1, 1, 0], [0, 0, 3, 0], [0, 0, 0, 4], [5, 0, 0, 0]]\n"
     ]
    }
   ],
   "source": [
    "gr = Graphs(4)\n",
    "#add vertex\n",
    "gr.add_vertex(1)\n",
    "gr.add_vertex(2)\n",
    "gr.add_vertex(3)\n",
    "gr.add_vertex(4)\n",
    "#add edges\n",
    "gr.add_edges(1,2,1)\n",
    "gr.add_edges(1,3,1)\n",
    "gr.add_edges(2,3,3)\n",
    "gr.add_edges(3,4,4)\n",
    "gr.add_edges(4,1,5)\n",
    "gr.printGr()\n",
    "print(gr.graph)"
   ]
  },
  {
   "cell_type": "code",
   "execution_count": 14,
   "id": "50f810c7",
   "metadata": {},
   "outputs": [],
   "source": [
    "#graph impliementation using adjamcency list"
   ]
  },
  {
   "cell_type": "code",
   "execution_count": 17,
   "id": "78140f83",
   "metadata": {},
   "outputs": [],
   "source": [
    "class Graphs:\n",
    "    def __init__(self,size):\n",
    "        self.size = size #vertices_no\n",
    "        self.graph = {}\n",
    "        \n",
    "    def add_vertex(self,v):\n",
    "        self.graph[v] = []\n",
    "        \n",
    "    def add_edges(self,v1,v2,e):\n",
    "        temp = [v2,e]\n",
    "        self.graph [v1].pop(0)\n",
    "        \n",
    "    def printGr(self):\n",
    "        self.graph\n",
    "        for i in self.graph:\n",
    "            for j in self.graph[i]:                   \n",
    "                print(i, \"->\", j[0], \"edge weight :  \",j[i])\n",
    "        "
   ]
  },
  {
   "cell_type": "code",
   "execution_count": 18,
   "id": "1c0cc719",
   "metadata": {},
   "outputs": [
    {
     "name": "stdout",
     "output_type": "stream",
     "text": [
      "{1: [], 2: [], 3: [], 4: []}\n"
     ]
    },
    {
     "ename": "IndexError",
     "evalue": "pop from empty list",
     "output_type": "error",
     "traceback": [
      "\u001b[1;31m---------------------------------------------------------------------------\u001b[0m",
      "\u001b[1;31mIndexError\u001b[0m                                Traceback (most recent call last)",
      "Cell \u001b[1;32mIn[18], line 9\u001b[0m\n\u001b[0;32m      7\u001b[0m \u001b[38;5;28mprint\u001b[39m(gr\u001b[38;5;241m.\u001b[39mgraph)\n\u001b[0;32m      8\u001b[0m \u001b[38;5;66;03m#add edges\u001b[39;00m\n\u001b[1;32m----> 9\u001b[0m \u001b[43mgr\u001b[49m\u001b[38;5;241;43m.\u001b[39;49m\u001b[43madd_edges\u001b[49m\u001b[43m(\u001b[49m\u001b[38;5;241;43m1\u001b[39;49m\u001b[43m,\u001b[49m\u001b[38;5;241;43m2\u001b[39;49m\u001b[43m,\u001b[49m\u001b[38;5;241;43m1\u001b[39;49m\u001b[43m)\u001b[49m\n\u001b[0;32m     10\u001b[0m gr\u001b[38;5;241m.\u001b[39madd_edges(\u001b[38;5;241m1\u001b[39m,\u001b[38;5;241m3\u001b[39m,\u001b[38;5;241m1\u001b[39m)\n\u001b[0;32m     11\u001b[0m gr\u001b[38;5;241m.\u001b[39madd_edges(\u001b[38;5;241m2\u001b[39m,\u001b[38;5;241m3\u001b[39m,\u001b[38;5;241m3\u001b[39m)\n",
      "Cell \u001b[1;32mIn[17], line 11\u001b[0m, in \u001b[0;36mGraphs.add_edges\u001b[1;34m(self, v1, v2, e)\u001b[0m\n\u001b[0;32m      9\u001b[0m \u001b[38;5;28;01mdef\u001b[39;00m \u001b[38;5;21madd_edges\u001b[39m(\u001b[38;5;28mself\u001b[39m,v1,v2,e):\n\u001b[0;32m     10\u001b[0m     temp \u001b[38;5;241m=\u001b[39m [v2,e]\n\u001b[1;32m---> 11\u001b[0m     \u001b[38;5;28;43mself\u001b[39;49m\u001b[38;5;241;43m.\u001b[39;49m\u001b[43mgraph\u001b[49m\u001b[43m \u001b[49m\u001b[43m[\u001b[49m\u001b[43mv1\u001b[49m\u001b[43m]\u001b[49m\u001b[38;5;241;43m.\u001b[39;49m\u001b[43mpop\u001b[49m\u001b[43m(\u001b[49m\u001b[38;5;241;43m0\u001b[39;49m\u001b[43m)\u001b[49m\n",
      "\u001b[1;31mIndexError\u001b[0m: pop from empty list"
     ]
    }
   ],
   "source": [
    "gr = Graphs(4)\n",
    "#add vertex\n",
    "gr.add_vertex(1)\n",
    "gr.add_vertex(2)\n",
    "gr.add_vertex(3)\n",
    "gr.add_vertex(4)\n",
    "print(gr.graph)\n",
    "#add edges\n",
    "gr.add_edges(1,2,1)\n",
    "gr.add_edges(1,3,1)\n",
    "gr.add_edges(2,3,3)\n",
    "gr.add_edges(3,4,4)\n",
    "gr.add_edges(4,1,5)\n",
    "gr.printGr()\n",
    "\n",
    "print(gr.graph)"
   ]
  },
  {
   "cell_type": "code",
   "execution_count": null,
   "id": "7d54311d",
   "metadata": {},
   "outputs": [],
   "source": []
  },
  {
   "cell_type": "code",
   "execution_count": null,
   "id": "541e9a81",
   "metadata": {},
   "outputs": [],
   "source": [
    "\n",
    "\n",
    "\n"
   ]
  },
  {
   "cell_type": "code",
   "execution_count": null,
   "id": "ae4f0649",
   "metadata": {},
   "outputs": [],
   "source": []
  },
  {
   "cell_type": "code",
   "execution_count": null,
   "id": "7b7cdf0d",
   "metadata": {},
   "outputs": [],
   "source": []
  },
  {
   "cell_type": "code",
   "execution_count": null,
   "id": "6e1373e4",
   "metadata": {},
   "outputs": [],
   "source": [
    "\n",
    "\n"
   ]
  },
  {
   "cell_type": "code",
   "execution_count": 2,
   "id": "c161e211",
   "metadata": {},
   "outputs": [],
   "source": [
    "class vertex:\n",
    "    def __init__(self, key):\n",
    "        self.key = key\n",
    "        self.adjancent = {}\n",
    "        self.visited = False\n",
    "        \n",
    "    def setkey (self,key):\n",
    "        self.key = key\n",
    "    def getkey(self):\n",
    "        return self.key\n",
    "    def getvisited(self):\n",
    "        return self.visited\n",
    "    def setvisited(self,val = True):\n",
    "        self.visited = val\n",
    "    def addNeighbour(self,neighbour,weight=0):\n",
    "        self.adjacent[neighbour]=weight\n",
    "    def getNeghbours(self):\n",
    "        return self.adjacent[neighbour]\n",
    "    \n",
    "class Graph:\n",
    "    #class is directed by defult\n",
    "    def __init__(self,directed = False):\n",
    "        self.numberofvertices= {}\n",
    "        self.direced = directed\n",
    "    def addvertex(self,key):\n",
    "        node = vertex(key)\n",
    "        self.vertices[key]=node\n",
    "        return node\n",
    "    def addEdge (self,frm,to,weight=0):\n",
    "        if frm not in self.ertices:\n",
    "            self.addvertex(frm)\n",
    "        if to not in self.vertex:\n",
    "            self.addvertex(to)\n",
    "            self.vertices[frm].addNigbour(self.vertics[to],weight)\n",
    "        if not self.directed:\n",
    "            self.vertics[to].addNeighbour(self.vertices[frm],weight)\n",
    "        def getvertex(self,key):\n",
    "            if key in self.vertices:\n",
    "                return self.vertices[key]\n",
    "            else:\n",
    "                return None\n",
    "        def getverices(self):\n",
    "            return self.vertices.key()\n",
    "        def getEdges(self):\n",
    "            edges=[]\n",
    "            for v in self.vertices:\n",
    "                edgesfromvetex =[]\n",
    "                for w in self.vertices[v].getNeighbours():\n",
    "                    frm = self.vertices[v].getkey() \n",
    "                    to = w.getkey()\n",
    "                    weifht = self.vertices[v].getweight(w)\n",
    "                    edgesfromvertex.append((frm,to,weight))\n",
    "                if len(edgesFromVertex) != 0:\n",
    "                    edges.append(edgesFromVertex)\n",
    "    \n",
    "                  "
   ]
  },
  {
   "cell_type": "code",
   "execution_count": null,
   "id": "3ef0c8db",
   "metadata": {},
   "outputs": [],
   "source": []
  },
  {
   "cell_type": "code",
   "execution_count": null,
   "id": "0a7228ca",
   "metadata": {},
   "outputs": [],
   "source": [
    "\n",
    "\n",
    "class Graph:\n",
    "    def __init__(self):\n",
    "        self.graph = {}\n",
    "        \n",
    "    def add_vertex(self, vertex):\n",
    "        if vertex not in self.graph:\n",
    "            self.graph[vertex] = []\n",
    "    \n",
    "    def add_edge(self, vertex1, vertex2):\n",
    "        if vertex1 in self.graph:\n",
    "            self.graph[vertex1].append(vertex2)\n",
    "        else:\n",
    "            self.graph[vertex1] = [vertex2]\n",
    "            \n",
    "    def get_vertices(self):\n",
    "        return list(self.graph.keys())\n",
    "    \n",
    "    def get_edges(self):\n",
    "        edges = []\n",
    "        for vertex in self.graph:\n",
    "            for neighbor in self.graph[vertex]:\n",
    "                edges.append((vertex, neighbor))\n",
    "        return edges\n",
    "\n",
    "g = Graph()\n",
    "g.add_vertex(\"A\")\n",
    "g.add_vertex(\"B\")\n",
    "g.add_vertex(\"C\")\n",
    "g.add_edge(\"A\", \"B\")\n",
    "g.add_edge(\"B\", \"C\")\n",
    "g.add_edge(\"C\", \"A\")\n",
    "\n",
    "print(\"Vertices:\", g.get_vertices())\n",
    "print(\"Edges:\", g.get_edges())\n"
   ]
  }
 ],
 "metadata": {
  "kernelspec": {
   "display_name": "Python 3 (ipykernel)",
   "language": "python",
   "name": "python3"
  },
  "language_info": {
   "codemirror_mode": {
    "name": "ipython",
    "version": 3
   },
   "file_extension": ".py",
   "mimetype": "text/x-python",
   "name": "python",
   "nbconvert_exporter": "python",
   "pygments_lexer": "ipython3",
   "version": "3.11.1"
  }
 },
 "nbformat": 4,
 "nbformat_minor": 5
}
