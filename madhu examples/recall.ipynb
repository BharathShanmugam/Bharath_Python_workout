{
 "cells": [
  {
   "cell_type": "code",
   "execution_count": 1,
   "id": "143b5388",
   "metadata": {},
   "outputs": [],
   "source": [
    "sam = \"madhu's\""
   ]
  },
  {
   "cell_type": "code",
   "execution_count": 2,
   "id": "990e69b6",
   "metadata": {},
   "outputs": [
    {
     "data": {
      "text/plain": [
       "\"madhu's\""
      ]
     },
     "execution_count": 2,
     "metadata": {},
     "output_type": "execute_result"
    }
   ],
   "source": [
    "sam"
   ]
  },
  {
   "cell_type": "code",
   "execution_count": 4,
   "id": "c59b1dda",
   "metadata": {},
   "outputs": [
    {
     "data": {
      "text/plain": [
       "\"'\""
      ]
     },
     "execution_count": 4,
     "metadata": {},
     "output_type": "execute_result"
    }
   ],
   "source": [
    "sam[-2]"
   ]
  },
  {
   "cell_type": "code",
   "execution_count": 5,
   "id": "75040939",
   "metadata": {},
   "outputs": [
    {
     "data": {
      "text/plain": [
       "'madhu'"
      ]
     },
     "execution_count": 5,
     "metadata": {},
     "output_type": "execute_result"
    }
   ],
   "source": [
    "\"madhu\""
   ]
  },
  {
   "cell_type": "code",
   "execution_count": 11,
   "id": "54f7ee14",
   "metadata": {},
   "outputs": [],
   "source": [
    "\n",
    "def madhu():\n",
    "    return \"hello\""
   ]
  },
  {
   "cell_type": "markdown",
   "id": "d82e24d0",
   "metadata": {},
   "source": [
    "madhu"
   ]
  },
  {
   "cell_type": "code",
   "execution_count": 12,
   "id": "736104ce",
   "metadata": {},
   "outputs": [
    {
     "data": {
      "text/plain": [
       "'hello'"
      ]
     },
     "execution_count": 12,
     "metadata": {},
     "output_type": "execute_result"
    }
   ],
   "source": [
    "madhu()"
   ]
  },
  {
   "cell_type": "code",
   "execution_count": 14,
   "id": "15209a21",
   "metadata": {},
   "outputs": [
    {
     "name": "stdout",
     "output_type": "stream",
     "text": [
      "madhu \n",
      "world\n"
     ]
    }
   ],
   "source": [
    "print('madhu \\nworld')"
   ]
  },
  {
   "cell_type": "code",
   "execution_count": 15,
   "id": "1a711c30",
   "metadata": {},
   "outputs": [
    {
     "name": "stdout",
     "output_type": "stream",
     "text": [
      "madhu \tworld\n"
     ]
    }
   ],
   "source": [
    "print('madhu \\tworld')"
   ]
  },
  {
   "cell_type": "code",
   "execution_count": 16,
   "id": "a2045d7a",
   "metadata": {},
   "outputs": [],
   "source": [
    "#indexing grab the single character\n",
    "#slicing grab the sub section of them\n",
    "mystring = \"hello world\""
   ]
  },
  {
   "cell_type": "code",
   "execution_count": 21,
   "id": "f5221e8e",
   "metadata": {},
   "outputs": [
    {
     "data": {
      "text/plain": [
       "'h'"
      ]
     },
     "execution_count": 21,
     "metadata": {},
     "output_type": "execute_result"
    }
   ],
   "source": [
    "mystring[-11]"
   ]
  },
  {
   "cell_type": "code",
   "execution_count": 22,
   "id": "5d7a7322",
   "metadata": {},
   "outputs": [],
   "source": [
    "#subsectinon of a string"
   ]
  },
  {
   "cell_type": "code",
   "execution_count": 33,
   "id": "9d47487d",
   "metadata": {},
   "outputs": [],
   "source": [
    "mystring=\"1,2,3,4,5,6,7,8,9\""
   ]
  },
  {
   "cell_type": "code",
   "execution_count": 38,
   "id": "7fe45bf5",
   "metadata": {},
   "outputs": [
    {
     "data": {
      "text/plain": [
       "'1,2,3,4,5,6,7,8,9'"
      ]
     },
     "execution_count": 38,
     "metadata": {},
     "output_type": "execute_result"
    }
   ],
   "source": [
    "mystring[0::]"
   ]
  },
  {
   "cell_type": "code",
   "execution_count": 39,
   "id": "cdd1c2e7",
   "metadata": {},
   "outputs": [],
   "source": [
    "swetha = ['madhu','amjana','supriya']"
   ]
  },
  {
   "cell_type": "code",
   "execution_count": 40,
   "id": "ba9eac83",
   "metadata": {},
   "outputs": [],
   "source": [
    "swetha[0] =  'MADHU IN CAPS'"
   ]
  },
  {
   "cell_type": "code",
   "execution_count": 53,
   "id": "5857dc7d",
   "metadata": {},
   "outputs": [
    {
     "data": {
      "text/plain": [
       "['MADHU IN CAPS']"
      ]
     },
     "execution_count": 53,
     "metadata": {},
     "output_type": "execute_result"
    }
   ],
   "source": [
    "swetha"
   ]
  },
  {
   "cell_type": "code",
   "execution_count": 54,
   "id": "f464cb62",
   "metadata": {},
   "outputs": [],
   "source": [
    "swetha.append(\"geetha\")"
   ]
  },
  {
   "cell_type": "code",
   "execution_count": 58,
   "id": "beeb94d4",
   "metadata": {},
   "outputs": [
    {
     "data": {
      "text/plain": [
       "['MADHU IN CAPS']"
      ]
     },
     "execution_count": 58,
     "metadata": {},
     "output_type": "execute_result"
    }
   ],
   "source": [
    "swetha"
   ]
  },
  {
   "cell_type": "code",
   "execution_count": 56,
   "id": "38d72ae6",
   "metadata": {},
   "outputs": [
    {
     "data": {
      "text/plain": [
       "'geetha'"
      ]
     },
     "execution_count": 56,
     "metadata": {},
     "output_type": "execute_result"
    }
   ],
   "source": [
    "swetha.pop(1)"
   ]
  },
  {
   "cell_type": "code",
   "execution_count": 57,
   "id": "08da60d5",
   "metadata": {},
   "outputs": [
    {
     "data": {
      "text/plain": [
       "['MADHU IN CAPS']"
      ]
     },
     "execution_count": 57,
     "metadata": {},
     "output_type": "execute_result"
    }
   ],
   "source": [
    "swetha"
   ]
  },
  {
   "cell_type": "code",
   "execution_count": null,
   "id": "f14194b9",
   "metadata": {},
   "outputs": [],
   "source": []
  },
  {
   "cell_type": "code",
   "execution_count": null,
   "id": "c37cc9a1",
   "metadata": {},
   "outputs": [],
   "source": []
  }
 ],
 "metadata": {
  "kernelspec": {
   "display_name": "Python 3 (ipykernel)",
   "language": "python",
   "name": "python3"
  },
  "language_info": {
   "codemirror_mode": {
    "name": "ipython",
    "version": 3
   },
   "file_extension": ".py",
   "mimetype": "text/x-python",
   "name": "python",
   "nbconvert_exporter": "python",
   "pygments_lexer": "ipython3",
   "version": "3.11.1"
  }
 },
 "nbformat": 4,
 "nbformat_minor": 5
}
