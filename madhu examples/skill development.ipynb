{
 "cells": [
  {
   "cell_type": "code",
   "execution_count": null,
   "id": "02026aaa",
   "metadata": {},
   "outputs": [],
   "source": [
    "#1) WRITE A FUNCTION THAT TAKES IN A NON-EMPTY ARRAY OF DISTINCT INTEGERS AND AN INTEGER REPRESENTING A TARGET SUM.\n",
    "#2)IF ANY TWO NUMBERS IN THE INPUT ARRAY SUM UP TO THE TARGET SUM, THE FUNCTION SHOULD RETURN THEM IN A ARRAY, IN ANY ORDER\n",
    "#3)IF NO TWO NUMBERS SUM UP TO THE TARGE SUM, THE FUNCTIONS SHOULD RETURN AN EMPTY ARRAY\n",
    "\n",
    "#4)NOTE THAT TARGET SUM HAS TO BE OBTAINED BY SUMMING TWO DIGGERENT INTIGERS IN THE ARRAY. YOU CANT ADD A SINGLE INTIGER\n",
    "# TO ITSELF IN ORDER TO OBTAIN THE TARGET SUM.\n",
    "#5)YOU CAN ASSUME THAT THERE WILL BE AT MOST ONE PAIR OF NUMBETS SUMMING UP TO THE TARGET SUM."
   ]
  },
  {
   "cell_type": "code",
   "execution_count": 5,
   "id": "dc0834e0",
   "metadata": {},
   "outputs": [],
   "source": [
    "\n",
    "def two_number_sum(arr, target_sum):\n",
    "    for i in range(0, len(arr)-1):\n",
    "        for j in range(i + 1, len(arr)):\n",
    "            if arr[i] + arr[j] == target_sum:  #4,6\n",
    "                return [arr[i], arr[j]]\n",
    "    return[]\n"
   ]
  },
  {
   "cell_type": "code",
   "execution_count": 6,
   "id": "44cdba51",
   "metadata": {},
   "outputs": [
    {
     "name": "stdout",
     "output_type": "stream",
     "text": [
      "[11, -1]\n"
     ]
    }
   ],
   "source": [
    "#def main():\n",
    "arr= [3,5,-4,8,11,1,-1,6]\n",
    "target = 10\n",
    "    \n",
    "print(two_number_sum(arr,target))\n",
    "#main()\n"
   ]
  },
  {
   "cell_type": "code",
   "execution_count": 7,
   "id": "b280a97e",
   "metadata": {},
   "outputs": [],
   "source": [
    "arr=[3,5,-4,8,11,1,-1,6]"
   ]
  },
  {
   "cell_type": "code",
   "execution_count": 8,
   "id": "c99dbe5c",
   "metadata": {},
   "outputs": [
    {
     "data": {
      "text/plain": [
       "6"
      ]
     },
     "execution_count": 8,
     "metadata": {},
     "output_type": "execute_result"
    }
   ],
   "source": [
    "arr[-1]"
   ]
  },
  {
   "cell_type": "code",
   "execution_count": 32,
   "id": "b9922d90",
   "metadata": {},
   "outputs": [
    {
     "name": "stdout",
     "output_type": "stream",
     "text": [
      "11 -1\n"
     ]
    }
   ],
   "source": [
    "for i in range(0,len(arr)-1):\n",
    "    for j in range(i + 1, len (arr)):\n",
    "        \n",
    "        if arr[i] + arr[j] == 10:\n",
    "            print(arr[i],arr[j])   "
   ]
  },
  {
   "cell_type": "code",
   "execution_count": 13,
   "id": "bc468bcf",
   "metadata": {},
   "outputs": [],
   "source": [
    "#HASH MAP"
   ]
  },
  {
   "cell_type": "code",
   "execution_count": 10,
   "id": "5ca3651d",
   "metadata": {},
   "outputs": [],
   "source": [
    "def two_num_sum(arr,target_sum):\n",
    "    \n",
    "    lookup = {}\n",
    "\n",
    "    for element in arr:\n",
    "        if target_sum -element in lookup:\n",
    "            return[ target_sum - element, element]\n",
    "        lookup[element] = False\n",
    "    return[]"
   ]
  },
  {
   "cell_type": "code",
   "execution_count": 11,
   "id": "3aa63ab1",
   "metadata": {},
   "outputs": [
    {
     "name": "stdout",
     "output_type": "stream",
     "text": [
      "[11, -1]\n"
     ]
    }
   ],
   "source": [
    "def main():\n",
    "    arr= [3,5,-4,8,11,1,-1,6]\n",
    "    target = 10\n",
    "    \n",
    "    print(two_num_sum(arr,target))\n",
    "main()\n"
   ]
  },
  {
   "cell_type": "code",
   "execution_count": 44,
   "id": "83e22919",
   "metadata": {},
   "outputs": [],
   "source": [
    "mylist = dict(deva=\"001\",eva=\"002\",seetha=\"003\")"
   ]
  },
  {
   "cell_type": "code",
   "execution_count": 45,
   "id": "e39c700c",
   "metadata": {},
   "outputs": [
    {
     "name": "stdout",
     "output_type": "stream",
     "text": [
      "{'deva': '001', 'eva': '002', 'seetha': '003'}\n"
     ]
    },
    {
     "data": {
      "text/plain": [
       "dict"
      ]
     },
     "execution_count": 45,
     "metadata": {},
     "output_type": "execute_result"
    }
   ],
   "source": [
    "print(mylist)\n",
    "type(mylist)"
   ]
  },
  {
   "cell_type": "code",
   "execution_count": 57,
   "id": "6f3da59a",
   "metadata": {},
   "outputs": [],
   "source": [
    "employdata = {\"employee_data\":{'feva':{'id':'001','salary':'1,00000'},'seetha':{'id':'002','salary':'1500000'}}}"
   ]
  },
  {
   "cell_type": "code",
   "execution_count": 58,
   "id": "0ab7eaa6",
   "metadata": {},
   "outputs": [
    {
     "data": {
      "text/plain": [
       "dict"
      ]
     },
     "execution_count": 58,
     "metadata": {},
     "output_type": "execute_result"
    }
   ],
   "source": [
    "type(employdata)"
   ]
  },
  {
   "cell_type": "code",
   "execution_count": null,
   "id": "3facb22d",
   "metadata": {},
   "outputs": [],
   "source": []
  },
  {
   "cell_type": "code",
   "execution_count": null,
   "id": "ed31a600",
   "metadata": {},
   "outputs": [],
   "source": []
  },
  {
   "cell_type": "code",
   "execution_count": null,
   "id": "e7458e79",
   "metadata": {},
   "outputs": [],
   "source": []
  },
  {
   "cell_type": "code",
   "execution_count": null,
   "id": "37ab571c",
   "metadata": {},
   "outputs": [],
   "source": []
  },
  {
   "cell_type": "code",
   "execution_count": null,
   "id": "1faf92ae",
   "metadata": {},
   "outputs": [],
   "source": []
  },
  {
   "cell_type": "code",
   "execution_count": 36,
   "id": "d7a24464",
   "metadata": {},
   "outputs": [],
   "source": [
    "#sort method\n"
   ]
  },
  {
   "cell_type": "code",
   "execution_count": 4,
   "id": "b1a6586d",
   "metadata": {},
   "outputs": [],
   "source": [
    "def two_number_sum(arr, target_sum):\n",
    "    arr.sort()\n",
    "    \n",
    "    left = 0\n",
    "    right = len(arr) - 1\n",
    "    \n",
    "    while left < right:\n",
    "        current_sum = arr[left] + arr[right]\n",
    "        if current_sum == target_sum:\n",
    "            return[arr[left], arr[right]]\n",
    "        elif current_sum > target_sum:\n",
    "            right -= 1\n",
    "        else:\n",
    "            left += 1\n",
    "    return[]"
   ]
  },
  {
   "cell_type": "code",
   "execution_count": 5,
   "id": "f7b91147",
   "metadata": {},
   "outputs": [
    {
     "name": "stdout",
     "output_type": "stream",
     "text": [
      "[-1, 11]\n"
     ]
    }
   ],
   "source": [
    "def main():\n",
    "    arr= [3,5,-4,8,11,1,-1,6]\n",
    "   \n",
    "    target = 10\n",
    "    \n",
    "    print(two_number_sum(arr,target))\n",
    "main()\n"
   ]
  },
  {
   "cell_type": "code",
   "execution_count": null,
   "id": "c0b64187",
   "metadata": {},
   "outputs": [],
   "source": [
    "#write a function that takes in a non empty array of distinct integers and an integer representing a target sum.\n",
    "#the function should find all triplets in the array that sum up to the target sum and return a two dimensional array of all these triplets. \n",
    "#The number in each triplets should be ordered in ascending order, and the triples themselves should be ordered in ascending order with respect to they hold.\n",
    "#if no numbers sum up to the target sum, the function should return an empty array.                                                                                                              sample input: array = [12,3,1,2,-6,5,-8,6] \n",
    "\n",
    " #targetsum=0\n",
    "  #sampleoutput=[[-8,2,6],[-8,3,5],[-6,1,5]]"
   ]
  },
  {
   "cell_type": "code",
   "execution_count": 1,
   "id": "406d24a0",
   "metadata": {},
   "outputs": [],
   "source": [
    "def find_triplets(arr, target_sum):\n",
    "    arr.sort()\n",
    "    triplets = []\n",
    "    for i in range(len(arr)-2):\n",
    "        if i > 0 and arr[i] == arr[i-1]:\n",
    "            continue\n",
    "        left = i + 1\n",
    "        right = len(arr) - 1\n",
    "        while left < right:\n",
    "            current_sum = arr[i] + arr[left] + arr[right]\n",
    "            if current_sum == target_sum:\n",
    "                triplets.append([arr[i], arr[left], arr[right]])\n",
    "                left += 1\n",
    "                right -= 1\n",
    "                while left < right and arr[left] == arr[left-1]:\n",
    "                    left += 1\n",
    "                while left < right and arr[right] == arr[right+1]:\n",
    "                    right -= 1\n",
    "            elif current_sum < target_sum:\n",
    "                left += 1\n",
    "            else:\n",
    "                right -= 1\n",
    "    return triplets\n"
   ]
  },
  {
   "cell_type": "code",
   "execution_count": 2,
   "id": "239b4bba",
   "metadata": {},
   "outputs": [
    {
     "name": "stdout",
     "output_type": "stream",
     "text": [
      "[[-8, 2, 6], [-8, 3, 5], [-6, 1, 5]]\n"
     ]
    }
   ],
   "source": [
    "array = [12,3,1,2,-6,5,-8,6]\n",
    "targetsum = 0\n",
    "print(find_triplets(array, targetsum))\n",
    "# Output: [[-8, 2, 6], [-8, 3, 5], [-6, 1, 5]]\n",
    "\n"
   ]
  },
  {
   "cell_type": "code",
   "execution_count": 12,
   "id": "96df9cfd",
   "metadata": {},
   "outputs": [
    {
     "name": "stdout",
     "output_type": "stream",
     "text": [
      "True\n"
     ]
    }
   ],
   "source": [
    "def check_array_equality(A, B):\n",
    "    # Option 1: Using Dictionaries\n",
    "    dict_A = {}\n",
    "    dict_B = {}\n",
    "    for i in A:\n",
    "        if i in dict_A:\n",
    "            dict_A[i] += 1\n",
    "        else:\n",
    "            dict_A[i] = 1\n",
    "    for i in B:\n",
    "        if i in dict_B:\n",
    "            dict_B[i] += 1\n",
    "        else:\n",
    "            dict_B[i] = 1\n",
    "    return dict_A == dict_B\n",
    "    \n",
    "    # Option 2: Using Sorting\n",
    "    # return A.sort() == B.sort()\n",
    "\n",
    "N = 5\n",
    "A = [1,2,5,4,0]\n",
    "B = [2,4,5,0,1]\n",
    "print(check_array_equality(A, B)) # should return True\n"
   ]
  },
  {
   "cell_type": "code",
   "execution_count": null,
   "id": "a83a71ca",
   "metadata": {},
   "outputs": [],
   "source": []
  }
 ],
 "metadata": {
  "kernelspec": {
   "display_name": "Python 3 (ipykernel)",
   "language": "python",
   "name": "python3"
  },
  "language_info": {
   "codemirror_mode": {
    "name": "ipython",
    "version": 3
   },
   "file_extension": ".py",
   "mimetype": "text/x-python",
   "name": "python",
   "nbconvert_exporter": "python",
   "pygments_lexer": "ipython3",
   "version": "3.11.1"
  }
 },
 "nbformat": 4,
 "nbformat_minor": 5
}
