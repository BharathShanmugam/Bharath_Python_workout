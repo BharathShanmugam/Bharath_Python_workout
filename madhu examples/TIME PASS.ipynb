{
 "cells": [
  {
   "cell_type": "code",
   "execution_count": 1,
   "id": "4bac7506",
   "metadata": {},
   "outputs": [
    {
     "ename": "SyntaxError",
     "evalue": "cannot assign to operator (<ipython-input-1-8b4fdb8e8151>, line 1)",
     "output_type": "error",
     "traceback": [
      "\u001b[1;36m  File \u001b[1;32m\"<ipython-input-1-8b4fdb8e8151>\"\u001b[1;36m, line \u001b[1;32m1\u001b[0m\n\u001b[1;33m    a = 9 and b = 12\u001b[0m\n\u001b[1;37m        ^\u001b[0m\n\u001b[1;31mSyntaxError\u001b[0m\u001b[1;31m:\u001b[0m cannot assign to operator\n"
     ]
    }
   ],
   "source": [
    "a = 9 and b = 12"
   ]
  },
  {
   "cell_type": "code",
   "execution_count": 2,
   "id": "16baf461",
   "metadata": {},
   "outputs": [],
   "source": [
    "y = 10 \n",
    "x = 5"
   ]
  },
  {
   "cell_type": "code",
   "execution_count": 3,
   "id": "bf30d61e",
   "metadata": {},
   "outputs": [
    {
     "data": {
      "text/plain": [
       "False"
      ]
     },
     "execution_count": 3,
     "metadata": {},
     "output_type": "execute_result"
    }
   ],
   "source": [
    "y is x"
   ]
  },
  {
   "cell_type": "code",
   "execution_count": 4,
   "id": "ec6facea",
   "metadata": {},
   "outputs": [
    {
     "data": {
      "text/plain": [
       "True"
      ]
     },
     "execution_count": 4,
     "metadata": {},
     "output_type": "execute_result"
    }
   ],
   "source": [
    "y is not x"
   ]
  },
  {
   "cell_type": "code",
   "execution_count": 5,
   "id": "aed92dad",
   "metadata": {},
   "outputs": [
    {
     "ename": "TypeError",
     "evalue": "argument of type 'int' is not iterable",
     "output_type": "error",
     "traceback": [
      "\u001b[1;31m---------------------------------------------------------------------------\u001b[0m",
      "\u001b[1;31mTypeError\u001b[0m                                 Traceback (most recent call last)",
      "\u001b[1;32m<ipython-input-5-45fbe3930abb>\u001b[0m in \u001b[0;36m<module>\u001b[1;34m\u001b[0m\n\u001b[1;32m----> 1\u001b[1;33m \u001b[0mx\u001b[0m \u001b[1;32min\u001b[0m \u001b[0my\u001b[0m\u001b[1;33m\u001b[0m\u001b[1;33m\u001b[0m\u001b[0m\n\u001b[0m",
      "\u001b[1;31mTypeError\u001b[0m: argument of type 'int' is not iterable"
     ]
    }
   ],
   "source": [
    "x in y"
   ]
  },
  {
   "cell_type": "code",
   "execution_count": 6,
   "id": "5fda1295",
   "metadata": {},
   "outputs": [
    {
     "data": {
      "text/plain": [
       "5"
      ]
     },
     "execution_count": 6,
     "metadata": {},
     "output_type": "execute_result"
    }
   ],
   "source": [
    " y and x"
   ]
  },
  {
   "cell_type": "code",
   "execution_count": 10,
   "id": "991192b5",
   "metadata": {},
   "outputs": [
    {
     "data": {
      "text/plain": [
       "10"
      ]
     },
     "execution_count": 10,
     "metadata": {},
     "output_type": "execute_result"
    }
   ],
   "source": [
    "y or x"
   ]
  },
  {
   "cell_type": "code",
   "execution_count": 11,
   "id": "83b48ebd",
   "metadata": {},
   "outputs": [],
   "source": [
    "m = 4"
   ]
  },
  {
   "cell_type": "code",
   "execution_count": 14,
   "id": "c5277338",
   "metadata": {},
   "outputs": [
    {
     "ename": "SyntaxError",
     "evalue": "invalid syntax (<ipython-input-14-0ac14e569581>, line 1)",
     "output_type": "error",
     "traceback": [
      "\u001b[1;36m  File \u001b[1;32m\"<ipython-input-14-0ac14e569581>\"\u001b[1;36m, line \u001b[1;32m1\u001b[0m\n\u001b[1;33m    m <= 5 not m >= 4\u001b[0m\n\u001b[1;37m               ^\u001b[0m\n\u001b[1;31mSyntaxError\u001b[0m\u001b[1;31m:\u001b[0m invalid syntax\n"
     ]
    }
   ],
   "source": [
    "m <= 5 not m >= 4"
   ]
  },
  {
   "cell_type": "code",
   "execution_count": null,
   "id": "70ae74b6",
   "metadata": {},
   "outputs": [],
   "source": [
    "m <= 5"
   ]
  }
 ],
 "metadata": {
  "kernelspec": {
   "display_name": "Python 3",
   "language": "python",
   "name": "python3"
  },
  "language_info": {
   "codemirror_mode": {
    "name": "ipython",
    "version": 3
   },
   "file_extension": ".py",
   "mimetype": "text/x-python",
   "name": "python",
   "nbconvert_exporter": "python",
   "pygments_lexer": "ipython3",
   "version": "3.8.8"
  }
 },
 "nbformat": 4,
 "nbformat_minor": 5
}
