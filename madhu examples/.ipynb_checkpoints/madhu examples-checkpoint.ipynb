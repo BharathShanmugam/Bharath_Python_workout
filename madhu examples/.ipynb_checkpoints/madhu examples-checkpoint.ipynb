{
 "cells": [
  {
   "cell_type": "code",
   "execution_count": 1,
   "id": "0cdb8288",
   "metadata": {},
   "outputs": [],
   "source": [
    "                                        #examples"
   ]
  },
  {
   "cell_type": "code",
   "execution_count": 2,
   "id": "6dd3f794",
   "metadata": {},
   "outputs": [
    {
     "data": {
      "text/plain": [
       "'hello'"
      ]
     },
     "execution_count": 2,
     "metadata": {},
     "output_type": "execute_result"
    }
   ],
   "source": [
    "\"hello\""
   ]
  },
  {
   "cell_type": "code",
   "execution_count": 3,
   "id": "6d084cab",
   "metadata": {},
   "outputs": [
    {
     "data": {
      "text/plain": [
       "'world'"
      ]
     },
     "execution_count": 3,
     "metadata": {},
     "output_type": "execute_result"
    }
   ],
   "source": [
    "'world'"
   ]
  },
  {
   "cell_type": "code",
   "execution_count": 4,
   "id": "3d85ebab",
   "metadata": {},
   "outputs": [
    {
     "data": {
      "text/plain": [
       "\"I'am going to run\""
      ]
     },
     "execution_count": 4,
     "metadata": {},
     "output_type": "execute_result"
    }
   ],
   "source": [
    "\"I'am going to run\""
   ]
  },
  {
   "cell_type": "code",
   "execution_count": 5,
   "id": "0903dd48",
   "metadata": {},
   "outputs": [
    {
     "name": "stdout",
     "output_type": "stream",
     "text": [
      "hello\n"
     ]
    }
   ],
   "source": [
    "print('hello')"
   ]
  },
  {
   "cell_type": "code",
   "execution_count": 6,
   "id": "3e763b9a",
   "metadata": {},
   "outputs": [
    {
     "data": {
      "text/plain": [
       "'hello world two'"
      ]
     },
     "execution_count": 6,
     "metadata": {},
     "output_type": "execute_result"
    }
   ],
   "source": [
    "\"hello world one\"\n",
    "\"hello world two\""
   ]
  },
  {
   "cell_type": "code",
   "execution_count": 7,
   "id": "8810d50a",
   "metadata": {},
   "outputs": [
    {
     "name": "stdout",
     "output_type": "stream",
     "text": [
      "hello world one\n",
      "hello world two\n"
     ]
    }
   ],
   "source": [
    "print(\"hello world one\")\n",
    "print(\"hello world two\")"
   ]
  },
  {
   "cell_type": "code",
   "execution_count": 8,
   "id": "20ab8d54",
   "metadata": {},
   "outputs": [
    {
     "name": "stdout",
     "output_type": "stream",
     "text": [
      "hello \n",
      "world\n"
     ]
    }
   ],
   "source": [
    "print(\"hello \\nworld\")"
   ]
  },
  {
   "cell_type": "code",
   "execution_count": 9,
   "id": "39216061",
   "metadata": {},
   "outputs": [
    {
     "name": "stdout",
     "output_type": "stream",
     "text": [
      "hello\tworld\n"
     ]
    }
   ],
   "source": [
    "print(\"hello\\tworld\")"
   ]
  },
  {
   "cell_type": "code",
   "execution_count": 10,
   "id": "64797020",
   "metadata": {},
   "outputs": [],
   "source": [
    "                                                    #length"
   ]
  },
  {
   "cell_type": "code",
   "execution_count": 11,
   "id": "745b4651",
   "metadata": {},
   "outputs": [
    {
     "data": {
      "text/plain": [
       "5"
      ]
     },
     "execution_count": 11,
     "metadata": {},
     "output_type": "execute_result"
    }
   ],
   "source": [
    "len(\"hello\")"
   ]
  },
  {
   "cell_type": "code",
   "execution_count": 12,
   "id": "cbfa4f78",
   "metadata": {},
   "outputs": [],
   "source": [
    "madhu=\"this is my first example\""
   ]
  },
  {
   "cell_type": "code",
   "execution_count": 13,
   "id": "e688bf67",
   "metadata": {},
   "outputs": [
    {
     "data": {
      "text/plain": [
       "24"
      ]
     },
     "execution_count": 13,
     "metadata": {},
     "output_type": "execute_result"
    }
   ],
   "source": [
    "len(madhu)"
   ]
  },
  {
   "cell_type": "code",
   "execution_count": 14,
   "id": "65712b32",
   "metadata": {},
   "outputs": [],
   "source": [
    "                                                  #indexing\n",
    "    #the first position starts with 0 second position starts with 1 and last postion end with (n-1)\n",
    "    #Indexing in python is a way to refer the individual items within an iterble by its position"
   ]
  },
  {
   "cell_type": "code",
   "execution_count": 1,
   "id": "40eaeea8",
   "metadata": {},
   "outputs": [],
   "source": [
    "mystring=\"hello world\""
   ]
  },
  {
   "cell_type": "code",
   "execution_count": 16,
   "id": "0f099251",
   "metadata": {},
   "outputs": [
    {
     "data": {
      "text/plain": [
       "'hello world'"
      ]
     },
     "execution_count": 16,
     "metadata": {},
     "output_type": "execute_result"
    }
   ],
   "source": [
    "mystring"
   ]
  },
  {
   "cell_type": "code",
   "execution_count": 17,
   "id": "4726c2c1",
   "metadata": {},
   "outputs": [
    {
     "data": {
      "text/plain": [
       "' '"
      ]
     },
     "execution_count": 17,
     "metadata": {},
     "output_type": "execute_result"
    }
   ],
   "source": [
    "mystring[5]   #it represents the space"
   ]
  },
  {
   "cell_type": "code",
   "execution_count": 18,
   "id": "fd13241f",
   "metadata": {},
   "outputs": [
    {
     "data": {
      "text/plain": [
       "'e'"
      ]
     },
     "execution_count": 18,
     "metadata": {},
     "output_type": "execute_result"
    }
   ],
   "source": [
    "mystring[1]"
   ]
  },
  {
   "cell_type": "code",
   "execution_count": 19,
   "id": "e95fed01",
   "metadata": {},
   "outputs": [
    {
     "data": {
      "text/plain": [
       "'d'"
      ]
     },
     "execution_count": 19,
     "metadata": {},
     "output_type": "execute_result"
    }
   ],
   "source": [
    "mystring[-1]"
   ]
  },
  {
   "cell_type": "code",
   "execution_count": 20,
   "id": "9919858a",
   "metadata": {},
   "outputs": [
    {
     "data": {
      "text/plain": [
       "'l'"
      ]
     },
     "execution_count": 20,
     "metadata": {},
     "output_type": "execute_result"
    }
   ],
   "source": [
    "mystring[-2]"
   ]
  },
  {
   "cell_type": "code",
   "execution_count": 21,
   "id": "ccc151f0",
   "metadata": {},
   "outputs": [
    {
     "data": {
      "text/plain": [
       "'llo world'"
      ]
     },
     "execution_count": 21,
     "metadata": {},
     "output_type": "execute_result"
    }
   ],
   "source": [
    "mystring[2:]"
   ]
  },
  {
   "cell_type": "code",
   "execution_count": 22,
   "id": "87762a78",
   "metadata": {},
   "outputs": [
    {
     "data": {
      "text/plain": [
       "'h'"
      ]
     },
     "execution_count": 22,
     "metadata": {},
     "output_type": "execute_result"
    }
   ],
   "source": [
    "mystring[:1]"
   ]
  },
  {
   "cell_type": "code",
   "execution_count": 23,
   "id": "615d6887",
   "metadata": {},
   "outputs": [
    {
     "data": {
      "text/plain": [
       "'he'"
      ]
     },
     "execution_count": 23,
     "metadata": {},
     "output_type": "execute_result"
    }
   ],
   "source": [
    "mystring[:2]"
   ]
  },
  {
   "cell_type": "code",
   "execution_count": 24,
   "id": "09ae30ce",
   "metadata": {},
   "outputs": [
    {
     "data": {
      "text/plain": [
       "'d'"
      ]
     },
     "execution_count": 24,
     "metadata": {},
     "output_type": "execute_result"
    }
   ],
   "source": [
    "mystring[-1:]"
   ]
  },
  {
   "cell_type": "code",
   "execution_count": 25,
   "id": "24a05ed2",
   "metadata": {},
   "outputs": [
    {
     "data": {
      "text/plain": [
       "'ld'"
      ]
     },
     "execution_count": 25,
     "metadata": {},
     "output_type": "execute_result"
    }
   ],
   "source": [
    "mystring[-2:]"
   ]
  },
  {
   "cell_type": "code",
   "execution_count": 26,
   "id": "9e30401d",
   "metadata": {},
   "outputs": [
    {
     "data": {
      "text/plain": [
       "'dlrow olleh'"
      ]
     },
     "execution_count": 26,
     "metadata": {},
     "output_type": "execute_result"
    }
   ],
   "source": [
    "mystring[::-1]"
   ]
  },
  {
   "cell_type": "code",
   "execution_count": 27,
   "id": "0d856b4d",
   "metadata": {},
   "outputs": [
    {
     "data": {
      "text/plain": [
       "'hello world'"
      ]
     },
     "execution_count": 27,
     "metadata": {},
     "output_type": "execute_result"
    }
   ],
   "source": [
    "mystring[::]"
   ]
  },
  {
   "cell_type": "code",
   "execution_count": 28,
   "id": "310f9d0c",
   "metadata": {},
   "outputs": [],
   "source": [
    "#slicing syntax:[start:stop:step] example:"
   ]
  },
  {
   "cell_type": "code",
   "execution_count": 2,
   "id": "71dae469",
   "metadata": {},
   "outputs": [
    {
     "data": {
      "text/plain": [
       "'l '"
      ]
     },
     "execution_count": 2,
     "metadata": {},
     "output_type": "execute_result"
    }
   ],
   "source": [
    "mystring[2:7:3]"
   ]
  },
  {
   "cell_type": "code",
   "execution_count": 30,
   "id": "edf6535d",
   "metadata": {},
   "outputs": [
    {
     "data": {
      "text/plain": [
       "'low'"
      ]
     },
     "execution_count": 30,
     "metadata": {},
     "output_type": "execute_result"
    }
   ],
   "source": [
    "mystring[2:7:2]"
   ]
  },
  {
   "cell_type": "code",
   "execution_count": 31,
   "id": "4b91ec45",
   "metadata": {},
   "outputs": [],
   "source": [
    "#to replace (by slicing)"
   ]
  },
  {
   "cell_type": "code",
   "execution_count": 4,
   "id": "8297f39c",
   "metadata": {},
   "outputs": [],
   "source": [
    "name='bindhu'"
   ]
  },
  {
   "cell_type": "code",
   "execution_count": 6,
   "id": "8bdbe7ef",
   "metadata": {},
   "outputs": [
    {
     "data": {
      "text/plain": [
       "'bindhu'"
      ]
     },
     "execution_count": 6,
     "metadata": {},
     "output_type": "execute_result"
    }
   ],
   "source": [
    "name"
   ]
  },
  {
   "cell_type": "code",
   "execution_count": 8,
   "id": "1b0d2d3f",
   "metadata": {},
   "outputs": [
    {
     "data": {
      "text/plain": [
       "'bin'"
      ]
     },
     "execution_count": 8,
     "metadata": {},
     "output_type": "execute_result"
    }
   ],
   "source": [
    "name[:3]"
   ]
  },
  {
   "cell_type": "code",
   "execution_count": 35,
   "id": "ca00c7c1",
   "metadata": {},
   "outputs": [],
   "source": [
    "friend=name[3:]"
   ]
  },
  {
   "cell_type": "code",
   "execution_count": 36,
   "id": "caf2b6f2",
   "metadata": {},
   "outputs": [
    {
     "data": {
      "text/plain": [
       "'dhu'"
      ]
     },
     "execution_count": 36,
     "metadata": {},
     "output_type": "execute_result"
    }
   ],
   "source": [
    "friend"
   ]
  },
  {
   "cell_type": "code",
   "execution_count": 37,
   "id": "b14aa72f",
   "metadata": {},
   "outputs": [
    {
     "data": {
      "text/plain": [
       "'madhu'"
      ]
     },
     "execution_count": 37,
     "metadata": {},
     "output_type": "execute_result"
    }
   ],
   "source": [
    "'ma'+friend"
   ]
  },
  {
   "cell_type": "code",
   "execution_count": 38,
   "id": "71c14be3",
   "metadata": {},
   "outputs": [],
   "source": [
    "name='bindhu'"
   ]
  },
  {
   "cell_type": "code",
   "execution_count": 39,
   "id": "68ad2f67",
   "metadata": {},
   "outputs": [],
   "source": [
    "friend=name[3:]"
   ]
  },
  {
   "cell_type": "code",
   "execution_count": 40,
   "id": "29528418",
   "metadata": {},
   "outputs": [
    {
     "data": {
      "text/plain": [
       "'madhu'"
      ]
     },
     "execution_count": 40,
     "metadata": {},
     "output_type": "execute_result"
    }
   ],
   "source": [
    "'ma'+friend"
   ]
  },
  {
   "cell_type": "code",
   "execution_count": 41,
   "id": "d29faac2",
   "metadata": {},
   "outputs": [],
   "source": [
    "#to add "
   ]
  },
  {
   "cell_type": "code",
   "execution_count": 42,
   "id": "280211b3",
   "metadata": {},
   "outputs": [],
   "source": [
    "x=\"madhu\""
   ]
  },
  {
   "cell_type": "code",
   "execution_count": 43,
   "id": "6ec9ebf0",
   "metadata": {},
   "outputs": [
    {
     "data": {
      "text/plain": [
       "'bindhumadhu'"
      ]
     },
     "execution_count": 43,
     "metadata": {},
     "output_type": "execute_result"
    }
   ],
   "source": [
    "\"bindhu\"+x"
   ]
  },
  {
   "cell_type": "code",
   "execution_count": 44,
   "id": "b1c170e0",
   "metadata": {},
   "outputs": [
    {
     "data": {
      "text/plain": [
       "'madhu bindhu'"
      ]
     },
     "execution_count": 44,
     "metadata": {},
     "output_type": "execute_result"
    }
   ],
   "source": [
    "x+\" bindhu\""
   ]
  },
  {
   "cell_type": "code",
   "execution_count": 45,
   "id": "b7d88f17",
   "metadata": {},
   "outputs": [],
   "source": [
    "# to multiply"
   ]
  },
  {
   "cell_type": "code",
   "execution_count": 46,
   "id": "55005ed9",
   "metadata": {},
   "outputs": [],
   "source": [
    "letter=\"madhu \""
   ]
  },
  {
   "cell_type": "code",
   "execution_count": 47,
   "id": "43c8fa2d",
   "metadata": {},
   "outputs": [
    {
     "data": {
      "text/plain": [
       "'madhu madhu madhu madhu madhu madhu madhu madhu madhu madhu '"
      ]
     },
     "execution_count": 47,
     "metadata": {},
     "output_type": "execute_result"
    }
   ],
   "source": [
    "letter * 10"
   ]
  },
  {
   "cell_type": "code",
   "execution_count": 48,
   "id": "7be0d09b",
   "metadata": {},
   "outputs": [],
   "source": [
    "#to upper case (.upper())"
   ]
  },
  {
   "cell_type": "code",
   "execution_count": 49,
   "id": "3d6bbfa9",
   "metadata": {},
   "outputs": [],
   "source": [
    "x='hello world'"
   ]
  },
  {
   "cell_type": "code",
   "execution_count": 50,
   "id": "d78d13b7",
   "metadata": {},
   "outputs": [
    {
     "data": {
      "text/plain": [
       "'HELLO WORLD'"
      ]
     },
     "execution_count": 50,
     "metadata": {},
     "output_type": "execute_result"
    }
   ],
   "source": [
    "x.upper()"
   ]
  },
  {
   "cell_type": "code",
   "execution_count": 51,
   "id": "d7a4601c",
   "metadata": {},
   "outputs": [],
   "source": [
    "#split method (.split())"
   ]
  },
  {
   "cell_type": "code",
   "execution_count": 52,
   "id": "1e2b3408",
   "metadata": {},
   "outputs": [
    {
     "data": {
      "text/plain": [
       "['hello', 'world']"
      ]
     },
     "execution_count": 52,
     "metadata": {},
     "output_type": "execute_result"
    }
   ],
   "source": [
    "x.split()"
   ]
  },
  {
   "cell_type": "code",
   "execution_count": 53,
   "id": "947fc779",
   "metadata": {},
   "outputs": [],
   "source": [
    "x=\"this is my first programe\""
   ]
  },
  {
   "cell_type": "code",
   "execution_count": 54,
   "id": "8e473efd",
   "metadata": {},
   "outputs": [
    {
     "data": {
      "text/plain": [
       "['th', 's ', 's my f', 'rst programe']"
      ]
     },
     "execution_count": 54,
     "metadata": {},
     "output_type": "execute_result"
    }
   ],
   "source": [
    "x.split('i')"
   ]
  },
  {
   "cell_type": "code",
   "execution_count": 9,
   "id": "dbf0a435",
   "metadata": {},
   "outputs": [
    {
     "name": "stdout",
     "output_type": "stream",
     "text": [
      "my self  madhumitha shanmugam\n"
     ]
    }
   ],
   "source": [
    "print('my self {}{}{}'.format(' madhu','mitha',' shanmugam')) #formattig"
   ]
  },
  {
   "cell_type": "code",
   "execution_count": 56,
   "id": "94ac2f81",
   "metadata": {},
   "outputs": [
    {
     "name": "stdout",
     "output_type": "stream",
     "text": [
      "my self shanmugammadhumitha\n"
     ]
    }
   ],
   "source": [
    "print('my self{2}{0}{1}'.format( 'madhu','mitha',' shanmugam'))"
   ]
  },
  {
   "cell_type": "code",
   "execution_count": 57,
   "id": "0a9dc596",
   "metadata": {},
   "outputs": [],
   "source": [
    "                                            #flot formatting"
   ]
  },
  {
   "cell_type": "code",
   "execution_count": 58,
   "id": "08105566",
   "metadata": {},
   "outputs": [],
   "source": [
    "                                   #follows\"{value:width.precision}\""
   ]
  },
  {
   "cell_type": "code",
   "execution_count": 11,
   "id": "2482148e",
   "metadata": {},
   "outputs": [],
   "source": [
    "result=100/777"
   ]
  },
  {
   "cell_type": "code",
   "execution_count": 12,
   "id": "2bd837de",
   "metadata": {},
   "outputs": [
    {
     "data": {
      "text/plain": [
       "0.1287001287001287"
      ]
     },
     "execution_count": 12,
     "metadata": {},
     "output_type": "execute_result"
    }
   ],
   "source": [
    "result"
   ]
  },
  {
   "cell_type": "code",
   "execution_count": 13,
   "id": "a292612e",
   "metadata": {},
   "outputs": [
    {
     "name": "stdout",
     "output_type": "stream",
     "text": [
      "the result was0.1287001287001287\n"
     ]
    }
   ],
   "source": [
    "print(\"the result was{r}\".format(r=result))"
   ]
  },
  {
   "cell_type": "code",
   "execution_count": 17,
   "id": "255c216d",
   "metadata": {},
   "outputs": [],
   "source": [
    "result = 9087654321/123"
   ]
  },
  {
   "cell_type": "code",
   "execution_count": 21,
   "id": "4b36f56c",
   "metadata": {},
   "outputs": [
    {
     "name": "stdout",
     "output_type": "stream",
     "text": [
      "the result was 73883368.46341464\n"
     ]
    }
   ],
   "source": [
    "print(\"the result was {r:0.8f}\".format(r=result))#in this the one indicates the wirdth \n",
    "                                                 #3f indicates the size of the value "
   ]
  },
  {
   "cell_type": "code",
   "execution_count": null,
   "id": "af2a55ab",
   "metadata": {},
   "outputs": [],
   "source": []
  },
  {
   "cell_type": "code",
   "execution_count": 64,
   "id": "8ffbd1b9",
   "metadata": {},
   "outputs": [],
   "source": [
    "                                     #.format also replaces with f string"
   ]
  },
  {
   "cell_type": "code",
   "execution_count": 65,
   "id": "f9e4d6c5",
   "metadata": {},
   "outputs": [],
   "source": [
    "name= \"madhu\""
   ]
  },
  {
   "cell_type": "code",
   "execution_count": 66,
   "id": "f2c3b1e4",
   "metadata": {},
   "outputs": [
    {
     "name": "stdout",
     "output_type": "stream",
     "text": [
      "Hello, her name is madhu\n"
     ]
    }
   ],
   "source": [
    "print('Hello, her name is {}'.format(name))"
   ]
  },
  {
   "cell_type": "code",
   "execution_count": 67,
   "id": "2152c241",
   "metadata": {},
   "outputs": [
    {
     "name": "stdout",
     "output_type": "stream",
     "text": [
      "Hello, her name is madhu\n"
     ]
    }
   ],
   "source": [
    "print(f'Hello, her name is {name}')"
   ]
  },
  {
   "cell_type": "code",
   "execution_count": 68,
   "id": "010bc5b9",
   "metadata": {},
   "outputs": [],
   "source": [
    "name=\"madhu\"\n",
    "age=18"
   ]
  },
  {
   "cell_type": "code",
   "execution_count": 69,
   "id": "bcc54bd4",
   "metadata": {},
   "outputs": [
    {
     "name": "stdout",
     "output_type": "stream",
     "text": [
      "my self madhu and my age is 18.\n"
     ]
    }
   ],
   "source": [
    "print(f'my self {name} and my age is {age}.')"
   ]
  },
  {
   "cell_type": "code",
   "execution_count": 70,
   "id": "596585ea",
   "metadata": {},
   "outputs": [
    {
     "name": "stdout",
     "output_type": "stream",
     "text": [
      " my self madhu and my age is 18.\n"
     ]
    }
   ],
   "source": [
    "print(f' my self {name} and my age is {age}.')"
   ]
  },
  {
   "cell_type": "code",
   "execution_count": 71,
   "id": "67956d77",
   "metadata": {},
   "outputs": [],
   "source": [
    "                                                      #lists in python"
   ]
  },
  {
   "cell_type": "code",
   "execution_count": 72,
   "id": "ac3c570b",
   "metadata": {},
   "outputs": [],
   "source": [
    "my_list=[1,2,3]"
   ]
  },
  {
   "cell_type": "code",
   "execution_count": 73,
   "id": "a7dfdce7",
   "metadata": {},
   "outputs": [
    {
     "data": {
      "text/plain": [
       "3"
      ]
     },
     "execution_count": 73,
     "metadata": {},
     "output_type": "execute_result"
    }
   ],
   "source": [
    "len(my_list)"
   ]
  },
  {
   "cell_type": "code",
   "execution_count": 74,
   "id": "8d80e5c3",
   "metadata": {},
   "outputs": [
    {
     "data": {
      "text/plain": [
       "1"
      ]
     },
     "execution_count": 74,
     "metadata": {},
     "output_type": "execute_result"
    }
   ],
   "source": [
    "my_list[0]"
   ]
  },
  {
   "cell_type": "code",
   "execution_count": 75,
   "id": "4e2fdbe7",
   "metadata": {},
   "outputs": [
    {
     "data": {
      "text/plain": [
       "[2, 3]"
      ]
     },
     "execution_count": 75,
     "metadata": {},
     "output_type": "execute_result"
    }
   ],
   "source": [
    "my_list[1:]"
   ]
  },
  {
   "cell_type": "code",
   "execution_count": 76,
   "id": "ed752e63",
   "metadata": {},
   "outputs": [
    {
     "data": {
      "text/plain": [
       "[1, 2, 3]"
      ]
     },
     "execution_count": 76,
     "metadata": {},
     "output_type": "execute_result"
    }
   ],
   "source": [
    "my_list"
   ]
  },
  {
   "cell_type": "code",
   "execution_count": 77,
   "id": "bc2482bf",
   "metadata": {},
   "outputs": [],
   "source": [
    " #to concatenate"
   ]
  },
  {
   "cell_type": "code",
   "execution_count": 78,
   "id": "4e1292e8",
   "metadata": {},
   "outputs": [],
   "source": [
    "another_list=[4,5]"
   ]
  },
  {
   "cell_type": "code",
   "execution_count": 79,
   "id": "f09841aa",
   "metadata": {},
   "outputs": [],
   "source": [
    "new_list=my_list+another_list"
   ]
  },
  {
   "cell_type": "code",
   "execution_count": 80,
   "id": "313d5e4c",
   "metadata": {},
   "outputs": [
    {
     "data": {
      "text/plain": [
       "[1, 2, 3, 4, 5]"
      ]
     },
     "execution_count": 80,
     "metadata": {},
     "output_type": "execute_result"
    }
   ],
   "source": [
    "new_list"
   ]
  },
  {
   "cell_type": "code",
   "execution_count": 81,
   "id": "412a21d8",
   "metadata": {},
   "outputs": [],
   "source": [
    "madhumitha=[1,2,3,4,]              #to concatenate"
   ]
  },
  {
   "cell_type": "code",
   "execution_count": 82,
   "id": "fdfa9132",
   "metadata": {},
   "outputs": [],
   "source": [
    "shanmugam=[5,6,7,8]"
   ]
  },
  {
   "cell_type": "code",
   "execution_count": 83,
   "id": "28ea3454",
   "metadata": {},
   "outputs": [],
   "source": [
    "name=madhumitha + shanmugam"
   ]
  },
  {
   "cell_type": "code",
   "execution_count": 84,
   "id": "e744cc3e",
   "metadata": {},
   "outputs": [
    {
     "data": {
      "text/plain": [
       "[1, 2, 3, 4, 5, 6, 7, 8]"
      ]
     },
     "execution_count": 84,
     "metadata": {},
     "output_type": "execute_result"
    }
   ],
   "source": [
    "name"
   ]
  },
  {
   "cell_type": "code",
   "execution_count": 85,
   "id": "8991ca7b",
   "metadata": {},
   "outputs": [],
   "source": [
    "                #to rename (or) to chane the value"
   ]
  },
  {
   "cell_type": "code",
   "execution_count": 86,
   "id": "165ece36",
   "metadata": {},
   "outputs": [],
   "source": [
    "name[0]='one'"
   ]
  },
  {
   "cell_type": "code",
   "execution_count": 87,
   "id": "e61445cc",
   "metadata": {},
   "outputs": [
    {
     "data": {
      "text/plain": [
       "['one', 2, 3, 4, 5, 6, 7, 8]"
      ]
     },
     "execution_count": 87,
     "metadata": {},
     "output_type": "execute_result"
    }
   ],
   "source": [
    "name"
   ]
  },
  {
   "cell_type": "code",
   "execution_count": 88,
   "id": "bcf8c78c",
   "metadata": {},
   "outputs": [],
   "source": [
    "name[1]='two'"
   ]
  },
  {
   "cell_type": "code",
   "execution_count": 89,
   "id": "64ae18dd",
   "metadata": {},
   "outputs": [
    {
     "data": {
      "text/plain": [
       "['one', 'two', 3, 4, 5, 6, 7, 8]"
      ]
     },
     "execution_count": 89,
     "metadata": {},
     "output_type": "execute_result"
    }
   ],
   "source": [
    "name"
   ]
  },
  {
   "cell_type": "code",
   "execution_count": 90,
   "id": "72c713b5",
   "metadata": {},
   "outputs": [],
   "source": [
    "         #to remove the item at the end (by using .pop() method)\n",
    "    "
   ]
  },
  {
   "cell_type": "code",
   "execution_count": 91,
   "id": "7c2bae0c",
   "metadata": {},
   "outputs": [
    {
     "data": {
      "text/plain": [
       "8"
      ]
     },
     "execution_count": 91,
     "metadata": {},
     "output_type": "execute_result"
    }
   ],
   "source": [
    "name.pop()"
   ]
  },
  {
   "cell_type": "code",
   "execution_count": 92,
   "id": "e57a6c60",
   "metadata": {},
   "outputs": [],
   "source": [
    "           #to remove at the pertcular position (by using( .pop(position of the list)) method)"
   ]
  },
  {
   "cell_type": "code",
   "execution_count": 93,
   "id": "dd9f3f72",
   "metadata": {},
   "outputs": [
    {
     "data": {
      "text/plain": [
       "7"
      ]
     },
     "execution_count": 93,
     "metadata": {},
     "output_type": "execute_result"
    }
   ],
   "source": [
    "name.pop(6)"
   ]
  },
  {
   "cell_type": "code",
   "execution_count": 94,
   "id": "654e9871",
   "metadata": {},
   "outputs": [],
   "source": [
    "                                            #sorting"
   ]
  },
  {
   "cell_type": "code",
   "execution_count": 95,
   "id": "db2065a6",
   "metadata": {},
   "outputs": [],
   "source": [
    "list=[5,4,6,3,7,2,8,1,]"
   ]
  },
  {
   "cell_type": "code",
   "execution_count": 96,
   "id": "d5a2f6ef",
   "metadata": {},
   "outputs": [],
   "source": [
    "list.sort()"
   ]
  },
  {
   "cell_type": "code",
   "execution_count": 97,
   "id": "fa44852a",
   "metadata": {},
   "outputs": [
    {
     "data": {
      "text/plain": [
       "[1, 2, 3, 4, 5, 6, 7, 8]"
      ]
     },
     "execution_count": 97,
     "metadata": {},
     "output_type": "execute_result"
    }
   ],
   "source": [
    "list"
   ]
  },
  {
   "cell_type": "code",
   "execution_count": 98,
   "id": "a788701f",
   "metadata": {},
   "outputs": [],
   "source": [
    "#to reverse"
   ]
  },
  {
   "cell_type": "code",
   "execution_count": 99,
   "id": "6e2e609b",
   "metadata": {},
   "outputs": [],
   "source": [
    "m=[1,2,3,4,5,6,7,8,9,0]"
   ]
  },
  {
   "cell_type": "code",
   "execution_count": 100,
   "id": "dd82d768",
   "metadata": {},
   "outputs": [],
   "source": [
    "m.reverse()"
   ]
  },
  {
   "cell_type": "code",
   "execution_count": 101,
   "id": "667b3a41",
   "metadata": {},
   "outputs": [
    {
     "data": {
      "text/plain": [
       "[0, 9, 8, 7, 6, 5, 4, 3, 2, 1]"
      ]
     },
     "execution_count": 101,
     "metadata": {},
     "output_type": "execute_result"
    }
   ],
   "source": [
    "m"
   ]
  },
  {
   "cell_type": "code",
   "execution_count": 102,
   "id": "30f1a70b",
   "metadata": {},
   "outputs": [],
   "source": [
    "                                                    #dictionaries"
   ]
  },
  {
   "cell_type": "code",
   "execution_count": 103,
   "id": "5dd7becb",
   "metadata": {},
   "outputs": [],
   "source": [
    "my_self={'key1':'value1','key2':'value2'}"
   ]
  },
  {
   "cell_type": "code",
   "execution_count": 104,
   "id": "86e18dfe",
   "metadata": {},
   "outputs": [
    {
     "data": {
      "text/plain": [
       "{'key1': 'value1', 'key2': 'value2'}"
      ]
     },
     "execution_count": 104,
     "metadata": {},
     "output_type": "execute_result"
    }
   ],
   "source": [
    "my_self"
   ]
  },
  {
   "cell_type": "code",
   "execution_count": 105,
   "id": "c0adef88",
   "metadata": {},
   "outputs": [
    {
     "data": {
      "text/plain": [
       "'value1'"
      ]
     },
     "execution_count": 105,
     "metadata": {},
     "output_type": "execute_result"
    }
   ],
   "source": [
    "my_self['key1']"
   ]
  },
  {
   "cell_type": "code",
   "execution_count": 106,
   "id": "d0119c70",
   "metadata": {},
   "outputs": [],
   "source": [
    "priceses={'apple':'100','mango':'50','banana':'25'}"
   ]
  },
  {
   "cell_type": "code",
   "execution_count": 107,
   "id": "024ae0ec",
   "metadata": {},
   "outputs": [
    {
     "data": {
      "text/plain": [
       "{'apple': '100', 'mango': '50', 'banana': '25'}"
      ]
     },
     "execution_count": 107,
     "metadata": {},
     "output_type": "execute_result"
    }
   ],
   "source": [
    "priceses"
   ]
  },
  {
   "cell_type": "code",
   "execution_count": 108,
   "id": "b74d2f08",
   "metadata": {},
   "outputs": [
    {
     "data": {
      "text/plain": [
       "'100'"
      ]
     },
     "execution_count": 108,
     "metadata": {},
     "output_type": "execute_result"
    }
   ],
   "source": [
    "priceses['apple']"
   ]
  },
  {
   "cell_type": "code",
   "execution_count": 109,
   "id": "16f2ca81",
   "metadata": {},
   "outputs": [
    {
     "data": {
      "text/plain": [
       "'25'"
      ]
     },
     "execution_count": 109,
     "metadata": {},
     "output_type": "execute_result"
    }
   ],
   "source": [
    "priceses['banana']"
   ]
  },
  {
   "cell_type": "code",
   "execution_count": 110,
   "id": "0d5d5796",
   "metadata": {},
   "outputs": [
    {
     "data": {
      "text/plain": [
       "'50'"
      ]
     },
     "execution_count": 110,
     "metadata": {},
     "output_type": "execute_result"
    }
   ],
   "source": [
    "priceses['mango']"
   ]
  },
  {
   "cell_type": "code",
   "execution_count": 111,
   "id": "c6d70d65",
   "metadata": {},
   "outputs": [],
   "source": [
    "d={'k1':'123','k2':[1,2,3],'k3':{'inside_value':100}}   #formating"
   ]
  },
  {
   "cell_type": "code",
   "execution_count": 112,
   "id": "ef8431c7",
   "metadata": {},
   "outputs": [
    {
     "data": {
      "text/plain": [
       "'123'"
      ]
     },
     "execution_count": 112,
     "metadata": {},
     "output_type": "execute_result"
    }
   ],
   "source": [
    "d['k1']"
   ]
  },
  {
   "cell_type": "code",
   "execution_count": 113,
   "id": "f54e8b5a",
   "metadata": {},
   "outputs": [
    {
     "data": {
      "text/plain": [
       "[1, 2, 3]"
      ]
     },
     "execution_count": 113,
     "metadata": {},
     "output_type": "execute_result"
    }
   ],
   "source": [
    "d['k2']"
   ]
  },
  {
   "cell_type": "code",
   "execution_count": 114,
   "id": "8a9cd90c",
   "metadata": {},
   "outputs": [
    {
     "data": {
      "text/plain": [
       "1"
      ]
     },
     "execution_count": 114,
     "metadata": {},
     "output_type": "execute_result"
    }
   ],
   "source": [
    "d['k2'][0]"
   ]
  },
  {
   "cell_type": "code",
   "execution_count": 115,
   "id": "2915db5e",
   "metadata": {},
   "outputs": [
    {
     "data": {
      "text/plain": [
       "2"
      ]
     },
     "execution_count": 115,
     "metadata": {},
     "output_type": "execute_result"
    }
   ],
   "source": [
    "d['k2'][1]"
   ]
  },
  {
   "cell_type": "code",
   "execution_count": 116,
   "id": "438fc547",
   "metadata": {},
   "outputs": [
    {
     "data": {
      "text/plain": [
       "3"
      ]
     },
     "execution_count": 116,
     "metadata": {},
     "output_type": "execute_result"
    }
   ],
   "source": [
    "d['k2'][2]"
   ]
  },
  {
   "cell_type": "code",
   "execution_count": 117,
   "id": "0e0999ba",
   "metadata": {},
   "outputs": [
    {
     "data": {
      "text/plain": [
       "{'inside_value': 100}"
      ]
     },
     "execution_count": 117,
     "metadata": {},
     "output_type": "execute_result"
    }
   ],
   "source": [
    "d['k3']"
   ]
  },
  {
   "cell_type": "code",
   "execution_count": 118,
   "id": "79cf76e9",
   "metadata": {},
   "outputs": [
    {
     "data": {
      "text/plain": [
       "100"
      ]
     },
     "execution_count": 118,
     "metadata": {},
     "output_type": "execute_result"
    }
   ],
   "source": [
    "d['k3']['inside_value']"
   ]
  },
  {
   "cell_type": "code",
   "execution_count": 119,
   "id": "8cb00211",
   "metadata": {},
   "outputs": [],
   "source": [
    "                                        # to change to upper case"
   ]
  },
  {
   "cell_type": "code",
   "execution_count": 120,
   "id": "80b9b329",
   "metadata": {},
   "outputs": [],
   "source": [
    "d={'key1':['a','b','c']}"
   ]
  },
  {
   "cell_type": "code",
   "execution_count": 121,
   "id": "c0e90b4c",
   "metadata": {},
   "outputs": [
    {
     "data": {
      "text/plain": [
       "'A'"
      ]
     },
     "execution_count": 121,
     "metadata": {},
     "output_type": "execute_result"
    }
   ],
   "source": [
    "d['key1'][0].upper()"
   ]
  },
  {
   "cell_type": "code",
   "execution_count": 122,
   "id": "e8ff3914",
   "metadata": {},
   "outputs": [
    {
     "data": {
      "text/plain": [
       "'B'"
      ]
     },
     "execution_count": 122,
     "metadata": {},
     "output_type": "execute_result"
    }
   ],
   "source": [
    "d['key1'][1].upper()"
   ]
  },
  {
   "cell_type": "code",
   "execution_count": 123,
   "id": "7272a50d",
   "metadata": {},
   "outputs": [
    {
     "data": {
      "text/plain": [
       "'C'"
      ]
     },
     "execution_count": 123,
     "metadata": {},
     "output_type": "execute_result"
    }
   ],
   "source": [
    "d['key1'][2].upper()"
   ]
  },
  {
   "cell_type": "code",
   "execution_count": 124,
   "id": "45fa65a6",
   "metadata": {},
   "outputs": [],
   "source": [
    "                                        # to add thye value"
   ]
  },
  {
   "cell_type": "code",
   "execution_count": 125,
   "id": "264301be",
   "metadata": {},
   "outputs": [],
   "source": [
    "d={'k1':100,'k2':200}"
   ]
  },
  {
   "cell_type": "code",
   "execution_count": 126,
   "id": "157725bd",
   "metadata": {},
   "outputs": [
    {
     "data": {
      "text/plain": [
       "{'k1': 100, 'k2': 200}"
      ]
     },
     "execution_count": 126,
     "metadata": {},
     "output_type": "execute_result"
    }
   ],
   "source": [
    "d"
   ]
  },
  {
   "cell_type": "code",
   "execution_count": 127,
   "id": "39386ce9",
   "metadata": {},
   "outputs": [],
   "source": [
    "d['k3']=300"
   ]
  },
  {
   "cell_type": "code",
   "execution_count": 128,
   "id": "ce47db11",
   "metadata": {},
   "outputs": [
    {
     "data": {
      "text/plain": [
       "{'k1': 100, 'k2': 200, 'k3': 300}"
      ]
     },
     "execution_count": 128,
     "metadata": {},
     "output_type": "execute_result"
    }
   ],
   "source": [
    "d"
   ]
  },
  {
   "cell_type": "code",
   "execution_count": 129,
   "id": "4e99f9b4",
   "metadata": {},
   "outputs": [],
   "source": [
    "                                       # to change the value"
   ]
  },
  {
   "cell_type": "code",
   "execution_count": 130,
   "id": "4ab6d9ec",
   "metadata": {},
   "outputs": [],
   "source": [
    "d['k1']='600'"
   ]
  },
  {
   "cell_type": "code",
   "execution_count": 131,
   "id": "b41be76e",
   "metadata": {},
   "outputs": [
    {
     "data": {
      "text/plain": [
       "{'k1': '600', 'k2': 200, 'k3': 300}"
      ]
     },
     "execution_count": 131,
     "metadata": {},
     "output_type": "execute_result"
    }
   ],
   "source": [
    "d"
   ]
  },
  {
   "cell_type": "code",
   "execution_count": 132,
   "id": "6c932580",
   "metadata": {},
   "outputs": [],
   "source": [
    "                                # to check the all the key values"
   ]
  },
  {
   "cell_type": "code",
   "execution_count": 133,
   "id": "65f16427",
   "metadata": {},
   "outputs": [
    {
     "data": {
      "text/plain": [
       "{'k1': '600', 'k2': 200, 'k3': 300}"
      ]
     },
     "execution_count": 133,
     "metadata": {},
     "output_type": "execute_result"
    }
   ],
   "source": [
    "d"
   ]
  },
  {
   "cell_type": "code",
   "execution_count": 134,
   "id": "a9cf6bc6",
   "metadata": {},
   "outputs": [
    {
     "data": {
      "text/plain": [
       "dict_keys(['k1', 'k2', 'k3'])"
      ]
     },
     "execution_count": 134,
     "metadata": {},
     "output_type": "execute_result"
    }
   ],
   "source": [
    "d.keys()"
   ]
  },
  {
   "cell_type": "code",
   "execution_count": 135,
   "id": "a3c2417c",
   "metadata": {},
   "outputs": [
    {
     "data": {
      "text/plain": [
       "dict_values(['600', 200, 300])"
      ]
     },
     "execution_count": 135,
     "metadata": {},
     "output_type": "execute_result"
    }
   ],
   "source": [
    "d.values()"
   ]
  },
  {
   "cell_type": "code",
   "execution_count": 136,
   "id": "d07aef90",
   "metadata": {},
   "outputs": [],
   "source": [
    "                                                  #tuple"
   ]
  },
  {
   "cell_type": "code",
   "execution_count": 137,
   "id": "acbadff4",
   "metadata": {},
   "outputs": [],
   "source": [
    "t=[1,2,3]"
   ]
  },
  {
   "cell_type": "code",
   "execution_count": 138,
   "id": "464e741b",
   "metadata": {},
   "outputs": [],
   "source": [
    "my_list=[1,2,3]"
   ]
  },
  {
   "cell_type": "code",
   "execution_count": 139,
   "id": "c09dcdda",
   "metadata": {},
   "outputs": [
    {
     "data": {
      "text/plain": [
       "list"
      ]
     },
     "execution_count": 139,
     "metadata": {},
     "output_type": "execute_result"
    }
   ],
   "source": [
    "type(my_list)"
   ]
  },
  {
   "cell_type": "code",
   "execution_count": 140,
   "id": "2e70d47e",
   "metadata": {},
   "outputs": [
    {
     "data": {
      "text/plain": [
       "1"
      ]
     },
     "execution_count": 140,
     "metadata": {},
     "output_type": "execute_result"
    }
   ],
   "source": [
    "len('t')"
   ]
  },
  {
   "cell_type": "code",
   "execution_count": 141,
   "id": "89fc36cc",
   "metadata": {},
   "outputs": [],
   "source": [
    "#we can count the repeated variables in triples\n"
   ]
  },
  {
   "cell_type": "code",
   "execution_count": 142,
   "id": "05fae970",
   "metadata": {},
   "outputs": [],
   "source": [
    "t=('a','a','b')"
   ]
  },
  {
   "cell_type": "code",
   "execution_count": 143,
   "id": "1504807c",
   "metadata": {},
   "outputs": [
    {
     "data": {
      "text/plain": [
       "('a', 'a', 'b')"
      ]
     },
     "execution_count": 143,
     "metadata": {},
     "output_type": "execute_result"
    }
   ],
   "source": [
    "t"
   ]
  },
  {
   "cell_type": "code",
   "execution_count": 144,
   "id": "d4e7a340",
   "metadata": {},
   "outputs": [
    {
     "data": {
      "text/plain": [
       "2"
      ]
     },
     "execution_count": 144,
     "metadata": {},
     "output_type": "execute_result"
    }
   ],
   "source": [
    "t.count('a')"
   ]
  },
  {
   "cell_type": "code",
   "execution_count": 145,
   "id": "b7533868",
   "metadata": {},
   "outputs": [],
   "source": [
    "                                              #sets in python"
   ]
  },
  {
   "cell_type": "code",
   "execution_count": 146,
   "id": "3935d351",
   "metadata": {},
   "outputs": [],
   "source": [
    "mylist=[1,1,1,1,1,2,2,2,2,2,3,3,3,3,4,4,4,4,4]"
   ]
  },
  {
   "cell_type": "code",
   "execution_count": 147,
   "id": "b67f7b69",
   "metadata": {},
   "outputs": [
    {
     "data": {
      "text/plain": [
       "[1, 1, 1, 1, 1, 2, 2, 2, 2, 2, 3, 3, 3, 3, 4, 4, 4, 4, 4]"
      ]
     },
     "execution_count": 147,
     "metadata": {},
     "output_type": "execute_result"
    }
   ],
   "source": [
    "mylist"
   ]
  },
  {
   "cell_type": "code",
   "execution_count": 148,
   "id": "20271b36",
   "metadata": {},
   "outputs": [],
   "source": [
    "myset=[1,1,1,1,1,2,2,2,2,3,3,3,3,4,4,4,4]"
   ]
  },
  {
   "cell_type": "code",
   "execution_count": 149,
   "id": "63092177",
   "metadata": {},
   "outputs": [
    {
     "data": {
      "text/plain": [
       "[1, 1, 1, 1, 1, 2, 2, 2, 2, 3, 3, 3, 3, 4, 4, 4, 4]"
      ]
     },
     "execution_count": 149,
     "metadata": {},
     "output_type": "execute_result"
    }
   ],
   "source": [
    "myset"
   ]
  },
  {
   "cell_type": "code",
   "execution_count": 150,
   "id": "d1ab0ea5",
   "metadata": {},
   "outputs": [
    {
     "data": {
      "text/plain": [
       "{1, 2, 3, 4}"
      ]
     },
     "execution_count": 150,
     "metadata": {},
     "output_type": "execute_result"
    }
   ],
   "source": [
    "set(myset)"
   ]
  },
  {
   "cell_type": "code",
   "execution_count": null,
   "id": "a18b99fb",
   "metadata": {},
   "outputs": [],
   "source": []
  },
  {
   "cell_type": "code",
   "execution_count": 151,
   "id": "4e5c0d0d",
   "metadata": {},
   "outputs": [],
   "source": [
    "                        #booleans it is used to find the true or flase statement"
   ]
  },
  {
   "cell_type": "code",
   "execution_count": 152,
   "id": "dbe03690",
   "metadata": {},
   "outputs": [
    {
     "data": {
      "text/plain": [
       "True"
      ]
     },
     "execution_count": 152,
     "metadata": {},
     "output_type": "execute_result"
    }
   ],
   "source": [
    "1<2"
   ]
  },
  {
   "cell_type": "code",
   "execution_count": 153,
   "id": "d4c433b8",
   "metadata": {},
   "outputs": [
    {
     "data": {
      "text/plain": [
       "False"
      ]
     },
     "execution_count": 153,
     "metadata": {},
     "output_type": "execute_result"
    }
   ],
   "source": [
    "1>2"
   ]
  },
  {
   "cell_type": "code",
   "execution_count": 154,
   "id": "62507c5a",
   "metadata": {
    "scrolled": true
   },
   "outputs": [
    {
     "data": {
      "text/plain": [
       "True"
      ]
     },
     "execution_count": 154,
     "metadata": {},
     "output_type": "execute_result"
    }
   ],
   "source": [
    "1==1"
   ]
  },
  {
   "cell_type": "code",
   "execution_count": null,
   "id": "8739584e",
   "metadata": {},
   "outputs": [],
   "source": []
  },
  {
   "cell_type": "code",
   "execution_count": 155,
   "id": "6f72c839",
   "metadata": {},
   "outputs": [],
   "source": [
    "                                                    #files"
   ]
  },
  {
   "cell_type": "code",
   "execution_count": 156,
   "id": "805db969",
   "metadata": {},
   "outputs": [],
   "source": [
    "#(this method is only applicable in jupytor notebook)"
   ]
  },
  {
   "cell_type": "code",
   "execution_count": 157,
   "id": "8dd29723",
   "metadata": {},
   "outputs": [
    {
     "name": "stdout",
     "output_type": "stream",
     "text": [
      "Overwriting myfile.txt\n"
     ]
    }
   ],
   "source": [
    "%%writefile myfile.txt\n",
    "Hello this the text file \n",
    "this is the second line"
   ]
  },
  {
   "cell_type": "code",
   "execution_count": 158,
   "id": "82bec25e",
   "metadata": {},
   "outputs": [],
   "source": [
    "myfile = open('myfile.txt')"
   ]
  },
  {
   "cell_type": "code",
   "execution_count": 159,
   "id": "044b75e3",
   "metadata": {},
   "outputs": [
    {
     "data": {
      "text/plain": [
       "'C:\\\\Users\\\\bhara\\\\pyex\\\\madhu examples'"
      ]
     },
     "execution_count": 159,
     "metadata": {},
     "output_type": "execute_result"
    }
   ],
   "source": [
    "pwd"
   ]
  },
  {
   "cell_type": "code",
   "execution_count": 160,
   "id": "c388c6fd",
   "metadata": {},
   "outputs": [
    {
     "data": {
      "text/plain": [
       "'Hello this the text file \\nthis is the second line\\n'"
      ]
     },
     "execution_count": 160,
     "metadata": {},
     "output_type": "execute_result"
    }
   ],
   "source": [
    "myfile.read()"
   ]
  },
  {
   "cell_type": "code",
   "execution_count": 161,
   "id": "081dc2d5",
   "metadata": {},
   "outputs": [
    {
     "data": {
      "text/plain": [
       "''"
      ]
     },
     "execution_count": 161,
     "metadata": {},
     "output_type": "execute_result"
    }
   ],
   "source": [
    "myfile.read() #we cant read again and again because the cursur as moved at the end of the line to rearrange the line we want to \n",
    "               #use seek(0)"
   ]
  },
  {
   "cell_type": "code",
   "execution_count": 162,
   "id": "04446915",
   "metadata": {},
   "outputs": [
    {
     "data": {
      "text/plain": [
       "0"
      ]
     },
     "execution_count": 162,
     "metadata": {},
     "output_type": "execute_result"
    }
   ],
   "source": [
    "myfile.seek(0)"
   ]
  },
  {
   "cell_type": "code",
   "execution_count": 163,
   "id": "01005b49",
   "metadata": {},
   "outputs": [
    {
     "data": {
      "text/plain": [
       "'Hello this the text file \\nthis is the second line\\n'"
      ]
     },
     "execution_count": 163,
     "metadata": {},
     "output_type": "execute_result"
    }
   ],
   "source": [
    "myfile.read()"
   ]
  },
  {
   "cell_type": "code",
   "execution_count": 164,
   "id": "9ff1e9e1",
   "metadata": {},
   "outputs": [
    {
     "data": {
      "text/plain": [
       "0"
      ]
     },
     "execution_count": 164,
     "metadata": {},
     "output_type": "execute_result"
    }
   ],
   "source": [
    "myfile.seek(0)"
   ]
  },
  {
   "cell_type": "code",
   "execution_count": 165,
   "id": "1eeb94dd",
   "metadata": {},
   "outputs": [],
   "source": [
    "contans = myfile.read()"
   ]
  },
  {
   "cell_type": "code",
   "execution_count": 166,
   "id": "fc01e6b3",
   "metadata": {},
   "outputs": [
    {
     "data": {
      "text/plain": [
       "'Hello this the text file \\nthis is the second line\\n'"
      ]
     },
     "execution_count": 166,
     "metadata": {},
     "output_type": "execute_result"
    }
   ],
   "source": [
    "contans"
   ]
  },
  {
   "cell_type": "code",
   "execution_count": 167,
   "id": "a3d88d1b",
   "metadata": {},
   "outputs": [
    {
     "data": {
      "text/plain": [
       "'Hello this the text file \\nthis is the second line\\n'"
      ]
     },
     "execution_count": 167,
     "metadata": {},
     "output_type": "execute_result"
    }
   ],
   "source": [
    "contans"
   ]
  },
  {
   "cell_type": "code",
   "execution_count": 168,
   "id": "4ae4ea68",
   "metadata": {},
   "outputs": [
    {
     "data": {
      "text/plain": [
       "0"
      ]
     },
     "execution_count": 168,
     "metadata": {},
     "output_type": "execute_result"
    }
   ],
   "source": [
    "myfile.seek(0)"
   ]
  },
  {
   "cell_type": "code",
   "execution_count": 169,
   "id": "0b2c2e7c",
   "metadata": {},
   "outputs": [
    {
     "data": {
      "text/plain": [
       "['Hello this the text file \\n', 'this is the second line\\n']"
      ]
     },
     "execution_count": 169,
     "metadata": {},
     "output_type": "execute_result"
    }
   ],
   "source": [
    "myfile.readlines()"
   ]
  },
  {
   "cell_type": "code",
   "execution_count": 170,
   "id": "f7491f36",
   "metadata": {},
   "outputs": [
    {
     "data": {
      "text/plain": [
       "<_io.TextIOWrapper name='myfile.txt' mode='r' encoding='cp1252'>"
      ]
     },
     "execution_count": 170,
     "metadata": {},
     "output_type": "execute_result"
    }
   ],
   "source": [
    "myfile"
   ]
  },
  {
   "cell_type": "code",
   "execution_count": 171,
   "id": "fc51e0ab",
   "metadata": {},
   "outputs": [
    {
     "data": {
      "text/plain": [
       "0"
      ]
     },
     "execution_count": 171,
     "metadata": {},
     "output_type": "execute_result"
    }
   ],
   "source": [
    "myfile.seek(0)"
   ]
  },
  {
   "cell_type": "code",
   "execution_count": 172,
   "id": "4fa5880e",
   "metadata": {},
   "outputs": [
    {
     "data": {
      "text/plain": [
       "['Hello this the text file \\n', 'this is the second line\\n']"
      ]
     },
     "execution_count": 172,
     "metadata": {},
     "output_type": "execute_result"
    }
   ],
   "source": [
    "myfile.readlines()"
   ]
  },
  {
   "cell_type": "code",
   "execution_count": 173,
   "id": "c84da6f4",
   "metadata": {},
   "outputs": [],
   "source": [
    "                                             #file location"
   ]
  },
  {
   "cell_type": "code",
   "execution_count": 174,
   "id": "c5b5a17d",
   "metadata": {},
   "outputs": [
    {
     "data": {
      "text/plain": [
       "'C:\\\\Users\\\\bhara\\\\pyex\\\\madhu examples'"
      ]
     },
     "execution_count": 174,
     "metadata": {},
     "output_type": "execute_result"
    }
   ],
   "source": [
    "pwd"
   ]
  },
  {
   "cell_type": "code",
   "execution_count": 175,
   "id": "ed9ff266",
   "metadata": {},
   "outputs": [
    {
     "ename": "SyntaxError",
     "evalue": "invalid syntax (<ipython-input-175-c2f44b29d6af>, line 1)",
     "output_type": "error",
     "traceback": [
      "\u001b[1;36m  File \u001b[1;32m\"<ipython-input-175-c2f44b29d6af>\"\u001b[1;36m, line \u001b[1;32m1\u001b[0m\n\u001b[1;33m    with open('myfile',mode='r')\u001b[0m\n\u001b[1;37m                                ^\u001b[0m\n\u001b[1;31mSyntaxError\u001b[0m\u001b[1;31m:\u001b[0m invalid syntax\n"
     ]
    }
   ],
   "source": [
    "with open('myfile',mode='r')"
   ]
  },
  {
   "cell_type": "code",
   "execution_count": null,
   "id": "c6c03f2f",
   "metadata": {},
   "outputs": [],
   "source": [
    "#to add to the file(by using append)\n"
   ]
  },
  {
   "cell_type": "code",
   "execution_count": null,
   "id": "bbb1b6c2",
   "metadata": {},
   "outputs": [],
   "source": [
    "pwd   #this is used to know the location where the code is stored"
   ]
  },
  {
   "cell_type": "code",
   "execution_count": null,
   "id": "ce578785",
   "metadata": {},
   "outputs": [],
   "source": [
    "#comprision operator in python"
   ]
  },
  {
   "cell_type": "code",
   "execution_count": null,
   "id": "c9c5be2a",
   "metadata": {},
   "outputs": [],
   "source": [
    "2==2"
   ]
  },
  {
   "cell_type": "code",
   "execution_count": null,
   "id": "b70dc3b9",
   "metadata": {},
   "outputs": [],
   "source": [
    "2==1"
   ]
  },
  {
   "cell_type": "code",
   "execution_count": null,
   "id": "7adde045",
   "metadata": {},
   "outputs": [],
   "source": [
    "'hello'=='bye'"
   ]
  },
  {
   "cell_type": "code",
   "execution_count": null,
   "id": "934d1559",
   "metadata": {},
   "outputs": [],
   "source": [
    "'Bye'=='bye'"
   ]
  },
  {
   "cell_type": "code",
   "execution_count": null,
   "id": "7ffed21e",
   "metadata": {},
   "outputs": [],
   "source": [
    "'bye'=='bye'"
   ]
  },
  {
   "cell_type": "code",
   "execution_count": null,
   "id": "31a2b594",
   "metadata": {},
   "outputs": [],
   "source": [
    "'2'==2"
   ]
  },
  {
   "cell_type": "code",
   "execution_count": null,
   "id": "04ec02aa",
   "metadata": {},
   "outputs": [],
   "source": [
    "2.0==2"
   ]
  },
  {
   "cell_type": "code",
   "execution_count": null,
   "id": "98bc21b3",
   "metadata": {},
   "outputs": [],
   "source": [
    "3!=3"
   ]
  },
  {
   "cell_type": "code",
   "execution_count": null,
   "id": "5cd468a8",
   "metadata": {},
   "outputs": [],
   "source": [
    "4!=3"
   ]
  },
  {
   "cell_type": "code",
   "execution_count": null,
   "id": "b635a548",
   "metadata": {},
   "outputs": [],
   "source": [
    "1<2"
   ]
  },
  {
   "cell_type": "code",
   "execution_count": null,
   "id": "92a1fee1",
   "metadata": {},
   "outputs": [],
   "source": [
    "1>2"
   ]
  },
  {
   "cell_type": "code",
   "execution_count": null,
   "id": "18824609",
   "metadata": {},
   "outputs": [],
   "source": [
    "2<5"
   ]
  },
  {
   "cell_type": "code",
   "execution_count": null,
   "id": "64a46ea6",
   "metadata": {},
   "outputs": [],
   "source": [
    "2>=2"
   ]
  },
  {
   "cell_type": "code",
   "execution_count": null,
   "id": "b57086c0",
   "metadata": {},
   "outputs": [],
   "source": [
    "4<=1"
   ]
  },
  {
   "cell_type": "code",
   "execution_count": null,
   "id": "f74bfbb7",
   "metadata": {},
   "outputs": [],
   "source": [
    "                #chanining comparison operators in python with logical operator (and,or,not)"
   ]
  },
  {
   "cell_type": "code",
   "execution_count": null,
   "id": "15abb3c3",
   "metadata": {},
   "outputs": [],
   "source": [
    "1<2<3"
   ]
  },
  {
   "cell_type": "code",
   "execution_count": null,
   "id": "53cc6dad",
   "metadata": {},
   "outputs": [],
   "source": [
    "1<2>3"
   ]
  },
  {
   "cell_type": "code",
   "execution_count": null,
   "id": "ed7198a7",
   "metadata": {},
   "outputs": [],
   "source": [
    "1<2 and 2<3  #both should be true "
   ]
  },
  {
   "cell_type": "code",
   "execution_count": null,
   "id": "de1559ff",
   "metadata": {},
   "outputs": [],
   "source": [
    "'h'=='h'and'2'=='2'"
   ]
  },
  {
   "cell_type": "code",
   "execution_count": null,
   "id": "35ffd9cb",
   "metadata": {},
   "outputs": [],
   "source": [
    "1==1 or 2==2  #any of one value should be true "
   ]
  },
  {
   "cell_type": "code",
   "execution_count": null,
   "id": "e3e42ed2",
   "metadata": {},
   "outputs": [],
   "source": [
    "not 400>5000"
   ]
  },
  {
   "cell_type": "code",
   "execution_count": null,
   "id": "986ca94c",
   "metadata": {},
   "outputs": [],
   "source": [
    "not 1==1    #it is in equal it shows not equal if it is in equal it shows equal it shows not equal"
   ]
  },
  {
   "cell_type": "code",
   "execution_count": null,
   "id": "68efe606",
   "metadata": {},
   "outputs": [],
   "source": [
    "not 1==2"
   ]
  },
  {
   "cell_type": "code",
   "execution_count": null,
   "id": "6851b265",
   "metadata": {},
   "outputs": [],
   "source": [
    "            #if,elif,else statement in python\n",
    "    "
   ]
  },
  {
   "cell_type": "code",
   "execution_count": null,
   "id": "f0f4e059",
   "metadata": {},
   "outputs": [],
   "source": [
    "if True:                                  #if statement\n",
    "    print('ITS TRUE!')"
   ]
  },
  {
   "cell_type": "code",
   "execution_count": null,
   "id": "7532c2e6",
   "metadata": {},
   "outputs": [],
   "source": [
    "hungry=True\n",
    "if hungry:\n",
    "    print('feed me')"
   ]
  },
  {
   "cell_type": "code",
   "execution_count": null,
   "id": "8fd47c27",
   "metadata": {},
   "outputs": [],
   "source": [
    "hungry=False\n",
    "if hungry:\n",
    "    print('feed me')"
   ]
  },
  {
   "cell_type": "code",
   "execution_count": null,
   "id": "d357705f",
   "metadata": {},
   "outputs": [],
   "source": [
    "#if else statement"
   ]
  },
  {
   "cell_type": "code",
   "execution_count": null,
   "id": "b443bf82",
   "metadata": {},
   "outputs": [],
   "source": [
    "hungry=False\n",
    "if hungry:\n",
    "    print('feed me')\n",
    "else:\n",
    "    print('i am not hungry')"
   ]
  },
  {
   "cell_type": "code",
   "execution_count": null,
   "id": "ea161775",
   "metadata": {},
   "outputs": [],
   "source": [
    "loc='Autoshop'\n",
    "if loc=='Autoshop':\n",
    "    print('o my god')\n",
    "elif loc =='bank':\n",
    "    print('money is cool')\n",
    "elif loc =='store':\n",
    "    print('over loded')\n",
    "else:\n",
    "    print('i dont know to munch')\n"
   ]
  },
  {
   "cell_type": "code",
   "execution_count": null,
   "id": "d13856a0",
   "metadata": {},
   "outputs": [],
   "source": [
    "name='madhu'\n",
    "if name=='kumar':\n",
    "    print('good moring kumar')\n",
    "elif name=='bujji':\n",
    "    print('good morning bujji')\n",
    "elif name=='chandini':\n",
    "    print==('hello chandini')\n",
    "elif name=='madhu':\n",
    "    print('hello madhu')\n",
    "else:\n",
    "    print('i dont know')"
   ]
  },
  {
   "cell_type": "code",
   "execution_count": null,
   "id": "f75182a5",
   "metadata": {},
   "outputs": [],
   "source": [
    "                                                  #for loops"
   ]
  },
  {
   "cell_type": "code",
   "execution_count": null,
   "id": "16f19e26",
   "metadata": {},
   "outputs": [],
   "source": [
    "#my_iterable=[1,2,3,4,5,6,7,8,9,10]\n",
    "       #for item_name in my_iterable:\n",
    "       #print(item_name)"
   ]
  },
  {
   "cell_type": "code",
   "execution_count": null,
   "id": "db52554a",
   "metadata": {},
   "outputs": [],
   "source": [
    "mylist = [1,2,3,4,5,6,7,8,9,10]\n",
    "for num in mylist:\n",
    "    print(num)"
   ]
  },
  {
   "cell_type": "code",
   "execution_count": null,
   "id": "267bfbcc",
   "metadata": {},
   "outputs": [],
   "source": [
    "#replacing variables to string"
   ]
  },
  {
   "cell_type": "code",
   "execution_count": null,
   "id": "28e8a583",
   "metadata": {},
   "outputs": [],
   "source": [
    "for num in mylist:\n",
    "    print('hello')"
   ]
  },
  {
   "cell_type": "code",
   "execution_count": null,
   "id": "2a42115f",
   "metadata": {},
   "outputs": [],
   "source": [
    "#to check the even numbers \n",
    "for num in mylist:\n",
    "    if num % 2 == 0:\n",
    "        print (num)"
   ]
  },
  {
   "cell_type": "code",
   "execution_count": null,
   "id": "a5ddf8a5",
   "metadata": {},
   "outputs": [],
   "source": [
    "#to diplay even numbers\n",
    "for num in mylist:\n",
    "    if num  % 2 == 0:\n",
    "        print(f'even number : {num}')"
   ]
  },
  {
   "cell_type": "code",
   "execution_count": null,
   "id": "bd0c25fe",
   "metadata": {},
   "outputs": [],
   "source": [
    "#exiguting tally\n",
    "list_sum = 0\n",
    "for num in mylist:\n",
    "    list_sum = list_sum + num\n",
    "    print (list_sum)"
   ]
  },
  {
   "cell_type": "code",
   "execution_count": null,
   "id": "e4ea3838",
   "metadata": {},
   "outputs": [],
   "source": [
    "list_sum = 0\n",
    "for num in mylist:\n",
    "    list_sum = list_sum + num\n",
    "print (list_sum)"
   ]
  },
  {
   "cell_type": "code",
   "execution_count": null,
   "id": "8a64c341",
   "metadata": {},
   "outputs": [],
   "source": [
    "\n"
   ]
  },
  {
   "cell_type": "code",
   "execution_count": null,
   "id": "2f63bcae",
   "metadata": {},
   "outputs": [],
   "source": [
    "#truples in for loop statement\n",
    "mylist = [(1,2),(3,4),(5,6)]\n",
    "len(mylist)"
   ]
  },
  {
   "cell_type": "code",
   "execution_count": null,
   "id": "d519a40a",
   "metadata": {},
   "outputs": [],
   "source": [
    "for iteam in mylist:\n",
    "    print(iteam)"
   ]
  },
  {
   "cell_type": "code",
   "execution_count": null,
   "id": "12c554a0",
   "metadata": {},
   "outputs": [],
   "source": [
    "for a,b in mylist:\n",
    "    print(a)\n",
    "    print(b)"
   ]
  },
  {
   "cell_type": "code",
   "execution_count": null,
   "id": "627e145c",
   "metadata": {},
   "outputs": [],
   "source": [
    "                                                   #while statement \n",
    "                       #continue ro execute the same block fo code untill it remains true"
   ]
  },
  {
   "cell_type": "code",
   "execution_count": null,
   "id": "79d405c7",
   "metadata": {},
   "outputs": [],
   "source": [
    "x = 0\n",
    "\n",
    "while x < 5:\n",
    "    print(f'The current value of x is {x}')\n",
    "    x = x + 1"
   ]
  },
  {
   "cell_type": "code",
   "execution_count": null,
   "id": "438754cc",
   "metadata": {},
   "outputs": [],
   "source": [
    "#Break , continue , Pass statements (this are addistional fuction of various statements )\n",
    "#Break = break the current closest encloses loop\n",
    "#continoue = Goes to the top of the current closest enclosing loop\n",
    "#pass = does noting at all"
   ]
  },
  {
   "cell_type": "code",
   "execution_count": null,
   "id": "4d7f4577",
   "metadata": {},
   "outputs": [],
   "source": [
    "                                                 #break"
   ]
  },
  {
   "cell_type": "code",
   "execution_count": null,
   "id": "ee75efce",
   "metadata": {},
   "outputs": [],
   "source": [
    "mystring = 'madhu'"
   ]
  },
  {
   "cell_type": "code",
   "execution_count": null,
   "id": "d6076167",
   "metadata": {},
   "outputs": [],
   "source": [
    "for letter in mystring:\n",
    "    if letter == 'a':\n",
    "        break\n",
    "    print(letter)   #position of the print is important"
   ]
  },
  {
   "cell_type": "code",
   "execution_count": null,
   "id": "cd9d4804",
   "metadata": {},
   "outputs": [],
   "source": [
    "mystring = 'madhumitha'                       #continue"
   ]
  },
  {
   "cell_type": "code",
   "execution_count": null,
   "id": "beed2216",
   "metadata": {},
   "outputs": [],
   "source": [
    "for letter in mystring:\n",
    "    if letter == 'i':   #it removes the letter and go back to the string\n",
    "        continue\n",
    "    print(letter)  #position of the print is important"
   ]
  },
  {
   "cell_type": "code",
   "execution_count": null,
   "id": "ffd591ff",
   "metadata": {},
   "outputs": [],
   "source": [
    "x = [1,2,3]\n",
    "\n",
    "for item in x:\n",
    "    pass    #this used to stop the syntax error after using :\n",
    "print ('end of my script')"
   ]
  },
  {
   "cell_type": "code",
   "execution_count": null,
   "id": "41c87cb0",
   "metadata": {},
   "outputs": [],
   "source": [
    "                                     #useful operators in python\n",
    "  #range(start:stop:step)\n",
    "  #examples"
   ]
  },
  {
   "cell_type": "code",
   "execution_count": null,
   "id": "cff516f2",
   "metadata": {},
   "outputs": [],
   "source": [
    "#range(stop)\n",
    "mylist = [1,2,3,4,5,6,7]"
   ]
  },
  {
   "cell_type": "code",
   "execution_count": null,
   "id": "6169fc28",
   "metadata": {},
   "outputs": [],
   "source": [
    "for num in range(10):\n",
    "    print(num)  #this shows the starting number of the index and until (n-1)(like slicing)"
   ]
  },
  {
   "cell_type": "code",
   "execution_count": null,
   "id": "1411eba2",
   "metadata": {},
   "outputs": [],
   "source": [
    "#range(start,stop)\n",
    "for num in range(0,10):\n",
    "    print(num)"
   ]
  },
  {
   "cell_type": "code",
   "execution_count": null,
   "id": "6863d890",
   "metadata": {},
   "outputs": [],
   "source": [
    "#range(start,stop,step)\n",
    "for num in range(0,10,2):\n",
    "    print(num)"
   ]
  },
  {
   "cell_type": "code",
   "execution_count": null,
   "id": "cad7fed1",
   "metadata": {},
   "outputs": [],
   "source": [
    "list (range(0,10,2))"
   ]
  },
  {
   "cell_type": "code",
   "execution_count": null,
   "id": "38e7d311",
   "metadata": {},
   "outputs": [],
   "source": [
    "#enumerte   (without using the enuerate function)\n",
    "index_count = 0\n",
    "\n",
    "for letter in 'abcde':\n",
    "    print ('At index{} the letter is {}'.format(index_count,letter))\n",
    "    index_count =+ 1\n"
   ]
  },
  {
   "cell_type": "code",
   "execution_count": null,
   "id": "90ad57c3",
   "metadata": {},
   "outputs": [],
   "source": [
    "#with using the fuction\n",
    "\n",
    "letter = 'abcdefg'\n",
    "for item in enumerate(letter):#this is the easy method which shows the truples \n",
    "    print(item)"
   ]
  },
  {
   "cell_type": "code",
   "execution_count": null,
   "id": "3d524a47",
   "metadata": {},
   "outputs": [],
   "source": [
    "#we can also do truple unpacking\n",
    "letter = 'abcdefg'\n",
    "for index,letters in enumerate(letter):\n",
    "    print(index)\n",
    "    print(letters)\n",
    "    print('\\t')"
   ]
  },
  {
   "cell_type": "code",
   "execution_count": null,
   "id": "aa75f5ea",
   "metadata": {},
   "outputs": [],
   "source": [
    "#zip fuction\n",
    "mylist1 = [1,2,3]\n",
    "mylist2 = ['a','b','c']\n",
    "for iteam in zip(mylist1,mylist2):\n",
    "    print(iteam)\n"
   ]
  },
  {
   "cell_type": "code",
   "execution_count": null,
   "id": "73dfe9da",
   "metadata": {},
   "outputs": [],
   "source": [
    "list (zip(mylist1,mylist2))"
   ]
  },
  {
   "cell_type": "code",
   "execution_count": null,
   "id": "97d7debf",
   "metadata": {},
   "outputs": [],
   "source": [
    "#'in'operaters\n",
    "#this shows the boolen statements which are in true or flase sratements\n",
    "'mykey' in {'mykey':145}"
   ]
  },
  {
   "cell_type": "code",
   "execution_count": null,
   "id": "b9678432",
   "metadata": {},
   "outputs": [],
   "source": [
    "#methemetical fuctions (this shows the min and max values of the intigers)\n",
    "mylist = [10,20,30,40,50,100]\n"
   ]
  },
  {
   "cell_type": "code",
   "execution_count": null,
   "id": "ac51ce58",
   "metadata": {},
   "outputs": [],
   "source": [
    "max(mylist)"
   ]
  },
  {
   "cell_type": "code",
   "execution_count": null,
   "id": "ba3005de",
   "metadata": {},
   "outputs": [],
   "source": [
    "min(mylist)"
   ]
  },
  {
   "cell_type": "code",
   "execution_count": null,
   "id": "05c6f3ff",
   "metadata": {},
   "outputs": [],
   "source": [
    "#input function\n",
    "input('Enter a number hear : ') #this shows in the string"
   ]
  },
  {
   "cell_type": "code",
   "execution_count": null,
   "id": "b914b420",
   "metadata": {},
   "outputs": [],
   "source": []
  },
  {
   "cell_type": "markdown",
   "id": "61041dfd",
   "metadata": {},
   "source": [
    "input('what is your name : ')"
   ]
  },
  {
   "cell_type": "code",
   "execution_count": null,
   "id": "d0be04f9",
   "metadata": {},
   "outputs": [],
   "source": [
    "#to show in floating or intier we want to use flot or int statements\n",
    "result =input('what is your age : ')"
   ]
  },
  {
   "cell_type": "code",
   "execution_count": null,
   "id": "9da17895",
   "metadata": {},
   "outputs": [],
   "source": [
    "int (result)"
   ]
  },
  {
   "cell_type": "code",
   "execution_count": null,
   "id": "5f77003c",
   "metadata": {},
   "outputs": [],
   "source": [
    "float(result)"
   ]
  },
  {
   "cell_type": "code",
   "execution_count": null,
   "id": "76c6ab7b",
   "metadata": {},
   "outputs": [],
   "source": [
    "                                        #list comprehensions\n",
    "    \n",
    "#this list comprehensions are the unique way of quick creating a list with python\n",
    "#if we create a for loop along with we want to use  .append() operater \n",
    "mystring = 'hello'\n",
    "mylist = []\n",
    "for letter in mystring:\n",
    "    mylist.append(letter)    #replacing the elements"
   ]
  },
  {
   "cell_type": "code",
   "execution_count": null,
   "id": "a004d82a",
   "metadata": {},
   "outputs": [],
   "source": [
    "mylist"
   ]
  },
  {
   "cell_type": "code",
   "execution_count": null,
   "id": "cf33523c",
   "metadata": {},
   "outputs": [],
   "source": [
    "#or (the simple way)\n",
    "mylist = [letter for letter in mystring]"
   ]
  },
  {
   "cell_type": "code",
   "execution_count": null,
   "id": "1193b9cf",
   "metadata": {},
   "outputs": [],
   "source": [
    "mylist"
   ]
  },
  {
   "cell_type": "code",
   "execution_count": null,
   "id": "d56d035a",
   "metadata": {},
   "outputs": [],
   "source": [
    "mylist = [x for x in 'word']"
   ]
  },
  {
   "cell_type": "code",
   "execution_count": null,
   "id": "4dcd6b7b",
   "metadata": {},
   "outputs": [],
   "source": [
    "mylist"
   ]
  },
  {
   "cell_type": "code",
   "execution_count": null,
   "id": "d3af159e",
   "metadata": {},
   "outputs": [],
   "source": [
    "#in range()\n",
    "mylist = [num for num in range(0,11)]"
   ]
  },
  {
   "cell_type": "code",
   "execution_count": null,
   "id": "c3005c14",
   "metadata": {},
   "outputs": [],
   "source": [
    "mylist"
   ]
  },
  {
   "cell_type": "code",
   "execution_count": null,
   "id": "c9427035",
   "metadata": {},
   "outputs": [],
   "source": [
    "#to find in squires (x*2)\n",
    "mylist = [num**2 for num in range(0,11)]"
   ]
  },
  {
   "cell_type": "code",
   "execution_count": null,
   "id": "62ef5ef1",
   "metadata": {},
   "outputs": [],
   "source": [
    "mylist"
   ]
  },
  {
   "cell_type": "code",
   "execution_count": null,
   "id": "5603209c",
   "metadata": {},
   "outputs": [],
   "source": [
    "#to check the even numbers in boolean statements\n",
    "mylist = [num%2==0 for num in range (0,11)]"
   ]
  },
  {
   "cell_type": "code",
   "execution_count": null,
   "id": "30c2182a",
   "metadata": {},
   "outputs": [],
   "source": [
    "mylist"
   ]
  },
  {
   "cell_type": "code",
   "execution_count": null,
   "id": "8a30dc9f",
   "metadata": {},
   "outputs": [],
   "source": [
    "mylist = [num for num in range(0,11) if num%2==0]"
   ]
  },
  {
   "cell_type": "code",
   "execution_count": null,
   "id": "3d5cdc90",
   "metadata": {},
   "outputs": [],
   "source": [
    "mylist"
   ]
  },
  {
   "cell_type": "code",
   "execution_count": null,
   "id": "453e1169",
   "metadata": {},
   "outputs": [],
   "source": [
    "#for division ,addistion and  multiplications\n",
    "#example\n",
    "celcius = [0,10,20,34.5]"
   ]
  },
  {
   "cell_type": "code",
   "execution_count": null,
   "id": "07141b88",
   "metadata": {},
   "outputs": [],
   "source": [
    "fahrenheit = [((9/5) * temp + 32 ) for temp in celcius] "
   ]
  },
  {
   "cell_type": "code",
   "execution_count": null,
   "id": "ffdaba51",
   "metadata": {},
   "outputs": [],
   "source": [
    "fahrenheit"
   ]
  },
  {
   "cell_type": "code",
   "execution_count": null,
   "id": "3cada7e9",
   "metadata": {},
   "outputs": [],
   "source": [
    "#if else if statement\n",
    "result = [x if x%2==0 else 'not even' for x in range (0,11)]"
   ]
  },
  {
   "cell_type": "code",
   "execution_count": null,
   "id": "cf78b978",
   "metadata": {},
   "outputs": [],
   "source": [
    "result"
   ]
  },
  {
   "cell_type": "code",
   "execution_count": null,
   "id": "a84adc26",
   "metadata": {},
   "outputs": [],
   "source": [
    "#nested loop\n",
    "mylist = []\n",
    "for x in [2,4,6]:\n",
    "    for y in [100,200,300]:\n",
    "        mylist.append(x*y)"
   ]
  },
  {
   "cell_type": "code",
   "execution_count": null,
   "id": "ce5deda0",
   "metadata": {},
   "outputs": [],
   "source": [
    "mylist"
   ]
  },
  {
   "cell_type": "code",
   "execution_count": null,
   "id": "b92813bb",
   "metadata": {},
   "outputs": [],
   "source": [
    "# or\n",
    "mylist = [x*y for x in [10,20,30] for y in [10,20,30]]"
   ]
  },
  {
   "cell_type": "code",
   "execution_count": null,
   "id": "b5e8a403",
   "metadata": {},
   "outputs": [],
   "source": [
    "mylist"
   ]
  },
  {
   "cell_type": "code",
   "execution_count": null,
   "id": "6cb45450",
   "metadata": {},
   "outputs": [],
   "source": [
    "#methods in python\n",
    "#there are mainly 10 methods in python there are\n",
    "#.clear() .copy() .extend() .index()  .insert()  .pop()  .remove()  .reverse()   .sort()  \n",
    "#.append()"
   ]
  },
  {
   "cell_type": "code",
   "execution_count": null,
   "id": "8fc72b05",
   "metadata": {},
   "outputs": [],
   "source": [
    "mystring = [1,2,3,4]"
   ]
  },
  {
   "cell_type": "code",
   "execution_count": null,
   "id": "4dad5ffb",
   "metadata": {},
   "outputs": [],
   "source": [
    "mystring.clear()   #it shows the empty string"
   ]
  },
  {
   "cell_type": "code",
   "execution_count": null,
   "id": "6a53bdff",
   "metadata": {},
   "outputs": [],
   "source": [
    "mystring"
   ]
  },
  {
   "cell_type": "code",
   "execution_count": null,
   "id": "6ec2387d",
   "metadata": {},
   "outputs": [],
   "source": [
    "mystring = [1,2,3,4,5]"
   ]
  },
  {
   "cell_type": "code",
   "execution_count": null,
   "id": "1bf35fd7",
   "metadata": {},
   "outputs": [],
   "source": [
    "mystring.copy()  #it copys the string"
   ]
  },
  {
   "cell_type": "code",
   "execution_count": null,
   "id": "9ca6254e",
   "metadata": {},
   "outputs": [],
   "source": [
    "mystring = [1,2,3,4]"
   ]
  },
  {
   "cell_type": "code",
   "execution_count": null,
   "id": "1cace088",
   "metadata": {},
   "outputs": [],
   "source": [
    "mystring.extend([5,6])  #it used to extend the string"
   ]
  },
  {
   "cell_type": "code",
   "execution_count": null,
   "id": "a191c5fb",
   "metadata": {},
   "outputs": [],
   "source": [
    "mystring"
   ]
  },
  {
   "cell_type": "code",
   "execution_count": null,
   "id": "33862006",
   "metadata": {},
   "outputs": [],
   "source": [
    "mystring = [1,2,3,4,5]"
   ]
  },
  {
   "cell_type": "code",
   "execution_count": null,
   "id": "e9c7d786",
   "metadata": {},
   "outputs": [],
   "source": [
    "mystring.index(1)  #to know the position of the string"
   ]
  },
  {
   "cell_type": "code",
   "execution_count": null,
   "id": "20f14bb7",
   "metadata": {},
   "outputs": [],
   "source": [
    "mystring.index(5)"
   ]
  },
  {
   "cell_type": "code",
   "execution_count": null,
   "id": "9d59b523",
   "metadata": {},
   "outputs": [],
   "source": [
    "mystring = [1,2,3,4,5,6]  "
   ]
  },
  {
   "cell_type": "code",
   "execution_count": null,
   "id": "3fad4054",
   "metadata": {},
   "outputs": [],
   "source": [
    "mystring.insert(5,'madhu')   #to insert the string by using the position"
   ]
  },
  {
   "cell_type": "code",
   "execution_count": null,
   "id": "a48b1348",
   "metadata": {},
   "outputs": [],
   "source": [
    "mystring"
   ]
  },
  {
   "cell_type": "code",
   "execution_count": null,
   "id": "9cc620a3",
   "metadata": {},
   "outputs": [],
   "source": [
    "mystring = [1,2,3,4]"
   ]
  },
  {
   "cell_type": "code",
   "execution_count": null,
   "id": "84d95f87",
   "metadata": {},
   "outputs": [],
   "source": [
    "mystring.pop(0)   #to remove the string by using posistion "
   ]
  },
  {
   "cell_type": "code",
   "execution_count": null,
   "id": "42fb2db1",
   "metadata": {},
   "outputs": [],
   "source": [
    "mystring = [1,2,3,4,5,6]"
   ]
  },
  {
   "cell_type": "code",
   "execution_count": null,
   "id": "2d44dbf1",
   "metadata": {},
   "outputs": [],
   "source": [
    "mystring.remove(2)   #to remove only one string"
   ]
  },
  {
   "cell_type": "code",
   "execution_count": null,
   "id": "f5ac7b06",
   "metadata": {},
   "outputs": [],
   "source": [
    "mystring"
   ]
  },
  {
   "cell_type": "code",
   "execution_count": null,
   "id": "e440a56b",
   "metadata": {},
   "outputs": [],
   "source": [
    "mystring = [1,2,3,4,5,6,7]"
   ]
  },
  {
   "cell_type": "code",
   "execution_count": null,
   "id": "d001c5b7",
   "metadata": {},
   "outputs": [],
   "source": [
    "mystring.reverse()  #to reverse the string"
   ]
  },
  {
   "cell_type": "code",
   "execution_count": null,
   "id": "ea659fa0",
   "metadata": {},
   "outputs": [],
   "source": [
    "mystring"
   ]
  },
  {
   "cell_type": "code",
   "execution_count": null,
   "id": "7333cb7c",
   "metadata": {},
   "outputs": [],
   "source": [
    "mystring = [4,7,8,1,2]"
   ]
  },
  {
   "cell_type": "code",
   "execution_count": null,
   "id": "da141db1",
   "metadata": {},
   "outputs": [],
   "source": [
    "mystring.sort() #sorting"
   ]
  },
  {
   "cell_type": "code",
   "execution_count": null,
   "id": "55b723fe",
   "metadata": {},
   "outputs": [],
   "source": [
    "mystring"
   ]
  },
  {
   "cell_type": "code",
   "execution_count": null,
   "id": "4a8b6612",
   "metadata": {},
   "outputs": [],
   "source": [
    "mystring = [1,2,3,4]"
   ]
  },
  {
   "cell_type": "code",
   "execution_count": null,
   "id": "807ddac1",
   "metadata": {},
   "outputs": [],
   "source": [
    "mystring.append([5,6,7])"
   ]
  },
  {
   "cell_type": "code",
   "execution_count": null,
   "id": "d0078440",
   "metadata": {},
   "outputs": [],
   "source": [
    "#def keyword\n",
    "#syntax:def name_of _function():"
   ]
  },
  {
   "cell_type": "code",
   "execution_count": null,
   "id": "4bc59a4f",
   "metadata": {},
   "outputs": [],
   "source": [
    "def say_hello():\n",
    "    print(\"hello\")   #exigution of the singel code"
   ]
  },
  {
   "cell_type": "code",
   "execution_count": null,
   "id": "38d40014",
   "metadata": {},
   "outputs": [],
   "source": [
    "say_hello()"
   ]
  },
  {
   "cell_type": "code",
   "execution_count": null,
   "id": "54a5c972",
   "metadata": {},
   "outputs": [],
   "source": [
    "def madhu():\n",
    "    print(\"my\")\n",
    "    print(\"self\")\n",
    "    print(\"madhumitha shanmugam\")  #exigutin a block of code"
   ]
  },
  {
   "cell_type": "code",
   "execution_count": null,
   "id": "323cdb6e",
   "metadata": {},
   "outputs": [],
   "source": [
    "madhu()"
   ]
  },
  {
   "cell_type": "code",
   "execution_count": null,
   "id": "92a8703c",
   "metadata": {},
   "outputs": [],
   "source": [
    "#using f string\n",
    "def madhu(name):\n",
    "    print(f'hello {name}')\n"
   ]
  },
  {
   "cell_type": "code",
   "execution_count": null,
   "id": "48ce25af",
   "metadata": {},
   "outputs": [],
   "source": [
    "madhu(\"madhumitha\")"
   ]
  },
  {
   "cell_type": "code",
   "execution_count": null,
   "id": "81560574",
   "metadata": {},
   "outputs": [],
   "source": [
    "#or\n",
    "def madhu(name = \"madhumitha Shanmugam\"):\n",
    "    print(f'hello {name}')\n"
   ]
  },
  {
   "cell_type": "code",
   "execution_count": null,
   "id": "75922ef2",
   "metadata": {},
   "outputs": [],
   "source": [
    "madhu()"
   ]
  },
  {
   "cell_type": "code",
   "execution_count": null,
   "id": "6cae34d9",
   "metadata": {},
   "outputs": [],
   "source": [
    "#by using return function\n",
    "# return instad of just printing out the result , it actually going to allow you to save them as a variable\n"
   ]
  },
  {
   "cell_type": "code",
   "execution_count": null,
   "id": "0d8814e0",
   "metadata": {},
   "outputs": [],
   "source": [
    "def add_num (num1 , num2):\n",
    "    return num1 + num2"
   ]
  },
  {
   "cell_type": "code",
   "execution_count": null,
   "id": "5a6ab751",
   "metadata": {},
   "outputs": [],
   "source": [
    "result = add_num(10,20)"
   ]
  },
  {
   "cell_type": "code",
   "execution_count": null,
   "id": "bbe7e7b6",
   "metadata": {},
   "outputs": [],
   "source": [
    "result"
   ]
  },
  {
   "cell_type": "code",
   "execution_count": null,
   "id": "d8d72488",
   "metadata": {},
   "outputs": [],
   "source": [
    "#by adding the string\n",
    "def my_values (num1, num2):\n",
    "    return num1 + num2"
   ]
  },
  {
   "cell_type": "code",
   "execution_count": null,
   "id": "f30c0bbb",
   "metadata": {},
   "outputs": [],
   "source": [
    "values = my_values('10','20')"
   ]
  },
  {
   "cell_type": "code",
   "execution_count": null,
   "id": "e659bce2",
   "metadata": {},
   "outputs": [],
   "source": [
    "values"
   ]
  },
  {
   "cell_type": "code",
   "execution_count": null,
   "id": "a51bab3d",
   "metadata": {},
   "outputs": [],
   "source": [
    "#logic of python fuction\n",
    "def even_check (number):\n",
    "    result = number % 2 == 0\n",
    "    return result"
   ]
  },
  {
   "cell_type": "code",
   "execution_count": null,
   "id": "41082634",
   "metadata": {},
   "outputs": [],
   "source": [
    "even_check(20)"
   ]
  },
  {
   "cell_type": "code",
   "execution_count": null,
   "id": "f0387a2d",
   "metadata": {},
   "outputs": [],
   "source": [
    "even_check(5)"
   ]
  },
  {
   "cell_type": "code",
   "execution_count": null,
   "id": "0eab7b80",
   "metadata": {},
   "outputs": [],
   "source": [
    "even_check(12)"
   ]
  },
  {
   "cell_type": "code",
   "execution_count": null,
   "id": "0ff2fb71",
   "metadata": {},
   "outputs": [],
   "source": [
    "#Return true if any number i even insie a list by using if else statement\n",
    "def check_even_in_list (num_list):\n",
    "    for number in num_list:\n",
    "        if number % 2 == 0:\n",
    "            return True\n",
    "    else:\n",
    "        pass #pass is a place holer it helps to avoid the syntax"
   ]
  },
  {
   "cell_type": "code",
   "execution_count": null,
   "id": "3970517f",
   "metadata": {},
   "outputs": [],
   "source": [
    "check_even_in_list([1,3,5])"
   ]
  },
  {
   "cell_type": "code",
   "execution_count": null,
   "id": "a74da77a",
   "metadata": {},
   "outputs": [],
   "source": [
    "check_even_in_list([1,2,3])"
   ]
  },
  {
   "cell_type": "code",
   "execution_count": null,
   "id": "927355fc",
   "metadata": {},
   "outputs": [],
   "source": [
    "#to know true or flase statement\n",
    "def check_even(num_list):\n",
    "    for number in num_list:\n",
    "        if number % 2 == 0:  #if the first num is even it prints true or flase\n",
    "            return True\n",
    "        else:\n",
    "            pass\n",
    "        return False"
   ]
  },
  {
   "cell_type": "code",
   "execution_count": null,
   "id": "5d4428b6",
   "metadata": {},
   "outputs": [],
   "source": [
    "check_even([1,3,5])"
   ]
  },
  {
   "cell_type": "code",
   "execution_count": null,
   "id": "1d6b7bcf",
   "metadata": {},
   "outputs": [],
   "source": [
    "check_even([1,2,3])"
   ]
  },
  {
   "cell_type": "code",
   "execution_count": null,
   "id": "ce6569e0",
   "metadata": {},
   "outputs": [],
   "source": [
    "check_even([2,7,3])"
   ]
  },
  {
   "cell_type": "code",
   "execution_count": null,
   "id": "c7b3396c",
   "metadata": {},
   "outputs": [],
   "source": [
    "#functions and tuple unpacking\n",
    "stock_prices = [('apple',200),('mangoes',300),('banana',100)]"
   ]
  },
  {
   "cell_type": "code",
   "execution_count": null,
   "id": "f43a6025",
   "metadata": {},
   "outputs": [],
   "source": [
    "for item in stock_prices:\n",
    "    print(item)"
   ]
  },
  {
   "cell_type": "code",
   "execution_count": null,
   "id": "1e598533",
   "metadata": {},
   "outputs": [],
   "source": [
    "#tuple unpacking\n",
    "for fruit , price in stock_prices:\n",
    "    print(price)"
   ]
  },
  {
   "cell_type": "code",
   "execution_count": 3,
   "id": "62b9809e",
   "metadata": {},
   "outputs": [],
   "source": [
    "#*args and **kwards\n",
    "def myfunc (a,b):\n",
    "    #return 5%of the sum of a, b\n",
    "    return sum((a,b))*0.05"
   ]
  },
  {
   "cell_type": "code",
   "execution_count": 5,
   "id": "99bbfc6d",
   "metadata": {},
   "outputs": [
    {
     "data": {
      "text/plain": [
       "5.0"
      ]
     },
     "execution_count": 5,
     "metadata": {},
     "output_type": "execute_result"
    }
   ],
   "source": [
    "myfunc(40,60)"
   ]
  },
  {
   "cell_type": "code",
   "execution_count": 7,
   "id": "028f1ac4",
   "metadata": {},
   "outputs": [],
   "source": [
    "                                  #by using *args function\n",
    "def myfunc (*args):\n",
    "    return sum (args)*0.05"
   ]
  },
  {
   "cell_type": "code",
   "execution_count": 9,
   "id": "fea3005d",
   "metadata": {},
   "outputs": [
    {
     "data": {
      "text/plain": [
       "11.75"
      ]
     },
     "execution_count": 9,
     "metadata": {},
     "output_type": "execute_result"
    }
   ],
   "source": [
    "myfunc(40,60,100,1,34)"
   ]
  },
  {
   "cell_type": "code",
   "execution_count": 39,
   "id": "ea09d957",
   "metadata": {},
   "outputs": [],
   "source": [
    "def myfunc (*args):\n",
    "    for item in args:\n",
    "        print(item)"
   ]
  },
  {
   "cell_type": "code",
   "execution_count": 41,
   "id": "3e9ceb19",
   "metadata": {},
   "outputs": [
    {
     "name": "stdout",
     "output_type": "stream",
     "text": [
      "40\n",
      "60\n",
      "100\n"
     ]
    }
   ],
   "source": [
    "myfunc(40,60,100,)"
   ]
  },
  {
   "cell_type": "code",
   "execution_count": null,
   "id": "97d2f188",
   "metadata": {},
   "outputs": [],
   "source": []
  },
  {
   "cell_type": "code",
   "execution_count": 29,
   "id": "ebce5055",
   "metadata": {},
   "outputs": [],
   "source": [
    "#by using kwargs \n",
    "def myfunc(**kwargs):\n",
    "    if 'fruit' in kwargs:\n",
    "        print('my fruit of choice is {}' .format(kwargs[fruit]))\n",
    "    else:\n",
    "        print('I did not find fruit here')"
   ]
  },
  {
   "cell_type": "code",
   "execution_count": 34,
   "id": "45e2b41b",
   "metadata": {},
   "outputs": [
    {
     "ename": "KeyError",
     "evalue": "'apple'",
     "output_type": "error",
     "traceback": [
      "\u001b[1;31m---------------------------------------------------------------------------\u001b[0m",
      "\u001b[1;31mKeyError\u001b[0m                                  Traceback (most recent call last)",
      "\u001b[1;32m<ipython-input-34-4ab855003bd7>\u001b[0m in \u001b[0;36m<module>\u001b[1;34m\u001b[0m\n\u001b[1;32m----> 1\u001b[1;33m \u001b[0mmyfunc\u001b[0m\u001b[1;33m(\u001b[0m\u001b[0mfruit\u001b[0m\u001b[1;33m=\u001b[0m\u001b[1;34m'apple'\u001b[0m\u001b[1;33m)\u001b[0m\u001b[1;33m\u001b[0m\u001b[1;33m\u001b[0m\u001b[0m\n\u001b[0m",
      "\u001b[1;32m<ipython-input-29-ed471ac4c7b2>\u001b[0m in \u001b[0;36mmyfunc\u001b[1;34m(**kwargs)\u001b[0m\n\u001b[0;32m      2\u001b[0m \u001b[1;32mdef\u001b[0m \u001b[0mmyfunc\u001b[0m\u001b[1;33m(\u001b[0m\u001b[1;33m**\u001b[0m\u001b[0mkwargs\u001b[0m\u001b[1;33m)\u001b[0m\u001b[1;33m:\u001b[0m\u001b[1;33m\u001b[0m\u001b[1;33m\u001b[0m\u001b[0m\n\u001b[0;32m      3\u001b[0m     \u001b[1;32mif\u001b[0m \u001b[1;34m'fruit'\u001b[0m \u001b[1;32min\u001b[0m \u001b[0mkwargs\u001b[0m\u001b[1;33m:\u001b[0m\u001b[1;33m\u001b[0m\u001b[1;33m\u001b[0m\u001b[0m\n\u001b[1;32m----> 4\u001b[1;33m         \u001b[0mprint\u001b[0m\u001b[1;33m(\u001b[0m\u001b[1;34m'my fruit of choice is {}'\u001b[0m \u001b[1;33m.\u001b[0m\u001b[0mformat\u001b[0m\u001b[1;33m(\u001b[0m\u001b[0mkwargs\u001b[0m\u001b[1;33m[\u001b[0m\u001b[0mfruit\u001b[0m\u001b[1;33m]\u001b[0m\u001b[1;33m)\u001b[0m\u001b[1;33m)\u001b[0m\u001b[1;33m\u001b[0m\u001b[1;33m\u001b[0m\u001b[0m\n\u001b[0m\u001b[0;32m      5\u001b[0m     \u001b[1;32melse\u001b[0m\u001b[1;33m:\u001b[0m\u001b[1;33m\u001b[0m\u001b[1;33m\u001b[0m\u001b[0m\n\u001b[0;32m      6\u001b[0m         \u001b[0mprint\u001b[0m\u001b[1;33m(\u001b[0m\u001b[1;34m'I did not find fruit here'\u001b[0m\u001b[1;33m)\u001b[0m\u001b[1;33m\u001b[0m\u001b[1;33m\u001b[0m\u001b[0m\n",
      "\u001b[1;31mKeyError\u001b[0m: 'apple'"
     ]
    }
   ],
   "source": [
    "myfunc(fruit='apple')"
   ]
  },
  {
   "cell_type": "code",
   "execution_count": 48,
   "id": "3215485a",
   "metadata": {},
   "outputs": [],
   "source": [
    "                     #lamda expression using map and filter function\n",
    "#maps\n",
    "def square (num):\n",
    "    return num ** 2"
   ]
  },
  {
   "cell_type": "code",
   "execution_count": 49,
   "id": "59cea964",
   "metadata": {},
   "outputs": [],
   "source": [
    "mynums = [1,2,3,4,5,6,7,8,9]"
   ]
  },
  {
   "cell_type": "code",
   "execution_count": 45,
   "id": "7d517fa5",
   "metadata": {},
   "outputs": [
    {
     "data": {
      "text/plain": [
       "<map at 0x168f038ea60>"
      ]
     },
     "execution_count": 45,
     "metadata": {},
     "output_type": "execute_result"
    }
   ],
   "source": [
    "map(square,mynums)  #this shows the location where the variables are stored"
   ]
  },
  {
   "cell_type": "code",
   "execution_count": 53,
   "id": "a46cb36c",
   "metadata": {},
   "outputs": [
    {
     "name": "stdout",
     "output_type": "stream",
     "text": [
      "1\n",
      "4\n",
      "9\n",
      "16\n",
      "25\n",
      "36\n",
      "49\n",
      "64\n",
      "81\n"
     ]
    }
   ],
   "source": [
    "for item in map(square,mynums):    #you can pass one or more iterable\n",
    "    print(item)"
   ]
  },
  {
   "cell_type": "code",
   "execution_count": 54,
   "id": "71137ce7",
   "metadata": {},
   "outputs": [
    {
     "data": {
      "text/plain": [
       "[1, 4, 9, 16, 25, 36, 49, 64, 81]"
      ]
     },
     "execution_count": 54,
     "metadata": {},
     "output_type": "execute_result"
    }
   ],
   "source": [
    "#to represent as a list\n",
    "list(map(square,mynums))"
   ]
  },
  {
   "cell_type": "code",
   "execution_count": 56,
   "id": "67bff5c8",
   "metadata": {},
   "outputs": [],
   "source": [
    "#to represent in the form of str\n",
    "def splicer(mystring):\n",
    "    if len (mystring) % 2 == 0:\n",
    "        return 'EVEN'\n",
    "    else:\n",
    "        return mystring[0]"
   ]
  },
  {
   "cell_type": "code",
   "execution_count": 57,
   "id": "4cc82635",
   "metadata": {},
   "outputs": [],
   "source": [
    "names = ['ANDY','EVE','SALLY']"
   ]
  },
  {
   "cell_type": "code",
   "execution_count": 59,
   "id": "4d886ba3",
   "metadata": {},
   "outputs": [
    {
     "data": {
      "text/plain": [
       "['EVEN', 'E', 'S']"
      ]
     },
     "execution_count": 59,
     "metadata": {},
     "output_type": "execute_result"
    }
   ],
   "source": [
    "list(map(splicer,names))"
   ]
  },
  {
   "cell_type": "code",
   "execution_count": 3,
   "id": "575003bb",
   "metadata": {},
   "outputs": [],
   "source": [
    "#filter \n",
    "def check_even(num):\n",
    "    return num % 2 == 0"
   ]
  },
  {
   "cell_type": "code",
   "execution_count": 5,
   "id": "74df20d5",
   "metadata": {},
   "outputs": [],
   "source": [
    "mynums = [1,2,3,4,5,6,7,8,9]"
   ]
  },
  {
   "cell_type": "code",
   "execution_count": 7,
   "id": "ee3837f2",
   "metadata": {},
   "outputs": [
    {
     "name": "stdout",
     "output_type": "stream",
     "text": [
      "2\n",
      "4\n",
      "6\n",
      "8\n"
     ]
    }
   ],
   "source": [
    "for item in filter(check_even,mynums):\n",
    "    print(item)"
   ]
  },
  {
   "cell_type": "code",
   "execution_count": 8,
   "id": "29704c01",
   "metadata": {},
   "outputs": [
    {
     "data": {
      "text/plain": [
       "[2, 4, 6, 8]"
      ]
     },
     "execution_count": 8,
     "metadata": {},
     "output_type": "execute_result"
    }
   ],
   "source": [
    "list(filter(check_even,mynums))"
   ]
  },
  {
   "cell_type": "code",
   "execution_count": 9,
   "id": "9629278a",
   "metadata": {},
   "outputs": [],
   "source": [
    "#for squires\n",
    "def square (num):\n",
    "    return num ** 2"
   ]
  },
  {
   "cell_type": "code",
   "execution_count": 11,
   "id": "d50842a9",
   "metadata": {},
   "outputs": [
    {
     "data": {
      "text/plain": [
       "9"
      ]
     },
     "execution_count": 11,
     "metadata": {},
     "output_type": "execute_result"
    }
   ],
   "source": [
    "square(3)"
   ]
  },
  {
   "cell_type": "code",
   "execution_count": 1,
   "id": "f539c055",
   "metadata": {},
   "outputs": [],
   "source": [
    "#lambda\n",
    "# A lambda function is a small anonymous function .A lambda function can take any number\n",
    "#of arguments, but can oly have one expression"
   ]
  },
  {
   "cell_type": "code",
   "execution_count": 3,
   "id": "cb95d9b1",
   "metadata": {},
   "outputs": [],
   "source": [
    "square = lambda num : num ** 2  #n power 2"
   ]
  },
  {
   "cell_type": "code",
   "execution_count": 5,
   "id": "7787c3fd",
   "metadata": {},
   "outputs": [
    {
     "data": {
      "text/plain": [
       "25"
      ]
     },
     "execution_count": 5,
     "metadata": {},
     "output_type": "execute_result"
    }
   ],
   "source": [
    "square(5)"
   ]
  },
  {
   "cell_type": "code",
   "execution_count": 8,
   "id": "3cd382d7",
   "metadata": {},
   "outputs": [
    {
     "data": {
      "text/plain": [
       "81"
      ]
     },
     "execution_count": 8,
     "metadata": {},
     "output_type": "execute_result"
    }
   ],
   "source": [
    "square(9)"
   ]
  },
  {
   "cell_type": "code",
   "execution_count": 10,
   "id": "7163f35e",
   "metadata": {},
   "outputs": [],
   "source": [
    "my_nums = [1,2,3,4,5,6,7,8,9]"
   ]
  },
  {
   "cell_type": "code",
   "execution_count": 14,
   "id": "7748f0e0",
   "metadata": {},
   "outputs": [
    {
     "data": {
      "text/plain": [
       "[2, 4, 6, 8]"
      ]
     },
     "execution_count": 14,
     "metadata": {},
     "output_type": "execute_result"
    }
   ],
   "source": [
    "list(filter(lambda num : num % 2 == 0 , my_nums))"
   ]
  },
  {
   "cell_type": "code",
   "execution_count": 16,
   "id": "e56fc377",
   "metadata": {},
   "outputs": [
    {
     "data": {
      "text/plain": [
       "[1, 4, 9, 16, 25, 36, 49, 64, 81]"
      ]
     },
     "execution_count": 16,
     "metadata": {},
     "output_type": "execute_result"
    }
   ],
   "source": [
    "list(map(lambda num :num ** 2,my_nums))"
   ]
  },
  {
   "cell_type": "code",
   "execution_count": 18,
   "id": "9a058048",
   "metadata": {},
   "outputs": [
    {
     "data": {
      "text/plain": [
       "[False, True, False, True, False, True, False, True, False]"
      ]
     },
     "execution_count": 18,
     "metadata": {},
     "output_type": "execute_result"
    }
   ],
   "source": [
    "list(map(lambda num : num % 2 == 0 , my_nums))"
   ]
  },
  {
   "cell_type": "code",
   "execution_count": 20,
   "id": "13f6a2a6",
   "metadata": {},
   "outputs": [
    {
     "data": {
      "text/plain": [
       "[1, 2, 3, 4, 5, 6, 7, 8, 9]"
      ]
     },
     "execution_count": 20,
     "metadata": {},
     "output_type": "execute_result"
    }
   ],
   "source": [
    "list(filter(lambda num :num ** 2,my_nums))"
   ]
  },
  {
   "cell_type": "code",
   "execution_count": 22,
   "id": "f9b6bea1",
   "metadata": {},
   "outputs": [
    {
     "data": {
      "text/plain": [
       "{1, 2, 3, 4, 5, 6, 7, 8, 9}"
      ]
     },
     "execution_count": 22,
     "metadata": {},
     "output_type": "execute_result"
    }
   ],
   "source": [
    "set(filter(lambda num :num ** 2,my_nums))"
   ]
  },
  {
   "cell_type": "code",
   "execution_count": 24,
   "id": "46b44ce1",
   "metadata": {},
   "outputs": [
    {
     "data": {
      "text/plain": [
       "(1, 2, 3, 4, 5, 6, 7, 8, 9)"
      ]
     },
     "execution_count": 24,
     "metadata": {},
     "output_type": "execute_result"
    }
   ],
   "source": [
    "tuple(filter(lambda num :num ** 2,my_nums))"
   ]
  },
  {
   "cell_type": "code",
   "execution_count": 26,
   "id": "2ca3e920",
   "metadata": {},
   "outputs": [],
   "source": [
    "#nested statement and scope \n",
    "x = 25    #golbal\n",
    "def printer(): \n",
    "    x = 50    #local\n",
    "    return x"
   ]
  },
  {
   "cell_type": "code",
   "execution_count": 28,
   "id": "b4766ebd",
   "metadata": {},
   "outputs": [
    {
     "name": "stdout",
     "output_type": "stream",
     "text": [
      "25\n"
     ]
    }
   ],
   "source": [
    "print(x)"
   ]
  },
  {
   "cell_type": "code",
   "execution_count": 32,
   "id": "ea838884",
   "metadata": {},
   "outputs": [
    {
     "name": "stdout",
     "output_type": "stream",
     "text": [
      "50\n"
     ]
    }
   ],
   "source": [
    "print(printer())"
   ]
  },
  {
   "cell_type": "code",
   "execution_count": 33,
   "id": "e3e4bd9e",
   "metadata": {},
   "outputs": [],
   "source": [
    "#global allows you to modify the variable outside of the scope\n",
    "# A varianble declared inside the fuction is called local function\n",
    "#python always fellows yhe LEGB rule  \n",
    "#the LEGB stands for Local , Enclosing , Global , Bult-in-function"
   ]
  },
  {
   "cell_type": "code",
   "execution_count": 35,
   "id": "c8cf4658",
   "metadata": {},
   "outputs": [
    {
     "data": {
      "text/plain": [
       "<function __main__.<lambda>(num)>"
      ]
     },
     "execution_count": 35,
     "metadata": {},
     "output_type": "execute_result"
    }
   ],
   "source": [
    "lambda num : num ** 2  #this shows the function type"
   ]
  },
  {
   "cell_type": "code",
   "execution_count": 5,
   "id": "afa2490a",
   "metadata": {},
   "outputs": [],
   "source": [
    "name = 'THIS IS MY GLOBAL STRING'\n",
    "\n",
    "def greet(): #no argument\n",
    "    \n",
    "    name = 'madhu'   #local\n",
    "    \n",
    "    def hello():        #functtion\n",
    "        \n",
    "        print('hello' + name)  #function\n",
    "        \n",
    "    hello()"
   ]
  },
  {
   "cell_type": "code",
   "execution_count": 6,
   "id": "9e16b331",
   "metadata": {},
   "outputs": [
    {
     "name": "stdout",
     "output_type": "stream",
     "text": [
      "hellomadhu\n"
     ]
    }
   ],
   "source": [
    "greet()"
   ]
  },
  {
   "cell_type": "code",
   "execution_count": 9,
   "id": "f0f788f8",
   "metadata": {},
   "outputs": [],
   "source": [
    "#GLOBAL\n",
    "name = 'THIS IS A GLOBAL STRING'\n",
    "\n",
    "def greet():\n",
    "    #ENCLOSING\n",
    "    name = 'madhu'\n",
    "    \n",
    "    def hello():\n",
    "        #LOCAL\n",
    "        print ('Hello' + name)\n",
    "        \n",
    "        hello()"
   ]
  },
  {
   "cell_type": "code",
   "execution_count": null,
   "id": "b10aaace",
   "metadata": {},
   "outputs": [],
   "source": []
  }
 ],
 "metadata": {
  "kernelspec": {
   "display_name": "Python 3",
   "language": "python",
   "name": "python3"
  },
  "language_info": {
   "codemirror_mode": {
    "name": "ipython",
    "version": 3
   },
   "file_extension": ".py",
   "mimetype": "text/x-python",
   "name": "python",
   "nbconvert_exporter": "python",
   "pygments_lexer": "ipython3",
   "version": "3.8.8"
  }
 },
 "nbformat": 4,
 "nbformat_minor": 5
}
