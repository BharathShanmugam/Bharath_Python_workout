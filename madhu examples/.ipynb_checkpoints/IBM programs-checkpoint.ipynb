{
 "cells": [
  {
   "cell_type": "code",
   "execution_count": 1,
   "id": "2b8c1723",
   "metadata": {},
   "outputs": [
    {
     "name": "stdout",
     "output_type": "stream",
     "text": [
      "hello world\n"
     ]
    }
   ],
   "source": [
    "print('hello world')"
   ]
  },
  {
   "cell_type": "code",
   "execution_count": 4,
   "id": "b9e68f62",
   "metadata": {},
   "outputs": [
    {
     "name": "stdout",
     "output_type": "stream",
     "text": [
      "5\n"
     ]
    }
   ],
   "source": [
    "print(3+2)"
   ]
  },
  {
   "cell_type": "code",
   "execution_count": 6,
   "id": "9e1371fe",
   "metadata": {},
   "outputs": [
    {
     "name": "stdout",
     "output_type": "stream",
     "text": [
      "HELLO WORLD\n"
     ]
    }
   ],
   "source": [
    "print('HELLO WORLD')"
   ]
  },
  {
   "cell_type": "code",
   "execution_count": 7,
   "id": "f0a245ab",
   "metadata": {},
   "outputs": [
    {
     "name": "stdout",
     "output_type": "stream",
     "text": [
      "1 2 34 5 madhu\n"
     ]
    }
   ],
   "source": [
    "print(1,2,34,5,'madhu')"
   ]
  },
  {
   "cell_type": "code",
   "execution_count": 12,
   "id": "6206ffb1",
   "metadata": {},
   "outputs": [
    {
     "name": "stdout",
     "output_type": "stream",
     "text": [
      "[1, 2, 3, 4, 'madhu', 5.3]\n"
     ]
    }
   ],
   "source": [
    "a = [1,2,3,4,'madhu',5.3]\n",
    "print(a)"
   ]
  },
  {
   "cell_type": "code",
   "execution_count": 13,
   "id": "1b5fbf2f",
   "metadata": {},
   "outputs": [
    {
     "name": "stdout",
     "output_type": "stream",
     "text": [
      "1494684018432\n"
     ]
    }
   ],
   "source": [
    "print(id(a))"
   ]
  },
  {
   "cell_type": "code",
   "execution_count": 14,
   "id": "1eabf167",
   "metadata": {},
   "outputs": [
    {
     "data": {
      "text/plain": [
       "list"
      ]
     },
     "execution_count": 14,
     "metadata": {},
     "output_type": "execute_result"
    }
   ],
   "source": [
    "type(a)"
   ]
  },
  {
   "cell_type": "code",
   "execution_count": 17,
   "id": "1038cde1",
   "metadata": {},
   "outputs": [
    {
     "name": "stdout",
     "output_type": "stream",
     "text": [
      "ab"
     ]
    }
   ],
   "source": [
    "print('a',end = 'b')"
   ]
  },
  {
   "cell_type": "code",
   "execution_count": 18,
   "id": "cba8a27d",
   "metadata": {},
   "outputs": [
    {
     "name": "stdout",
     "output_type": "stream",
     "text": [
      "100\n"
     ]
    }
   ],
   "source": [
    "l = 10\n",
    "area_of_sq = l*l\n",
    "print(area_of_sq)"
   ]
  },
  {
   "cell_type": "code",
   "execution_count": 20,
   "id": "251c69b0",
   "metadata": {},
   "outputs": [
    {
     "name": "stdout",
     "output_type": "stream",
     "text": [
      "enter some value:  100\n",
      "10000\n"
     ]
    }
   ],
   "source": [
    "l = int(input('enter some value:  '))\n",
    "area_of_sq= l*l\n",
    "print(area_of_sq)"
   ]
  },
  {
   "cell_type": "code",
   "execution_count": 23,
   "id": "e2a4849c",
   "metadata": {},
   "outputs": [
    {
     "name": "stdout",
     "output_type": "stream",
     "text": [
      "what is your name:     madhu\n",
      "Hello madhu\n"
     ]
    }
   ],
   "source": [
    "l = str(input(\"what is your name:     \"))\n",
    "print('Hello ' +   l)"
   ]
  },
  {
   "cell_type": "code",
   "execution_count": 24,
   "id": "61d23d3e",
   "metadata": {},
   "outputs": [
    {
     "data": {
      "text/plain": [
       "'madhu'"
      ]
     },
     "execution_count": 24,
     "metadata": {},
     "output_type": "execute_result"
    }
   ],
   "source": [
    "l"
   ]
  },
  {
   "cell_type": "code",
   "execution_count": 27,
   "id": "d5387195",
   "metadata": {},
   "outputs": [],
   "source": [
    "madhumitha=('kufr')"
   ]
  },
  {
   "cell_type": "code",
   "execution_count": 28,
   "id": "00ca1d6f",
   "metadata": {},
   "outputs": [
    {
     "data": {
      "text/plain": [
       "'kufr'"
      ]
     },
     "execution_count": 28,
     "metadata": {},
     "output_type": "execute_result"
    }
   ],
   "source": [
    "madhumitha"
   ]
  },
  {
   "cell_type": "code",
   "execution_count": null,
   "id": "a4659874",
   "metadata": {},
   "outputs": [],
   "source": [
    "#strings is noting but surrounded by \"\" or ''"
   ]
  },
  {
   "cell_type": "code",
   "execution_count": 1,
   "id": "e5876ec2",
   "metadata": {},
   "outputs": [
    {
     "data": {
      "text/plain": [
       "'r'"
      ]
     },
     "execution_count": 1,
     "metadata": {},
     "output_type": "execute_result"
    }
   ],
   "source": [
    "'r'"
   ]
  },
  {
   "cell_type": "code",
   "execution_count": 2,
   "id": "7b1d9c75",
   "metadata": {},
   "outputs": [],
   "source": [
    "                                         #slicing\n",
    "word = 'python class'"
   ]
  },
  {
   "cell_type": "code",
   "execution_count": 3,
   "id": "f4b7508c",
   "metadata": {},
   "outputs": [
    {
     "data": {
      "text/plain": [
       "'class'"
      ]
     },
     "execution_count": 3,
     "metadata": {},
     "output_type": "execute_result"
    }
   ],
   "source": [
    "word[7:17]"
   ]
  },
  {
   "cell_type": "code",
   "execution_count": 13,
   "id": "76d3910b",
   "metadata": {},
   "outputs": [
    {
     "data": {
      "text/plain": [
       "'clas'"
      ]
     },
     "execution_count": 13,
     "metadata": {},
     "output_type": "execute_result"
    }
   ],
   "source": [
    "word[7:-1]   #start at the seven index posistion and upto the end if -1"
   ]
  },
  {
   "cell_type": "code",
   "execution_count": 5,
   "id": "b1200c68",
   "metadata": {},
   "outputs": [],
   "source": [
    "#modify"
   ]
  },
  {
   "cell_type": "code",
   "execution_count": 9,
   "id": "71b9eed5",
   "metadata": {},
   "outputs": [
    {
     "data": {
      "text/plain": [
       "'PYTHON CLASS'"
      ]
     },
     "execution_count": 9,
     "metadata": {},
     "output_type": "execute_result"
    }
   ],
   "source": [
    "word.upper()       "
   ]
  },
  {
   "cell_type": "code",
   "execution_count": 14,
   "id": "99e63e70",
   "metadata": {},
   "outputs": [
    {
     "data": {
      "text/plain": [
       "'PYTHON CLASS'"
      ]
     },
     "execution_count": 14,
     "metadata": {},
     "output_type": "execute_result"
    }
   ],
   "source": [
    "word.upper()"
   ]
  },
  {
   "cell_type": "code",
   "execution_count": 17,
   "id": "2d0ae986",
   "metadata": {},
   "outputs": [
    {
     "name": "stdout",
     "output_type": "stream",
     "text": [
      "python class\n"
     ]
    }
   ],
   "source": [
    "print(word.strip())"
   ]
  },
  {
   "cell_type": "code",
   "execution_count": 18,
   "id": "2908e46d",
   "metadata": {},
   "outputs": [],
   "source": [
    "string = '                PYTHONA'"
   ]
  },
  {
   "cell_type": "code",
   "execution_count": 19,
   "id": "7cd5ef2c",
   "metadata": {},
   "outputs": [
    {
     "data": {
      "text/plain": [
       "'PYTHONA'"
      ]
     },
     "execution_count": 19,
     "metadata": {},
     "output_type": "execute_result"
    }
   ],
   "source": [
    "string.strip()   #it will eliminats the space in the starting position"
   ]
  },
  {
   "cell_type": "code",
   "execution_count": 22,
   "id": "1ef9c06d",
   "metadata": {},
   "outputs": [],
   "source": [
    "                                  #replacing values in str"
   ]
  },
  {
   "cell_type": "code",
   "execution_count": 25,
   "id": "32a82a57",
   "metadata": {},
   "outputs": [
    {
     "data": {
      "text/plain": [
       "'                GYTHONA'"
      ]
     },
     "execution_count": 25,
     "metadata": {},
     "output_type": "execute_result"
    }
   ],
   "source": [
    "string.replace(\"P\",\"G\")"
   ]
  },
  {
   "cell_type": "code",
   "execution_count": 27,
   "id": "2085b4f7",
   "metadata": {},
   "outputs": [
    {
     "data": {
      "text/plain": [
       "'                hYTHONA'"
      ]
     },
     "execution_count": 27,
     "metadata": {},
     "output_type": "execute_result"
    }
   ],
   "source": [
    "string.replace('P','h')"
   ]
  },
  {
   "cell_type": "code",
   "execution_count": null,
   "id": "37d27c18",
   "metadata": {},
   "outputs": [],
   "source": [
    "p_word=string.replace(\"P\",\"G\") #p indiicates here is permanent"
   ]
  },
  {
   "cell_type": "code",
   "execution_count": 28,
   "id": "87168396",
   "metadata": {},
   "outputs": [],
   "source": [
    "para = 'good evening, welcome to python class!'\n"
   ]
  },
  {
   "cell_type": "code",
   "execution_count": 30,
   "id": "5fb6acda",
   "metadata": {},
   "outputs": [
    {
     "data": {
      "text/plain": [
       "['good evening', ' welcome to python class!']"
      ]
     },
     "execution_count": 30,
     "metadata": {},
     "output_type": "execute_result"
    }
   ],
   "source": [
    "para.split(',')"
   ]
  },
  {
   "cell_type": "code",
   "execution_count": 31,
   "id": "78e49ecf",
   "metadata": {},
   "outputs": [
    {
     "data": {
      "text/plain": [
       "['good', 'evening,', 'welcome', 'to', 'python', 'class!']"
      ]
     },
     "execution_count": 31,
     "metadata": {},
     "output_type": "execute_result"
    }
   ],
   "source": [
    "para.split(' ')"
   ]
  },
  {
   "cell_type": "code",
   "execution_count": 32,
   "id": "cc2452a1",
   "metadata": {},
   "outputs": [],
   "source": [
    "#concateniton"
   ]
  },
  {
   "cell_type": "code",
   "execution_count": 34,
   "id": "9abb3b71",
   "metadata": {},
   "outputs": [
    {
     "data": {
      "text/plain": [
       "'helloworld'"
      ]
     },
     "execution_count": 34,
     "metadata": {},
     "output_type": "execute_result"
    }
   ],
   "source": [
    "v1 = 'hello'\n",
    "v2 = 'world'\n",
    "v1 + v2"
   ]
  },
  {
   "cell_type": "code",
   "execution_count": 35,
   "id": "aec154bb",
   "metadata": {},
   "outputs": [
    {
     "data": {
      "text/plain": [
       "'hello world'"
      ]
     },
     "execution_count": 35,
     "metadata": {},
     "output_type": "execute_result"
    }
   ],
   "source": [
    "v1+' '+v2"
   ]
  },
  {
   "cell_type": "code",
   "execution_count": 42,
   "id": "f5e06319",
   "metadata": {},
   "outputs": [
    {
     "data": {
      "text/plain": [
       "'hello my self madhumitha'"
      ]
     },
     "execution_count": 42,
     "metadata": {},
     "output_type": "execute_result"
    }
   ],
   "source": [
    "a ='hello'\n",
    "b = 'my'\n",
    "c = 'self'\n",
    "d = 'madhumitha'\n",
    "a+' '+b+' '+c+' '+d"
   ]
  },
  {
   "cell_type": "code",
   "execution_count": 38,
   "id": "423465fb",
   "metadata": {},
   "outputs": [
    {
     "data": {
      "text/plain": [
       "'Madhumitha'"
      ]
     },
     "execution_count": 38,
     "metadata": {},
     "output_type": "execute_result"
    }
   ],
   "source": [
    "d.capitalize()"
   ]
  },
  {
   "cell_type": "code",
   "execution_count": 39,
   "id": "36a8d075",
   "metadata": {},
   "outputs": [
    {
     "data": {
      "text/plain": [
       "-1"
      ]
     },
     "execution_count": 39,
     "metadata": {},
     "output_type": "execute_result"
    }
   ],
   "source": [
    "d.find(a)"
   ]
  },
  {
   "cell_type": "code",
   "execution_count": 47,
   "id": "e2447c4f",
   "metadata": {},
   "outputs": [
    {
     "data": {
      "text/plain": [
       "0"
      ]
     },
     "execution_count": 47,
     "metadata": {},
     "output_type": "execute_result"
    }
   ],
   "source": [
    "a.find(a)"
   ]
  },
  {
   "cell_type": "code",
   "execution_count": 48,
   "id": "683b7294",
   "metadata": {},
   "outputs": [],
   "source": [
    "w='1234567890'"
   ]
  },
  {
   "cell_type": "code",
   "execution_count": 49,
   "id": "b66d9948",
   "metadata": {},
   "outputs": [
    {
     "data": {
      "text/plain": [
       "True"
      ]
     },
     "execution_count": 49,
     "metadata": {},
     "output_type": "execute_result"
    }
   ],
   "source": [
    "w.isdigit()"
   ]
  },
  {
   "cell_type": "code",
   "execution_count": 50,
   "id": "9c0e1b08",
   "metadata": {},
   "outputs": [],
   "source": [
    "python = 'hi my self madhumith shanmugam'"
   ]
  },
  {
   "cell_type": "code",
   "execution_count": 53,
   "id": "1e1f6703",
   "metadata": {},
   "outputs": [
    {
     "data": {
      "text/plain": [
       "30"
      ]
     },
     "execution_count": 53,
     "metadata": {},
     "output_type": "execute_result"
    }
   ],
   "source": [
    "len(python)"
   ]
  },
  {
   "cell_type": "code",
   "execution_count": 69,
   "id": "7c1870b2",
   "metadata": {},
   "outputs": [],
   "source": [
    "#tuple\n",
    "#we cannot change the eliments in th process of exigution in case to change we want to change the tuple to the list\n",
    "#i alsways continous with () curly braces"
   ]
  },
  {
   "cell_type": "code",
   "execution_count": 70,
   "id": "dcd3661b",
   "metadata": {},
   "outputs": [],
   "source": [
    "mytuple=('apple','mangp','orangaa',1,2,4)"
   ]
  },
  {
   "cell_type": "code",
   "execution_count": 71,
   "id": "58027a2e",
   "metadata": {},
   "outputs": [
    {
     "data": {
      "text/plain": [
       "('apple', 'mangp', 'orangaa', 1, 2, 4)"
      ]
     },
     "execution_count": 71,
     "metadata": {},
     "output_type": "execute_result"
    }
   ],
   "source": [
    "mytuple"
   ]
  },
  {
   "cell_type": "code",
   "execution_count": 72,
   "id": "4e52108b",
   "metadata": {},
   "outputs": [
    {
     "data": {
      "text/plain": [
       "0"
      ]
     },
     "execution_count": 72,
     "metadata": {},
     "output_type": "execute_result"
    }
   ],
   "source": [
    "mytuple.index('apple')"
   ]
  },
  {
   "cell_type": "code",
   "execution_count": 73,
   "id": "0541dcb1",
   "metadata": {},
   "outputs": [],
   "source": [
    "#list \n",
    "#this can change in the processes of exigustion\n",
    "#it always continous with the square braket[]"
   ]
  },
  {
   "cell_type": "code",
   "execution_count": 6,
   "id": "c52d6c3e",
   "metadata": {},
   "outputs": [],
   "source": [
    "mylist = ['madhu','mitha']\n"
   ]
  },
  {
   "cell_type": "code",
   "execution_count": 1,
   "id": "d5c725db",
   "metadata": {},
   "outputs": [],
   "source": [
    "#sets"
   ]
  },
  {
   "cell_type": "code",
   "execution_count": 2,
   "id": "43085945",
   "metadata": {},
   "outputs": [],
   "source": [
    "#sets are used to store multiple items in single variablel"
   ]
  },
  {
   "cell_type": "code",
   "execution_count": 3,
   "id": "80b8304e",
   "metadata": {},
   "outputs": [],
   "source": [
    "l1 = {\"apple\",\"mango\",1,2,3,4}  #always it will be in the {}"
   ]
  },
  {
   "cell_type": "code",
   "execution_count": 5,
   "id": "0a419555",
   "metadata": {},
   "outputs": [
    {
     "data": {
      "text/plain": [
       "{1, 2, 3, 4, 'apple', 'mango'}"
      ]
     },
     "execution_count": 5,
     "metadata": {},
     "output_type": "execute_result"
    }
   ],
   "source": [
    "l1     #it takes the intigers first strings next"
   ]
  },
  {
   "cell_type": "code",
   "execution_count": 7,
   "id": "c6874a50",
   "metadata": {},
   "outputs": [],
   "source": [
    "#it is unorder unchangeable unindexs"
   ]
  },
  {
   "cell_type": "code",
   "execution_count": 8,
   "id": "f9c13662",
   "metadata": {},
   "outputs": [],
   "source": [
    "#access set items"
   ]
  },
  {
   "cell_type": "code",
   "execution_count": 3,
   "id": "8fc1b4a9",
   "metadata": {},
   "outputs": [],
   "source": [
    "set1 = {'apple','banana','kiwi'}"
   ]
  },
  {
   "cell_type": "code",
   "execution_count": 4,
   "id": "4440eba8",
   "metadata": {},
   "outputs": [
    {
     "data": {
      "text/plain": [
       "{'apple', 'banana', 'kiwi'}"
      ]
     },
     "execution_count": 4,
     "metadata": {},
     "output_type": "execute_result"
    }
   ],
   "source": [
    "set1  #set doesnt contain indexing"
   ]
  },
  {
   "cell_type": "code",
   "execution_count": 5,
   "id": "15a6a4ff",
   "metadata": {},
   "outputs": [
    {
     "name": "stdout",
     "output_type": "stream",
     "text": [
      "apple\n",
      "kiwi\n",
      "banana\n"
     ]
    }
   ],
   "source": [
    "for x in set1:\n",
    "    print(x)"
   ]
  },
  {
   "cell_type": "code",
   "execution_count": 6,
   "id": "8e4daa74",
   "metadata": {},
   "outputs": [],
   "source": [
    "#adding items into set"
   ]
  },
  {
   "cell_type": "code",
   "execution_count": 10,
   "id": "eccf48c3",
   "metadata": {},
   "outputs": [],
   "source": [
    "set1.add('orange')    #only one eliment will be add by using add ffunction"
   ]
  },
  {
   "cell_type": "code",
   "execution_count": 11,
   "id": "76cb761d",
   "metadata": {},
   "outputs": [
    {
     "data": {
      "text/plain": [
       "{'apple', 'banana', 'kiwi', 'orange'}"
      ]
     },
     "execution_count": 11,
     "metadata": {},
     "output_type": "execute_result"
    }
   ],
   "source": [
    "set1"
   ]
  },
  {
   "cell_type": "code",
   "execution_count": 12,
   "id": "3b88fd16",
   "metadata": {},
   "outputs": [],
   "source": [
    "set2= {'madhumitha','shanmugam'}"
   ]
  },
  {
   "cell_type": "code",
   "execution_count": 13,
   "id": "0c5d5b5c",
   "metadata": {},
   "outputs": [],
   "source": [
    "set1.update(set2)"
   ]
  },
  {
   "cell_type": "code",
   "execution_count": 14,
   "id": "1fda8efc",
   "metadata": {},
   "outputs": [
    {
     "data": {
      "text/plain": [
       "{'apple', 'banana', 'kiwi', 'madhumitha', 'orange', 'shanmugam'}"
      ]
     },
     "execution_count": 14,
     "metadata": {},
     "output_type": "execute_result"
    }
   ],
   "source": [
    "set1   #it arrange in the alphabatic order"
   ]
  },
  {
   "cell_type": "code",
   "execution_count": 15,
   "id": "e9fea3e4",
   "metadata": {},
   "outputs": [],
   "source": [
    "set3 = {'himabindu'}"
   ]
  },
  {
   "cell_type": "code",
   "execution_count": 16,
   "id": "80e9de05",
   "metadata": {},
   "outputs": [],
   "source": [
    "set3.update(set1)"
   ]
  },
  {
   "cell_type": "code",
   "execution_count": 17,
   "id": "1870eb3f",
   "metadata": {},
   "outputs": [
    {
     "data": {
      "text/plain": [
       "{'apple', 'banana', 'kiwi', 'madhumitha', 'orange', 'shanmugam'}"
      ]
     },
     "execution_count": 17,
     "metadata": {},
     "output_type": "execute_result"
    }
   ],
   "source": [
    "set1"
   ]
  },
  {
   "cell_type": "code",
   "execution_count": 19,
   "id": "46a8ce74",
   "metadata": {},
   "outputs": [
    {
     "data": {
      "text/plain": [
       "{'apple', 'banana', 'himabindu', 'kiwi', 'madhumitha', 'orange', 'shanmugam'}"
      ]
     },
     "execution_count": 19,
     "metadata": {},
     "output_type": "execute_result"
    }
   ],
   "source": [
    "set3"
   ]
  },
  {
   "cell_type": "code",
   "execution_count": 20,
   "id": "4e7c3655",
   "metadata": {},
   "outputs": [],
   "source": [
    "#remove items from the set"
   ]
  },
  {
   "cell_type": "code",
   "execution_count": 21,
   "id": "e41d5ad7",
   "metadata": {},
   "outputs": [],
   "source": [
    "set3.remove('apple')"
   ]
  },
  {
   "cell_type": "code",
   "execution_count": 22,
   "id": "c98caee0",
   "metadata": {},
   "outputs": [
    {
     "data": {
      "text/plain": [
       "{'banana', 'himabindu', 'kiwi', 'madhumitha', 'orange', 'shanmugam'}"
      ]
     },
     "execution_count": 22,
     "metadata": {},
     "output_type": "execute_result"
    }
   ],
   "source": [
    "set3"
   ]
  },
  {
   "cell_type": "code",
   "execution_count": 23,
   "id": "a0169b08",
   "metadata": {},
   "outputs": [],
   "source": [
    "set3.discard('apple')   #we can use it in n number of times the error will not occur"
   ]
  },
  {
   "cell_type": "code",
   "execution_count": 24,
   "id": "733bc6d2",
   "metadata": {},
   "outputs": [
    {
     "data": {
      "text/plain": [
       "{'banana', 'himabindu', 'kiwi', 'madhumitha', 'orange', 'shanmugam'}"
      ]
     },
     "execution_count": 24,
     "metadata": {},
     "output_type": "execute_result"
    }
   ],
   "source": [
    "set3"
   ]
  },
  {
   "cell_type": "code",
   "execution_count": 28,
   "id": "d032e2d9",
   "metadata": {},
   "outputs": [
    {
     "ename": "IndentationError",
     "evalue": "unexpected indent (<ipython-input-28-05e5d172866a>, line 3)",
     "output_type": "error",
     "traceback": [
      "\u001b[1;36m  File \u001b[1;32m\"<ipython-input-28-05e5d172866a>\"\u001b[1;36m, line \u001b[1;32m3\u001b[0m\n\u001b[1;33m    i.remove()\u001b[0m\n\u001b[1;37m    ^\u001b[0m\n\u001b[1;31mIndentationError\u001b[0m\u001b[1;31m:\u001b[0m unexpected indent\n"
     ]
    }
   ],
   "source": [
    "for i in set3:\n",
    "    i = 'banana'\n",
    "        i.remove()"
   ]
  },
  {
   "cell_type": "code",
   "execution_count": 31,
   "id": "68971a04",
   "metadata": {},
   "outputs": [],
   "source": [
    "set4 = set2.union(set3)    #to add a set use union()"
   ]
  },
  {
   "cell_type": "code",
   "execution_count": 32,
   "id": "97de96f1",
   "metadata": {},
   "outputs": [
    {
     "data": {
      "text/plain": [
       "{'banana', 'himabindu', 'kiwi', 'madhumitha', 'orange', 'shanmugam'}"
      ]
     },
     "execution_count": 32,
     "metadata": {},
     "output_type": "execute_result"
    }
   ],
   "source": [
    "set4"
   ]
  },
  {
   "cell_type": "code",
   "execution_count": 33,
   "id": "44f77ca5",
   "metadata": {},
   "outputs": [],
   "source": [
    "set4.clear()   #it clears the entair element"
   ]
  },
  {
   "cell_type": "code",
   "execution_count": 34,
   "id": "acb62d10",
   "metadata": {},
   "outputs": [
    {
     "data": {
      "text/plain": [
       "set()"
      ]
     },
     "execution_count": 34,
     "metadata": {},
     "output_type": "execute_result"
    }
   ],
   "source": [
    "set4"
   ]
  },
  {
   "cell_type": "code",
   "execution_count": 35,
   "id": "c62a6c57",
   "metadata": {},
   "outputs": [],
   "source": [
    "#dictionaries"
   ]
  },
  {
   "cell_type": "code",
   "execution_count": 36,
   "id": "f1ba2040",
   "metadata": {},
   "outputs": [],
   "source": [
    "#we are hacin four inbult data types\n",
    "#storing the data withe help of a keyy"
   ]
  },
  {
   "cell_type": "code",
   "execution_count": 38,
   "id": "69e5a4d1",
   "metadata": {},
   "outputs": [],
   "source": [
    "dict1={'brand':'ford','model':'xuv','year':1999}"
   ]
  },
  {
   "cell_type": "code",
   "execution_count": 39,
   "id": "e88b59f4",
   "metadata": {},
   "outputs": [
    {
     "data": {
      "text/plain": [
       "{'brand': 'ford', 'model': 'xuv', 'year': 1999}"
      ]
     },
     "execution_count": 39,
     "metadata": {},
     "output_type": "execute_result"
    }
   ],
   "source": [
    "dict1"
   ]
  },
  {
   "cell_type": "code",
   "execution_count": 40,
   "id": "42315e08",
   "metadata": {},
   "outputs": [
    {
     "data": {
      "text/plain": [
       "'ford'"
      ]
     },
     "execution_count": 40,
     "metadata": {},
     "output_type": "execute_result"
    }
   ],
   "source": [
    "dict1['brand']"
   ]
  },
  {
   "cell_type": "code",
   "execution_count": 42,
   "id": "7835531b",
   "metadata": {},
   "outputs": [],
   "source": [
    "dict1['year'] = 2000   #we can change any items"
   ]
  },
  {
   "cell_type": "code",
   "execution_count": 43,
   "id": "7968741c",
   "metadata": {},
   "outputs": [
    {
     "data": {
      "text/plain": [
       "{'brand': 'ford', 'model': 'xuv', 'year': 2000}"
      ]
     },
     "execution_count": 43,
     "metadata": {},
     "output_type": "execute_result"
    }
   ],
   "source": [
    "dict1"
   ]
  },
  {
   "cell_type": "code",
   "execution_count": 44,
   "id": "4f9e6733",
   "metadata": {},
   "outputs": [],
   "source": [
    "dict1['colour']= 'blue'    #to add we can  use this method"
   ]
  },
  {
   "cell_type": "code",
   "execution_count": 45,
   "id": "2fc8341b",
   "metadata": {},
   "outputs": [
    {
     "data": {
      "text/plain": [
       "{'brand': 'ford', 'model': 'xuv', 'year': 2000, 'colour': 'blue'}"
      ]
     },
     "execution_count": 45,
     "metadata": {},
     "output_type": "execute_result"
    }
   ],
   "source": [
    "dict1"
   ]
  },
  {
   "cell_type": "code",
   "execution_count": 46,
   "id": "fa7c1848",
   "metadata": {},
   "outputs": [],
   "source": [
    "#to add more then two variables\n",
    "dict1.update({'colour':'red','model':'serden'})"
   ]
  },
  {
   "cell_type": "code",
   "execution_count": 47,
   "id": "4b2ba29a",
   "metadata": {},
   "outputs": [
    {
     "data": {
      "text/plain": [
       "{'brand': 'ford', 'model': 'serden', 'year': 2000, 'colour': 'red'}"
      ]
     },
     "execution_count": 47,
     "metadata": {},
     "output_type": "execute_result"
    }
   ],
   "source": [
    "dict1"
   ]
  },
  {
   "cell_type": "code",
   "execution_count": 49,
   "id": "6a6dbf7e",
   "metadata": {},
   "outputs": [
    {
     "data": {
      "text/plain": [
       "dict_keys(['brand', 'model', 'year', 'colour'])"
      ]
     },
     "execution_count": 49,
     "metadata": {},
     "output_type": "execute_result"
    }
   ],
   "source": [
    "dict1.keys()"
   ]
  },
  {
   "cell_type": "code",
   "execution_count": 51,
   "id": "c310c453",
   "metadata": {},
   "outputs": [
    {
     "data": {
      "text/plain": [
       "dict_values(['ford', 'serden', 2000, 'red'])"
      ]
     },
     "execution_count": 51,
     "metadata": {},
     "output_type": "execute_result"
    }
   ],
   "source": [
    "dict1.values()"
   ]
  },
  {
   "cell_type": "code",
   "execution_count": 53,
   "id": "94821104",
   "metadata": {},
   "outputs": [
    {
     "data": {
      "text/plain": [
       "('colour', 'red')"
      ]
     },
     "execution_count": 53,
     "metadata": {},
     "output_type": "execute_result"
    }
   ],
   "source": [
    "dict1.popitem()"
   ]
  },
  {
   "cell_type": "code",
   "execution_count": 54,
   "id": "5fe1818b",
   "metadata": {},
   "outputs": [
    {
     "data": {
      "text/plain": [
       "'serden'"
      ]
     },
     "execution_count": 54,
     "metadata": {},
     "output_type": "execute_result"
    }
   ],
   "source": [
    "dict1.get('model')"
   ]
  },
  {
   "cell_type": "code",
   "execution_count": 55,
   "id": "086b7726",
   "metadata": {},
   "outputs": [],
   "source": [
    "#operaters in python\n",
    "#arthimetic operators"
   ]
  },
  {
   "cell_type": "code",
   "execution_count": 56,
   "id": "9b4c75f7",
   "metadata": {},
   "outputs": [
    {
     "name": "stdout",
     "output_type": "stream",
     "text": [
      "enter you first number:    40\n",
      "enter you first number:    50\n",
      "sum: 90\n"
     ]
    }
   ],
   "source": [
    "a = int(input('enter you first number:    '))\n",
    "b = int(input('enter you first number:    '))\n",
    "print('sum:',a+b)"
   ]
  },
  {
   "cell_type": "code",
   "execution_count": 57,
   "id": "1149144f",
   "metadata": {},
   "outputs": [
    {
     "data": {
      "text/plain": [
       "2000"
      ]
     },
     "execution_count": 57,
     "metadata": {},
     "output_type": "execute_result"
    }
   ],
   "source": [
    "a*b"
   ]
  },
  {
   "cell_type": "code",
   "execution_count": 58,
   "id": "969b7056",
   "metadata": {},
   "outputs": [
    {
     "data": {
      "text/plain": [
       "0.8"
      ]
     },
     "execution_count": 58,
     "metadata": {},
     "output_type": "execute_result"
    }
   ],
   "source": [
    "a/b"
   ]
  },
  {
   "cell_type": "code",
   "execution_count": 60,
   "id": "c07bfdec",
   "metadata": {},
   "outputs": [
    {
     "data": {
      "text/plain": [
       "126765060022822940149670320537600000000000000000000000000000000000000000000000000"
      ]
     },
     "execution_count": 60,
     "metadata": {},
     "output_type": "execute_result"
    }
   ],
   "source": [
    "a**b"
   ]
  },
  {
   "cell_type": "code",
   "execution_count": 61,
   "id": "a5595cfb",
   "metadata": {},
   "outputs": [],
   "source": [
    "#logical operaters"
   ]
  },
  {
   "cell_type": "code",
   "execution_count": 62,
   "id": "a72562de",
   "metadata": {},
   "outputs": [],
   "source": [
    "#there are thre types of logical operators there are AND OR NOT"
   ]
  },
  {
   "cell_type": "code",
   "execution_count": 64,
   "id": "d3e7f5da",
   "metadata": {},
   "outputs": [],
   "source": [
    "#and #any one is flase it gives flase"
   ]
  },
  {
   "cell_type": "code",
   "execution_count": 65,
   "id": "111c6e6f",
   "metadata": {},
   "outputs": [],
   "source": [
    "#or #any one is true it gives true\n"
   ]
  },
  {
   "cell_type": "code",
   "execution_count": 66,
   "id": "ad46043e",
   "metadata": {},
   "outputs": [],
   "source": [
    "#not #it revice the true to flase and flase to true"
   ]
  },
  {
   "cell_type": "code",
   "execution_count": 67,
   "id": "1788620a",
   "metadata": {},
   "outputs": [],
   "source": [
    "#IDENTITIE OPERATERS [IS AND IS NOT ]"
   ]
  },
  {
   "cell_type": "code",
   "execution_count": 70,
   "id": "a404c609",
   "metadata": {},
   "outputs": [
    {
     "name": "stdout",
     "output_type": "stream",
     "text": [
      "enter you first number:    12\n",
      "enter you first number:    13\n",
      "False\n"
     ]
    }
   ],
   "source": [
    "a=int(input('enter you first number:    '))\n",
    "b=int(input('enter you first number:    '))\n",
    "print(a is b)"
   ]
  },
  {
   "cell_type": "code",
   "execution_count": 71,
   "id": "dd8f9c3a",
   "metadata": {},
   "outputs": [],
   "source": [
    "#is not"
   ]
  },
  {
   "cell_type": "code",
   "execution_count": 72,
   "id": "bbd9603b",
   "metadata": {},
   "outputs": [
    {
     "name": "stdout",
     "output_type": "stream",
     "text": [
      "enter you first number:    12\n",
      "enter you first number:    13\n",
      "False\n",
      "True\n"
     ]
    }
   ],
   "source": [
    "a=int(input('enter you first number:    '))\n",
    "b=int(input('enter you first number:    '))\n",
    "print(a is b)\n",
    "print(a is not b)"
   ]
  },
  {
   "cell_type": "code",
   "execution_count": 3,
   "id": "bc9ff8c3",
   "metadata": {},
   "outputs": [],
   "source": [
    "#MEMBERSHIP(IN)"
   ]
  },
  {
   "cell_type": "code",
   "execution_count": null,
   "id": "43393ad2",
   "metadata": {},
   "outputs": [],
   "source": []
  },
  {
   "cell_type": "code",
   "execution_count": 4,
   "id": "82a9c9be",
   "metadata": {},
   "outputs": [
    {
     "name": "stdout",
     "output_type": "stream",
     "text": [
      "False\n"
     ]
    }
   ],
   "source": [
    "x = ['madhumitha','shanmugam','naickar']\n",
    "print('kumar' in x)"
   ]
  },
  {
   "cell_type": "code",
   "execution_count": 5,
   "id": "bcf6ec5d",
   "metadata": {},
   "outputs": [],
   "source": [
    "#MEMBERSHIP(NOT IN)"
   ]
  },
  {
   "cell_type": "code",
   "execution_count": 6,
   "id": "d908dbe7",
   "metadata": {},
   "outputs": [
    {
     "name": "stdout",
     "output_type": "stream",
     "text": [
      "True\n"
     ]
    }
   ],
   "source": [
    "print ('kumar' not in x)"
   ]
  },
  {
   "cell_type": "code",
   "execution_count": 7,
   "id": "5d5b217f",
   "metadata": {},
   "outputs": [],
   "source": [
    "#BITWISE OPERATOR"
   ]
  },
  {
   "cell_type": "code",
   "execution_count": 8,
   "id": "abc02ae5",
   "metadata": {},
   "outputs": [],
   "source": [
    "#in bit wise operator we have "
   ]
  },
  {
   "cell_type": "code",
   "execution_count": 10,
   "id": "f4130ed8",
   "metadata": {},
   "outputs": [
    {
     "name": "stdout",
     "output_type": "stream",
     "text": [
      "2344743641520\n"
     ]
    }
   ],
   "source": [
    "var1 = 'madhumitha'\n",
    "print(id(var1))   #all the values will store in the form of dinary in the system"
   ]
  },
  {
   "cell_type": "code",
   "execution_count": 11,
   "id": "c02cc0dc",
   "metadata": {},
   "outputs": [],
   "source": [
    "#conditional statements"
   ]
  },
  {
   "cell_type": "code",
   "execution_count": 12,
   "id": "f4f073fc",
   "metadata": {},
   "outputs": [],
   "source": [
    "#there are thre conditional statements that are it , if else and elif"
   ]
  },
  {
   "cell_type": "code",
   "execution_count": 2,
   "id": "e3e875d1",
   "metadata": {},
   "outputs": [
    {
     "name": "stdout",
     "output_type": "stream",
     "text": [
      "enter you number :    30\n",
      "number is even 30\n"
     ]
    }
   ],
   "source": [
    "#find out the odd and even\n",
    "n = int(input(\"enter you number :    \"))\n",
    "if n %2==0:\n",
    "    print('number is even',n)\n",
    "else:\n",
    "    print(' number is odd',n)"
   ]
  },
  {
   "cell_type": "code",
   "execution_count": null,
   "id": "c123a9e4",
   "metadata": {},
   "outputs": [],
   "source": [
    "32//2"
   ]
  },
  {
   "cell_type": "code",
   "execution_count": null,
   "id": "1ee0a4db",
   "metadata": {},
   "outputs": [],
   "source": [
    "a = 33\n",
    "b = 33\n",
    "id a>b:\n",
    "    print('sum',a+b)\n",
    "elif a<b;"
   ]
  },
  {
   "cell_type": "code",
   "execution_count": null,
   "id": "7c1f8fd1",
   "metadata": {},
   "outputs": [],
   "source": [
    "#while loop"
   ]
  },
  {
   "cell_type": "code",
   "execution_count": 4,
   "id": "dbac728f",
   "metadata": {},
   "outputs": [
    {
     "name": "stdout",
     "output_type": "stream",
     "text": [
      "1\n",
      "madhu\n",
      "2\n",
      "madhu\n",
      "3\n",
      "madhu\n",
      "4\n",
      "madhu\n",
      "5\n",
      "madhu\n",
      "6\n",
      "madhu\n",
      "7\n",
      "madhu\n",
      "8\n",
      "madhu\n",
      "9\n",
      "madhu\n",
      "operator complet\n"
     ]
    }
   ],
   "source": [
    "i = 1\n",
    "while i<10:\n",
    "    print(i)\n",
    "    print('madhu')\n",
    "    i = i + 1\n",
    "print('operator complet')"
   ]
  },
  {
   "cell_type": "code",
   "execution_count": 5,
   "id": "00955f4f",
   "metadata": {},
   "outputs": [
    {
     "name": "stdout",
     "output_type": "stream",
     "text": [
      "1\n",
      "madhu\n",
      "2\n",
      "madhu\n",
      "3\n",
      "madhu\n",
      "4\n",
      "madhu\n",
      "5\n",
      "madhu\n",
      "6\n",
      "madhu\n",
      "operator complet\n"
     ]
    }
   ],
   "source": [
    "i = 1\n",
    "while i<10:\n",
    "    print(i)\n",
    "    print('madhu')\n",
    "    if i == 6:\n",
    "        break\n",
    "    i = i + 1\n",
    "print('operator complet')"
   ]
  },
  {
   "cell_type": "code",
   "execution_count": 4,
   "id": "36196a11",
   "metadata": {},
   "outputs": [
    {
     "name": "stdout",
     "output_type": "stream",
     "text": [
      "2\n",
      "3\n",
      "4\n",
      "5\n",
      "7\n",
      "8\n",
      "9\n",
      "10\n",
      "operator complet\n"
     ]
    }
   ],
   "source": [
    "i = 1\n",
    "while i<10:\n",
    "    i= i + 1\n",
    "    if i == 6:\n",
    "        continue\n",
    "    print(i)\n",
    "print('operator complet')"
   ]
  },
  {
   "cell_type": "code",
   "execution_count": 5,
   "id": "ee86f2c9",
   "metadata": {},
   "outputs": [],
   "source": [
    "#for loop"
   ]
  },
  {
   "cell_type": "code",
   "execution_count": 6,
   "id": "87dafec6",
   "metadata": {},
   "outputs": [],
   "source": [
    "#it is getting used for iterating over a sequence(list,tuple,range,dict)"
   ]
  },
  {
   "cell_type": "code",
   "execution_count": 7,
   "id": "d1657228",
   "metadata": {},
   "outputs": [],
   "source": [
    "fruits=['apple','kiwi','orange']"
   ]
  },
  {
   "cell_type": "code",
   "execution_count": 9,
   "id": "6050d91f",
   "metadata": {},
   "outputs": [
    {
     "data": {
      "text/plain": [
       "['apple', 'kiwi', 'orange']"
      ]
     },
     "execution_count": 9,
     "metadata": {},
     "output_type": "execute_result"
    }
   ],
   "source": [
    "fruits"
   ]
  },
  {
   "cell_type": "code",
   "execution_count": 10,
   "id": "e6f8085c",
   "metadata": {},
   "outputs": [
    {
     "name": "stdout",
     "output_type": "stream",
     "text": [
      "a apple a day keep doctor away\n",
      "operation completed\n",
      "operation completed\n"
     ]
    }
   ],
   "source": [
    "for i in fruits:\n",
    "    if (i=='apple'):\n",
    "        print('a apple a day keep doctor away')\n",
    "    else:\n",
    "        print('operation completed')"
   ]
  },
  {
   "cell_type": "code",
   "execution_count": 11,
   "id": "d33a3384",
   "metadata": {},
   "outputs": [
    {
     "name": "stdout",
     "output_type": "stream",
     "text": [
      "apple\n",
      "a apple a day keep doctor away\n",
      "kiwi\n",
      "operation completed\n",
      "orange\n",
      "operation completed\n"
     ]
    }
   ],
   "source": [
    "for i in fruits:\n",
    "    print(i)\n",
    "    if (i=='apple'):\n",
    "        print('a apple a day keep doctor away')\n",
    "    else:\n",
    "        print('operation completed')"
   ]
  },
  {
   "cell_type": "code",
   "execution_count": 14,
   "id": "14f7ea79",
   "metadata": {},
   "outputs": [
    {
     "name": "stdout",
     "output_type": "stream",
     "text": [
      "0\n",
      "1\n",
      "2\n",
      "3\n",
      "4\n",
      "5\n",
      "6\n",
      "7\n",
      "8\n",
      "9\n",
      "10\n"
     ]
    }
   ],
   "source": [
    "for i in range(11):\n",
    "    print(i)"
   ]
  },
  {
   "cell_type": "code",
   "execution_count": 15,
   "id": "80144b8e",
   "metadata": {},
   "outputs": [
    {
     "name": "stdout",
     "output_type": "stream",
     "text": [
      "0\n",
      "1\n",
      "2\n",
      "3\n",
      "4\n"
     ]
    }
   ],
   "source": [
    "for i in range(11):\n",
    "    print(i)\n",
    "    if i == 4:\n",
    "        break"
   ]
  },
  {
   "cell_type": "code",
   "execution_count": null,
   "id": "85033f1c",
   "metadata": {},
   "outputs": [],
   "source": []
  }
 ],
 "metadata": {
  "kernelspec": {
   "display_name": "Python 3",
   "language": "python",
   "name": "python3"
  },
  "language_info": {
   "codemirror_mode": {
    "name": "ipython",
    "version": 3
   },
   "file_extension": ".py",
   "mimetype": "text/x-python",
   "name": "python",
   "nbconvert_exporter": "python",
   "pygments_lexer": "ipython3",
   "version": "3.8.8"
  }
 },
 "nbformat": 4,
 "nbformat_minor": 5
}
