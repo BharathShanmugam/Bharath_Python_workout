{
 "cells": [
  {
   "cell_type": "code",
   "execution_count": 1,
   "id": "779a82e3",
   "metadata": {},
   "outputs": [],
   "source": [
    "a = 'this is a python program'"
   ]
  },
  {
   "cell_type": "code",
   "execution_count": 5,
   "id": "f9a5262a",
   "metadata": {},
   "outputs": [
    {
     "data": {
      "text/plain": [
       "'this is a python program'"
      ]
     },
     "execution_count": 5,
     "metadata": {},
     "output_type": "execute_result"
    }
   ],
   "source": [
    "a"
   ]
  },
  {
   "cell_type": "code",
   "execution_count": 6,
   "id": "13dd77ea",
   "metadata": {},
   "outputs": [
    {
     "data": {
      "text/plain": [
       "str"
      ]
     },
     "execution_count": 6,
     "metadata": {},
     "output_type": "execute_result"
    }
   ],
   "source": [
    "type(a)"
   ]
  },
  {
   "cell_type": "code",
   "execution_count": 4,
   "id": "8f6b7d01",
   "metadata": {},
   "outputs": [
    {
     "name": "stdout",
     "output_type": "stream",
     "text": [
      "this is a python program\n"
     ]
    }
   ],
   "source": [
    "print(a)"
   ]
  },
  {
   "cell_type": "code",
   "execution_count": 8,
   "id": "24340d7d",
   "metadata": {},
   "outputs": [],
   "source": [
    "my_string = 23   #assaining the data to a variable"
   ]
  },
  {
   "cell_type": "code",
   "execution_count": 7,
   "id": "98ec3e71",
   "metadata": {},
   "outputs": [],
   "source": [
    "#this is a variable"
   ]
  },
  {
   "cell_type": "code",
   "execution_count": 8,
   "id": "c6138069",
   "metadata": {},
   "outputs": [],
   "source": [
    "#data types"
   ]
  },
  {
   "cell_type": "code",
   "execution_count": 9,
   "id": "26f0a33d",
   "metadata": {},
   "outputs": [
    {
     "data": {
      "text/plain": [
       "str"
      ]
     },
     "execution_count": 9,
     "metadata": {},
     "output_type": "execute_result"
    }
   ],
   "source": [
    "type(a)     #finding the type of a data"
   ]
  },
  {
   "cell_type": "code",
   "execution_count": 9,
   "id": "a80fd31e",
   "metadata": {},
   "outputs": [
    {
     "data": {
      "text/plain": [
       "int"
      ]
     },
     "execution_count": 9,
     "metadata": {},
     "output_type": "execute_result"
    }
   ],
   "source": [
    "type(my_string)"
   ]
  },
  {
   "cell_type": "code",
   "execution_count": 11,
   "id": "676bb557",
   "metadata": {},
   "outputs": [],
   "source": [
    "# str = squence order of the characters\n",
    "#int = number are known as intigers   44\n",
    "#flot = decimal characters are known as flot  23.54\n",
    "#complex = the sum done in tha variable are known as complex 3+4i"
   ]
  },
  {
   "cell_type": "code",
   "execution_count": 14,
   "id": "86a522d5",
   "metadata": {},
   "outputs": [],
   "source": [
    "b = 55/34"
   ]
  },
  {
   "cell_type": "code",
   "execution_count": 10,
   "id": "363b8215",
   "metadata": {},
   "outputs": [],
   "source": [
    "a = 55"
   ]
  },
  {
   "cell_type": "code",
   "execution_count": 11,
   "id": "006a7c48",
   "metadata": {},
   "outputs": [],
   "source": [
    "b = 34"
   ]
  },
  {
   "cell_type": "code",
   "execution_count": 12,
   "id": "ec9672f2",
   "metadata": {},
   "outputs": [
    {
     "data": {
      "text/plain": [
       "1.6176470588235294"
      ]
     },
     "execution_count": 12,
     "metadata": {},
     "output_type": "execute_result"
    }
   ],
   "source": [
    "a/b"
   ]
  },
  {
   "cell_type": "code",
   "execution_count": 15,
   "id": "8f83c2d2",
   "metadata": {},
   "outputs": [
    {
     "data": {
      "text/plain": [
       "1.6176470588235294"
      ]
     },
     "execution_count": 15,
     "metadata": {},
     "output_type": "execute_result"
    }
   ],
   "source": [
    "b"
   ]
  },
  {
   "cell_type": "code",
   "execution_count": 16,
   "id": "ec8fe64c",
   "metadata": {},
   "outputs": [
    {
     "data": {
      "text/plain": [
       "float"
      ]
     },
     "execution_count": 16,
     "metadata": {},
     "output_type": "execute_result"
    }
   ],
   "source": [
    "type(b)"
   ]
  },
  {
   "cell_type": "code",
   "execution_count": 17,
   "id": "905a4b70",
   "metadata": {},
   "outputs": [],
   "source": [
    "e = 1.0"
   ]
  },
  {
   "cell_type": "code",
   "execution_count": 18,
   "id": "227f79a5",
   "metadata": {},
   "outputs": [
    {
     "data": {
      "text/plain": [
       "float"
      ]
     },
     "execution_count": 18,
     "metadata": {},
     "output_type": "execute_result"
    }
   ],
   "source": [
    "type(e)"
   ]
  },
  {
   "cell_type": "code",
   "execution_count": 22,
   "id": "7b2c7730",
   "metadata": {},
   "outputs": [],
   "source": [
    "# list and typle"
   ]
  },
  {
   "cell_type": "code",
   "execution_count": 23,
   "id": "e52a84c7",
   "metadata": {},
   "outputs": [],
   "source": [
    "#mutable and unmutable "
   ]
  },
  {
   "cell_type": "code",
   "execution_count": 24,
   "id": "89caee70",
   "metadata": {},
   "outputs": [],
   "source": [
    "#mutable list"
   ]
  },
  {
   "cell_type": "code",
   "execution_count": 25,
   "id": "bc9f27dd",
   "metadata": {},
   "outputs": [],
   "source": [
    "#unmutable tuple"
   ]
  },
  {
   "cell_type": "code",
   "execution_count": 26,
   "id": "77ce1809",
   "metadata": {},
   "outputs": [],
   "source": [
    "#syntax :\n",
    "#    list_k = [1,2,3,4,5,6,7,8,9,10]\n",
    "# list_a = ['madhu, 'mitha', 'shanmugam']"
   ]
  },
  {
   "cell_type": "code",
   "execution_count": 29,
   "id": "4244695c",
   "metadata": {},
   "outputs": [],
   "source": [
    "madhu = [1,2,3,4,9,5,6,7,8]   #this is a list program"
   ]
  },
  {
   "cell_type": "code",
   "execution_count": 30,
   "id": "007a1a98",
   "metadata": {},
   "outputs": [
    {
     "data": {
      "text/plain": [
       "list"
      ]
     },
     "execution_count": 30,
     "metadata": {},
     "output_type": "execute_result"
    }
   ],
   "source": [
    "type(madhu)"
   ]
  },
  {
   "cell_type": "code",
   "execution_count": 31,
   "id": "6de4864e",
   "metadata": {},
   "outputs": [],
   "source": [
    "tuple_a = (2,3,4,5,6,7)"
   ]
  },
  {
   "cell_type": "code",
   "execution_count": 32,
   "id": "2d50dd04",
   "metadata": {},
   "outputs": [
    {
     "data": {
      "text/plain": [
       "tuple"
      ]
     },
     "execution_count": 32,
     "metadata": {},
     "output_type": "execute_result"
    }
   ],
   "source": [
    "type(tuple_a)"
   ]
  },
  {
   "cell_type": "code",
   "execution_count": 37,
   "id": "d378136b",
   "metadata": {},
   "outputs": [],
   "source": [
    "my_range = range(9)"
   ]
  },
  {
   "cell_type": "code",
   "execution_count": 38,
   "id": "bcc01a27",
   "metadata": {},
   "outputs": [
    {
     "data": {
      "text/plain": [
       "range(0, 9)"
      ]
     },
     "execution_count": 38,
     "metadata": {},
     "output_type": "execute_result"
    }
   ],
   "source": [
    "my_range"
   ]
  },
  {
   "cell_type": "code",
   "execution_count": 39,
   "id": "02e31199",
   "metadata": {},
   "outputs": [
    {
     "name": "stdout",
     "output_type": "stream",
     "text": [
      "0\n",
      "1\n",
      "2\n",
      "3\n",
      "4\n"
     ]
    }
   ],
   "source": [
    "for i in range(0,5):\n",
    "    print(i)"
   ]
  },
  {
   "cell_type": "code",
   "execution_count": 49,
   "id": "29d3d7df",
   "metadata": {},
   "outputs": [
    {
     "name": "stdout",
     "output_type": "stream",
     "text": [
      "0\n",
      "1\n",
      "2\n",
      "3\n",
      "4\n",
      "5\n"
     ]
    }
   ],
   "source": [
    "for i in range(0,6,):\n",
    "    print(i)"
   ]
  },
  {
   "cell_type": "code",
   "execution_count": 48,
   "id": "0201beb3",
   "metadata": {},
   "outputs": [],
   "source": [
    "#syntax: range(start,stop,step)"
   ]
  },
  {
   "cell_type": "code",
   "execution_count": 2,
   "id": "d5d576fc",
   "metadata": {},
   "outputs": [],
   "source": [
    "#(0,1,2,3,4,5)"
   ]
  },
  {
   "cell_type": "code",
   "execution_count": 4,
   "id": "ffb42c42",
   "metadata": {},
   "outputs": [
    {
     "name": "stdout",
     "output_type": "stream",
     "text": [
      "0\n",
      "1\n",
      "2\n",
      "3\n",
      "4\n",
      "5\n",
      "6\n",
      "7\n"
     ]
    }
   ],
   "source": [
    "for m in range(8):   #this useses the for loop \n",
    "    print(m)"
   ]
  },
  {
   "cell_type": "code",
   "execution_count": null,
   "id": "e1567936",
   "metadata": {},
   "outputs": [],
   "source": [
    "#dict it is known as dictionaries"
   ]
  },
  {
   "cell_type": "code",
   "execution_count": 8,
   "id": "8d4a6182",
   "metadata": {},
   "outputs": [],
   "source": [
    "m = {'key':33}"
   ]
  },
  {
   "cell_type": "code",
   "execution_count": 9,
   "id": "f5b22580",
   "metadata": {},
   "outputs": [
    {
     "data": {
      "text/plain": [
       "dict"
      ]
     },
     "execution_count": 9,
     "metadata": {},
     "output_type": "execute_result"
    }
   ],
   "source": [
    "type(m)"
   ]
  },
  {
   "cell_type": "code",
   "execution_count": 10,
   "id": "7df8f783",
   "metadata": {},
   "outputs": [],
   "source": [
    "#set"
   ]
  },
  {
   "cell_type": "code",
   "execution_count": 11,
   "id": "cf8a5d93",
   "metadata": {},
   "outputs": [],
   "source": [
    "m = (2,4,1,4,5,8,6,9,2,5)"
   ]
  },
  {
   "cell_type": "code",
   "execution_count": 12,
   "id": "8d7450b4",
   "metadata": {},
   "outputs": [
    {
     "data": {
      "text/plain": [
       "{1, 2, 4, 5, 6, 8, 9}"
      ]
     },
     "execution_count": 12,
     "metadata": {},
     "output_type": "execute_result"
    }
   ],
   "source": [
    "set(m)"
   ]
  },
  {
   "cell_type": "code",
   "execution_count": 13,
   "id": "73133a35",
   "metadata": {},
   "outputs": [],
   "source": [
    "m = set()"
   ]
  },
  {
   "cell_type": "code",
   "execution_count": 14,
   "id": "c652c19b",
   "metadata": {},
   "outputs": [
    {
     "data": {
      "text/plain": [
       "set()"
      ]
     },
     "execution_count": 14,
     "metadata": {},
     "output_type": "execute_result"
    }
   ],
   "source": [
    "m"
   ]
  },
  {
   "cell_type": "code",
   "execution_count": 1,
   "id": "72d7ecd0",
   "metadata": {},
   "outputs": [],
   "source": [
    "m = {6,2,4,7,3,2,1,4,6,}"
   ]
  },
  {
   "cell_type": "code",
   "execution_count": 2,
   "id": "6de81424",
   "metadata": {},
   "outputs": [
    {
     "data": {
      "text/plain": [
       "set"
      ]
     },
     "execution_count": 2,
     "metadata": {},
     "output_type": "execute_result"
    }
   ],
   "source": [
    "type(m)"
   ]
  },
  {
   "cell_type": "code",
   "execution_count": 3,
   "id": "3ef05a42",
   "metadata": {},
   "outputs": [
    {
     "data": {
      "text/plain": [
       "{1, 2, 3, 4, 6, 7}"
      ]
     },
     "execution_count": 3,
     "metadata": {},
     "output_type": "execute_result"
    }
   ],
   "source": [
    "m"
   ]
  },
  {
   "cell_type": "code",
   "execution_count": null,
   "id": "ef8afd7b",
   "metadata": {},
   "outputs": [],
   "source": []
  },
  {
   "cell_type": "code",
   "execution_count": null,
   "id": "f4a3bec5",
   "metadata": {},
   "outputs": [],
   "source": []
  },
  {
   "cell_type": "code",
   "execution_count": null,
   "id": "70bf9608",
   "metadata": {},
   "outputs": [],
   "source": []
  },
  {
   "cell_type": "code",
   "execution_count": 18,
   "id": "2f784942",
   "metadata": {},
   "outputs": [],
   "source": [
    "y = 5\n",
    "x = 10"
   ]
  },
  {
   "cell_type": "code",
   "execution_count": 19,
   "id": "d4bb3307",
   "metadata": {},
   "outputs": [
    {
     "data": {
      "text/plain": [
       "False"
      ]
     },
     "execution_count": 19,
     "metadata": {},
     "output_type": "execute_result"
    }
   ],
   "source": [
    "y == x"
   ]
  },
  {
   "cell_type": "code",
   "execution_count": 20,
   "id": "bc7db8d5",
   "metadata": {},
   "outputs": [
    {
     "data": {
      "text/plain": [
       "True"
      ]
     },
     "execution_count": 20,
     "metadata": {},
     "output_type": "execute_result"
    }
   ],
   "source": [
    "x != y"
   ]
  },
  {
   "cell_type": "code",
   "execution_count": 21,
   "id": "9e7b4e00",
   "metadata": {},
   "outputs": [
    {
     "data": {
      "text/plain": [
       "b'\\x00\\x00\\x00\\x00\\x00'"
      ]
     },
     "execution_count": 21,
     "metadata": {},
     "output_type": "execute_result"
    }
   ],
   "source": [
    "bytes(y)"
   ]
  },
  {
   "cell_type": "code",
   "execution_count": 25,
   "id": "1605fa87",
   "metadata": {},
   "outputs": [],
   "source": [
    "a = 8"
   ]
  },
  {
   "cell_type": "code",
   "execution_count": 26,
   "id": "0113cf2b",
   "metadata": {},
   "outputs": [
    {
     "data": {
      "text/plain": [
       "8"
      ]
     },
     "execution_count": 26,
     "metadata": {},
     "output_type": "execute_result"
    }
   ],
   "source": [
    "a"
   ]
  },
  {
   "cell_type": "code",
   "execution_count": 27,
   "id": "9891f509",
   "metadata": {},
   "outputs": [],
   "source": [
    "#syntax = range(start,stop,step)"
   ]
  },
  {
   "cell_type": "code",
   "execution_count": 16,
   "id": "f18c41a6",
   "metadata": {},
   "outputs": [
    {
     "name": "stdout",
     "output_type": "stream",
     "text": [
      "2\n",
      "4\n",
      "6\n",
      "8\n",
      "10\n"
     ]
    }
   ],
   "source": [
    "#for loop \n",
    "for i in range(2,11,2):\n",
    "    print(i)"
   ]
  },
  {
   "cell_type": "code",
   "execution_count": null,
   "id": "936e0184",
   "metadata": {},
   "outputs": [],
   "source": [
    "#dict is know dictionarie"
   ]
  },
  {
   "cell_type": "code",
   "execution_count": 38,
   "id": "02eff94b",
   "metadata": {},
   "outputs": [],
   "source": [
    "#syntax = dict{'keys 1':values1 ,'keys2':values2}"
   ]
  },
  {
   "cell_type": "code",
   "execution_count": 28,
   "id": "449bccec",
   "metadata": {},
   "outputs": [],
   "source": [
    "madhu = {'apple':100 ,'banana':20,'mango':50,'candel':40}"
   ]
  },
  {
   "cell_type": "code",
   "execution_count": 29,
   "id": "14a26eae",
   "metadata": {},
   "outputs": [
    {
     "data": {
      "text/plain": [
       "dict"
      ]
     },
     "execution_count": 29,
     "metadata": {},
     "output_type": "execute_result"
    }
   ],
   "source": [
    "type(madhu)"
   ]
  },
  {
   "cell_type": "code",
   "execution_count": 30,
   "id": "7ddf0668",
   "metadata": {},
   "outputs": [
    {
     "name": "stdout",
     "output_type": "stream",
     "text": [
      "{'apple': 100, 'banana': 20, 'mango': 50, 'candel': 40}\n"
     ]
    }
   ],
   "source": [
    "print(madhu)"
   ]
  },
  {
   "cell_type": "code",
   "execution_count": 31,
   "id": "2a0a049e",
   "metadata": {},
   "outputs": [
    {
     "data": {
      "text/plain": [
       "dict"
      ]
     },
     "execution_count": 31,
     "metadata": {},
     "output_type": "execute_result"
    }
   ],
   "source": [
    "type(madhu)"
   ]
  },
  {
   "cell_type": "code",
   "execution_count": 32,
   "id": "0c365b31",
   "metadata": {},
   "outputs": [
    {
     "data": {
      "text/plain": [
       "100"
      ]
     },
     "execution_count": 32,
     "metadata": {},
     "output_type": "execute_result"
    }
   ],
   "source": [
    "madhu['apple']"
   ]
  },
  {
   "cell_type": "code",
   "execution_count": 33,
   "id": "26052e71",
   "metadata": {},
   "outputs": [
    {
     "data": {
      "text/plain": [
       "20"
      ]
     },
     "execution_count": 33,
     "metadata": {},
     "output_type": "execute_result"
    }
   ],
   "source": [
    "madhu['banana']"
   ]
  },
  {
   "cell_type": "code",
   "execution_count": 35,
   "id": "c334dcea",
   "metadata": {},
   "outputs": [
    {
     "data": {
      "text/plain": [
       "40"
      ]
     },
     "execution_count": 35,
     "metadata": {},
     "output_type": "execute_result"
    }
   ],
   "source": [
    "madhu['candel']"
   ]
  },
  {
   "cell_type": "code",
   "execution_count": 36,
   "id": "11708566",
   "metadata": {},
   "outputs": [],
   "source": [
    "sets = (1,2,3,4,2,3,1,5,8,6,5,9,7)"
   ]
  },
  {
   "cell_type": "code",
   "execution_count": 37,
   "id": "898278c0",
   "metadata": {},
   "outputs": [
    {
     "data": {
      "text/plain": [
       "{1, 2, 3, 4, 5, 6, 7, 8, 9}"
      ]
     },
     "execution_count": 37,
     "metadata": {},
     "output_type": "execute_result"
    }
   ],
   "source": [
    "set(sets)"
   ]
  },
  {
   "cell_type": "code",
   "execution_count": 38,
   "id": "4fd2d4ac",
   "metadata": {},
   "outputs": [],
   "source": [
    "nandu = (9,8,7,6,5,4,3,2,1)"
   ]
  },
  {
   "cell_type": "code",
   "execution_count": 39,
   "id": "e7e2d2aa",
   "metadata": {},
   "outputs": [],
   "source": [
    "n = set(nandu)"
   ]
  },
  {
   "cell_type": "code",
   "execution_count": 40,
   "id": "edfa7292",
   "metadata": {},
   "outputs": [
    {
     "data": {
      "text/plain": [
       "{1, 2, 3, 4, 5, 6, 7, 8, 9}"
      ]
     },
     "execution_count": 40,
     "metadata": {},
     "output_type": "execute_result"
    }
   ],
   "source": [
    "n"
   ]
  },
  {
   "cell_type": "code",
   "execution_count": 41,
   "id": "e981117a",
   "metadata": {},
   "outputs": [],
   "source": [
    "#boolen is known as true or false statement|"
   ]
  },
  {
   "cell_type": "code",
   "execution_count": 42,
   "id": "fa97bd30",
   "metadata": {},
   "outputs": [],
   "source": [
    "y =10 \n",
    "x = 5"
   ]
  },
  {
   "cell_type": "code",
   "execution_count": 44,
   "id": "b3349217",
   "metadata": {},
   "outputs": [],
   "source": [
    "r = y == x"
   ]
  },
  {
   "cell_type": "code",
   "execution_count": 45,
   "id": "808395a6",
   "metadata": {},
   "outputs": [
    {
     "data": {
      "text/plain": [
       "bool"
      ]
     },
     "execution_count": 45,
     "metadata": {},
     "output_type": "execute_result"
    }
   ],
   "source": [
    "type(r)"
   ]
  },
  {
   "cell_type": "code",
   "execution_count": 46,
   "id": "77f329a4",
   "metadata": {},
   "outputs": [
    {
     "data": {
      "text/plain": [
       "True"
      ]
     },
     "execution_count": 46,
     "metadata": {},
     "output_type": "execute_result"
    }
   ],
   "source": [
    "x != y"
   ]
  },
  {
   "cell_type": "code",
   "execution_count": 47,
   "id": "574dbadf",
   "metadata": {},
   "outputs": [],
   "source": [
    "w = 100"
   ]
  },
  {
   "cell_type": "code",
   "execution_count": 48,
   "id": "b32361e6",
   "metadata": {},
   "outputs": [
    {
     "data": {
      "text/plain": [
       "b'\\x00\\x00\\x00\\x00\\x00\\x00\\x00\\x00\\x00\\x00\\x00\\x00\\x00\\x00\\x00\\x00\\x00\\x00\\x00\\x00\\x00\\x00\\x00\\x00\\x00\\x00\\x00\\x00\\x00\\x00\\x00\\x00\\x00\\x00\\x00\\x00\\x00\\x00\\x00\\x00\\x00\\x00\\x00\\x00\\x00\\x00\\x00\\x00\\x00\\x00\\x00\\x00\\x00\\x00\\x00\\x00\\x00\\x00\\x00\\x00\\x00\\x00\\x00\\x00\\x00\\x00\\x00\\x00\\x00\\x00\\x00\\x00\\x00\\x00\\x00\\x00\\x00\\x00\\x00\\x00\\x00\\x00\\x00\\x00\\x00\\x00\\x00\\x00\\x00\\x00\\x00\\x00\\x00\\x00\\x00\\x00\\x00\\x00\\x00\\x00'"
      ]
     },
     "execution_count": 48,
     "metadata": {},
     "output_type": "execute_result"
    }
   ],
   "source": [
    "bytes(w)"
   ]
  },
  {
   "cell_type": "code",
   "execution_count": 10,
   "id": "493f77b3",
   "metadata": {},
   "outputs": [],
   "source": [
    "a = 8\n",
    "b = 4"
   ]
  },
  {
   "cell_type": "code",
   "execution_count": 12,
   "id": "737efbd9",
   "metadata": {},
   "outputs": [],
   "source": [
    "c = a + b"
   ]
  },
  {
   "cell_type": "code",
   "execution_count": 13,
   "id": "c1ea8d5f",
   "metadata": {},
   "outputs": [
    {
     "data": {
      "text/plain": [
       "12"
      ]
     },
     "execution_count": 13,
     "metadata": {},
     "output_type": "execute_result"
    }
   ],
   "source": [
    "c"
   ]
  },
  {
   "cell_type": "code",
   "execution_count": 14,
   "id": "f2bbd979",
   "metadata": {},
   "outputs": [],
   "source": [
    "c += a"
   ]
  },
  {
   "cell_type": "code",
   "execution_count": 15,
   "id": "8f7e00d7",
   "metadata": {},
   "outputs": [
    {
     "data": {
      "text/plain": [
       "20"
      ]
     },
     "execution_count": 15,
     "metadata": {},
     "output_type": "execute_result"
    }
   ],
   "source": [
    "c"
   ]
  },
  {
   "cell_type": "code",
   "execution_count": 1,
   "id": "d1d58262",
   "metadata": {},
   "outputs": [],
   "source": [
    " c = 13"
   ]
  },
  {
   "cell_type": "code",
   "execution_count": 2,
   "id": "b83098c8",
   "metadata": {},
   "outputs": [],
   "source": [
    "d = 'this is my program'"
   ]
  },
  {
   "cell_type": "code",
   "execution_count": 3,
   "id": "6fa5dc64",
   "metadata": {},
   "outputs": [
    {
     "data": {
      "text/plain": [
       "str"
      ]
     },
     "execution_count": 3,
     "metadata": {},
     "output_type": "execute_result"
    }
   ],
   "source": [
    "type(d)"
   ]
  },
  {
   "cell_type": "code",
   "execution_count": 2,
   "id": "807f8462",
   "metadata": {},
   "outputs": [
    {
     "name": "stdout",
     "output_type": "stream",
     "text": [
      "what is your name:madhu\n"
     ]
    }
   ],
   "source": [
    "#input\n",
    "madhu = input('what is your name:'                   )"
   ]
  },
  {
   "cell_type": "code",
   "execution_count": 3,
   "id": "60a06b8e",
   "metadata": {},
   "outputs": [
    {
     "data": {
      "text/plain": [
       "'madhu'"
      ]
     },
     "execution_count": 3,
     "metadata": {},
     "output_type": "execute_result"
    }
   ],
   "source": [
    "madhu"
   ]
  },
  {
   "cell_type": "markdown",
   "id": "4b90e091",
   "metadata": {},
   "source": []
  },
  {
   "cell_type": "code",
   "execution_count": null,
   "id": "616c4b7d",
   "metadata": {},
   "outputs": [],
   "source": [
    "intigers = str(input('enter your luckey number:'       ))"
   ]
  },
  {
   "cell_type": "code",
   "execution_count": 18,
   "id": "4ca5d65a",
   "metadata": {},
   "outputs": [
    {
     "data": {
      "text/plain": [
       "'87'"
      ]
     },
     "execution_count": 18,
     "metadata": {},
     "output_type": "execute_result"
    }
   ],
   "source": [
    "intigers"
   ]
  },
  {
   "cell_type": "code",
   "execution_count": null,
   "id": "047f4d0e",
   "metadata": {},
   "outputs": [],
   "source": []
  },
  {
   "cell_type": "code",
   "execution_count": null,
   "id": "58655323",
   "metadata": {},
   "outputs": [],
   "source": []
  }
 ],
 "metadata": {
  "kernelspec": {
   "display_name": "Python 3",
   "language": "python",
   "name": "python3"
  },
  "language_info": {
   "codemirror_mode": {
    "name": "ipython",
    "version": 3
   },
   "file_extension": ".py",
   "mimetype": "text/x-python",
   "name": "python",
   "nbconvert_exporter": "python",
   "pygments_lexer": "ipython3",
   "version": "3.8.8"
  }
 },
 "nbformat": 4,
 "nbformat_minor": 5
}
