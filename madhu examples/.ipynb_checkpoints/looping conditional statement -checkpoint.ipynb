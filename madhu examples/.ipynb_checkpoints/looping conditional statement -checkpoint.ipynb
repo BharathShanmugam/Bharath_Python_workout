{
 "cells": [
  {
   "cell_type": "code",
   "execution_count": 1,
   "id": "b01e1fdd",
   "metadata": {},
   "outputs": [],
   "source": [
    "#if statement"
   ]
  },
  {
   "cell_type": "code",
   "execution_count": 22,
   "id": "26d55519",
   "metadata": {},
   "outputs": [
    {
     "name": "stdout",
     "output_type": "stream",
     "text": [
      "i am inside the if\n"
     ]
    }
   ],
   "source": [
    "a = 30\n",
    "b = 40\n",
    "if b > a :\n",
    "    print ('i am inside the if')"
   ]
  },
  {
   "cell_type": "code",
   "execution_count": 4,
   "id": "9f97fb0a",
   "metadata": {},
   "outputs": [
    {
     "name": "stdout",
     "output_type": "stream",
     "text": [
      "i am hungry\n"
     ]
    }
   ],
   "source": [
    "hunger = True\n",
    "if hunger:\n",
    "    print(\"i am hungry\")"
   ]
  },
  {
   "cell_type": "code",
   "execution_count": 6,
   "id": "8896fbdf",
   "metadata": {},
   "outputs": [
    {
     "name": "stdout",
     "output_type": "stream",
     "text": [
      "i am not hungry\n"
     ]
    }
   ],
   "source": [
    "hunger = False\n",
    "if hunger:\n",
    "    print (\"feed me\")\n",
    "else:\n",
    "    print(\"i am not hungry\")"
   ]
  },
  {
   "cell_type": "code",
   "execution_count": 7,
   "id": "16bbc4df",
   "metadata": {},
   "outputs": [],
   "source": [
    "#elif"
   ]
  },
  {
   "cell_type": "code",
   "execution_count": 14,
   "id": "67d47abf",
   "metadata": {},
   "outputs": [
    {
     "name": "stdout",
     "output_type": "stream",
     "text": [
      "i am in elif one\n"
     ]
    }
   ],
   "source": [
    "a = 30\n",
    "if a == 20:\n",
    "    print (\"i am in if\")\n",
    "elif a == 30:\n",
    "    print(\"i am in elif one\")\n",
    "elif a == 40:\n",
    "    print(\"i am in elif two\")\n",
    "elif a == 100:\n",
    "    print (\"i am in elif three\")\n",
    "else:\n",
    "    print(\"i am not in condistion\")"
   ]
  },
  {
   "cell_type": "code",
   "execution_count": 18,
   "id": "e76384a7",
   "metadata": {},
   "outputs": [
    {
     "name": "stdout",
     "output_type": "stream",
     "text": [
      "enter your age:          65\n",
      "plzz collect your pension\n"
     ]
    }
   ],
   "source": [
    "age = int(input(\"enter your age:          \"))\n",
    "if age < 18:\n",
    "    print('your age not fit for this role')\n",
    "elif age >= 18 and age <= 60:\n",
    "        print(\"your eligible to work here\")\n",
    "else:\n",
    "    print(\"plzz collect your pension\")"
   ]
  },
  {
   "cell_type": "code",
   "execution_count": 1,
   "id": "b796a271",
   "metadata": {},
   "outputs": [],
   "source": [
    "#while"
   ]
  },
  {
   "cell_type": "code",
   "execution_count": 2,
   "id": "f6d4d86a",
   "metadata": {},
   "outputs": [
    {
     "name": "stdout",
     "output_type": "stream",
     "text": [
      "1\n",
      "2\n",
      "3\n",
      "4\n",
      "5\n"
     ]
    }
   ],
   "source": [
    "i = 1\n",
    "while i < 6:\n",
    "    print(i)\n",
    "    i += 1"
   ]
  },
  {
   "cell_type": "code",
   "execution_count": 2,
   "id": "feadd099",
   "metadata": {},
   "outputs": [
    {
     "name": "stdout",
     "output_type": "stream",
     "text": [
      "1\n",
      "2\n",
      "3\n",
      "4\n",
      "5\n",
      "this statement\n"
     ]
    }
   ],
   "source": [
    "i = 1\n",
    "while i < 6:\n",
    "    print(i)\n",
    "    i = i + 1\n",
    "else:\n",
    "    print('this statement')"
   ]
  },
  {
   "cell_type": "code",
   "execution_count": 11,
   "id": "60915a74",
   "metadata": {},
   "outputs": [
    {
     "name": "stdout",
     "output_type": "stream",
     "text": [
      "0\n",
      "1\n",
      "2\n",
      "3\n",
      "4\n",
      "5\n",
      "this is mean\n"
     ]
    }
   ],
   "source": [
    "i = 0\n",
    "while i < 6:\n",
    "    print(i)\n",
    "    i = i + 1\n",
    "else:\n",
    "    print('this is mean')"
   ]
  },
  {
   "cell_type": "code",
   "execution_count": 6,
   "id": "08624ce8",
   "metadata": {},
   "outputs": [
    {
     "name": "stdout",
     "output_type": "stream",
     "text": [
      "*  \r\n",
      "*  *  \r\n",
      "*  *  *  \r\n",
      "*  *  *  *  \r\n",
      "*  *  *  *  *  \r\n"
     ]
    }
   ],
   "source": [
    "n = 5\n",
    "i = 1 ; j = 0\n",
    "while(i<=n):\n",
    "    while(j<=i-1):\n",
    "        print(\"* \", end=\" \" )\n",
    "        j+=1\n",
    "    print(\"\\r\")\n",
    "    j = 0; i += 1"
   ]
  },
  {
   "cell_type": "code",
   "execution_count": 1,
   "id": "9c732c4e",
   "metadata": {},
   "outputs": [
    {
     "name": "stdout",
     "output_type": "stream",
     "text": [
      "     \n",
      "    *\n",
      "   **\n",
      "  ***\n",
      " ****\n",
      "*****\n"
     ]
    }
   ],
   "source": [
    "n = 5; i = 0\n",
    "while(i<=n):\n",
    "    print(\" \" * (n - i) + \"*\" * i)\n",
    "    i = i + 1"
   ]
  },
  {
   "cell_type": "code",
   "execution_count": 7,
   "id": "6242b838",
   "metadata": {},
   "outputs": [],
   "source": [
    "lists = [1,2,3,4,5]"
   ]
  },
  {
   "cell_type": "code",
   "execution_count": 8,
   "id": "797c9a8a",
   "metadata": {},
   "outputs": [
    {
     "name": "stdout",
     "output_type": "stream",
     "text": [
      "1\n",
      "2\n",
      "3\n",
      "4\n",
      "5\n"
     ]
    }
   ],
   "source": [
    "for i in lists:\n",
    "    print(i)"
   ]
  },
  {
   "cell_type": "code",
   "execution_count": 9,
   "id": "b31f327b",
   "metadata": {},
   "outputs": [
    {
     "data": {
      "text/plain": [
       "[1, 2, 3, 4, 5]"
      ]
     },
     "execution_count": 9,
     "metadata": {},
     "output_type": "execute_result"
    }
   ],
   "source": [
    "lists"
   ]
  },
  {
   "cell_type": "code",
   "execution_count": 1,
   "id": "d071a5fa",
   "metadata": {},
   "outputs": [],
   "source": [
    "#WHILE LOOP    "
   ]
  },
  {
   "cell_type": "code",
   "execution_count": 4,
   "id": "b85ceeb2",
   "metadata": {},
   "outputs": [],
   "source": [
    "i = 1\n",
    "while i < 6:\n",
    "    print(i)\n",
    "    i = i + 1"
   ]
  },
  {
   "cell_type": "code",
   "execution_count": 5,
   "id": "a0373b97",
   "metadata": {},
   "outputs": [
    {
     "name": "stdout",
     "output_type": "stream",
     "text": [
      "* \n",
      "* * \n",
      "* * * \n",
      "* * * * \n",
      "* * * * * \n"
     ]
    }
   ],
   "source": [
    "n = 5\n",
    "i =1 \n",
    "while (i<=n): #here is the condition that how many times we want to exicut the loop\n",
    "    j = 1\n",
    "    while(j<=i):\n",
    "        print(\"*\" , end = \" \")\n",
    "        j+=1\n",
    "    print() \n",
    "    i = i+1\n",
    "    "
   ]
  },
  {
   "cell_type": "code",
   "execution_count": 6,
   "id": "14bfb477",
   "metadata": {},
   "outputs": [
    {
     "name": "stdout",
     "output_type": "stream",
     "text": [
      "1\n",
      "22\n",
      "333\n",
      "4444\n",
      "55555\n"
     ]
    }
   ],
   "source": [
    "n=5\n",
    "#outer loop\n",
    "for i in range(n):\n",
    "    #nested loop\n",
    "    for j in range(i+1):\n",
    "        #d\n",
    "        print(1+i,end=\"\")\n",
    "    print()"
   ]
  },
  {
   "cell_type": "code",
   "execution_count": 7,
   "id": "e214647b",
   "metadata": {},
   "outputs": [
    {
     "name": "stdout",
     "output_type": "stream",
     "text": [
      "inside loop\n",
      "inside loop\n",
      "inside loop\n",
      "outside loop\n"
     ]
    }
   ],
   "source": [
    "count = 0 \n",
    "\n",
    "while count < 3:\n",
    "    print(\"inside loop\")\n",
    "    count = count + 1\n",
    "else:\n",
    "    print('outside loop')"
   ]
  },
  {
   "cell_type": "code",
   "execution_count": 12,
   "id": "11e2b578",
   "metadata": {},
   "outputs": [
    {
     "name": "stdout",
     "output_type": "stream",
     "text": [
      "The multiplication of table of  35\n",
      "35 x 1 = 35\n",
      "35 x 2 = 70\n",
      "35 x 3 = 105\n",
      "35 x 4 = 140\n",
      "35 x 5 = 175\n",
      "35 x 6 = 210\n",
      "35 x 7 = 245\n",
      "35 x 8 = 280\n",
      "35 x 9 = 315\n",
      "35 x 10 = 350\n"
     ]
    }
   ],
   "source": [
    "num = 35\n",
    "\n",
    "count =1\n",
    "print('The multiplication of table of ',num)\n",
    "while count <= 10:\n",
    "    ans = num * count\n",
    "    print(num,'x',count,'=',ans)\n",
    "    count = count + 1\n",
    "    "
   ]
  },
  {
   "cell_type": "code",
   "execution_count": 9,
   "id": "deae9cdd",
   "metadata": {},
   "outputs": [
    {
     "name": "stdout",
     "output_type": "stream",
     "text": [
      "The count of the vowels are 7\n",
      "the count of the consonents are 15\n"
     ]
    }
   ],
   "source": [
    "vowel_count = 0\n",
    "\n",
    "consonent_count = 0\n",
    "\n",
    "\n",
    "string = \"This is my first Interview\";\n",
    "string = string.lower()\n",
    "\n",
    "for i in range(0,len(string)):\n",
    "    \n",
    "    if string[i]in ('a','e','i','o','u'):\n",
    "        \n",
    "        vowel_count = vowel_count + 1;\n",
    "        \n",
    "    elif (string[i]>= 'a' and string[i] <= 'z'):\n",
    "        \n",
    "        consonent_count = consonent_count + 1\n",
    "        \n",
    "print('The count of the vowels are',vowel_count)\n",
    "\n",
    "print('the count of the consonents are',consonent_count)"
   ]
  },
  {
   "cell_type": "code",
   "execution_count": 1,
   "id": "e304b118",
   "metadata": {},
   "outputs": [
    {
     "name": "stdout",
     "output_type": "stream",
     "text": [
      "8\n",
      "9\n"
     ]
    }
   ],
   "source": [
    "i = 8\n",
    "while i < 10:\n",
    "    print(i)\n",
    "    i = i+ 1"
   ]
  },
  {
   "cell_type": "code",
   "execution_count": 1,
   "id": "d75f88d2",
   "metadata": {},
   "outputs": [
    {
     "name": "stdout",
     "output_type": "stream",
     "text": [
      "* \n",
      "* * \n",
      "* * * \n",
      "* * * * \n",
      "* * * * * \n",
      "* * * * * * \n",
      "* * * * * * * \n",
      "* * * * * * * * \n"
     ]
    }
   ],
   "source": [
    "number = 8\n",
    "row = 1\n",
    "while (row <= number):\n",
    "    star = 1\n",
    "    while (star <= row):\n",
    "        print('*', end =\" \")\n",
    "        star = star+ 1\n",
    "    print()\n",
    "    row = row+1"
   ]
  },
  {
   "cell_type": "code",
   "execution_count": 13,
   "id": "1a0eaf70",
   "metadata": {},
   "outputs": [
    {
     "name": "stdout",
     "output_type": "stream",
     "text": [
      "inside the loop\n",
      "inside the loop\n",
      "out side the loop\n"
     ]
    }
   ],
   "source": [
    "count = 1\n",
    "\n",
    "while count< 3 :\n",
    "    print(\"inside the loop\")\n",
    "    count = count + 1\n",
    "else:\n",
    "    print(\"out side the loop\")"
   ]
  },
  {
   "cell_type": "code",
   "execution_count": 13,
   "id": "ce5ffdfb",
   "metadata": {},
   "outputs": [
    {
     "name": "stdout",
     "output_type": "stream",
     "text": [
      "1\n",
      "2\n",
      "3\n",
      "4\n",
      "5\n",
      "6\n",
      "7\n",
      "8\n",
      "9\n"
     ]
    }
   ],
   "source": [
    "i = 1\n",
    "while i < 10:\n",
    "    print(i)\n",
    "    def emp_func():\n",
    "        pass\n",
    "    i = i+ 1"
   ]
  },
  {
   "cell_type": "code",
   "execution_count": 10,
   "id": "843af5d2",
   "metadata": {},
   "outputs": [
    {
     "name": "stdout",
     "output_type": "stream",
     "text": [
      "1\n",
      "2\n",
      "3\n",
      "4\n",
      "6\n",
      "7\n",
      "8\n",
      "9\n",
      "10\n"
     ]
    }
   ],
   "source": [
    "for i in range(1,11):\n",
    "    if i == 5:\n",
    "        continue\n",
    "    print(i)"
   ]
  },
  {
   "cell_type": "code",
   "execution_count": null,
   "id": "8f6efa31",
   "metadata": {},
   "outputs": [],
   "source": [
    "i = 5\n",
    "n "
   ]
  },
  {
   "cell_type": "code",
   "execution_count": 3,
   "id": "ae101558",
   "metadata": {},
   "outputs": [
    {
     "name": "stdout",
     "output_type": "stream",
     "text": [
      "     \n",
      "    *\n",
      "   **\n",
      "  ***\n",
      " ****\n",
      "*****\n"
     ]
    }
   ],
   "source": [
    "n = 5\n",
    "i = 0\n",
    "while(i<=n):\n",
    "    print(\" \" * (n - i) + \"*\" * i)\n",
    "    i = i + 1"
   ]
  },
  {
   "cell_type": "code",
   "execution_count": 10,
   "id": "87eb0839",
   "metadata": {},
   "outputs": [
    {
     "name": "stdout",
     "output_type": "stream",
     "text": [
      "* \n",
      "* * \n",
      "* * * \n",
      "* * * * \n",
      "* * * * * \n",
      "* * * * * * \n",
      "* * * * * * * \n",
      "* * * * * * * * \n"
     ]
    }
   ],
   "source": [
    "number = 8\n",
    "row = 1\n",
    "while (row <= number):\n",
    "    star = 1\n",
    "    while (star <= row):\n",
    "        print('*' ,end = \" \" ) \n",
    "        star = star+ 1\n",
    "    print()\n",
    "    row = row+1"
   ]
  },
  {
   "cell_type": "code",
   "execution_count": 3,
   "id": "294546c5",
   "metadata": {},
   "outputs": [
    {
     "name": "stdout",
     "output_type": "stream",
     "text": [
      "* * * * * * * * \n",
      "* * * * * * * \n",
      "* * * * * * \n",
      "* * * * * \n",
      "* * * * \n",
      "* * * \n",
      "* * \n",
      "* \n"
     ]
    }
   ],
   "source": [
    "n = 8\n",
    "i = 1\n",
    "while i<= n:\n",
    "    j = n\n",
    "    while j>= i:\n",
    "        print(\"*\", end = \" \")\n",
    "        j =j-1\n",
    "    print()\n",
    "    i = i+1"
   ]
  },
  {
   "cell_type": "code",
   "execution_count": 8,
   "id": "520216ba",
   "metadata": {},
   "outputs": [
    {
     "name": "stdout",
     "output_type": "stream",
     "text": [
      "\n",
      "1 \n",
      "1 2 \n",
      "1 2 3 \n",
      "1 2 3 4 \n",
      "1 2 3 4 5 \n"
     ]
    }
   ],
   "source": [
    "col = 5\n",
    "row = 0\n",
    "while (row <= col):\n",
    "    num = 0\n",
    "    while(num < row):\n",
    "        print(num + 1, end=\" \")\n",
    "        num = num + 1\n",
    "    print()\n",
    "    row = row + 1"
   ]
  },
  {
   "cell_type": "code",
   "execution_count": 4,
   "id": "50600903",
   "metadata": {},
   "outputs": [
    {
     "name": "stdout",
     "output_type": "stream",
     "text": [
      "* \n",
      "* * \n",
      "* * * \n",
      "* * * * \n",
      "* * * * * \n",
      "* * * * * * \n",
      "* * * * * * * \n",
      "* * * * * * * * \n",
      "* * * * * * * * * \n",
      "* * * * * * * * \n",
      "* * * * * * * \n",
      "* * * * * * \n",
      "* * * * * \n",
      "* * * * \n",
      "* * * \n",
      "* * \n",
      "* \n"
     ]
    }
   ],
   "source": [
    "number = 8\n",
    "row = 1\n",
    "while (row <= number):\n",
    "    star = 1\n",
    "    while (star <= row):\n",
    "        print('*' ,end = \" \" ) \n",
    "        star = star+ 1\n",
    "    print()\n",
    "    row = row+1\n",
    "n = 9\n",
    "i = 1\n",
    "while i<= n:\n",
    "    j = n\n",
    "    while j>= i:\n",
    "        print(\"*\", end = \" \")\n",
    "        j =j-1\n",
    "    print()\n",
    "    i = i+1"
   ]
  },
  {
   "cell_type": "code",
   "execution_count": 5,
   "id": "6ea41770",
   "metadata": {},
   "outputs": [
    {
     "name": "stdout",
     "output_type": "stream",
     "text": [
      "enter the table number:     65\n",
      "this is the myltiplication of  65\n",
      "65 X 1 = 65\n",
      "65 X 2 = 130\n",
      "65 X 3 = 195\n",
      "65 X 4 = 260\n",
      "65 X 5 = 325\n",
      "65 X 6 = 390\n",
      "65 X 7 = 455\n",
      "65 X 8 = 520\n",
      "65 X 9 = 585\n",
      "65 X 10 = 650\n"
     ]
    }
   ],
   "source": [
    "num = int(input(\"enter the table number:     \"))\n",
    "count = 1\n",
    "print(\"this is the myltiplication of \",num)\n",
    "while (count<=10):\n",
    "    ans = num * count\n",
    "    print(num,'X',count,'=',ans)\n",
    "    count= count+1"
   ]
  },
  {
   "cell_type": "code",
   "execution_count": 9,
   "id": "678b84ec",
   "metadata": {},
   "outputs": [
    {
     "name": "stdout",
     "output_type": "stream",
     "text": [
      "\n",
      "1 \n",
      "1 2 \n",
      "1 2 3 \n",
      "1 2 3 4 \n",
      "1 2 3 4 5 \n"
     ]
    }
   ],
   "source": [
    "col = 5\n",
    "row = 0\n",
    "while(row<=col):\n",
    "    num = 0\n",
    "    while(num < row):\n",
    "        print(num + 1, end = \" \")\n",
    "        num = num+1\n",
    "    print()\n",
    "    row = row + 1"
   ]
  },
  {
   "cell_type": "code",
   "execution_count": 9,
   "id": "d68ef39c",
   "metadata": {},
   "outputs": [
    {
     "name": "stdout",
     "output_type": "stream",
     "text": [
      "apple\n",
      "banana\n",
      "mango\n"
     ]
    }
   ],
   "source": [
    "lists = ['apple','banana','mango']\n",
    "for i in lists:\n",
    "    print(i)"
   ]
  },
  {
   "cell_type": "code",
   "execution_count": 10,
   "id": "b688cdef",
   "metadata": {},
   "outputs": [
    {
     "name": "stdout",
     "output_type": "stream",
     "text": [
      "red apple\n",
      "red banana\n",
      "red mango\n",
      "yellow apple\n",
      "yellow banana\n",
      "yellow mango\n",
      "green apple\n",
      "green banana\n",
      "green mango\n"
     ]
    }
   ],
   "source": [
    "specific = ['red','yellow','green']\n",
    "for j in specific:\n",
    "    for i in lists:\n",
    "        print(j,i)"
   ]
  },
  {
   "cell_type": "code",
   "execution_count": 11,
   "id": "24977c4f",
   "metadata": {},
   "outputs": [
    {
     "name": "stdout",
     "output_type": "stream",
     "text": [
      "The count of the vowels are 7\n",
      "the count of the consonents are 15\n"
     ]
    }
   ],
   "source": [
    "vowel_count = 0\n",
    "\n",
    "consonent_count = 0\n",
    "\n",
    "\n",
    "string = \"This is my first Interview\"\n",
    "string = string.lower()\n",
    "\n",
    "for i in range(0,len(string)):\n",
    "    \n",
    "    if string[i]in ('a','e','i','o','u'):\n",
    "        \n",
    "        vowel_count = vowel_count + 1\n",
    "        \n",
    "    elif (string[i]>= 'a' and string[i] <= 'z'):\n",
    "        \n",
    "        consonent_count = consonent_count + 1\n",
    "        \n",
    "print('The count of the vowels are',vowel_count)\n",
    "\n",
    "print('the count of the consonents are',consonent_count)"
   ]
  },
  {
   "cell_type": "code",
   "execution_count": 12,
   "id": "5d2eccc3",
   "metadata": {},
   "outputs": [
    {
     "name": "stdout",
     "output_type": "stream",
     "text": [
      "(1, 2, 3, 4, 5, 6)\n"
     ]
    }
   ],
   "source": [
    "lists = [1,2,3,4,5,6]\n",
    "converting_list = tuple(lists)\n",
    "print(converting_list)"
   ]
  },
  {
   "cell_type": "code",
   "execution_count": 13,
   "id": "871c0a77",
   "metadata": {},
   "outputs": [
    {
     "data": {
      "text/plain": [
       "list"
      ]
     },
     "execution_count": 13,
     "metadata": {},
     "output_type": "execute_result"
    }
   ],
   "source": [
    "type(lists)"
   ]
  },
  {
   "cell_type": "code",
   "execution_count": 15,
   "id": "9f96520e",
   "metadata": {},
   "outputs": [
    {
     "data": {
      "text/plain": [
       "tuple"
      ]
     },
     "execution_count": 15,
     "metadata": {},
     "output_type": "execute_result"
    }
   ],
   "source": [
    "type(converting_list)"
   ]
  },
  {
   "cell_type": "code",
   "execution_count": null,
   "id": "43f035f4",
   "metadata": {},
   "outputs": [],
   "source": []
  },
  {
   "cell_type": "code",
   "execution_count": null,
   "id": "2886e125",
   "metadata": {},
   "outputs": [],
   "source": [
    "|"
   ]
  }
 ],
 "metadata": {
  "kernelspec": {
   "display_name": "Python 3",
   "language": "python",
   "name": "python3"
  },
  "language_info": {
   "codemirror_mode": {
    "name": "ipython",
    "version": 3
   },
   "file_extension": ".py",
   "mimetype": "text/x-python",
   "name": "python",
   "nbconvert_exporter": "python",
   "pygments_lexer": "ipython3",
   "version": "3.8.8"
  }
 },
 "nbformat": 4,
 "nbformat_minor": 5
}
