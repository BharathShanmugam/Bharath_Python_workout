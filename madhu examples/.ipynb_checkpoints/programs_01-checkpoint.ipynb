{
 "cells": [
  {
   "cell_type": "markdown",
   "id": "c7603e66",
   "metadata": {},
   "source": [
    "prime number"
   ]
  },
  {
   "cell_type": "code",
   "execution_count": 24,
   "id": "420283f7",
   "metadata": {},
   "outputs": [
    {
     "name": "stdout",
     "output_type": "stream",
     "text": [
      "enter a value:   76\n",
      "76  is not a prime number\n"
     ]
    }
   ],
   "source": [
    "n = int(input(\"enter a value:   \"))\n",
    "for i in range(2,n):\n",
    "    if n % i == 0:\n",
    "        print(n,\" is not a prime number\")\n",
    "        break      \n",
    "else:\n",
    "    print(n, \"is a prime number\")"
   ]
  },
  {
   "cell_type": "markdown",
   "id": "8bfd05cb",
   "metadata": {},
   "source": [
    "amstrong number"
   ]
  },
  {
   "cell_type": "code",
   "execution_count": 25,
   "id": "ff45f59a",
   "metadata": {},
   "outputs": [
    {
     "name": "stdout",
     "output_type": "stream",
     "text": [
      "enter the number:  87\n",
      "87 it is not a amstrong number\n"
     ]
    }
   ],
   "source": [
    "n = int(input(\"enter the number:  \"))\n",
    "s = n\n",
    "b = len(str(n))\n",
    "sum1 = 0\n",
    "while n != 0:        #153               #15\n",
    "    r = n % 10       #153%10            #15%10\n",
    "    sum1 = sum1 + (r**b) #3**3= 27      #5**3= 125   #1**3=1\n",
    "    n = n // 10  #15                    #1%10\n",
    "if s == sum1:\n",
    "    print(s, \"is a amstrong number\")\n",
    "else:\n",
    "    print(s,\"it is not a amstrong number\")"
   ]
  },
  {
   "cell_type": "markdown",
   "id": "df77edce",
   "metadata": {},
   "source": [
    "find the largest number amonge three inputs"
   ]
  },
  {
   "cell_type": "code",
   "execution_count": 26,
   "id": "9c541303",
   "metadata": {},
   "outputs": [
    {
     "name": "stdout",
     "output_type": "stream",
     "text": [
      "enter a number:  76\n",
      "enter a number:  87\n",
      "enter a number:  54\n",
      "the largest number is 87\n"
     ]
    }
   ],
   "source": [
    "num1 = int(input(\"enter a number:  \"))\n",
    "num2 = int(input(\"enter a number:  \"))\n",
    "num3 = int(input(\"enter a number:  \"))\n",
    "\n",
    "if (num1 > num2) and (num1 > num3):\n",
    "    largest = num1\n",
    "elif(num2 > num1) and (num2 > num3):\n",
    "    largest = num2\n",
    "else:\n",
    "    largest = num3\n",
    "print(\"the largest number is\",largest)"
   ]
  },
  {
   "cell_type": "markdown",
   "id": "0b1024d0",
   "metadata": {},
   "source": [
    "check the number postitive negarive or zero"
   ]
  },
  {
   "cell_type": "code",
   "execution_count": 27,
   "id": "dd490e3e",
   "metadata": {},
   "outputs": [
    {
     "name": "stdout",
     "output_type": "stream",
     "text": [
      "enter a number:   76\n",
      "76 number is positive \n"
     ]
    }
   ],
   "source": [
    "n = int(input(\"enter a number:   \"))\n",
    "if n > 0:\n",
    "    print(n,\"number is positive \")\n",
    "elif n == 0:\n",
    "    print(\"number is zero\")\n",
    "else:\n",
    "    print(\"number is negative\")"
   ]
  },
  {
   "cell_type": "markdown",
   "id": "b8414f47",
   "metadata": {},
   "source": [
    "even or odd number"
   ]
  },
  {
   "cell_type": "code",
   "execution_count": 28,
   "id": "0b1f8344",
   "metadata": {},
   "outputs": [
    {
     "name": "stdout",
     "output_type": "stream",
     "text": [
      "enter a number:   87\n",
      "87 is a odd number\n"
     ]
    }
   ],
   "source": [
    "num = int(input(\"enter a number:   \"))\n",
    "if num % 2 == 0:\n",
    "    print(num, \"is a even number\")\n",
    "else:\n",
    "    print(num, \"is a odd number\")"
   ]
  },
  {
   "cell_type": "markdown",
   "id": "9d68e904",
   "metadata": {},
   "source": [
    "find leap year"
   ]
  },
  {
   "cell_type": "code",
   "execution_count": 29,
   "id": "970ca1d0",
   "metadata": {},
   "outputs": [
    {
     "name": "stdout",
     "output_type": "stream",
     "text": [
      "enter the year :   8765\n",
      "non leap year\n"
     ]
    }
   ],
   "source": [
    "year = int(input(\"enter the year :   \"))\n",
    "def checkyear(year):\n",
    "    return(((year % 4 == 0 )and(year % 100 != 0))or(year % 400 == 0))\n",
    "\n",
    "if (checkyear(year)):\n",
    "    print(\"leap year\")\n",
    "else:\n",
    "    print(\"non leap year\")"
   ]
  },
  {
   "cell_type": "markdown",
   "id": "3a1bf27d",
   "metadata": {},
   "source": [
    "STRING PERMUTATIONS"
   ]
  },
  {
   "cell_type": "code",
   "execution_count": 22,
   "id": "76ca0659",
   "metadata": {},
   "outputs": [
    {
     "name": "stdout",
     "output_type": "stream",
     "text": [
      "bun\n",
      "bnu\n",
      "ubn\n",
      "unb\n",
      "nub\n",
      "nbu\n"
     ]
    }
   ],
   "source": [
    "\n",
    "def get_permutation(string, i=0):\n",
    "    if i == len(string):\n",
    "        print(\"\". join (string))\n",
    "    \n",
    "    for j in range(i,len(string)):\n",
    "        words = [c for c in string]\n",
    "        words[i],words[j] = words[j],words[i]\n",
    "        get_permutation(words,i+1)\n",
    "get_permutation('bun')"
   ]
  },
  {
   "cell_type": "markdown",
   "id": "c3ae5a72",
   "metadata": {},
   "source": [
    "palindrome or not"
   ]
  },
  {
   "cell_type": "code",
   "execution_count": null,
   "id": "aff6f3c1",
   "metadata": {},
   "outputs": [],
   "source": []
  },
  {
   "cell_type": "code",
   "execution_count": null,
   "id": "086468ae",
   "metadata": {},
   "outputs": [],
   "source": []
  }
 ],
 "metadata": {
  "kernelspec": {
   "display_name": "Python 3 (ipykernel)",
   "language": "python",
   "name": "python3"
  },
  "language_info": {
   "codemirror_mode": {
    "name": "ipython",
    "version": 3
   },
   "file_extension": ".py",
   "mimetype": "text/x-python",
   "name": "python",
   "nbconvert_exporter": "python",
   "pygments_lexer": "ipython3",
   "version": "3.11.1"
  }
 },
 "nbformat": 4,
 "nbformat_minor": 5
}
