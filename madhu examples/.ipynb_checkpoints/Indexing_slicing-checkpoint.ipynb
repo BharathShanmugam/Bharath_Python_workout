{
 "cells": [
  {
   "cell_type": "code",
   "execution_count": 1,
   "id": "21e034d8",
   "metadata": {},
   "outputs": [],
   "source": [
    "fruits = ['apple','banana','orange']"
   ]
  },
  {
   "cell_type": "code",
   "execution_count": 2,
   "id": "c4bd4067",
   "metadata": {},
   "outputs": [
    {
     "data": {
      "text/plain": [
       "'apple'"
      ]
     },
     "execution_count": 2,
     "metadata": {},
     "output_type": "execute_result"
    }
   ],
   "source": [
    "fruits[0]"
   ]
  },
  {
   "cell_type": "code",
   "execution_count": 4,
   "id": "20245c6e",
   "metadata": {},
   "outputs": [
    {
     "data": {
      "text/plain": [
       "0"
      ]
     },
     "execution_count": 4,
     "metadata": {},
     "output_type": "execute_result"
    }
   ],
   "source": [
    "fruits.index('apple')"
   ]
  },
  {
   "cell_type": "code",
   "execution_count": 5,
   "id": "6d18bb5a",
   "metadata": {},
   "outputs": [
    {
     "name": "stdout",
     "output_type": "stream",
     "text": [
      "['apple', 'banana']\n"
     ]
    }
   ],
   "source": [
    "x= slice(2)\n",
    "print(fruits[x])"
   ]
  },
  {
   "cell_type": "code",
   "execution_count": 10,
   "id": "aefc14da",
   "metadata": {},
   "outputs": [
    {
     "name": "stdout",
     "output_type": "stream",
     "text": [
      "(3, 5, 7)\n"
     ]
    }
   ],
   "source": [
    "a = (0,1,2,3,4,5,6,7,8,9)\n",
    "x = slice(3,9,2)\n",
    "print(a[x])"
   ]
  },
  {
   "cell_type": "code",
   "execution_count": 11,
   "id": "12a3e736",
   "metadata": {},
   "outputs": [],
   "source": [
    "fruits =['apple','orange','banana','graphs','jackfruit']"
   ]
  },
  {
   "cell_type": "code",
   "execution_count": 13,
   "id": "f081c326",
   "metadata": {},
   "outputs": [
    {
     "data": {
      "text/plain": [
       "'orange'"
      ]
     },
     "execution_count": 13,
     "metadata": {},
     "output_type": "execute_result"
    }
   ],
   "source": [
    "fruits[1]"
   ]
  },
  {
   "cell_type": "code",
   "execution_count": 14,
   "id": "62ba3ffe",
   "metadata": {},
   "outputs": [
    {
     "data": {
      "text/plain": [
       "1"
      ]
     },
     "execution_count": 14,
     "metadata": {},
     "output_type": "execute_result"
    }
   ],
   "source": [
    "fruits.index('orange')"
   ]
  },
  {
   "cell_type": "code",
   "execution_count": 16,
   "id": "3ff33270",
   "metadata": {},
   "outputs": [
    {
     "data": {
      "text/plain": [
       "4"
      ]
     },
     "execution_count": 16,
     "metadata": {},
     "output_type": "execute_result"
    }
   ],
   "source": [
    "fruits.index('jackfruit')"
   ]
  },
  {
   "cell_type": "code",
   "execution_count": null,
   "id": "3aa4e166",
   "metadata": {},
   "outputs": [],
   "source": []
  }
 ],
 "metadata": {
  "kernelspec": {
   "display_name": "Python 3",
   "language": "python",
   "name": "python3"
  },
  "language_info": {
   "codemirror_mode": {
    "name": "ipython",
    "version": 3
   },
   "file_extension": ".py",
   "mimetype": "text/x-python",
   "name": "python",
   "nbconvert_exporter": "python",
   "pygments_lexer": "ipython3",
   "version": "3.8.8"
  }
 },
 "nbformat": 4,
 "nbformat_minor": 5
}
