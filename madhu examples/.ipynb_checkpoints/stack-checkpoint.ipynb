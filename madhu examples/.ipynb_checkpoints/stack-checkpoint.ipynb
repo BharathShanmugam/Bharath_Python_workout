{
 "cells": [
  {
   "cell_type": "code",
   "execution_count": 17,
   "id": "4f528b71",
   "metadata": {},
   "outputs": [],
   "source": [
    "#stack is a linierddata structures \n",
    "#it follows LIFO methiod (Last In First Out)\n",
    "#New element added in one end and remofe at end onlu\n",
    "#Inserted element is known as pull\n",
    "#deleted operation is known as pull\n",
    "#It time cpmplexity 0(1)"
   ]
  },
  {
   "cell_type": "code",
   "execution_count": 25,
   "id": "59c09d2a",
   "metadata": {},
   "outputs": [],
   "source": [
    "class Stack():\n",
    "    #constructor\n",
    "    def __init__(self):\n",
    "        self.stack=[]  #storing this data in list\n",
    "        self.items = 0 #index value is zero\n",
    "        \n",
    "    #def isEmpty(self):\n",
    "      #  return self.stack == []  #this line of code checks the line is empty or not\n",
    "    \n",
    "    #pusing the element\n",
    "    def push(self,data):\n",
    "        self.stack.insert(self.items,data)\n",
    "        self.items += 1  #incrementing the index\n",
    "        return '{} pushed to stack'.format(data)\n",
    "    \n",
    "    #poping the element\n",
    "    def pop(self):\n",
    "        self.items -= 1  #removing the index to delete the item\n",
    "        data = self.stack.pop(self.items)\n",
    "        return '{} pop from stack'.format(data)\n",
    "    #def stacksize(self):\n",
    "        #return len(self.Stack)\n",
    "    "
   ]
  },
  {
   "cell_type": "code",
   "execution_count": 26,
   "id": "d0e6b1f6",
   "metadata": {},
   "outputs": [
    {
     "name": "stdout",
     "output_type": "stream",
     "text": [
      "2 pushed to stack\n",
      "3 pushed to stack\n",
      "4 pushed to stack\n",
      "5 pushed to stack\n",
      "6 pushed to stack\n"
     ]
    }
   ],
   "source": [
    "#testing \n",
    "if __name__ =='__main__':\n",
    "    s= Stack()\n",
    "    #data = 0\n",
    "    print(s.push(2))\n",
    "    print(s.push(3))\n",
    "    print(s.push(4))\n",
    "    print(s.push(5))\n",
    "    print(s.push(6))\n",
    "    \n",
    "    "
   ]
  },
  {
   "cell_type": "code",
   "execution_count": 27,
   "id": "05ab71c7",
   "metadata": {},
   "outputs": [
    {
     "name": "stdout",
     "output_type": "stream",
     "text": [
      "6 pop from stack\n"
     ]
    }
   ],
   "source": [
    "print(s.pop())"
   ]
  },
  {
   "cell_type": "code",
   "execution_count": 28,
   "id": "8b81a05e",
   "metadata": {},
   "outputs": [
    {
     "data": {
      "text/plain": [
       "__main__.Stack"
      ]
     },
     "execution_count": 28,
     "metadata": {},
     "output_type": "execute_result"
    }
   ],
   "source": [
    "Stack"
   ]
  },
  {
   "cell_type": "code",
   "execution_count": null,
   "id": "6f77c96e",
   "metadata": {},
   "outputs": [],
   "source": []
  },
  {
   "cell_type": "code",
   "execution_count": null,
   "id": "82d034b3",
   "metadata": {},
   "outputs": [],
   "source": []
  },
  {
   "cell_type": "code",
   "execution_count": null,
   "id": "f836998e",
   "metadata": {},
   "outputs": [],
   "source": []
  },
  {
   "cell_type": "code",
   "execution_count": null,
   "id": "76977767",
   "metadata": {},
   "outputs": [],
   "source": [
    "\n"
   ]
  },
  {
   "cell_type": "code",
   "execution_count": null,
   "id": "517529d9",
   "metadata": {},
   "outputs": [],
   "source": []
  },
  {
   "cell_type": "code",
   "execution_count": null,
   "id": "ed3f7c3a",
   "metadata": {},
   "outputs": [],
   "source": []
  },
  {
   "cell_type": "code",
   "execution_count": null,
   "id": "c8fc116d",
   "metadata": {},
   "outputs": [],
   "source": []
  },
  {
   "cell_type": "code",
   "execution_count": null,
   "id": "c9703cd3",
   "metadata": {},
   "outputs": [],
   "source": []
  },
  {
   "cell_type": "code",
   "execution_count": null,
   "id": "bb161486",
   "metadata": {},
   "outputs": [],
   "source": []
  },
  {
   "cell_type": "code",
   "execution_count": null,
   "id": "8a967124",
   "metadata": {},
   "outputs": [],
   "source": []
  },
  {
   "cell_type": "code",
   "execution_count": null,
   "id": "fb8d1282",
   "metadata": {},
   "outputs": [],
   "source": [
    "class "
   ]
  }
 ],
 "metadata": {
  "kernelspec": {
   "display_name": "Python 3 (ipykernel)",
   "language": "python",
   "name": "python3"
  },
  "language_info": {
   "codemirror_mode": {
    "name": "ipython",
    "version": 3
   },
   "file_extension": ".py",
   "mimetype": "text/x-python",
   "name": "python",
   "nbconvert_exporter": "python",
   "pygments_lexer": "ipython3",
   "version": "3.11.1"
  }
 },
 "nbformat": 4,
 "nbformat_minor": 5
}
