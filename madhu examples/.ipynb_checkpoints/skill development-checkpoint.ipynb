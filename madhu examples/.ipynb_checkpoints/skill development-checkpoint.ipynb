{
 "cells": [
  {
   "cell_type": "code",
   "execution_count": null,
   "id": "02026aaa",
   "metadata": {},
   "outputs": [],
   "source": [
    "#1) WRITE A FUNCTION THAT TAKES IN A NON-EMPTY ARRAY OF DISTINCT INTEGERS AND AN INTEGER REPRESENTING A TARGET SUM.\n",
    "#2)IF ANY TWO NUMBERS IN THE INPUT ARRAY SUM UP TO THE TARGET SUM, THE FUNCTION SHOULD RETURN THEM IN A ARRAY, IN ANY ORDER\n",
    "#3)IF NO TWO NUMBERS SUM UP TO THE TARGE SUM, THE FUNCTIONS SHOULD RETURN AN EMPTY ARRAY\n",
    "\n",
    "#4)NOTE THAT TARGET SUM HAS TO BE OBTAINED BY SUMMING TWO DIGGERENT INTIGERS IN THE ARRAY. YOU CANT ADD A SINGLE INTIGER\n",
    "# TO ITSELF IN ORDER TO OBTAIN THE TARGET SUM.\n",
    "#5)YOU CAN ASSUME THAT THERE WILL BE AT MOST ONE PAIR OF NUMBETS SUMMING UP TO THE TARGET SUM."
   ]
  },
  {
   "cell_type": "code",
   "execution_count": 1,
   "id": "dc0834e0",
   "metadata": {},
   "outputs": [],
   "source": [
    "\n",
    "def two_number_sum(arr, target_sum):\n",
    "    for i in range(0, len(arr) -1):\n",
    "        for j in range(i + 1, len(arr)):\n",
    "            if arr[i] + arr[j] == target_sum:\n",
    "                return [arr[i], arr[j]]\n",
    "    return[]\n"
   ]
  },
  {
   "cell_type": "code",
   "execution_count": 8,
   "id": "5736e1f6",
   "metadata": {},
   "outputs": [
    {
     "name": "stdout",
     "output_type": "stream",
     "text": [
      "[11, -1]\n"
     ]
    }
   ],
   "source": [
    "def main():\n",
    "    arr= [3,5,-4,8,11,1,-1,6]\n",
    "    target = 10\n",
    "    \n",
    "    print(two_number_sum(arr,target))\n",
    "main()\n"
   ]
  },
  {
   "cell_type": "code",
   "execution_count": 9,
   "id": "02fbdb1b",
   "metadata": {},
   "outputs": [],
   "source": [
    "#HASH MAP"
   ]
  },
  {
   "cell_type": "code",
   "execution_count": 12,
   "id": "357cf9f8",
   "metadata": {},
   "outputs": [],
   "source": [
    "def two_num_sum(arr,target_sum):\n",
    "    \n",
    "    lookup = {}\n",
    "\n",
    "    for element in arr:\n",
    "        if target_sum -element in lookup:\n",
    "            return[ target_sum - element, element]\n",
    "        lookup[element] = True\n",
    "    return[]"
   ]
  },
  {
   "cell_type": "code",
   "execution_count": 14,
   "id": "138eaa01",
   "metadata": {},
   "outputs": [
    {
     "name": "stdout",
     "output_type": "stream",
     "text": [
      "[11, -1]\n"
     ]
    }
   ],
   "source": [
    "def main():\n",
    "    arr= [3,5,-4,8,11,1,-1,6]\n",
    "    target = 10\n",
    "    \n",
    "    print(two_number_sum(arr,target))\n",
    "main()\n"
   ]
  },
  {
   "cell_type": "code",
   "execution_count": 23,
   "id": "6a1e8b9d",
   "metadata": {},
   "outputs": [],
   "source": [
    "def two_number_sum(arr, target_sum):\n",
    "    arr.sort()\n",
    "    \n",
    "    left = 0\n",
    "    right = len(arr) - 1\n",
    "    \n",
    "    while left < right:\n",
    "        current_sum = arr[left] + arr[right]\n",
    "        if current_sum == target_sum:\n",
    "            return[arr[left], arr[right]]\n",
    "        elif current_sum > target_sum:\n",
    "            right -= 1\n",
    "        else:\n",
    "            left += 1\n",
    "    return[]"
   ]
  },
  {
   "cell_type": "code",
   "execution_count": 24,
   "id": "e2bc1864",
   "metadata": {},
   "outputs": [
    {
     "name": "stdout",
     "output_type": "stream",
     "text": [
      "[-1, 11]\n"
     ]
    }
   ],
   "source": [
    "def main():\n",
    "    arr= [3,5,-4,8,11,1,-1,6]\n",
    "   \n",
    "    target = 10\n",
    "    \n",
    "    print(two_number_sum(arr,target))\n",
    "main()\n"
   ]
  },
  {
   "cell_type": "code",
   "execution_count": null,
   "id": "da7c6ef5",
   "metadata": {},
   "outputs": [],
   "source": []
  }
 ],
 "metadata": {
  "kernelspec": {
   "display_name": "Python 3 (ipykernel)",
   "language": "python",
   "name": "python3"
  },
  "language_info": {
   "codemirror_mode": {
    "name": "ipython",
    "version": 3
   },
   "file_extension": ".py",
   "mimetype": "text/x-python",
   "name": "python",
   "nbconvert_exporter": "python",
   "pygments_lexer": "ipython3",
   "version": "3.11.1"
  }
 },
 "nbformat": 4,
 "nbformat_minor": 5
}
