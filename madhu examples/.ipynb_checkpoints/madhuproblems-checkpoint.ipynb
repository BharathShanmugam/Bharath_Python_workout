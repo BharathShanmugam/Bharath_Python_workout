{
 "cells": [
  {
   "cell_type": "code",
   "execution_count": 4,
   "id": "a8854fb0",
   "metadata": {},
   "outputs": [
    {
     "name": "stdout",
     "output_type": "stream",
     "text": [
      "['p', 'y', 't', 'h', 'o', 'n']\n"
     ]
    }
   ],
   "source": [
    "print([i.lower() for i in 'PYTHON'])"
   ]
  },
  {
   "cell_type": "code",
   "execution_count": 5,
   "id": "63b18af5",
   "metadata": {},
   "outputs": [],
   "source": [
    "i = 'PYTHON'"
   ]
  },
  {
   "cell_type": "code",
   "execution_count": 6,
   "id": "f08e1159",
   "metadata": {},
   "outputs": [
    {
     "name": "stdout",
     "output_type": "stream",
     "text": [
      "['python']\n"
     ]
    }
   ],
   "source": [
    "print([i.lower()])"
   ]
  },
  {
   "cell_type": "code",
   "execution_count": null,
   "id": "28c01554",
   "metadata": {},
   "outputs": [],
   "source": [
    "#FORMAT IS A IN-BULT FUNCTION PYTHON WHICH COMES WITH {} TO ADRESS SOME IMFORMATION IN THAT J{ JTO THE CODE"
   ]
  },
  {
   "cell_type": "code",
   "execution_count": 17,
   "id": "0e69c492",
   "metadata": {},
   "outputs": [
    {
     "name": "stdout",
     "output_type": "stream",
     "text": [
      "greeks for greeks A computer scince portal for greeks \n",
      "This artical was written in python\n",
      "hello i am 18 years old!\n"
     ]
    }
   ],
   "source": [
    "#formating\n",
    "#(single formater)\n",
    "print(\"{} A computer scince portal for greeks \".format(\"greeks for greeks\"))\n",
    "str = 'This artical was written in {}'\n",
    "print(str.format('python'))\n",
    "print('hello i am {} years old!' .format(18))"
   ]
  },
  {
   "cell_type": "code",
   "execution_count": 19,
   "id": "a36a20ad",
   "metadata": {},
   "outputs": [
    {
     "name": "stdout",
     "output_type": "stream",
     "text": [
      "my self madhumitha shanmugam i am studying in sdhr degree college\n",
      "i am a python programmer\n",
      "and started programming in my elear 17\n"
     ]
    }
   ],
   "source": [
    "print('my self madhumitha shanmugam i am studying in {} degree college'.format('sdhr'))\n",
    "str = 'i am a python {}'\n",
    "print(str.format('programmer'))\n",
    "print('and started programming in my elear {}'.format(17))"
   ]
  },
  {
   "cell_type": "code",
   "execution_count": 23,
   "id": "2023615b",
   "metadata": {},
   "outputs": [
    {
     "name": "stdout",
     "output_type": "stream",
     "text": [
      " My self Madhumitha shanmugam and I am pursuing degree 2nd year at SDHR degree and pg college \n",
      "I am 18 years old and i love coding\n",
      "i am very intersted to learn python, web development, AWS\n"
     ]
    }
   ],
   "source": [
    "#string format with multiple place hoders\n",
    "\n",
    "\n",
    "\n",
    "#MULTIPLE PLACE HOLDERS IN FORMAT FUNCTION\n",
    "my_string =(' My self {} and I am pursuing degree {} at {} degree and pg college ')\n",
    "print(my_string.format('Madhumitha shanmugam', '2nd year', 'SDHR'))\n",
    "#DIFFERENT DATA TYPEprint('{0} love {1}!'. format('Madhu','HYDERBAD'))\n",
    "S ARE USING IN THE FORMATING\n",
    "print('I am {} years old and i love {}'.format(18, 'coding'))\n",
    "#THE VALUES PASSED AS A PARAMETER ARE REPLACED IN THE ORDER OF THERE ENTERY\n",
    "print(\"i am very intersted to learn {} {} {}\".format('python,','web development,','AWS'))"
   ]
  },
  {
   "cell_type": "code",
   "execution_count": 1,
   "id": "a9af9186",
   "metadata": {},
   "outputs": [
    {
     "name": "stdout",
     "output_type": "stream",
     "text": [
      "Madhu love HYDERBAD!\n",
      "HYDERBAD love Madhu!\n",
      "i want to leave Financially Independent\n",
      "i am will to start bussness in HYDERBAD\n"
     ]
    }
   ],
   "source": [
    "#formating with there positional argument\n",
    "\n",
    "\n",
    "#POSITIONAL ARGUMENTS ARE REPLACED IN ORDER\n",
    "print('{0} love {1}!'. format('Madhu','HYDERBAD'))\n",
    "#REVERSE THE INDEX NUMBERS WITH THE PARAMETERS OF THE PLACEHOLDERS\n",
    "print('{1} love {0}!'. format('Madhu','HYDERBAD'))\n",
    "print('i want to leave {} {}'.format('Financially','Independent'))\n",
    "print('i am will to start bussness in {hyd}'.format(hyd=\"HYDERBAD\"))"
   ]
  },
  {
   "cell_type": "code",
   "execution_count": 11,
   "id": "01769e80",
   "metadata": {},
   "outputs": [
    {
     "name": "stdout",
     "output_type": "stream",
     "text": [
      "hi Madhumitha!\n"
     ]
    }
   ],
   "source": [
    "Madhumitha is True\n",
    "if Madhumitha == True:\n",
    "    print('hi Madhumitha!')"
   ]
  },
  {
   "cell_type": "code",
   "execution_count": 13,
   "id": "88e29bba",
   "metadata": {},
   "outputs": [
    {
     "name": "stdout",
     "output_type": "stream",
     "text": [
      "your wrong\n"
     ]
    }
   ],
   "source": [
    "num = 100\n",
    "if num < 200:\n",
    "    print('your wrong')"
   ]
  },
  {
   "cell_type": "code",
   "execution_count": 17,
   "id": "fa19ae95",
   "metadata": {},
   "outputs": [
    {
     "name": "stdout",
     "output_type": "stream",
     "text": [
      "your currect\n"
     ]
    }
   ],
   "source": [
    "num = 100\n",
    "if num < 20:\n",
    "    print('your worng!')\n",
    "else:\n",
    "        print('your currect')"
   ]
  },
  {
   "cell_type": "code",
   "execution_count": 21,
   "id": "b33a2e24",
   "metadata": {},
   "outputs": [
    {
     "name": "stdout",
     "output_type": "stream",
     "text": [
      "it's goods\n"
     ]
    }
   ],
   "source": [
    "fine is True\n",
    "if fine == fine:\n",
    "    print(\"it's goods\")"
   ]
  },
  {
   "cell_type": "code",
   "execution_count": 1,
   "id": "df2218f6",
   "metadata": {},
   "outputs": [
    {
     "name": "stdout",
     "output_type": "stream",
     "text": [
      "dabba\n"
     ]
    }
   ],
   "source": [
    "num = 100  \n",
    "if num < 10:\n",
    "    print('wow')\n",
    "else:\n",
    "    print('dabba')"
   ]
  },
  {
   "cell_type": "code",
   "execution_count": 1,
   "id": "1c58915f",
   "metadata": {},
   "outputs": [
    {
     "name": "stdout",
     "output_type": "stream",
     "text": [
      "what is your luckly number :   9\n",
      "what is your role number:   10\n"
     ]
    }
   ],
   "source": [
    "a = int(input('what is your luckly number :   '))\n",
    "b = int(input('what is your role number:   '))"
   ]
  },
  {
   "cell_type": "code",
   "execution_count": 2,
   "id": "742d582c",
   "metadata": {},
   "outputs": [
    {
     "name": "stdout",
     "output_type": "stream",
     "text": [
      "its cool\n"
     ]
    }
   ],
   "source": [
    "if a<b:\n",
    "    print('its cool')\n",
    "else:\n",
    "    print(\"its okay\")"
   ]
  },
  {
   "cell_type": "code",
   "execution_count": 6,
   "id": "a2724e09",
   "metadata": {},
   "outputs": [
    {
     "name": "stdout",
     "output_type": "stream",
     "text": [
      "what is your name:    madhu\n"
     ]
    }
   ],
   "source": [
    "abc = str(input('what is your name:    '))"
   ]
  },
  {
   "cell_type": "code",
   "execution_count": 10,
   "id": "7e738adb",
   "metadata": {},
   "outputs": [
    {
     "name": "stdout",
     "output_type": "stream",
     "text": [
      "feed me\n"
     ]
    }
   ],
   "source": [
    "#i else statements \n",
    "hungry = True\n",
    "if hungry:\n",
    "    print('feed me')"
   ]
  },
  {
   "cell_type": "code",
   "execution_count": 12,
   "id": "a33e231f",
   "metadata": {},
   "outputs": [
    {
     "name": "stdout",
     "output_type": "stream",
     "text": [
      "i am not hungry\n"
     ]
    }
   ],
   "source": [
    "hungry=False\n",
    "if hungry :\n",
    "    print('feed me!')\n",
    "else:\n",
    "    print('i am not hungry')\n",
    "\n"
   ]
  },
  {
   "cell_type": "code",
   "execution_count": 13,
   "id": "1c74bd13",
   "metadata": {},
   "outputs": [],
   "source": [
    "a = 100\n",
    "b = 200\n",
    "c = 300"
   ]
  },
  {
   "cell_type": "code",
   "execution_count": 18,
   "id": "06d01ee8",
   "metadata": {},
   "outputs": [
    {
     "name": "stdout",
     "output_type": "stream",
     "text": [
      "it's a small value\n"
     ]
    }
   ],
   "source": [
    "if a<b:\n",
    "    print(\"it's a small value\")"
   ]
  },
  {
   "cell_type": "code",
   "execution_count": 19,
   "id": "623dc843",
   "metadata": {},
   "outputs": [
    {
     "name": "stdout",
     "output_type": "stream",
     "text": [
      "give the currect input\n"
     ]
    }
   ],
   "source": [
    "if a == b:\n",
    "    print('its wrong')\n",
    "else:\n",
    "    print (\"give the currect input\")"
   ]
  },
  {
   "cell_type": "code",
   "execution_count": 20,
   "id": "2b360ec2",
   "metadata": {},
   "outputs": [
    {
     "name": "stdout",
     "output_type": "stream",
     "text": [
      "your good\n"
     ]
    }
   ],
   "source": [
    "if a + b == 300:\n",
    "    print('your good')\n",
    "else:\n",
    "    print('poee saychipooo')"
   ]
  },
  {
   "cell_type": "code",
   "execution_count": 22,
   "id": "17f874ec",
   "metadata": {},
   "outputs": [
    {
     "name": "stdout",
     "output_type": "stream",
     "text": [
      "addistions kuda rava niku\n"
     ]
    }
   ],
   "source": [
    "if b - a == 10:\n",
    "    print(\"super papa !\")\n",
    "else:\n",
    "    print('addistions kuda rava niku')"
   ]
  },
  {
   "cell_type": "code",
   "execution_count": 1,
   "id": "5d2668d8",
   "metadata": {},
   "outputs": [
    {
     "name": "stdout",
     "output_type": "stream",
     "text": [
      "what is your age :  19\n"
     ]
    }
   ],
   "source": [
    "age = int(input(\"what is your age :  \"))"
   ]
  },
  {
   "cell_type": "code",
   "execution_count": 2,
   "id": "b57141ec",
   "metadata": {},
   "outputs": [
    {
     "name": "stdout",
     "output_type": "stream",
     "text": [
      "your are eligible\n"
     ]
    }
   ],
   "source": [
    "if 18 < age:\n",
    "    print('your are eligible')\n",
    "else:\n",
    "    print('your are not eligible')"
   ]
  },
  {
   "cell_type": "code",
   "execution_count": 3,
   "id": "3364ab06",
   "metadata": {},
   "outputs": [],
   "source": [
    "num = 3"
   ]
  },
  {
   "cell_type": "code",
   "execution_count": 5,
   "id": "b3be4f0a",
   "metadata": {},
   "outputs": [
    {
     "name": "stdout",
     "output_type": "stream",
     "text": [
      "3  this is the positive value\n"
     ]
    }
   ],
   "source": [
    "if num > 0:\n",
    "    print(num,\" this is the positive value\")\n",
    "else:\n",
    "    print(num ,\"this is the negative value\")"
   ]
  },
  {
   "cell_type": "code",
   "execution_count": 14,
   "id": "ae18069a",
   "metadata": {},
   "outputs": [
    {
     "name": "stdout",
     "output_type": "stream",
     "text": [
      "100 this is your expected value\n"
     ]
    }
   ],
   "source": [
    "m = 100\n",
    "if m == 150:\n",
    "    print(m, 'this is not a currect value')\n",
    "elif m == 50:\n",
    "    print(m, \"this is not your expected value\")\n",
    "elif m == 250:\n",
    "    print(m,'print the currect value')\n",
    "elif m ==100:\n",
    "    print(m, 'this is your expected value')\n",
    "else:\n",
    "    print(m,'better luck next time')\n"
   ]
  },
  {
   "cell_type": "code",
   "execution_count": 15,
   "id": "e2d911c2",
   "metadata": {},
   "outputs": [
    {
     "name": "stdout",
     "output_type": "stream",
     "text": [
      "are you hungry:               yes\n"
     ]
    }
   ],
   "source": [
    "abc = str(input(\"are you hungry:               \"))\n"
   ]
  },
  {
   "cell_type": "code",
   "execution_count": 7,
   "id": "5e9d4a27",
   "metadata": {},
   "outputs": [
    {
     "name": "stdout",
     "output_type": "stream",
     "text": [
      "o my god\n"
     ]
    }
   ],
   "source": [
    "loc='Autoshop'\n",
    "if loc=='Autoshop':\n",
    "    print('o my god')\n",
    "elif loc =='bank':\n",
    "    print('money is cool')\n",
    "elif loc =='store':\n",
    "    print('over loded')\n",
    "else:\n",
    "    print('i dont know to munch')\n"
   ]
  },
  {
   "cell_type": "code",
   "execution_count": 8,
   "id": "0bcca008",
   "metadata": {},
   "outputs": [
    {
     "name": "stdout",
     "output_type": "stream",
     "text": [
      " hi madhumitha shanmugam\n"
     ]
    }
   ],
   "source": [
    "madhu = 'shanmugam'\n",
    "if madhu == 'mitha':\n",
    "    print('it is not your full name')\n",
    "elif madhu =='shanmugam':\n",
    "    print(' hi madhumitha shanmugam')\n",
    "else:\n",
    "    print('give me some correct input')\n"
   ]
  },
  {
   "cell_type": "code",
   "execution_count": 7,
   "id": "37cc4da1",
   "metadata": {},
   "outputs": [
    {
     "name": "stdout",
     "output_type": "stream",
     "text": [
      "it is a negative value\n"
     ]
    }
   ],
   "source": [
    "num = 3.5\n",
    "if num < 0:\n",
    "    print('it is a positive value')\n",
    "elif num == 0:\n",
    "    print('its value is zero')\n",
    "else:\n",
    "    print('it is a negative value')"
   ]
  },
  {
   "cell_type": "code",
   "execution_count": 9,
   "id": "2f2208df",
   "metadata": {},
   "outputs": [
    {
     "name": "stdout",
     "output_type": "stream",
     "text": [
      "enter the value :    5\n",
      "okay yarrrr\n"
     ]
    }
   ],
   "source": [
    "madhu = float(input(\"enter the value :    \"))\n",
    "if madhu >= 0:\n",
    "    if madhu ==  0 :\n",
    "        print('its a best try')\n",
    "    else:\n",
    "        print('okay yarrrr')\n",
    "else: \n",
    "    print('better luck next time')"
   ]
  },
  {
   "cell_type": "code",
   "execution_count": 10,
   "id": "6276cbac",
   "metadata": {},
   "outputs": [
    {
     "name": "stdout",
     "output_type": "stream",
     "text": [
      "its below 25\n"
     ]
    }
   ],
   "source": [
    "m = 10\n",
    "if m < 50:\n",
    "    if m < 25:\n",
    "        print('its below 25')\n",
    "    else:\n",
    "        print('its above 25')\n",
    "else:\n",
    "    print('hammmayaaa')"
   ]
  },
  {
   "cell_type": "code",
   "execution_count": 11,
   "id": "cb5b28ca",
   "metadata": {},
   "outputs": [
    {
     "name": "stdout",
     "output_type": "stream",
     "text": [
      "musicians kotandi amma\n"
     ]
    }
   ],
   "source": [
    "abc = 50\n",
    "if abc == 20:\n",
    "    if abc > 100:\n",
    "        print ('its just an abc')\n",
    "    else:\n",
    "        print('abc is not printing')\n",
    "else:\n",
    "    print('musicians kotandi amma')"
   ]
  },
  {
   "cell_type": "code",
   "execution_count": 18,
   "id": "21a65654",
   "metadata": {},
   "outputs": [
    {
     "name": "stdout",
     "output_type": "stream",
     "text": [
      "she can buy a chocolate\n"
     ]
    }
   ],
   "source": [
    "madhu = 50\n",
    "if madhu <= 50:\n",
    "    print('she can buy a chocolate')\n",
    "else:\n",
    "    print('she should beg some money from her father')"
   ]
  },
  {
   "cell_type": "code",
   "execution_count": 19,
   "id": "d18982a7",
   "metadata": {},
   "outputs": [
    {
     "name": "stdout",
     "output_type": "stream",
     "text": [
      "challu challlu challu\n"
     ]
    }
   ],
   "source": [
    "madhu = 50\n",
    "if madhu == 50:\n",
    "    if madhu < 20:\n",
    "        print('dabhullu sare polay')\n",
    "    else:\n",
    "        print('challu challlu challu')\n",
    "else:\n",
    "    print('okay ma sukanga vundu')"
   ]
  },
  {
   "cell_type": "code",
   "execution_count": 22,
   "id": "5c6439a9",
   "metadata": {},
   "outputs": [
    {
     "name": "stdout",
     "output_type": "stream",
     "text": [
      "banana\n",
      "apple\n",
      "orange\n"
     ]
    }
   ],
   "source": [
    "#for loop statement\n",
    "fruits = ('banana','apple','orange')\n",
    "for fruit in fruits:\n",
    "    print(fruit)"
   ]
  },
  {
   "cell_type": "code",
   "execution_count": 25,
   "id": "08212128",
   "metadata": {},
   "outputs": [],
   "source": [
    "for x in range(0):\n",
    "    print(x)"
   ]
  },
  {
   "cell_type": "code",
   "execution_count": 27,
   "id": "15dca108",
   "metadata": {},
   "outputs": [
    {
     "name": "stdout",
     "output_type": "stream",
     "text": [
      "2\n",
      "5\n",
      "8\n",
      "11\n",
      "14\n",
      "17\n",
      "20\n",
      "23\n",
      "26\n",
      "29\n"
     ]
    }
   ],
   "source": [
    "for x in range(2, 30, 3):\n",
    "    print(x)"
   ]
  },
  {
   "cell_type": "code",
   "execution_count": 32,
   "id": "8c20370d",
   "metadata": {},
   "outputs": [
    {
     "name": "stdout",
     "output_type": "stream",
     "text": [
      "0\n"
     ]
    }
   ],
   "source": [
    "for x in range (9):\n",
    "    print(x)\n",
    "    break\n",
    "else:\n",
    "    print('it is not the excate value')"
   ]
  },
  {
   "cell_type": "code",
   "execution_count": 37,
   "id": "a7094df1",
   "metadata": {},
   "outputs": [
    {
     "name": "stdout",
     "output_type": "stream",
     "text": [
      "0\n",
      "1\n",
      "2\n"
     ]
    }
   ],
   "source": [
    "for x in range (6):\n",
    "    if x == 3: break\n",
    "    print(x)\n",
    "else:\n",
    "        print('ayyo')"
   ]
  },
  {
   "cell_type": "code",
   "execution_count": 46,
   "id": "62bee411",
   "metadata": {},
   "outputs": [
    {
     "name": "stdout",
     "output_type": "stream",
     "text": [
      "its okay\n"
     ]
    }
   ],
   "source": [
    "for x in range(19):\n",
    "    if x == 20:\n",
    "        print(x)\n",
    "else:\n",
    "    print('its okay')"
   ]
  },
  {
   "cell_type": "code",
   "execution_count": 2,
   "id": "244cb359",
   "metadata": {},
   "outputs": [
    {
     "name": "stdout",
     "output_type": "stream",
     "text": [
      "it is the over value\n",
      "it is the over value\n"
     ]
    }
   ],
   "source": [
    "for x in range(2):\n",
    "    if x == 2:\n",
    "        print ('it is the highst value')\n",
    "    elif x== 21:\n",
    "        print('it is the best value')\n",
    "    else:\n",
    "        print('it is the over value')\n"
   ]
  },
  {
   "cell_type": "code",
   "execution_count": 13,
   "id": "44790383",
   "metadata": {},
   "outputs": [
    {
     "name": "stdout",
     "output_type": "stream",
     "text": [
      "the sum is = 10\n"
     ]
    }
   ],
   "source": [
    "number = [5,1]\n",
    "sum = 9 \n",
    "for i in number:\n",
    "    sums = sum + i\n",
    "print('the sum is =', sums)"
   ]
  },
  {
   "cell_type": "code",
   "execution_count": 17,
   "id": "6dcaedcd",
   "metadata": {},
   "outputs": [
    {
     "name": "stdout",
     "output_type": "stream",
     "text": [
      "1\n",
      "2\n",
      "3\n",
      "4\n",
      "5\n"
     ]
    }
   ],
   "source": [
    "#while loop \n",
    "abc = 0\n",
    "while (abc < 5):\n",
    "    abc = abc + 1\n",
    "    print(abc)"
   ]
  },
  {
   "cell_type": "code",
   "execution_count": 18,
   "id": "1a1dd2cc",
   "metadata": {},
   "outputs": [
    {
     "name": "stdout",
     "output_type": "stream",
     "text": [
      "6\n",
      "5\n",
      "4\n",
      "3\n",
      "2\n",
      "1\n"
     ]
    }
   ],
   "source": [
    "a = [1,2,3,4,5,6]\n",
    "while a:\n",
    "    print(a.pop())"
   ]
  },
  {
   "cell_type": "code",
   "execution_count": 19,
   "id": "6dd2e632",
   "metadata": {},
   "outputs": [
    {
     "data": {
      "text/plain": [
       "[]"
      ]
     },
     "execution_count": 19,
     "metadata": {},
     "output_type": "execute_result"
    }
   ],
   "source": [
    "a"
   ]
  },
  {
   "cell_type": "code",
   "execution_count": null,
   "id": "aeafce0a",
   "metadata": {},
   "outputs": [],
   "source": [
    "#single statement while block\n",
    "count = 0\n",
    "while (count < 5): count += 1 ; print('hello madhu')"
   ]
  },
  {
   "cell_type": "code",
   "execution_count": null,
   "id": "068e88d0",
   "metadata": {},
   "outputs": [],
   "source": [
    "i = 0\n",
    "a = 'madhumitha shanmugam'"
   ]
  },
  {
   "cell_type": "code",
   "execution_count": null,
   "id": "5f9205e3",
   "metadata": {},
   "outputs": [],
   "source": []
  }
 ],
 "metadata": {
  "kernelspec": {
   "display_name": "Python 3 (ipykernel)",
   "language": "python",
   "name": "python3"
  },
  "language_info": {
   "codemirror_mode": {
    "name": "ipython",
    "version": 3
   },
   "file_extension": ".py",
   "mimetype": "text/x-python",
   "name": "python",
   "nbconvert_exporter": "python",
   "pygments_lexer": "ipython3",
   "version": "3.10.6"
  }
 },
 "nbformat": 4,
 "nbformat_minor": 5
}
