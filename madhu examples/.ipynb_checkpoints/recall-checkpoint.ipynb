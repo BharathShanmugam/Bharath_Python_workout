{
 "cells": [
  {
   "cell_type": "code",
   "execution_count": 1,
   "id": "774f62ca",
   "metadata": {},
   "outputs": [],
   "source": [
    "sam = \"madhu's\""
   ]
  },
  {
   "cell_type": "code",
   "execution_count": 2,
   "id": "46057d15",
   "metadata": {},
   "outputs": [
    {
     "data": {
      "text/plain": [
       "\"madhu's\""
      ]
     },
     "execution_count": 2,
     "metadata": {},
     "output_type": "execute_result"
    }
   ],
   "source": [
    "sam"
   ]
  },
  {
   "cell_type": "code",
   "execution_count": 4,
   "id": "ae55996f",
   "metadata": {},
   "outputs": [
    {
     "data": {
      "text/plain": [
       "\"'\""
      ]
     },
     "execution_count": 4,
     "metadata": {},
     "output_type": "execute_result"
    }
   ],
   "source": [
    "sam[-2]"
   ]
  },
  {
   "cell_type": "code",
   "execution_count": 5,
   "id": "c565e568",
   "metadata": {},
   "outputs": [
    {
     "data": {
      "text/plain": [
       "'madhu'"
      ]
     },
     "execution_count": 5,
     "metadata": {},
     "output_type": "execute_result"
    }
   ],
   "source": [
    "\"madhu\""
   ]
  },
  {
   "cell_type": "code",
   "execution_count": 11,
   "id": "3fcae91c",
   "metadata": {},
   "outputs": [],
   "source": [
    "\n",
    "def madhu():\n",
    "    return \"hello\""
   ]
  },
  {
   "cell_type": "markdown",
   "id": "71a09266",
   "metadata": {},
   "source": [
    "madhu"
   ]
  },
  {
   "cell_type": "code",
   "execution_count": 12,
   "id": "21ec26eb",
   "metadata": {},
   "outputs": [
    {
     "data": {
      "text/plain": [
       "'hello'"
      ]
     },
     "execution_count": 12,
     "metadata": {},
     "output_type": "execute_result"
    }
   ],
   "source": [
    "madhu()"
   ]
  },
  {
   "cell_type": "code",
   "execution_count": 14,
   "id": "906a9efa",
   "metadata": {},
   "outputs": [
    {
     "name": "stdout",
     "output_type": "stream",
     "text": [
      "madhu \n",
      "world\n"
     ]
    }
   ],
   "source": [
    "print('madhu \\nworld')"
   ]
  },
  {
   "cell_type": "code",
   "execution_count": 15,
   "id": "ecce2ba7",
   "metadata": {},
   "outputs": [
    {
     "name": "stdout",
     "output_type": "stream",
     "text": [
      "madhu \tworld\n"
     ]
    }
   ],
   "source": [
    "print('madhu \\tworld')"
   ]
  },
  {
   "cell_type": "code",
   "execution_count": 16,
   "id": "21f9e824",
   "metadata": {},
   "outputs": [],
   "source": [
    "#indexing grab the single character\n",
    "#slicing grab the sub section of them\n",
    "mystring = \"hello world\""
   ]
  },
  {
   "cell_type": "code",
   "execution_count": 21,
   "id": "4de95fca",
   "metadata": {},
   "outputs": [
    {
     "data": {
      "text/plain": [
       "'h'"
      ]
     },
     "execution_count": 21,
     "metadata": {},
     "output_type": "execute_result"
    }
   ],
   "source": [
    "mystring[-11]"
   ]
  },
  {
   "cell_type": "code",
   "execution_count": 22,
   "id": "c682e731",
   "metadata": {},
   "outputs": [],
   "source": [
    "#subsectinon of a string"
   ]
  },
  {
   "cell_type": "code",
   "execution_count": 33,
   "id": "a5efe5b0",
   "metadata": {},
   "outputs": [],
   "source": [
    "mystring=\"1,2,3,4,5,6,7,8,9\""
   ]
  },
  {
   "cell_type": "code",
   "execution_count": 38,
   "id": "cc1f385e",
   "metadata": {},
   "outputs": [
    {
     "data": {
      "text/plain": [
       "'1,2,3,4,5,6,7,8,9'"
      ]
     },
     "execution_count": 38,
     "metadata": {},
     "output_type": "execute_result"
    }
   ],
   "source": [
    "mystring[0::]"
   ]
  },
  {
   "cell_type": "code",
   "execution_count": 39,
   "id": "c7410f73",
   "metadata": {},
   "outputs": [],
   "source": [
    "swetha = ['madhu','amjana','supriya']"
   ]
  },
  {
   "cell_type": "code",
   "execution_count": 40,
   "id": "6d08a49c",
   "metadata": {},
   "outputs": [],
   "source": [
    "swetha[0] =  'MADHU IN CAPS'"
   ]
  },
  {
   "cell_type": "code",
   "execution_count": 41,
   "id": "9666a511",
   "metadata": {},
   "outputs": [
    {
     "data": {
      "text/plain": [
       "['MADHU IN CAPS', 'amjana', 'supriya']"
      ]
     },
     "execution_count": 41,
     "metadata": {},
     "output_type": "execute_result"
    }
   ],
   "source": [
    "swetha"
   ]
  },
  {
   "cell_type": "code",
   "execution_count": 42,
   "id": "c8b9b332",
   "metadata": {},
   "outputs": [],
   "source": [
    "swetha.append(\"geetha\")"
   ]
  },
  {
   "cell_type": "code",
   "execution_count": 43,
   "id": "422b34ed",
   "metadata": {},
   "outputs": [
    {
     "data": {
      "text/plain": [
       "['MADHU IN CAPS', 'amjana', 'supriya', 'geetha']"
      ]
     },
     "execution_count": 43,
     "metadata": {},
     "output_type": "execute_result"
    }
   ],
   "source": [
    "swetha"
   ]
  },
  {
   "cell_type": "code",
   "execution_count": 45,
   "id": "d973ebd8",
   "metadata": {},
   "outputs": [
    {
     "data": {
      "text/plain": [
       "'supriya'"
      ]
     },
     "execution_count": 45,
     "metadata": {},
     "output_type": "execute_result"
    }
   ],
   "source": [
    "swetha.pop(2)"
   ]
  },
  {
   "cell_type": "code",
   "execution_count": null,
   "id": "29485aed",
   "metadata": {},
   "outputs": [],
   "source": []
  }
 ],
 "metadata": {
  "kernelspec": {
   "display_name": "Python 3 (ipykernel)",
   "language": "python",
   "name": "python3"
  },
  "language_info": {
   "codemirror_mode": {
    "name": "ipython",
    "version": 3
   },
   "file_extension": ".py",
   "mimetype": "text/x-python",
   "name": "python",
   "nbconvert_exporter": "python",
   "pygments_lexer": "ipython3",
   "version": "3.11.1"
  }
 },
 "nbformat": 4,
 "nbformat_minor": 5
}
