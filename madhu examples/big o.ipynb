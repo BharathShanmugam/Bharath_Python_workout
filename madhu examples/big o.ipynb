{
 "cells": [
  {
   "cell_type": "code",
   "execution_count": 1,
   "id": "8c619f85",
   "metadata": {},
   "outputs": [
    {
     "name": "stdout",
     "output_type": "stream",
     "text": [
      "0\n",
      "1\n",
      "2\n",
      "3\n",
      "4\n",
      "5\n",
      "6\n",
      "7\n",
      "8\n",
      "9\n"
     ]
    }
   ],
   "source": [
    "#here O of n stands for number of operations these\n",
    "#O(n)\n",
    "def print_item(n):#O(n)\n",
    "    for i in range(n):\n",
    "        print(i)\n",
    "print_item(10)"
   ]
  },
  {
   "cell_type": "code",
   "execution_count": 3,
   "id": "7eea9105",
   "metadata": {
    "scrolled": true
   },
   "outputs": [
    {
     "name": "stdout",
     "output_type": "stream",
     "text": [
      "0\n",
      "1\n",
      "2\n",
      "3\n",
      "0\n",
      "1\n",
      "2\n",
      "3\n",
      "0\n",
      "1\n",
      "2\n",
      "3\n"
     ]
    }
   ],
   "source": [
    "#drop constant:\n",
    "\n",
    "#here in drop constant are more itirations but also there is only one operation>\n",
    "#so it not means how many itirations it only constant on opeerations\n",
    "#here we have i,j,k there itirations one itiration is n so n+n+n= 3n\n",
    "#but also we will consider it has n so O(n)\n",
    "#\n",
    "def print_item(n):\n",
    "    for i in range(n):\n",
    "        print(i)\n",
    "    for j in range(n):\n",
    "        print(j)\n",
    "    for k in range(n):\n",
    "        print(k)\n",
    "\n",
    "print_item(4)"
   ]
  },
  {
   "cell_type": "code",
   "execution_count": 7,
   "id": "93a6435f",
   "metadata": {},
   "outputs": [
    {
     "name": "stdout",
     "output_type": "stream",
     "text": [
      "0 0 0\n",
      "0 0 1\n",
      "0 0 2\n",
      "0 1 0\n",
      "0 1 1\n",
      "0 1 2\n",
      "0 2 0\n",
      "0 2 1\n",
      "0 2 2\n",
      "1 0 0\n",
      "1 0 1\n",
      "1 0 2\n",
      "1 1 0\n",
      "1 1 1\n",
      "1 1 2\n",
      "1 2 0\n",
      "1 2 1\n",
      "1 2 2\n",
      "2 0 0\n",
      "2 0 1\n",
      "2 0 2\n",
      "2 1 0\n",
      "2 1 1\n",
      "2 1 2\n",
      "2 2 0\n",
      "2 2 1\n",
      "2 2 2\n"
     ]
    }
   ],
   "source": [
    "#O(n2)  #it prints all the possible combinations\n",
    "def print_item(n):\n",
    "    for i in range(n):\n",
    "        for k in range(n):\n",
    "            for j in range(n):\n",
    "                print(i,k,j)\n",
    "print_item(3)"
   ]
  },
  {
   "cell_type": "code",
   "execution_count": 1,
   "id": "b8bb87ad",
   "metadata": {},
   "outputs": [],
   "source": [
    "#0(n)"
   ]
  },
  {
   "cell_type": "code",
   "execution_count": 2,
   "id": "11d5e372",
   "metadata": {},
   "outputs": [
    {
     "name": "stdout",
     "output_type": "stream",
     "text": [
      "0\n",
      "1\n",
      "2\n",
      "3\n",
      "4\n",
      "5\n",
      "6\n",
      "7\n",
      "8\n",
      "9\n"
     ]
    }
   ],
   "source": [
    "def print_items(n):\n",
    "    for i in range(n):\n",
    "        print(i)\n",
    "print_items(10)\n"
   ]
  },
  {
   "cell_type": "code",
   "execution_count": 9,
   "id": "c0653dea",
   "metadata": {},
   "outputs": [
    {
     "name": "stdout",
     "output_type": "stream",
     "text": [
      "0\n",
      "1\n",
      "2\n",
      "3\n",
      "4\n",
      "5\n",
      "6\n",
      "7\n",
      "8\n",
      "9\n",
      "0\n",
      "1\n",
      "2\n",
      "3\n",
      "4\n",
      "5\n",
      "6\n",
      "7\n",
      "8\n",
      "9\n",
      "0\n",
      "1\n",
      "2\n",
      "3\n",
      "4\n",
      "5\n",
      "6\n",
      "7\n",
      "8\n",
      "9\n"
     ]
    }
   ],
   "source": [
    "def dropconstant (n):\n",
    "    for i in range(n):\n",
    "        print (i)\n",
    "    for j in range(n):\n",
    "        print(j)\n",
    "    for k in range(n):\n",
    "        print(k)\n",
    "        \n",
    "dropconstant(10)"
   ]
  },
  {
   "cell_type": "code",
   "execution_count": 13,
   "id": "06dc13a5",
   "metadata": {},
   "outputs": [
    {
     "name": "stdout",
     "output_type": "stream",
     "text": [
      "0\n",
      "1\n",
      "2\n",
      "3\n",
      "4\n",
      "5\n",
      "6\n",
      "7\n",
      "8\n",
      "9\n",
      "0\n",
      "1\n",
      "2\n",
      "3\n",
      "4\n",
      "5\n",
      "6\n",
      "7\n",
      "8\n",
      "9\n",
      "0\n",
      "1\n",
      "2\n",
      "3\n",
      "4\n",
      "5\n",
      "6\n",
      "7\n",
      "8\n",
      "9\n"
     ]
    }
   ],
   "source": [
    "def dropconstant(n):\n",
    "    for i in range(n):\n",
    "        print(i)\n",
    "    for l in range(n):\n",
    "        print(l)\n",
    "    for d in range(n):\n",
    "        print(d)\n",
    "        \n",
    "dropconstant(10)"
   ]
  },
  {
   "cell_type": "code",
   "execution_count": 1,
   "id": "3edaeeb5",
   "metadata": {},
   "outputs": [
    {
     "name": "stdout",
     "output_type": "stream",
     "text": [
      "0 0 0\n",
      "0 0 1\n",
      "0 1 0\n",
      "0 1 1\n",
      "1 0 0\n",
      "1 0 1\n",
      "1 1 0\n",
      "1 1 1\n"
     ]
    }
   ],
   "source": [
    "#n square\n",
    "def squire(n):\n",
    "    for i in range(n):\n",
    "        for j in range(n):\n",
    "            for k in range(n):\n",
    "                print(i,j,k)\n",
    "squire(2)   #it provides the posible outcomes"
   ]
  },
  {
   "cell_type": "code",
   "execution_count": 3,
   "id": "1cce9095",
   "metadata": {},
   "outputs": [
    {
     "name": "stdout",
     "output_type": "stream",
     "text": [
      "0 0\n",
      "0 1\n",
      "0 2\n",
      "1 0\n",
      "1 1\n",
      "1 2\n",
      "2 0\n",
      "2 1\n",
      "2 2\n",
      "0\n",
      "1\n",
      "2\n"
     ]
    }
   ],
   "source": [
    "#drop constant o(n^2) +o(n) = o(n^2 + n)= o(n^2)\n",
    "\n",
    "\n",
    "def print_item(n):\n",
    "    for i in range(n):\n",
    "        for j in range(n):\n",
    "            print(i,j)\n",
    "    for k in range(n):\n",
    "        print(k)\n",
    "        \n",
    "print_item(3)"
   ]
  },
  {
   "cell_type": "code",
   "execution_count": 8,
   "id": "cd7f3ec6",
   "metadata": {},
   "outputs": [],
   "source": [
    "#O(1)  n(2)  n(3) = o(n)\n",
    "def add_item(n=10):\n",
    "    return n+n+n\n",
    "\n",
    "\n"
   ]
  },
  {
   "cell_type": "code",
   "execution_count": 9,
   "id": "0f330d8c",
   "metadata": {},
   "outputs": [],
   "source": [
    "#O(log n)\n"
   ]
  },
  {
   "cell_type": "code",
   "execution_count": 11,
   "id": "5ffbcab4",
   "metadata": {},
   "outputs": [
    {
     "name": "stdout",
     "output_type": "stream",
     "text": [
      "0\n",
      "1\n",
      "2\n",
      "3\n",
      "4\n",
      "5\n",
      "6\n",
      "7\n",
      "8\n",
      "9\n",
      "0\n",
      "1\n"
     ]
    }
   ],
   "source": [
    "#different terms of inpurt\n",
    "\n",
    "def print_item(a,b):\n",
    "    for i in range(a):\n",
    "        print(i)\n",
    "    for j in range(b):\n",
    "        print(j)\n",
    "        \n",
    "print_item(10,2)"
   ]
  },
  {
   "cell_type": "code",
   "execution_count": 12,
   "id": "dd3be2b2",
   "metadata": {},
   "outputs": [
    {
     "name": "stdout",
     "output_type": "stream",
     "text": [
      "0 0\n",
      "0 1\n",
      "1 0\n",
      "1 1\n",
      "2 0\n",
      "2 1\n",
      "3 0\n",
      "3 1\n",
      "4 0\n",
      "4 1\n",
      "5 0\n",
      "5 1\n",
      "6 0\n",
      "6 1\n",
      "7 0\n",
      "7 1\n",
      "8 0\n",
      "8 1\n",
      "9 0\n",
      "9 1\n"
     ]
    }
   ],
   "source": [
    "#DIFFERENT TERMS OF INPUT\n",
    "\n",
    "def print_item(a,b):\n",
    "    for i in range(a):\n",
    "        for j in range(b):\n",
    "            print(i,j)\n",
    "        \n",
    "print_item(10,2)"
   ]
  }
 ],
 "metadata": {
  "kernelspec": {
   "display_name": "Python 3 (ipykernel)",
   "language": "python",
   "name": "python3"
  },
  "language_info": {
   "codemirror_mode": {
    "name": "ipython",
    "version": 3
   },
   "file_extension": ".py",
   "mimetype": "text/x-python",
   "name": "python",
   "nbconvert_exporter": "python",
   "pygments_lexer": "ipython3",
   "version": "3.9.13"
  }
 },
 "nbformat": 4,
 "nbformat_minor": 5
}
