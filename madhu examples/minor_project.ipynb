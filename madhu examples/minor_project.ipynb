{
 "cells": [
  {
   "cell_type": "markdown",
   "id": "d57ec78b",
   "metadata": {},
   "source": [
    "         #FIRST PROGRAM"
   ]
  },
  {
   "cell_type": "markdown",
   "id": "fdb09493",
   "metadata": {},
   "source": [
    "***PYTHON PROGRAM TO CHECK WHETHER THE GIVEN INTEGER IS A PRIME NUMBER OR NOT ?***"
   ]
  },
  {
   "cell_type": "code",
   "execution_count": 3,
   "id": "60847c29",
   "metadata": {},
   "outputs": [
    {
     "name": "stdout",
     "output_type": "stream",
     "text": [
      "Enter your uckey number:  19\n",
      "19 Your luckey number is a prime number\n"
     ]
    }
   ],
   "source": [
    "num = int(input(\"Enter your lucky number:  \")) #taking some input from the user\n",
    "\n",
    "if num<= 1:   #checking the given number is less then are equal to 1\n",
    "    \n",
    "    print (num, \"this is not a prime number try another\")\n",
    "else:               #if the first statement is flase moving to the next statement\n",
    "    for i in range(2,num):\n",
    "        \n",
    "        if (num % i ) == 0:   #checking the number is divisible by 2 or ot\n",
    "            print (num, \"this is not a prime number\")\n",
    "            \n",
    "            break    #break use to manage the syntax error\n",
    "             #if the second statement is flase moving to the next statement\n",
    "    else:\n",
    "        print(num,\"Your luckey number is a prime number\")"
   ]
  },
  {
   "cell_type": "markdown",
   "id": "c3c6af5e",
   "metadata": {},
   "source": [
    "                      #second program"
   ]
  },
  {
   "cell_type": "markdown",
   "id": "b5401a3d",
   "metadata": {},
   "source": [
    "*** PYTHON PROGRAM TO SQURE , CUBE AND PRINT THE EXACT LIST  ***"
   ]
  },
  {
   "cell_type": "code",
   "execution_count": 6,
   "id": "90759408",
   "metadata": {},
   "outputs": [
    {
     "name": "stdout",
     "output_type": "stream",
     "text": [
      "original list of integers:   \n",
      "[1, 2, 3, 4, 5, 6, 7, 8, 9, 10]\n",
      "square every number of the geven list:\n",
      "[1, 4, 9, 16, 25, 36, 49, 64, 81, 100]\n",
      "cube every number of the geven list:\n",
      "[1, 8, 27, 64, 125, 216, 343, 512, 729, 1000]\n"
     ]
    }
   ],
   "source": [
    "nums = [1,2,3,4,5,6,7,8,9,10]   #creating a list\n",
    "\n",
    "print(\"original list of integers:   \")   #printing the exact list\n",
    "\n",
    "print(nums)\n",
    "\n",
    "print(\"square every number of the geven list:\")\n",
    "                             #square the given list\n",
    "square_nums = list(map(lambda x : x ** 2, nums))\n",
    "\n",
    "print(square_nums)\n",
    "\n",
    "print ('cube every number of the geven list:')\n",
    "                            #cube the given list\n",
    "cube_nums = list(map(lambda x:x ** 3, nums))\n",
    "\n",
    "print(cube_nums)"
   ]
  },
  {
   "cell_type": "markdown",
   "id": "0e98fea3",
   "metadata": {},
   "source": [
    "                      #third program"
   ]
  },
  {
   "cell_type": "markdown",
   "id": "42f0aab1",
   "metadata": {},
   "source": [
    "*** CONVERTING LIST TO TUPLE AS WELL AS SET ***"
   ]
  },
  {
   "cell_type": "code",
   "execution_count": 9,
   "id": "b4c3b7de",
   "metadata": {},
   "outputs": [
    {
     "name": "stdout",
     "output_type": "stream",
     "text": [
      "[5, 10, 15, 20, 25]\n",
      "(5, 10, 15, 20, 25)\n",
      "{5, 10, 15, 20, 25}\n"
     ]
    }
   ],
   "source": [
    "#creating a list\n",
    "list_x = [5,10,15,20,25]\n",
    "\n",
    "print(list_x)\n",
    "#useing the tuple() function converting the list to tuple\n",
    "tuple_x = tuple(list_x)\n",
    "\n",
    "print(tuple_x)\n",
    "#using set() function converting list into set\n",
    "set_x = set(list_x)\n",
    "print(set_x)"
   ]
  },
  {
   "cell_type": "markdown",
   "id": "242094b9",
   "metadata": {},
   "source": [
    "                      #fourth program "
   ]
  },
  {
   "cell_type": "markdown",
   "id": "77dadbf9",
   "metadata": {},
   "source": [
    "***pattern program using for loop***"
   ]
  },
  {
   "cell_type": "code",
   "execution_count": 12,
   "id": "718337cc",
   "metadata": {},
   "outputs": [
    {
     "name": "stdout",
     "output_type": "stream",
     "text": [
      "1\n",
      "22\n",
      "333\n",
      "4444\n",
      "55555\n"
     ]
    }
   ],
   "source": [
    "n=5\n",
    "#outer loop\n",
    "for i in range(n):\n",
    "    #nested loop\n",
    "    for j in range(i+1):\n",
    "        #d\n",
    "        print(1+i,end=\"\")\n",
    "    print()"
   ]
  },
  {
   "cell_type": "code",
   "execution_count": 1,
   "id": "b167e9c9",
   "metadata": {},
   "outputs": [],
   "source": [
    "a =55"
   ]
  },
  {
   "cell_type": "code",
   "execution_count": 2,
   "id": "734761ac",
   "metadata": {},
   "outputs": [
    {
     "data": {
      "text/plain": [
       "int"
      ]
     },
     "execution_count": 2,
     "metadata": {},
     "output_type": "execute_result"
    }
   ],
   "source": [
    "type(a)"
   ]
  },
  {
   "cell_type": "code",
   "execution_count": null,
   "id": "46713636",
   "metadata": {},
   "outputs": [],
   "source": []
  }
 ],
 "metadata": {
  "kernelspec": {
   "display_name": "Python 3",
   "language": "python",
   "name": "python3"
  },
  "language_info": {
   "codemirror_mode": {
    "name": "ipython",
    "version": 3
   },
   "file_extension": ".py",
   "mimetype": "text/x-python",
   "name": "python",
   "nbconvert_exporter": "python",
   "pygments_lexer": "ipython3",
   "version": "3.8.8"
  },
  "vscode": {
   "interpreter": {
    "hash": "2ca6819a7b235a9e9923d27ebe966cb7261666ab2e4abf79b2eb7e1de2b3fef6"
   }
  }
 },
 "nbformat": 4,
 "nbformat_minor": 5
}
