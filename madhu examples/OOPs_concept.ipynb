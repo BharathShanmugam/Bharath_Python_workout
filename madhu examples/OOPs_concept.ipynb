{
 "cells": [
  {
   "cell_type": "code",
   "execution_count": 1,
   "id": "5450968f",
   "metadata": {},
   "outputs": [],
   "source": [
    "#object oriented programmming (oop) allows programmers to create their own objects that have medthods and attributes.\n",
    "#recall that after defining a string,list, dictionary, or other objects, you were able to call methods off of the them with the.method_name(symtax.)"
   ]
  },
  {
   "cell_type": "code",
   "execution_count": 2,
   "id": "e31c8085",
   "metadata": {},
   "outputs": [],
   "source": [
    "#syntax:   class nameofclass();\n",
    "\n",
    "#               def _init_(self,param1,param2):\n",
    "#                  self.param1 = param1\n",
    "#                  self.param2 = param2\n",
    "\n",
    "#               def some_method(self):\n",
    "                   #perform some action\n",
    "    #              print(self.param1)"
   ]
  },
  {
   "cell_type": "code",
   "execution_count": 3,
   "id": "5a411d09",
   "metadata": {},
   "outputs": [],
   "source": [
    "#keywords and atributes. \n",
    "mylist = [1,2,3]"
   ]
  },
  {
   "cell_type": "code",
   "execution_count": 4,
   "id": "8c359c59",
   "metadata": {},
   "outputs": [],
   "source": [
    "myset = set()"
   ]
  },
  {
   "cell_type": "code",
   "execution_count": 5,
   "id": "47366f39",
   "metadata": {},
   "outputs": [
    {
     "data": {
      "text/plain": [
       "set"
      ]
     },
     "execution_count": 5,
     "metadata": {},
     "output_type": "execute_result"
    }
   ],
   "source": [
    "type(myset)\n"
   ]
  },
  {
   "cell_type": "code",
   "execution_count": 6,
   "id": "4960a886",
   "metadata": {},
   "outputs": [],
   "source": [
    "class Sample():\n",
    "    pass"
   ]
  },
  {
   "cell_type": "code",
   "execution_count": 8,
   "id": "a8a0eb18",
   "metadata": {},
   "outputs": [],
   "source": [
    "my_sample = Sample()"
   ]
  },
  {
   "cell_type": "code",
   "execution_count": 9,
   "id": "32e9e964",
   "metadata": {},
   "outputs": [
    {
     "data": {
      "text/plain": [
       "__main__.Sample"
      ]
     },
     "execution_count": 9,
     "metadata": {},
     "output_type": "execute_result"
    }
   ],
   "source": [
    "type(my_sample)"
   ]
  },
  {
   "cell_type": "code",
   "execution_count": 11,
   "id": "47837d13",
   "metadata": {},
   "outputs": [],
   "source": [
    "class Dog():\n",
    "    def __init__(self,breed):   #init act as the constructo for a class  \n",
    "                                #self keyword represents the instance of the object itself.\n",
    "        self.breed = breed      #breed is an attibute it is a parameter name"
   ]
  },
  {
   "cell_type": "code",
   "execution_count": 13,
   "id": "25a26339",
   "metadata": {},
   "outputs": [],
   "source": [
    "f\n",
    "my_dog = Dog(breed = \"lab\")"
   ]
  },
  {
   "cell_type": "code",
   "execution_count": 14,
   "id": "dc530cba",
   "metadata": {},
   "outputs": [
    {
     "data": {
      "text/plain": [
       "__main__.Dog"
      ]
     },
     "execution_count": 14,
     "metadata": {},
     "output_type": "execute_result"
    }
   ],
   "source": [
    "type(my_dog)"
   ]
  },
  {
   "cell_type": "code",
   "execution_count": 15,
   "id": "650a57d6",
   "metadata": {},
   "outputs": [
    {
     "data": {
      "text/plain": [
       "'lab'"
      ]
     },
     "execution_count": 15,
     "metadata": {},
     "output_type": "execute_result"
    }
   ],
   "source": [
    "my_dog.breed"
   ]
  },
  {
   "cell_type": "code",
   "execution_count": 1,
   "id": "8329a803",
   "metadata": {},
   "outputs": [],
   "source": [
    "class Dog():\n",
    "    \n",
    "    def __init__(self,breed,name,spots): \n",
    "         \n",
    "            #attributes\n",
    "            #we take in the argumeny\n",
    "            #assign iy using self.attribute_name\n",
    "        self.breed = breed\n",
    "        self.name = name\n",
    "        \n",
    "        #expect boolean true/false\n",
    "        self.spots = spots"
   ]
  },
  {
   "cell_type": "code",
   "execution_count": 2,
   "id": "c00b446d",
   "metadata": {},
   "outputs": [],
   "source": [
    "my_dog = Dog(breed = 'shih tuz', name = \"kubri\", spots = False )"
   ]
  },
  {
   "cell_type": "code",
   "execution_count": 3,
   "id": "028dbc9b",
   "metadata": {},
   "outputs": [
    {
     "data": {
      "text/plain": [
       "__main__.Dog"
      ]
     },
     "execution_count": 3,
     "metadata": {},
     "output_type": "execute_result"
    }
   ],
   "source": [
    "type(my_dog)"
   ]
  },
  {
   "cell_type": "code",
   "execution_count": 4,
   "id": "0b3609f2",
   "metadata": {},
   "outputs": [
    {
     "data": {
      "text/plain": [
       "'kubri'"
      ]
     },
     "execution_count": 4,
     "metadata": {},
     "output_type": "execute_result"
    }
   ],
   "source": [
    "my_dog.name"
   ]
  },
  {
   "cell_type": "code",
   "execution_count": 5,
   "id": "3038a985",
   "metadata": {},
   "outputs": [
    {
     "data": {
      "text/plain": [
       "False"
      ]
     },
     "execution_count": 5,
     "metadata": {},
     "output_type": "execute_result"
    }
   ],
   "source": [
    "my_dog.spots"
   ]
  },
  {
   "cell_type": "code",
   "execution_count": 37,
   "id": "7444e795",
   "metadata": {},
   "outputs": [],
   "source": [
    "#class object atrrinutes \n",
    "class Dog():\n",
    "    \n",
    "    #CLASS OBJECT ATTRIBUTE\n",
    "    #SAME FOR ANY INSTANCE OF A CLASS\n",
    "    species = \"mammal\"\n",
    "    \n",
    "    def __init__(self,breed,name): \n",
    "         \n",
    "            #attributes\n",
    "            #we take in the argumeny\n",
    "            #assign iy using self.attribute_name\n",
    "        self.breed = breed  #self keyword is a reference of a class\n",
    "        self.name = name\n",
    "        \n",
    "        #expect boolean true/false\n",
    "        #self.spots = spots\n",
    "        \n",
    "    #OPERATIONS/actions -------> Methods\n",
    "    def bark(self,number):\n",
    "        print('WOOF! MY NAME IS {} AND MY NUMBER IS'.format(self.name,number))\n",
    "        \n",
    "    "
   ]
  },
  {
   "cell_type": "code",
   "execution_count": 38,
   "id": "dfa31f8f",
   "metadata": {},
   "outputs": [],
   "source": [
    "#methd is a function that is inside of a class that will actually work with the object in some way "
   ]
  },
  {
   "cell_type": "code",
   "execution_count": 39,
   "id": "6df53ff8",
   "metadata": {},
   "outputs": [],
   "source": [
    "my_dog = Dog(breed = 'shih tuz', name = 'kubri')"
   ]
  },
  {
   "cell_type": "code",
   "execution_count": 40,
   "id": "3959442a",
   "metadata": {},
   "outputs": [
    {
     "data": {
      "text/plain": [
       "__main__.Dog"
      ]
     },
     "execution_count": 40,
     "metadata": {},
     "output_type": "execute_result"
    }
   ],
   "source": [
    "type(my_dog)"
   ]
  },
  {
   "cell_type": "code",
   "execution_count": 41,
   "id": "8082bc0b",
   "metadata": {},
   "outputs": [
    {
     "data": {
      "text/plain": [
       "'mammal'"
      ]
     },
     "execution_count": 41,
     "metadata": {},
     "output_type": "execute_result"
    }
   ],
   "source": [
    "my_dog.species"
   ]
  },
  {
   "cell_type": "code",
   "execution_count": 42,
   "id": "04df023a",
   "metadata": {},
   "outputs": [
    {
     "data": {
      "text/plain": [
       "'kubi'"
      ]
     },
     "execution_count": 42,
     "metadata": {},
     "output_type": "execute_result"
    }
   ],
   "source": [
    "my_dog.name"
   ]
  },
  {
   "cell_type": "code",
   "execution_count": 46,
   "id": "3c0cfc14",
   "metadata": {},
   "outputs": [
    {
     "name": "stdout",
     "output_type": "stream",
     "text": [
      "WOOF! MY NAME IS kubi AND MY NUMBER IS\n"
     ]
    }
   ],
   "source": [
    "my_dog.bark(10)   #this is how the method works"
   ]
  },
  {
   "cell_type": "code",
   "execution_count": null,
   "id": "a50da4c3",
   "metadata": {},
   "outputs": [],
   "source": []
  },
  {
   "cell_type": "code",
   "execution_count": null,
   "id": "9ab7ee9f",
   "metadata": {},
   "outputs": [],
   "source": []
  },
  {
   "cell_type": "code",
   "execution_count": null,
   "id": "d7c7c6cc",
   "metadata": {},
   "outputs": [],
   "source": []
  },
  {
   "cell_type": "code",
   "execution_count": null,
   "id": "11bb26d0",
   "metadata": {},
   "outputs": [],
   "source": []
  },
  {
   "cell_type": "code",
   "execution_count": 2,
   "id": "f40690e2",
   "metadata": {},
   "outputs": [],
   "source": [
    "class Circle():\n",
    "    \n",
    "    #CLASS OBJECT ATTRIBUTE\n",
    "    pi = 3.14\n",
    "    \n",
    "    def __init__(self, radius=1):#giveing here a defult radious\n",
    "    \n",
    "        self.radius = radius\n",
    "        self.area = radius*radius*self.pi                                         \n",
    "    \n",
    "    #METHOD\n",
    "    def get_circumfarence(self):\n",
    "        return self.radius * self.pi * 2\n",
    "    "
   ]
  },
  {
   "cell_type": "code",
   "execution_count": 3,
   "id": "201d6512",
   "metadata": {},
   "outputs": [],
   "source": [
    "#lets create a instance of the circle\n",
    "my_circle = Circle(30)"
   ]
  },
  {
   "cell_type": "code",
   "execution_count": 4,
   "id": "08779f9f",
   "metadata": {},
   "outputs": [
    {
     "data": {
      "text/plain": [
       "3.14"
      ]
     },
     "execution_count": 4,
     "metadata": {},
     "output_type": "execute_result"
    }
   ],
   "source": [
    "my_circle.pi"
   ]
  },
  {
   "cell_type": "code",
   "execution_count": 5,
   "id": "19f6c769",
   "metadata": {},
   "outputs": [
    {
     "data": {
      "text/plain": [
       "30"
      ]
     },
     "execution_count": 5,
     "metadata": {},
     "output_type": "execute_result"
    }
   ],
   "source": [
    "my_circle.radius"
   ]
  },
  {
   "cell_type": "code",
   "execution_count": 7,
   "id": "2f8fb62e",
   "metadata": {},
   "outputs": [
    {
     "data": {
      "text/plain": [
       "188.4"
      ]
     },
     "execution_count": 7,
     "metadata": {},
     "output_type": "execute_result"
    }
   ],
   "source": [
    "my_circle.get_circumfarence()"
   ]
  },
  {
   "cell_type": "code",
   "execution_count": 8,
   "id": "7296185a",
   "metadata": {},
   "outputs": [],
   "source": [
    "#object oriented programming(oop)allowa programmers to create their own objects that\n",
    "#have methods and attributes\n",
    "####Recall that after defining a string ,list,dictionar, or otherobjects, you were able\n",
    "#to call methods off of them with the .method_name()syntax() "
   ]
  },
  {
   "cell_type": "code",
   "execution_count": 9,
   "id": "3e1157d1",
   "metadata": {},
   "outputs": [],
   "source": [
    "#syntax:\n",
    "#def__init__(self,param1,param2):\n",
    "#   self.param1 = param1\n",
    "#   self.param2 = param2\n",
    "\n",
    "\n",
    "#def some_method(self):\n",
    "     #perform some action\n",
    "    #print(self.param)"
   ]
  },
  {
   "cell_type": "code",
   "execution_count": 10,
   "id": "07e77e48",
   "metadata": {},
   "outputs": [],
   "source": [
    "mylist = [1,2,3]"
   ]
  },
  {
   "cell_type": "code",
   "execution_count": 15,
   "id": "9e04463a",
   "metadata": {},
   "outputs": [],
   "source": [
    "class Sample():  #_ (underscore should not be use here)\n",
    "    pass"
   ]
  },
  {
   "cell_type": "code",
   "execution_count": 18,
   "id": "98f5bd2b",
   "metadata": {},
   "outputs": [],
   "source": [
    "my_sample = Sample() #my_sample is the instance of the class"
   ]
  },
  {
   "cell_type": "code",
   "execution_count": 19,
   "id": "337a38a7",
   "metadata": {},
   "outputs": [
    {
     "data": {
      "text/plain": [
       "__main__.Sample"
      ]
     },
     "execution_count": 19,
     "metadata": {},
     "output_type": "execute_result"
    }
   ],
   "source": [
    "type(my_sample)"
   ]
  },
  {
   "cell_type": "code",
   "execution_count": 1,
   "id": "bf4fbeb5",
   "metadata": {},
   "outputs": [],
   "source": [
    "# to creae attrebutes"
   ]
  },
  {
   "cell_type": "code",
   "execution_count": null,
   "id": "91eb1718",
   "metadata": {},
   "outputs": [],
   "source": []
  },
  {
   "cell_type": "code",
   "execution_count": null,
   "id": "67fef791",
   "metadata": {},
   "outputs": [],
   "source": []
  },
  {
   "cell_type": "code",
   "execution_count": 35,
   "id": "dd2733ab",
   "metadata": {},
   "outputs": [],
   "source": [
    "class Dog():\n",
    "    def __init__(self,breed,dogname,spots): \n",
    "        \n",
    "        self.breed = mybreed\n",
    "        self.name = dogname\n",
    "        self.spot = spots"
   ]
  },
  {
   "cell_type": "code",
   "execution_count": 36,
   "id": "1ff90b41",
   "metadata": {},
   "outputs": [],
   "source": [
    "my_dog = Dog(mybreed = 'shih tuz', dogname = 'kubri', spots = False)"
   ]
  },
  {
   "cell_type": "code",
   "execution_count": 37,
   "id": "430ab2e9",
   "metadata": {},
   "outputs": [
    {
     "data": {
      "text/plain": [
       "__main__.Dog"
      ]
     },
     "execution_count": 37,
     "metadata": {},
     "output_type": "execute_result"
    }
   ],
   "source": [
    "type(my_dog)"
   ]
  },
  {
   "cell_type": "code",
   "execution_count": 40,
   "id": "7b4598ea",
   "metadata": {},
   "outputs": [
    {
     "data": {
      "text/plain": [
       "'kubri'"
      ]
     },
     "execution_count": 40,
     "metadata": {},
     "output_type": "execute_result"
    }
   ],
   "source": [
    "my_dog.name\n"
   ]
  },
  {
   "cell_type": "code",
   "execution_count": 39,
   "id": "15979df9",
   "metadata": {},
   "outputs": [
    {
     "data": {
      "text/plain": [
       "'shih tuz'"
      ]
     },
     "execution_count": 39,
     "metadata": {},
     "output_type": "execute_result"
    }
   ],
   "source": [
    "my_dog.breed"
   ]
  },
  {
   "cell_type": "code",
   "execution_count": null,
   "id": "86164c88",
   "metadata": {},
   "outputs": [],
   "source": []
  },
  {
   "cell_type": "code",
   "execution_count": null,
   "id": "2336421e",
   "metadata": {},
   "outputs": [],
   "source": []
  },
  {
   "cell_type": "code",
   "execution_count": null,
   "id": "f1dc6439",
   "metadata": {},
   "outputs": [],
   "source": []
  },
  {
   "cell_type": "code",
   "execution_count": null,
   "id": "8cf0a04b",
   "metadata": {},
   "outputs": [],
   "source": []
  },
  {
   "cell_type": "code",
   "execution_count": null,
   "id": "e51e3947",
   "metadata": {},
   "outputs": [],
   "source": []
  },
  {
   "cell_type": "code",
   "execution_count": null,
   "id": "4fe1b207",
   "metadata": {},
   "outputs": [],
   "source": []
  },
  {
   "cell_type": "code",
   "execution_count": 13,
   "id": "fa473807",
   "metadata": {},
   "outputs": [],
   "source": [
    "class Sample():\n",
    "    pass\n"
   ]
  },
  {
   "cell_type": "code",
   "execution_count": 14,
   "id": "db8f4afa",
   "metadata": {},
   "outputs": [],
   "source": [
    "my_sample = Sample()"
   ]
  },
  {
   "cell_type": "code",
   "execution_count": 15,
   "id": "97a02b10",
   "metadata": {},
   "outputs": [
    {
     "data": {
      "text/plain": [
       "__main__.Sample"
      ]
     },
     "execution_count": 15,
     "metadata": {},
     "output_type": "execute_result"
    }
   ],
   "source": [
    "type(my_sample)"
   ]
  },
  {
   "cell_type": "code",
   "execution_count": 20,
   "id": "73e1deaf",
   "metadata": {},
   "outputs": [],
   "source": [
    "class Dog():\n",
    "    def __init__(self,breed):\n",
    "        self.breeds = breed "
   ]
  },
  {
   "cell_type": "code",
   "execution_count": 21,
   "id": "80954056",
   "metadata": {},
   "outputs": [],
   "source": [
    "my_dog = Dog(breed = \"shih tuz\")"
   ]
  },
  {
   "cell_type": "code",
   "execution_count": 23,
   "id": "06ca8a58",
   "metadata": {},
   "outputs": [
    {
     "data": {
      "text/plain": [
       "'shih tuz'"
      ]
     },
     "execution_count": 23,
     "metadata": {},
     "output_type": "execute_result"
    }
   ],
   "source": [
    "my_dog.breeds"
   ]
  },
  {
   "cell_type": "code",
   "execution_count": 1,
   "id": "61803142",
   "metadata": {},
   "outputs": [],
   "source": [
    "class Dog():\n",
    "    \n",
    "    def __init__(self, name, age, classs):\n",
    "        \n",
    "        self.names = name\n",
    "        self.ages = age\n",
    "        self.classes =classs\n",
    "#method function\n",
    "    def bark(self,number):\n",
    "        print(\"WOOF! my name is {} and my number is {}\".format(self.names,number))"
   ]
  },
  {
   "cell_type": "code",
   "execution_count": 2,
   "id": "8aac3731",
   "metadata": {},
   "outputs": [],
   "source": [
    "my_pig = Dog(name = \"vijay\", age = 19 ,classs = \"3rd year\")"
   ]
  },
  {
   "cell_type": "code",
   "execution_count": 3,
   "id": "4b00f377",
   "metadata": {},
   "outputs": [
    {
     "data": {
      "text/plain": [
       "'vijay'"
      ]
     },
     "execution_count": 3,
     "metadata": {},
     "output_type": "execute_result"
    }
   ],
   "source": [
    "my_pig.names"
   ]
  },
  {
   "cell_type": "code",
   "execution_count": 4,
   "id": "2693bf89",
   "metadata": {},
   "outputs": [
    {
     "data": {
      "text/plain": [
       "19"
      ]
     },
     "execution_count": 4,
     "metadata": {},
     "output_type": "execute_result"
    }
   ],
   "source": [
    "my_pig.ages"
   ]
  },
  {
   "cell_type": "code",
   "execution_count": 5,
   "id": "12521453",
   "metadata": {},
   "outputs": [
    {
     "data": {
      "text/plain": [
       "'3rd year'"
      ]
     },
     "execution_count": 5,
     "metadata": {},
     "output_type": "execute_result"
    }
   ],
   "source": [
    "my_pig.classes"
   ]
  },
  {
   "cell_type": "code",
   "execution_count": 6,
   "id": "ddbac0c2",
   "metadata": {},
   "outputs": [
    {
     "name": "stdout",
     "output_type": "stream",
     "text": [
      "WOOF! my name is vijay and my number is 10\n"
     ]
    }
   ],
   "source": [
    "my_pig.bark(10)"
   ]
  },
  {
   "cell_type": "markdown",
   "id": "1e9a2006",
   "metadata": {},
   "source": [
    "#CLASS OBJECT ATTRIBUTE"
   ]
  },
  {
   "cell_type": "code",
   "execution_count": 1,
   "id": "902b97cc",
   "metadata": {},
   "outputs": [],
   "source": [
    "class circle():\n",
    "    pi = 3.41\n",
    "    def __init__ (self,radius = 1):\n",
    "        self.radius =radius\n",
    "        self.ares = radius*radius*self.pi\n",
    "    #method\n",
    "    def get_circumference(self):\n",
    "        return self.radius * self.pi * 2"
   ]
  },
  {
   "cell_type": "code",
   "execution_count": 2,
   "id": "b338af60",
   "metadata": {},
   "outputs": [],
   "source": [
    "my_circle = circle()"
   ]
  },
  {
   "cell_type": "code",
   "execution_count": 3,
   "id": "6502c1fe",
   "metadata": {},
   "outputs": [
    {
     "data": {
      "text/plain": [
       "3.41"
      ]
     },
     "execution_count": 3,
     "metadata": {},
     "output_type": "execute_result"
    }
   ],
   "source": [
    "my_circle.pi"
   ]
  },
  {
   "cell_type": "code",
   "execution_count": 4,
   "id": "4befa8f8",
   "metadata": {},
   "outputs": [
    {
     "data": {
      "text/plain": [
       "3.41"
      ]
     },
     "execution_count": 4,
     "metadata": {},
     "output_type": "execute_result"
    }
   ],
   "source": [
    "circle.pi"
   ]
  },
  {
   "cell_type": "code",
   "execution_count": 5,
   "id": "62ffe0f9",
   "metadata": {},
   "outputs": [
    {
     "data": {
      "text/plain": [
       "1"
      ]
     },
     "execution_count": 5,
     "metadata": {},
     "output_type": "execute_result"
    }
   ],
   "source": [
    "my_circle.radius"
   ]
  },
  {
   "cell_type": "markdown",
   "id": "11b1c28c",
   "metadata": {},
   "source": [
    " INHERITIANCE AND POLIMORPHISM"
   ]
  },
  {
   "cell_type": "markdown",
   "id": "fa611a8c",
   "metadata": {},
   "source": [
    "inheritance : an inheritance is basically a way to form new classes using \n",
    "classes that have been alredy defined .The benigits of inheritance are the \n",
    "ability to reuse code thar you've alredy worked and reduce the complexity \n",
    "of a program\n"
   ]
  },
  {
   "cell_type": "code",
   "execution_count": 9,
   "id": "07474781",
   "metadata": {},
   "outputs": [],
   "source": [
    "#base class\n",
    "class Animal():\n",
    "    def __init__(self):\n",
    "        print(\"animal created\")\n",
    "    def who_am_i(self):\n",
    "        print(\"i am an animal\")\n",
    "    def eat(self):\n",
    "        print(\"i am eating\")"
   ]
  },
  {
   "cell_type": "code",
   "execution_count": 10,
   "id": "d03ac2ce",
   "metadata": {},
   "outputs": [],
   "source": [
    "#creating another dog class and inhiriting the animal class into the dog \n",
    "#class\n",
    "class Dog(Animal):\n",
    "    def __init__(self):\n",
    "        Animal.__init__(self)\n",
    "        print(\"Dog class created\")\n",
    "#deriving this from the animal class to the dog class \n",
    "    def who_am_i(self):\n",
    "        print(\"i am a dog\")\n",
    "#its able to overwrite the previous methods of your base class in case \n",
    "#you need\n",
    "    def bark(self):\n",
    "        print('Woof!')\n",
    "#we can also over write here"
   ]
  },
  {
   "cell_type": "code",
   "execution_count": 11,
   "id": "543f7a98",
   "metadata": {},
   "outputs": [
    {
     "name": "stdout",
     "output_type": "stream",
     "text": [
      "animal created\n",
      "Dog class created\n"
     ]
    }
   ],
   "source": [
    "mydog =  Dog()\n"
   ]
  },
  {
   "cell_type": "code",
   "execution_count": 12,
   "id": "0006ca2f",
   "metadata": {},
   "outputs": [
    {
     "name": "stdout",
     "output_type": "stream",
     "text": [
      "i am eating\n"
     ]
    }
   ],
   "source": [
    "mydog.eat()"
   ]
  },
  {
   "cell_type": "code",
   "execution_count": 26,
   "id": "4752401a",
   "metadata": {},
   "outputs": [
    {
     "name": "stdout",
     "output_type": "stream",
     "text": [
      "i am a dog\n"
     ]
    }
   ],
   "source": [
    "mydog.who_am_i()"
   ]
  },
  {
   "cell_type": "code",
   "execution_count": 27,
   "id": "45c13ee8",
   "metadata": {},
   "outputs": [
    {
     "name": "stdout",
     "output_type": "stream",
     "text": [
      "Woof!\n"
     ]
    }
   ],
   "source": [
    "mydog.bark()"
   ]
  },
  {
   "cell_type": "code",
   "execution_count": 10,
   "id": "a4cc9645",
   "metadata": {},
   "outputs": [
    {
     "name": "stdout",
     "output_type": "stream",
     "text": [
      "animal created\n"
     ]
    }
   ],
   "source": [
    "myanimal = Animal()"
   ]
  },
  {
   "cell_type": "code",
   "execution_count": 11,
   "id": "3a7565c1",
   "metadata": {},
   "outputs": [
    {
     "name": "stdout",
     "output_type": "stream",
     "text": [
      "i am eating\n"
     ]
    }
   ],
   "source": [
    "myanimal.eat()"
   ]
  },
  {
   "cell_type": "markdown",
   "id": "266fe727",
   "metadata": {},
   "source": [
    "POLIMORPHISM"
   ]
  },
  {
   "cell_type": "markdown",
   "id": "4cb64994",
   "metadata": {},
   "source": [
    "In puthon polumorphism refers to the way in which diggerent object class\n",
    "can share the same method and then those methods can be called from the\n",
    "same place, even though a variety of different objects might be passed"
   ]
  },
  {
   "cell_type": "code",
   "execution_count": 28,
   "id": "e4db3a13",
   "metadata": {},
   "outputs": [],
   "source": [
    "class dog():\n",
    "    \n",
    "    def __init__(self,name):\n",
    "        self.name = name\n",
    "    def speak(self): #there use the same method name\n",
    "        return self.name + \"says woof!\""
   ]
  },
  {
   "cell_type": "code",
   "execution_count": 29,
   "id": "b4081c46",
   "metadata": {},
   "outputs": [],
   "source": [
    "class cat():\n",
    "    \n",
    "    def __init__(self,name):\n",
    "        self.name = name\n",
    "    def speak(self):   #there use the same method name\n",
    "        return self.name + \"says meow!\""
   ]
  },
  {
   "cell_type": "code",
   "execution_count": 30,
   "id": "41ce92fb",
   "metadata": {},
   "outputs": [],
   "source": [
    "kubri = dog(\"kubri\")\n",
    "candy = cat(\"candy\")"
   ]
  },
  {
   "cell_type": "code",
   "execution_count": 31,
   "id": "0f6e083f",
   "metadata": {},
   "outputs": [
    {
     "name": "stdout",
     "output_type": "stream",
     "text": [
      "kubrisays woof!\n"
     ]
    }
   ],
   "source": [
    "print(kubri.speak())"
   ]
  },
  {
   "cell_type": "code",
   "execution_count": 32,
   "id": "a5e5f1ed",
   "metadata": {},
   "outputs": [
    {
     "name": "stdout",
     "output_type": "stream",
     "text": [
      "candysays meow!\n"
     ]
    }
   ],
   "source": [
    "print(candy.speak())"
   ]
  },
  {
   "cell_type": "markdown",
   "id": "30f83271",
   "metadata": {},
   "source": [
    "methods"
   ]
  },
  {
   "cell_type": "code",
   "execution_count": 20,
   "id": "8511f1c0",
   "metadata": {},
   "outputs": [],
   "source": [
    "class Dog():\n",
    "    def __init__(self,name,age,sports):\n",
    "        self.name = name\n",
    "        self.age = age\n",
    "        self.sports = sports\n",
    "#method function\n",
    "    def bark(self):\n",
    "        print('WOOF!')"
   ]
  },
  {
   "cell_type": "code",
   "execution_count": 21,
   "id": "9c687ac6",
   "metadata": {},
   "outputs": [],
   "source": [
    "mydog = Dog(name = \"kubri\", age = 1, sports = False)"
   ]
  },
  {
   "cell_type": "code",
   "execution_count": 22,
   "id": "53176f1a",
   "metadata": {},
   "outputs": [
    {
     "data": {
      "text/plain": [
       "'kubri'"
      ]
     },
     "execution_count": 22,
     "metadata": {},
     "output_type": "execute_result"
    }
   ],
   "source": [
    "mydog.name"
   ]
  },
  {
   "cell_type": "code",
   "execution_count": 23,
   "id": "f94455e3",
   "metadata": {},
   "outputs": [
    {
     "data": {
      "text/plain": [
       "1"
      ]
     },
     "execution_count": 23,
     "metadata": {},
     "output_type": "execute_result"
    }
   ],
   "source": [
    "mydog.age"
   ]
  },
  {
   "cell_type": "code",
   "execution_count": 24,
   "id": "c3d5bd67",
   "metadata": {},
   "outputs": [
    {
     "name": "stdout",
     "output_type": "stream",
     "text": [
      "WOOF!\n"
     ]
    }
   ],
   "source": [
    "mydog.bark()"
   ]
  },
  {
   "cell_type": "markdown",
   "id": "538ea156",
   "metadata": {},
   "source": [
    "inheritance"
   ]
  },
  {
   "cell_type": "code",
   "execution_count": 14,
   "id": "05a66343",
   "metadata": {},
   "outputs": [],
   "source": [
    "class Animal():\n",
    "    def __init__(self):\n",
    "        print(\"animal class created\")\n",
    "    def who_am_i(self):\n",
    "        print(\"i am a animal\")\n",
    "    def eat(self):\n",
    "        print(\"i eat vegitables\")\n",
    "    def habit(self):\n",
    "        print(\"i go round\")"
   ]
  },
  {
   "cell_type": "code",
   "execution_count": 15,
   "id": "33cd6d63",
   "metadata": {},
   "outputs": [
    {
     "name": "stdout",
     "output_type": "stream",
     "text": [
      "animal class created\n"
     ]
    }
   ],
   "source": [
    "myanimal= Animal()"
   ]
  },
  {
   "cell_type": "code",
   "execution_count": 25,
   "id": "49416d02",
   "metadata": {},
   "outputs": [],
   "source": [
    "class Cat(Animal):\n",
    "    def __init__(self):\n",
    "        print(\"cat class is creates\")\n",
    "    def habit(self):\n",
    "        print('i round around')\n",
    "    def colour(self):\n",
    "        print(\"i am in white\")"
   ]
  },
  {
   "cell_type": "code",
   "execution_count": null,
   "id": "55bf80bd",
   "metadata": {},
   "outputs": [],
   "source": []
  },
  {
   "cell_type": "code",
   "execution_count": 17,
   "id": "fc4cbb95",
   "metadata": {},
   "outputs": [
    {
     "name": "stdout",
     "output_type": "stream",
     "text": [
      "cat class is creates\n"
     ]
    }
   ],
   "source": [
    "mycat = Cat()"
   ]
  },
  {
   "cell_type": "code",
   "execution_count": 18,
   "id": "7d964f35",
   "metadata": {},
   "outputs": [
    {
     "name": "stdout",
     "output_type": "stream",
     "text": [
      "i am a animal\n"
     ]
    }
   ],
   "source": [
    "mycat.who_am_i()"
   ]
  },
  {
   "cell_type": "code",
   "execution_count": 19,
   "id": "26d89da3",
   "metadata": {},
   "outputs": [
    {
     "name": "stdout",
     "output_type": "stream",
     "text": [
      "i round around\n"
     ]
    }
   ],
   "source": [
    "mycat.habit()"
   ]
  },
  {
   "cell_type": "code",
   "execution_count": 21,
   "id": "296ed41b",
   "metadata": {},
   "outputs": [
    {
     "name": "stdout",
     "output_type": "stream",
     "text": [
      "i am a animal\n"
     ]
    }
   ],
   "source": [
    "mycat.who_am_i()"
   ]
  },
  {
   "cell_type": "code",
   "execution_count": 23,
   "id": "6608e318",
   "metadata": {},
   "outputs": [
    {
     "name": "stdout",
     "output_type": "stream",
     "text": [
      "i round around\n"
     ]
    }
   ],
   "source": [
    "mycat.habit()"
   ]
  },
  {
   "cell_type": "markdown",
   "id": "f3fefcaf",
   "metadata": {},
   "source": [
    "polimorphisum"
   ]
  },
  {
   "cell_type": "code",
   "execution_count": 4,
   "id": "116c7169",
   "metadata": {},
   "outputs": [],
   "source": [
    "class Dog():\n",
    "    \n",
    "    def __init__(self,name):\n",
    "        self.name = name\n",
    "    def speak(self):\n",
    "        return self.name + \" says woof!\""
   ]
  },
  {
   "cell_type": "code",
   "execution_count": 5,
   "id": "aeb5a46a",
   "metadata": {},
   "outputs": [],
   "source": [
    "class Cat():\n",
    "    \n",
    "    def __init__(self,name):\n",
    "        self.name = name\n",
    "    def speak(self):\n",
    "        return self.name + \" says meow!\""
   ]
  },
  {
   "cell_type": "code",
   "execution_count": 10,
   "id": "a409f046",
   "metadata": {},
   "outputs": [],
   "source": [
    "kubri = Dog(\"kubri\")\n",
    "candy = Cat(\"candy\")"
   ]
  },
  {
   "cell_type": "code",
   "execution_count": 11,
   "id": "bbcb53bb",
   "metadata": {},
   "outputs": [
    {
     "name": "stdout",
     "output_type": "stream",
     "text": [
      "kubri says woof!\n"
     ]
    }
   ],
   "source": [
    "print(kubri.speak())\n"
   ]
  },
  {
   "cell_type": "code",
   "execution_count": 12,
   "id": "7aa781c8",
   "metadata": {},
   "outputs": [
    {
     "name": "stdout",
     "output_type": "stream",
     "text": [
      "candy says meow!\n"
     ]
    }
   ],
   "source": [
    "print(candy.speak())"
   ]
  },
  {
   "cell_type": "code",
   "execution_count": 13,
   "id": "1cbdf8fc",
   "metadata": {},
   "outputs": [
    {
     "name": "stdout",
     "output_type": "stream",
     "text": [
      "kubri says woof!\n",
      "candy says meow!\n"
     ]
    }
   ],
   "source": [
    "for pet in [kubri,candy]:\n",
    "    print(pet.speak())"
   ]
  },
  {
   "cell_type": "code",
   "execution_count": 14,
   "id": "ed8ab796",
   "metadata": {},
   "outputs": [],
   "source": [
    "#inhertance "
   ]
  },
  {
   "cell_type": "code",
   "execution_count": 15,
   "id": "80ed023a",
   "metadata": {},
   "outputs": [],
   "source": [
    "#types of inhertance :\n",
    "#single inheritance  2multilevel inhertance 3 multi inheritance 4Hieachical inheritance"
   ]
  },
  {
   "cell_type": "code",
   "execution_count": 16,
   "id": "28257861",
   "metadata": {},
   "outputs": [],
   "source": [
    "#single inheritace: if follows the relationship of parent and child relation ship\n",
    "#the data transfars from parent class to child class."
   ]
  },
  {
   "cell_type": "code",
   "execution_count": 17,
   "id": "90374423",
   "metadata": {},
   "outputs": [],
   "source": [
    "class Parent:\n",
    "    def fun1(self):\n",
    "        return \"i am from parent class\""
   ]
  },
  {
   "cell_type": "code",
   "execution_count": 18,
   "id": "6681f744",
   "metadata": {},
   "outputs": [],
   "source": [
    "class Child(Parent):\n",
    "    def fun2(self):\n",
    "        print(\"i am from child class\")"
   ]
  },
  {
   "cell_type": "code",
   "execution_count": 19,
   "id": "2f9d21a3",
   "metadata": {},
   "outputs": [
    {
     "data": {
      "text/plain": [
       "'i am from parent class'"
      ]
     },
     "execution_count": 19,
     "metadata": {},
     "output_type": "execute_result"
    }
   ],
   "source": [
    "obj = Child()\n",
    "obj.fun1()"
   ]
  },
  {
   "cell_type": "code",
   "execution_count": 20,
   "id": "8c3e2a28",
   "metadata": {},
   "outputs": [],
   "source": [
    "#multilevel inheritance: this follows the relationship between the grand parent, parent and child"
   ]
  },
  {
   "cell_type": "code",
   "execution_count": 21,
   "id": "02791096",
   "metadata": {},
   "outputs": [],
   "source": [
    "class GrandParent:\n",
    "    def fun1(self):\n",
    "        print(\"i am from grand parent class\")"
   ]
  },
  {
   "cell_type": "code",
   "execution_count": 22,
   "id": "6ce4fb8f",
   "metadata": {},
   "outputs": [],
   "source": [
    "class Parent(GrandParent):\n",
    "    def fun2(self):\n",
    "        print(\"i am from parent class\")"
   ]
  },
  {
   "cell_type": "code",
   "execution_count": 23,
   "id": "1f191098",
   "metadata": {},
   "outputs": [],
   "source": [
    "class Child(Parent):\n",
    "    def fun3(self):\n",
    "        print(\"i am from child class\")"
   ]
  },
  {
   "cell_type": "code",
   "execution_count": 24,
   "id": "6d16d7d1",
   "metadata": {},
   "outputs": [
    {
     "name": "stdout",
     "output_type": "stream",
     "text": [
      "i am from grand parent class\n"
     ]
    }
   ],
   "source": [
    "obj = Child()\n",
    "obj.fun1()"
   ]
  },
  {
   "cell_type": "code",
   "execution_count": 25,
   "id": "4ebec123",
   "metadata": {},
   "outputs": [],
   "source": [
    "#hierachical inheritance"
   ]
  },
  {
   "cell_type": "code",
   "execution_count": 26,
   "id": "b85406a9",
   "metadata": {},
   "outputs": [],
   "source": [
    "#hierachical inheritace: it contains two child class and one parent class"
   ]
  },
  {
   "cell_type": "code",
   "execution_count": 27,
   "id": "caafe072",
   "metadata": {},
   "outputs": [],
   "source": [
    "class Parent:\n",
    "    def fun1(self):\n",
    "        print(\" i am from the parent class\")"
   ]
  },
  {
   "cell_type": "code",
   "execution_count": 28,
   "id": "57baadb1",
   "metadata": {},
   "outputs": [],
   "source": [
    "class Child1(Parent):\n",
    "    def fun2(self):\n",
    "        print(\"i am from the child1 class\")"
   ]
  },
  {
   "cell_type": "code",
   "execution_count": 29,
   "id": "ab2ba0af",
   "metadata": {},
   "outputs": [],
   "source": [
    "class Child2(Parent):\n",
    "    def fun3(self):\n",
    "        print(\"i am from the child2 class\")"
   ]
  },
  {
   "cell_type": "code",
   "execution_count": 30,
   "id": "2f9c96c1",
   "metadata": {},
   "outputs": [
    {
     "name": "stdout",
     "output_type": "stream",
     "text": [
      " i am from the parent class\n",
      " i am from the parent class\n"
     ]
    }
   ],
   "source": [
    "obj= Child1()\n",
    "obj2 = Child2()\n",
    "obj.fun1()\n",
    "obj2.fun1()"
   ]
  },
  {
   "cell_type": "code",
   "execution_count": 31,
   "id": "dc992bb0",
   "metadata": {},
   "outputs": [],
   "source": [
    "#multiple inheritance : that one child has two parents"
   ]
  },
  {
   "cell_type": "code",
   "execution_count": 32,
   "id": "1e72039b",
   "metadata": {},
   "outputs": [],
   "source": [
    "class Mother:\n",
    "    def fun1(self):\n",
    "        print(\"i am the mother\")"
   ]
  },
  {
   "cell_type": "code",
   "execution_count": 33,
   "id": "773f3bc4",
   "metadata": {},
   "outputs": [],
   "source": [
    "class Father:\n",
    "    def fun2(self):\n",
    "        print(\"i am the father\")"
   ]
  },
  {
   "cell_type": "code",
   "execution_count": 34,
   "id": "0b5a48b4",
   "metadata": {},
   "outputs": [],
   "source": [
    "class Child(Mother,Father):\n",
    "    def fun3(self):\n",
    "        print(\" i am the child\")"
   ]
  },
  {
   "cell_type": "code",
   "execution_count": 37,
   "id": "81cfe87e",
   "metadata": {},
   "outputs": [
    {
     "name": "stdout",
     "output_type": "stream",
     "text": [
      "i am the mother\n",
      "i am the father\n"
     ]
    }
   ],
   "source": [
    "obj = Child()\n",
    "obj.fun1()\n",
    "obj.fun2()"
   ]
  },
  {
   "cell_type": "code",
   "execution_count": null,
   "id": "7a219e77",
   "metadata": {},
   "outputs": [],
   "source": []
  },
  {
   "cell_type": "code",
   "execution_count": null,
   "id": "fcbc3a3b",
   "metadata": {},
   "outputs": [],
   "source": []
  },
  {
   "cell_type": "code",
   "execution_count": null,
   "id": "df978510",
   "metadata": {},
   "outputs": [],
   "source": []
  }
 ],
 "metadata": {
  "kernelspec": {
   "display_name": "Python 3 (ipykernel)",
   "language": "python",
   "name": "python3"
  },
  "language_info": {
   "codemirror_mode": {
    "name": "ipython",
    "version": 3
   },
   "file_extension": ".py",
   "mimetype": "text/x-python",
   "name": "python",
   "nbconvert_exporter": "python",
   "pygments_lexer": "ipython3",
   "version": "3.11.1"
  }
 },
 "nbformat": 4,
 "nbformat_minor": 5
}
