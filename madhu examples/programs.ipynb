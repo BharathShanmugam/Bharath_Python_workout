{
 "cells": [
  {
   "cell_type": "code",
   "execution_count": 1,
   "id": "9897827e",
   "metadata": {},
   "outputs": [],
   "source": [
    "#prime number\n",
    "#the number which divisible by 1 and by it self is known as prime number"
   ]
  },
  {
   "cell_type": "code",
   "execution_count": 2,
   "id": "509cc7b3",
   "metadata": {},
   "outputs": [],
   "source": [
    "#for loop , if condition, if else condition"
   ]
  },
  {
   "cell_type": "code",
   "execution_count": 11,
   "id": "2d852580",
   "metadata": {},
   "outputs": [
    {
     "name": "stdout",
     "output_type": "stream",
     "text": [
      "Enter number:   5\n",
      "prime number\n"
     ]
    }
   ],
   "source": [
    "count = 0\n",
    "n = int(input(\"Enter number:   \"))\n",
    "for i in range (1,n+1):  #range function ignoring number\n",
    "    if n%i == 0:\n",
    "        count = count + 1\n",
    "if count == 2:\n",
    "        print(\"prime number\")\n",
    "else:\n",
    "        print(\"not prime\")"
   ]
  },
  {
   "cell_type": "code",
   "execution_count": 6,
   "id": "45933eba",
   "metadata": {},
   "outputs": [
    {
     "name": "stdout",
     "output_type": "stream",
     "text": [
      "enter a number:   5\n",
      "prime number\n"
     ]
    }
   ],
   "source": [
    "#prime number\n",
    "count = 0\n",
    "n = int(input(\"enter a number:   \"))\n",
    "for i in range(1,n+1):\n",
    "    if n % i == 0:\n",
    "        count += 1\n",
    "if count == 2:\n",
    "    print (\"prime number\")\n",
    "else:\n",
    "    print(\"not prime\")"
   ]
  },
  {
   "cell_type": "code",
   "execution_count": null,
   "id": "96357dff",
   "metadata": {},
   "outputs": [],
   "source": []
  },
  {
   "cell_type": "code",
   "execution_count": 3,
   "id": "09822e8f",
   "metadata": {},
   "outputs": [
    {
     "name": "stdout",
     "output_type": "stream",
     "text": [
      "enter a number:  5\n",
      "it is a prime\n"
     ]
    }
   ],
   "source": [
    "#prime number\n",
    "n=int(input(\"enter a number:  \"))\n",
    "if n>=1:\n",
    "    for i in range(2,n):\n",
    "        if (n%i)==0:\n",
    "            print(n,\"it is not a prime number\")\n",
    "            break\n",
    "    else:\n",
    "        print('it is a prime')"
   ]
  },
  {
   "cell_type": "code",
   "execution_count": 2,
   "id": "6dd06058",
   "metadata": {},
   "outputs": [
    {
     "name": "stdout",
     "output_type": "stream",
     "text": [
      "2\n",
      "3\n",
      "4\n",
      "5\n",
      "6\n",
      "7\n"
     ]
    }
   ],
   "source": [
    "for i in range(2,8):\n",
    "    print(i)\n"
   ]
  },
  {
   "cell_type": "code",
   "execution_count": null,
   "id": "016d0126",
   "metadata": {},
   "outputs": [],
   "source": [
    "n=input(\"enter a number:  \")\n",
    "reverse=n[::-1]\n",
    "if n==reverse:\n",
    "    print(\"it is a palindrom\")\n",
    "else:\n",
    "        print(\"it is  not a palindrom\")"
   ]
  },
  {
   "cell_type": "code",
   "execution_count": 2,
   "id": "94c2e36f",
   "metadata": {},
   "outputs": [
    {
     "name": "stdout",
     "output_type": "stream",
     "text": [
      "enter a number:  371\n",
      "it is a amstrong number\n"
     ]
    }
   ],
   "source": [
    "n=input(\"enter a number:  \")\n",
    "sum=0\n",
    "for i in n:\n",
    "    sum=sum + int(i)**3\n",
    "if sum==int(n):\n",
    "    print(\"it is a amstrong number\")\n",
    "else:\n",
    "    print(\"it is not a amstrong number\")\n",
    "    "
   ]
  },
  {
   "cell_type": "code",
   "execution_count": 5,
   "id": "014bc2cc",
   "metadata": {},
   "outputs": [
    {
     "name": "stdout",
     "output_type": "stream",
     "text": [
      "enter a number:  7\n",
      "it is odd number\n"
     ]
    }
   ],
   "source": [
    "n=int(input(\"enter a number:  \"))\n",
    "if n%2==0:\n",
    "    print(\"it is even number\")\n",
    "else:\n",
    "    print(\"it is odd number\")"
   ]
  },
  {
   "cell_type": "code",
   "execution_count": 12,
   "id": "cb42cbba",
   "metadata": {},
   "outputs": [],
   "source": [
    "def Missing(num):\n",
    "    i=1\n",
    "    d=set(num)\n",
    "    while(i>0):\n",
    "        if i  not in d:\n",
    "            return i\n",
    "        i+=1"
   ]
  },
  {
   "cell_type": "code",
   "execution_count": null,
   "id": "41c57fff",
   "metadata": {},
   "outputs": [],
   "source": [
    "a=[1,2,4,4,5]"
   ]
  },
  {
   "cell_type": "code",
   "execution_count": null,
   "id": "9d60fb48",
   "metadata": {},
   "outputs": [],
   "source": [
    "Missing(a)"
   ]
  },
  {
   "cell_type": "code",
   "execution_count": 3,
   "id": "368301d6",
   "metadata": {},
   "outputs": [],
   "source": [
    "#natural number"
   ]
  },
  {
   "cell_type": "code",
   "execution_count": 18,
   "id": "a7174088",
   "metadata": {},
   "outputs": [
    {
     "name": "stdout",
     "output_type": "stream",
     "text": [
      "enter a number:  \n",
      "it is a palindrom\n"
     ]
    }
   ],
   "source": [
    "n=input(\"enter a number:  \")\n",
    "reverse=n[::-1]\n",
    "if n==reverse:\n",
    "    print(\"it is a palindrom\")\n",
    "else:\n",
    "        print(\"it is  not a palindrom\")"
   ]
  },
  {
   "cell_type": "code",
   "execution_count": 23,
   "id": "8a434b8e",
   "metadata": {},
   "outputs": [
    {
     "name": "stdout",
     "output_type": "stream",
     "text": [
      "enter a number:  543\n",
      "345\n"
     ]
    }
   ],
   "source": [
    "n=input(\"enter a number:  \")\n",
    "re=n[::-1]\n",
    "print(re)"
   ]
  },
  {
   "cell_type": "code",
   "execution_count": 19,
   "id": "94c199e2",
   "metadata": {},
   "outputs": [],
   "source": [
    "n = [432]"
   ]
  },
  {
   "cell_type": "code",
   "execution_count": 20,
   "id": "44ce48f4",
   "metadata": {},
   "outputs": [],
   "source": [
    "n[::-1]\n",
    "reverse = n"
   ]
  },
  {
   "cell_type": "code",
   "execution_count": 21,
   "id": "e588a5f7",
   "metadata": {},
   "outputs": [
    {
     "data": {
      "text/plain": [
       "[432]"
      ]
     },
     "execution_count": 21,
     "metadata": {},
     "output_type": "execute_result"
    }
   ],
   "source": [
    "n"
   ]
  },
  {
   "cell_type": "code",
   "execution_count": null,
   "id": "c74de8a3",
   "metadata": {},
   "outputs": [],
   "source": []
  },
  {
   "cell_type": "code",
   "execution_count": null,
   "id": "5a26694f",
   "metadata": {},
   "outputs": [],
   "source": []
  },
  {
   "cell_type": "code",
   "execution_count": null,
   "id": "64fbac9f",
   "metadata": {},
   "outputs": [],
   "source": []
  },
  {
   "cell_type": "code",
   "execution_count": null,
   "id": "8a03f92d",
   "metadata": {},
   "outputs": [],
   "source": [
    "#na matallu vinipisthunaiyaa??????????????"
   ]
  },
  {
   "cell_type": "code",
   "execution_count": 24,
   "id": "5556ea66",
   "metadata": {},
   "outputs": [],
   "source": [
    "#prime number"
   ]
  },
  {
   "cell_type": "code",
   "execution_count": 25,
   "id": "3cda694c",
   "metadata": {},
   "outputs": [],
   "source": [
    "#a number which devides by it self or by 1 is known as prime"
   ]
  },
  {
   "cell_type": "code",
   "execution_count": 3,
   "id": "3ad312f7",
   "metadata": {},
   "outputs": [
    {
     "name": "stdout",
     "output_type": "stream",
     "text": [
      "enter a number:  9\n",
      "9 is not a prime number\n"
     ]
    }
   ],
   "source": [
    "n = int(input(\"enter a number:  \"))\n",
    "if n >= 1:\n",
    "    for i in range(2,n):\n",
    "        if n % i == 0:\n",
    "            print(n, \"is not a prime number\")\n",
    "            break\n",
    "    else:\n",
    "           print(n,\"is a prime number\")"
   ]
  },
  {
   "cell_type": "code",
   "execution_count": 32,
   "id": "53d3298d",
   "metadata": {},
   "outputs": [],
   "source": [
    "#n = 19 (2,3,4,5,6,7,8,9,10,11,12,13,14,15,16,17,18)\n",
    "#7 % 2,3,4,5,6"
   ]
  },
  {
   "cell_type": "code",
   "execution_count": 33,
   "id": "390981eb",
   "metadata": {},
   "outputs": [],
   "source": [
    "#even number odd number"
   ]
  },
  {
   "cell_type": "code",
   "execution_count": 36,
   "id": "19da72ca",
   "metadata": {},
   "outputs": [
    {
     "name": "stdout",
     "output_type": "stream",
     "text": [
      "enter a number:  7\n",
      "7 is a odd number\n"
     ]
    }
   ],
   "source": [
    "n = int(input(\"enter a number:  \"))\n",
    "if n % 2 == 0:\n",
    "    print(n,\"it is a even number\")\n",
    "else:\n",
    "    print(n, \"is a odd number\")"
   ]
  },
  {
   "cell_type": "code",
   "execution_count": 37,
   "id": "3e8c241a",
   "metadata": {},
   "outputs": [],
   "source": [
    "#2,4,6,8,10\n",
    "#3,5,7,9,11"
   ]
  },
  {
   "cell_type": "code",
   "execution_count": 4,
   "id": "24f62607",
   "metadata": {},
   "outputs": [],
   "source": [
    "def missing(num):\n",
    "    i = 1\n",
    "    d = set(num)\n",
    "    while(i>0):\n",
    "        if i not in d:\n",
    "            return(i)\n",
    "        i = i + 1"
   ]
  },
  {
   "cell_type": "code",
   "execution_count": 5,
   "id": "0e992270",
   "metadata": {},
   "outputs": [],
   "source": [
    "a = [1,2,3,5,5]"
   ]
  },
  {
   "cell_type": "code",
   "execution_count": 6,
   "id": "d4c244f5",
   "metadata": {},
   "outputs": [
    {
     "data": {
      "text/plain": [
       "4"
      ]
     },
     "execution_count": 6,
     "metadata": {},
     "output_type": "execute_result"
    }
   ],
   "source": [
    "missing(a)"
   ]
  },
  {
   "cell_type": "code",
   "execution_count": null,
   "id": "e08ba0ad",
   "metadata": {},
   "outputs": [],
   "source": []
  }
 ],
 "metadata": {
  "kernelspec": {
   "display_name": "Python 3 (ipykernel)",
   "language": "python",
   "name": "python3"
  },
  "language_info": {
   "codemirror_mode": {
    "name": "ipython",
    "version": 3
   },
   "file_extension": ".py",
   "mimetype": "text/x-python",
   "name": "python",
   "nbconvert_exporter": "python",
   "pygments_lexer": "ipython3",
   "version": "3.9.13"
  }
 },
 "nbformat": 4,
 "nbformat_minor": 5
}
