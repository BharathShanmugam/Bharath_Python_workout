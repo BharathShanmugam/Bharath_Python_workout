{
 "cells": [
  {
   "cell_type": "markdown",
   "id": "5288cee1",
   "metadata": {},
   "source": [
    "**range function**"
   ]
  },
  {
   "cell_type": "code",
   "execution_count": 4,
   "id": "ec91fa31",
   "metadata": {},
   "outputs": [
    {
     "name": "stdout",
     "output_type": "stream",
     "text": [
      "0\n",
      "1\n",
      "2\n",
      "3\n",
      "4\n",
      "5\n",
      "6\n",
      "7\n",
      "8\n",
      "9\n",
      "10\n"
     ]
    }
   ],
   "source": [
    "mylist=[1,2,3]\n",
    "for num in range(0,11):\n",
    "    print(num)"
   ]
  },
  {
   "cell_type": "code",
   "execution_count": 11,
   "id": "9cff71df",
   "metadata": {},
   "outputs": [],
   "source": [
    "mylist1=(4,5,6)"
   ]
  },
  {
   "cell_type": "code",
   "execution_count": 14,
   "id": "0f880ca9",
   "metadata": {},
   "outputs": [
    {
     "name": "stdout",
     "output_type": "stream",
     "text": [
      "3\n",
      "4\n",
      "5\n",
      "6\n",
      "7\n",
      "8\n",
      "9\n"
     ]
    }
   ],
   "source": [
    "for num in range(3,10):\n",
    "    print(num)"
   ]
  },
  {
   "cell_type": "code",
   "execution_count": 16,
   "id": "14e5506b",
   "metadata": {},
   "outputs": [
    {
     "name": "stdout",
     "output_type": "stream",
     "text": [
      "0\n",
      "2\n",
      "4\n",
      "6\n",
      "8\n",
      "10\n"
     ]
    }
   ],
   "source": [
    "for num in range(0,11,2):\n",
    "    print(num)"
   ]
  },
  {
   "cell_type": "markdown",
   "id": "4f22c6d3",
   "metadata": {},
   "source": [
    "***indext count***"
   ]
  },
  {
   "cell_type": "code",
   "execution_count": 20,
   "id": "ceee282d",
   "metadata": {},
   "outputs": [
    {
     "name": "stdout",
     "output_type": "stream",
     "text": [
      "0 a\n",
      "1 b\n",
      "2 c\n",
      "3 d\n"
     ]
    }
   ],
   "source": [
    "index_count=0\n",
    "for letter in \"abcd\":\n",
    "    print(index_count,letter)\n",
    "    index_count+=1"
   ]
  },
  {
   "cell_type": "code",
   "execution_count": 25,
   "id": "801291d0",
   "metadata": {},
   "outputs": [
    {
     "name": "stdout",
     "output_type": "stream",
     "text": [
      "at index 11 the letter is B\n",
      "at index 10 the letter is h\n",
      "at index 9 the letter is a\n",
      "at index 8 the letter is r\n",
      "at index 7 the letter is a\n",
      "at index 6 the letter is t\n",
      "at index 5 the letter is h\n"
     ]
    }
   ],
   "source": [
    "for letter in\"Bharath\":\n",
    "    print(f\"at index {index_count} the letter is {letter}\")\n",
    "    index_count+=-1"
   ]
  },
  {
   "cell_type": "code",
   "execution_count": 27,
   "id": "f36c19c8",
   "metadata": {},
   "outputs": [
    {
     "data": {
      "text/plain": [
       "4"
      ]
     },
     "execution_count": 27,
     "metadata": {},
     "output_type": "execute_result"
    }
   ],
   "source": [
    "index_count"
   ]
  },
  {
   "cell_type": "code",
   "execution_count": 7,
   "id": "69ed7315",
   "metadata": {},
   "outputs": [],
   "source": [
    "def even_numbers(list):\n",
    "    this_is =[]\n",
    "    for number in list:\n",
    "        if number %2!=0:\n",
    "            this_is.append(number)\n",
    "    print(this_is)\n",
    "    "
   ]
  },
  {
   "cell_type": "code",
   "execution_count": 8,
   "id": "c78c0e9e",
   "metadata": {},
   "outputs": [
    {
     "name": "stdout",
     "output_type": "stream",
     "text": [
      "[1, 3]\n"
     ]
    }
   ],
   "source": [
    "even_numbers([1,2,3,4])"
   ]
  },
  {
   "cell_type": "code",
   "execution_count": 9,
   "id": "c456b3bc",
   "metadata": {},
   "outputs": [],
   "source": [
    "mystring=\"hello world\""
   ]
  },
  {
   "cell_type": "code",
   "execution_count": 10,
   "id": "c3d54bc5",
   "metadata": {},
   "outputs": [],
   "source": [
    "myst=[]\n",
    "for letter in mystring:\n",
    "        myst.append(letter)"
   ]
  },
  {
   "cell_type": "code",
   "execution_count": 11,
   "id": "cea414fb",
   "metadata": {},
   "outputs": [
    {
     "name": "stdout",
     "output_type": "stream",
     "text": [
      "['h', 'e', 'l', 'l', 'o', ' ', 'w', 'o', 'r', 'l', 'd']\n"
     ]
    }
   ],
   "source": [
    "print(myst)"
   ]
  },
  {
   "cell_type": "code",
   "execution_count": 14,
   "id": "f9706b68",
   "metadata": {},
   "outputs": [],
   "source": [
    "myst1=[letter for letter in mystring]"
   ]
  },
  {
   "cell_type": "code",
   "execution_count": 15,
   "id": "bf177b5d",
   "metadata": {},
   "outputs": [
    {
     "name": "stdout",
     "output_type": "stream",
     "text": [
      "['h', 'e', 'l', 'l', 'o', ' ', 'w', 'o', 'r', 'l', 'd']\n"
     ]
    }
   ],
   "source": [
    "print(myst1)"
   ]
  },
  {
   "cell_type": "code",
   "execution_count": null,
   "id": "38d13a29",
   "metadata": {},
   "outputs": [],
   "source": []
  }
 ],
 "metadata": {
  "kernelspec": {
   "display_name": "Python 3",
   "language": "python",
   "name": "python3"
  },
  "language_info": {
   "codemirror_mode": {
    "name": "ipython",
    "version": 3
   },
   "file_extension": ".py",
   "mimetype": "text/x-python",
   "name": "python",
   "nbconvert_exporter": "python",
   "pygments_lexer": "ipython3",
   "version": "3.8.8"
  }
 },
 "nbformat": 4,
 "nbformat_minor": 5
}
