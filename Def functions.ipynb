{
 "cells": [
  {
   "cell_type": "code",
   "execution_count": 1,
   "id": "ee508b82",
   "metadata": {},
   "outputs": [],
   "source": [
    "def my_class(a,b):\n",
    "    print(a+b)"
   ]
  },
  {
   "cell_type": "code",
   "execution_count": 2,
   "id": "0a38e428",
   "metadata": {},
   "outputs": [
    {
     "name": "stdout",
     "output_type": "stream",
     "text": [
      "30\n"
     ]
    }
   ],
   "source": [
    "my_class(10,20)"
   ]
  },
  {
   "cell_type": "code",
   "execution_count": 11,
   "id": "88718d98",
   "metadata": {},
   "outputs": [],
   "source": [
    "def check_even(num):\n",
    "    for number in num:\n",
    "        if number%2==0:\n",
    "            return True\n",
    "        else:\n",
    "            pass"
   ]
  },
  {
   "cell_type": "code",
   "execution_count": 16,
   "id": "6e60a56b",
   "metadata": {},
   "outputs": [],
   "source": [
    "check_even([1,3])"
   ]
  },
  {
   "cell_type": "code",
   "execution_count": 13,
   "id": "68effdce",
   "metadata": {},
   "outputs": [],
   "source": [
    "def even_number(num):\n",
    "    it_is_even=[]\n",
    "    for number in num:\n",
    "        if number%2==0:\n",
    "            it_is_even.append(number)\n",
    "    "
   ]
  },
  {
   "cell_type": "code",
   "execution_count": 17,
   "id": "4fa06f5e",
   "metadata": {},
   "outputs": [],
   "source": [
    "even_number([2,1,4,5,6])"
   ]
  },
  {
   "cell_type": "code",
   "execution_count": 4,
   "id": "07537670",
   "metadata": {},
   "outputs": [
    {
     "name": "stdout",
     "output_type": "stream",
     "text": [
      "[2, 4]\n"
     ]
    }
   ],
   "source": [
    "def check_even_number(num_list):\n",
    "    \n",
    "    even_numbers=[]\n",
    "    \n",
    "    for number in num_list:\n",
    "        \n",
    "        if number%2==0:\n",
    "            even_numbers.append(number)\n",
    "    print(even_numbers)\n",
    "check_even_number([2,3,4,5])"
   ]
  },
  {
   "cell_type": "markdown",
   "id": "4310fd1e",
   "metadata": {},
   "source": [
    "***TUPLE UNPACKING WITH FUNCTIONS***"
   ]
  },
  {
   "cell_type": "code",
   "execution_count": 15,
   "id": "53cbd5a9",
   "metadata": {},
   "outputs": [],
   "source": [
    "work_hours = [(\"bharath\",1000),(\"sharath\",500),(\"ram\",200)]"
   ]
  },
  {
   "cell_type": "code",
   "execution_count": 16,
   "id": "b94bf914",
   "metadata": {},
   "outputs": [],
   "source": [
    "def employe_work(work_hours):\n",
    "    employee_max=0\n",
    "    employee_of_month = ''\n",
    "    for emp,hour in work_hours:\n",
    "        if hour>employee_max:\n",
    "            employee_max=hour\n",
    "            employee_of_month=emp\n",
    "        else:\n",
    "            pass\n",
    "    \n",
    "    return(employee_of_month,employee_max)\n",
    "\n",
    "\n",
    "\n"
   ]
  },
  {
   "cell_type": "code",
   "execution_count": 17,
   "id": "67a43172",
   "metadata": {},
   "outputs": [
    {
     "data": {
      "text/plain": [
       "('bharath', 1000)"
      ]
     },
     "execution_count": 17,
     "metadata": {},
     "output_type": "execute_result"
    }
   ],
   "source": []
  },
  {
   "cell_type": "code",
   "execution_count": 18,
   "id": "226ccee5",
   "metadata": {},
   "outputs": [],
   "source": [
    "result=(employe_work(work_hours))\n"
   ]
  },
  {
   "cell_type": "code",
   "execution_count": 9,
   "id": "4f1df351",
   "metadata": {},
   "outputs": [],
   "source": [
    "work_hours1 = [(\"bharath\",1000),(\"sharath\",500),(\"ram\",200)]\n",
    "def empl_high(work_hours1):\n",
    "    emp_max=0\n",
    "    emp_of_month=''\n",
    "    for emp,hour in work_hours1:\n",
    "        if hour>emp_max:\n",
    "            emp_max=hour\n",
    "            emp_of_month=emp\n",
    "        else:\n",
    "            print(\"nothing\")\n",
    "    return emp_max,emp_of_month"
   ]
  },
  {
   "cell_type": "code",
   "execution_count": 10,
   "id": "a5080d1a",
   "metadata": {},
   "outputs": [
    {
     "name": "stdout",
     "output_type": "stream",
     "text": [
      "nothing\n",
      "nothing\n"
     ]
    },
    {
     "data": {
      "text/plain": [
       "(1000, 'bharath')"
      ]
     },
     "execution_count": 10,
     "metadata": {},
     "output_type": "execute_result"
    }
   ],
   "source": [
    "empl_high(work_hours1)"
   ]
  },
  {
   "cell_type": "markdown",
   "id": "ec86f9a7",
   "metadata": {},
   "source": [
    "*** *arg and **kwarg ***"
   ]
  },
  {
   "cell_type": "markdown",
   "id": "231267f7",
   "metadata": {},
   "source": [
    "the arg is the argument and kwarg is the keyword argument it is used for accepting number of given values\n",
    "the arg is return as tuple   and  the kwarg return the value as dictionary"
   ]
  },
  {
   "cell_type": "code",
   "execution_count": 9,
   "id": "d5341215",
   "metadata": {},
   "outputs": [],
   "source": [
    "def func(a,b,c=0,d=0):\n",
    "    return sum((a,b,c,d))*10"
   ]
  },
  {
   "cell_type": "code",
   "execution_count": 10,
   "id": "1e1c4960",
   "metadata": {},
   "outputs": [],
   "source": [
    "result=func(10,10,10,10)"
   ]
  },
  {
   "cell_type": "code",
   "execution_count": 11,
   "id": "a4a9c38a",
   "metadata": {},
   "outputs": [
    {
     "data": {
      "text/plain": [
       "int"
      ]
     },
     "execution_count": 11,
     "metadata": {},
     "output_type": "execute_result"
    }
   ],
   "source": [
    "type(result)"
   ]
  },
  {
   "cell_type": "code",
   "execution_count": 12,
   "id": "45878999",
   "metadata": {},
   "outputs": [
    {
     "data": {
      "text/plain": [
       "400"
      ]
     },
     "execution_count": 12,
     "metadata": {},
     "output_type": "execute_result"
    }
   ],
   "source": [
    "result"
   ]
  },
  {
   "cell_type": "code",
   "execution_count": 20,
   "id": "44b2251d",
   "metadata": {},
   "outputs": [],
   "source": [
    "def func1(*arg):\n",
    "    return sum(arg)*0.05"
   ]
  },
  {
   "cell_type": "code",
   "execution_count": 21,
   "id": "74c55b64",
   "metadata": {},
   "outputs": [
    {
     "data": {
      "text/plain": [
       "5.0"
      ]
     },
     "execution_count": 21,
     "metadata": {},
     "output_type": "execute_result"
    }
   ],
   "source": [
    "func1(100)"
   ]
  },
  {
   "cell_type": "code",
   "execution_count": 23,
   "id": "567ec720",
   "metadata": {},
   "outputs": [
    {
     "data": {
      "text/plain": [
       "60.0"
      ]
     },
     "execution_count": 23,
     "metadata": {},
     "output_type": "execute_result"
    }
   ],
   "source": [
    "func1(1000,100,100)f\"My favorite fruit is {kwargs['fruit']}\""
   ]
  },
  {
   "cell_type": "code",
   "execution_count": 38,
   "id": "232be2fc",
   "metadata": {},
   "outputs": [],
   "source": [
    "def func2(**kwarg):\n",
    "    if 'frute' in kwarg:\n",
    "        print (f\"your favorite fruite {kwarg ['frute']}\")\n",
    "    else:\n",
    "        pass"
   ]
  },
  {
   "cell_type": "code",
   "execution_count": 39,
   "id": "c76956fe",
   "metadata": {},
   "outputs": [
    {
     "name": "stdout",
     "output_type": "stream",
     "text": [
      "your favorite fruite apple\n"
     ]
    }
   ],
   "source": [
    "func2(frute=\"apple\")"
   ]
  },
  {
   "cell_type": "code",
   "execution_count": 86,
   "id": "41083025",
   "metadata": {},
   "outputs": [],
   "source": [
    "def func3(*args,**kwarg):\n",
    "    print (args)\n",
    "    print (kwarg)\n",
    "    print ('i would like{}{}'.format(args[0],kwarg['food']))"
   ]
  },
  {
   "cell_type": "code",
   "execution_count": null,
   "id": "1db89ea9",
   "metadata": {},
   "outputs": [],
   "source": []
  },
  {
   "cell_type": "code",
   "execution_count": 90,
   "id": "588806ac",
   "metadata": {},
   "outputs": [
    {
     "name": "stdout",
     "output_type": "stream",
     "text": [
      "(0, 20, 30)\n",
      "{'food': 'briyani', 'juice': 'orange', 'animal': 'dog'}\n",
      "i would like0briyani\n"
     ]
    }
   ],
   "source": [
    " func3(0,20,30,food='briyani',juice='orange',animal=\"dog\")"
   ]
  },
  {
   "cell_type": "code",
   "execution_count": null,
   "id": "257780df",
   "metadata": {},
   "outputs": [],
   "source": []
  },
  {
   "cell_type": "code",
   "execution_count": null,
   "id": "32826f2a",
   "metadata": {},
   "outputs": [],
   "source": []
  }
 ],
 "metadata": {
  "kernelspec": {
   "display_name": "Python 3",
   "language": "python",
   "name": "python3"
  },
  "language_info": {
   "codemirror_mode": {
    "name": "ipython",
    "version": 3
   },
   "file_extension": ".py",
   "mimetype": "text/x-python",
   "name": "python",
   "nbconvert_exporter": "python",
   "pygments_lexer": "ipython3",
   "version": "3.8.8"
  }
 },
 "nbformat": 4,
 "nbformat_minor": 5
}
