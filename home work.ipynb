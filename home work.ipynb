{
 "cells": [
  {
   "cell_type": "markdown",
   "id": "a9afea00",
   "metadata": {},
   "source": [
    "***write a function that check whether a number is in a given rannge***"
   ]
  },
  {
   "cell_type": "code",
   "execution_count": null,
   "id": "da7fa77e",
   "metadata": {},
   "outputs": [],
   "source": [
    "def ran_check(num,low,high):\n",
    "    if num in range(low,high+1):\n",
    "        print(f'{num} is in range of low and high')\n",
    "    else:\n",
    "        print(\"not in range\")"
   ]
  },
  {
   "cell_type": "code",
   "execution_count": 2,
   "id": "4fb92aab",
   "metadata": {},
   "outputs": [
    {
     "name": "stdout",
     "output_type": "stream",
     "text": [
      "5is in range of low and high\n"
     ]
    }
   ],
   "source": [
    "ran_check(5,2,10)"
   ]
  },
  {
   "cell_type": "code",
   "execution_count": 5,
   "id": "c84b39e8",
   "metadata": {},
   "outputs": [],
   "source": [
    "def ran(num,low,high):\n",
    "    if num in range(low,high+1):\n",
    "        print(\"true\")"
   ]
  },
  {
   "cell_type": "code",
   "execution_count": 6,
   "id": "ecc6bcb6",
   "metadata": {},
   "outputs": [
    {
     "name": "stdout",
     "output_type": "stream",
     "text": [
      "true\n"
     ]
    }
   ],
   "source": [
    "ran(3,1,23)"
   ]
  },
  {
   "cell_type": "markdown",
   "id": "bc81e02c",
   "metadata": {},
   "source": [
    "***count how many upper and lower cases are there***"
   ]
  },
  {
   "cell_type": "code",
   "execution_count": 1,
   "id": "8e0bed17",
   "metadata": {},
   "outputs": [
    {
     "ename": "SyntaxError",
     "evalue": "EOL while scanning string literal (<ipython-input-1-9e87e8461108>, line 11)",
     "output_type": "error",
     "traceback": [
      "\u001b[1;36m  File \u001b[1;32m\"<ipython-input-1-9e87e8461108>\"\u001b[1;36m, line \u001b[1;32m11\u001b[0m\n\u001b[1;33m    print(f')\u001b[0m\n\u001b[1;37m             ^\u001b[0m\n\u001b[1;31mSyntaxError\u001b[0m\u001b[1;31m:\u001b[0m EOL while scanning string literal\n"
     ]
    }
   ],
   "source": [
    "def up_low(s):\n",
    "    lower=0\n",
    "    upper=0\n",
    "    for char in s:\n",
    "        if char.isupper():\n",
    "            upper+=1\n",
    "        elif char.islower():\n",
    "            lower+=1\n",
    "        else:\n",
    "            pass\n",
    "    print(f')"
   ]
  },
  {
   "cell_type": "code",
   "execution_count": 5,
   "id": "1f192c9b",
   "metadata": {},
   "outputs": [
    {
     "data": {
      "text/plain": [
       "'Bharath'"
      ]
     },
     "execution_count": 5,
     "metadata": {},
     "output_type": "execute_result"
    }
   ],
   "source": [
    "\"bharath\""
   ]
  },
  {
   "cell_type": "code",
   "execution_count": null,
   "id": "bbeb6ee8",
   "metadata": {},
   "outputs": [],
   "source": []
  }
 ],
 "metadata": {
  "kernelspec": {
   "display_name": "Python 3",
   "language": "python",
   "name": "python3"
  },
  "language_info": {
   "codemirror_mode": {
    "name": "ipython",
    "version": 3
   },
   "file_extension": ".py",
   "mimetype": "text/x-python",
   "name": "python",
   "nbconvert_exporter": "python",
   "pygments_lexer": "ipython3",
   "version": "3.8.8"
  }
 },
 "nbformat": 4,
 "nbformat_minor": 5
}
