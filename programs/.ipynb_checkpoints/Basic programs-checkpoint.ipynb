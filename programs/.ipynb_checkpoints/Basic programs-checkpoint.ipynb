{
 "cells": [
  {
   "cell_type": "code",
   "execution_count": null,
   "id": "9e9760d8",
   "metadata": {},
   "outputs": [],
   "source": [
    "\n",
    "x=int(input(\"enter a number: \"))\n",
    "if x%3==0 and x%7==0:\n",
    "        print(x)\n",
    "        print (\"it is divisible by 3 OR 7\")\n",
    "else:\n",
    "    print (\"it is not divisible by 3 OR 7\")"
   ]
  },
  {
   "cell_type": "code",
   "execution_count": 5,
   "id": "bf0ed51a",
   "metadata": {},
   "outputs": [],
   "source": [
    "ovewles=[\"a\",\"e\",\"i\",\"o\",\"u\"]"
   ]
  },
  {
   "cell_type": "code",
   "execution_count": 8,
   "id": "3a5426dd",
   "metadata": {},
   "outputs": [
    {
     "name": "stdout",
     "output_type": "stream",
     "text": [
      "enter a value: bharath\n",
      "5\n",
      "1\n"
     ]
    }
   ],
   "source": [
    "A=input('enter a value: ')\n",
    "ovwels1=0\n",
    "consonants=0\n",
    "for A in ovewles:\n",
    "    ovwels1+=1\n",
    "else:\n",
    "    consonants+=1\n",
    "    \n",
    "    print(ovwels1)\n",
    "    print(consonants)"
   ]
  },
  {
   "cell_type": "code",
   "execution_count": 25,
   "id": "61d1b7fb",
   "metadata": {},
   "outputs": [
    {
     "name": "stdout",
     "output_type": "stream",
     "text": [
      "enter a char:  Bharath\n",
      "7\n",
      "0\n"
     ]
    }
   ],
   "source": [
    "upper=input(\"enter a char:  \")\n",
    "upper1=0\n",
    "lower=0\n",
    "for k in upper:\n",
    "    if k.upper():\n",
    "        upper1+=1\n",
    "    else:\n",
    "        lower+=1\n",
    "print(upper1)\n",
    "print(lower)"
   ]
  },
  {
   "cell_type": "code",
   "execution_count": 10,
   "id": "f0d9dede",
   "metadata": {},
   "outputs": [
    {
     "name": "stdout",
     "output_type": "stream",
     "text": [
      "enter a char:  A\n",
      "a\n"
     ]
    }
   ],
   "source": [
    "ch=input(\"enter a char:  \")\n",
    "if \"A\"<=ch<=\"2\":\n",
    "    print(\"upper\")\n",
    "else:\n",
    "    ch=chr(ord(ch)+32)\n",
    "print(ch)"
   ]
  },
  {
   "cell_type": "code",
   "execution_count": 11,
   "id": "0b1b554f",
   "metadata": {},
   "outputs": [
    {
     "data": {
      "text/plain": [
       "builtin_function_or_method"
      ]
     },
     "execution_count": 11,
     "metadata": {},
     "output_type": "execute_result"
    }
   ],
   "source": [
    "type(ord)"
   ]
  },
  {
   "cell_type": "code",
   "execution_count": 8,
   "id": "5afdcf79",
   "metadata": {},
   "outputs": [
    {
     "name": "stdout",
     "output_type": "stream",
     "text": [
      "k\n"
     ]
    }
   ],
   "source": [
    "a=[100,200,300,122]\n",
    "aa=len(a)\n",
    "if aa%2==10:\n",
    "    print (\"even\")\n",
    "elif aa%2==0:\n",
    "    print('k')\n",
    "    \n",
    "else:\n",
    "    print(\"odd\")"
   ]
  },
  {
   "cell_type": "code",
   "execution_count": 28,
   "id": "2f61a549",
   "metadata": {},
   "outputs": [],
   "source": [
    "aaa=\"Bharath\""
   ]
  },
  {
   "cell_type": "code",
   "execution_count": 31,
   "id": "da31fa16",
   "metadata": {},
   "outputs": [
    {
     "data": {
      "text/plain": [
       "'bharath'"
      ]
     },
     "execution_count": 31,
     "metadata": {},
     "output_type": "execute_result"
    }
   ],
   "source": [
    "aaa.lower()"
   ]
  },
  {
   "cell_type": "code",
   "execution_count": 72,
   "id": "4ebb6ccf",
   "metadata": {},
   "outputs": [
    {
     "name": "stdout",
     "output_type": "stream",
     "text": [
      "the orginal str is: Bharath Shanmugam\n",
      "['B', 'S']\n"
     ]
    }
   ],
   "source": [
    "variabel=\"Bharath Shanmugam\"\n",
    "print ('the orginal str is: '+variabel)\n",
    "res=list(filter(lambda c: c.isupper(),variabel))\n",
    "print(res)"
   ]
  },
  {
   "cell_type": "code",
   "execution_count": 59,
   "id": "8600de1a",
   "metadata": {},
   "outputs": [
    {
     "data": {
      "text/plain": [
       "False"
      ]
     },
     "execution_count": 59,
     "metadata": {},
     "output_type": "execute_result"
    }
   ],
   "source": [
    "variabel.islower()"
   ]
  },
  {
   "cell_type": "code",
   "execution_count": 75,
   "id": "12efc8a4",
   "metadata": {},
   "outputs": [
    {
     "name": "stdout",
     "output_type": "stream",
     "text": [
      "enter a value: B\n",
      "b\n"
     ]
    }
   ],
   "source": [
    "charr=input(\"enter a value: \")\n",
    "if charr.isupper():\n",
    "    print(charr.lower())"
   ]
  },
  {
   "cell_type": "code",
   "execution_count": 9,
   "id": "72806afe",
   "metadata": {},
   "outputs": [],
   "source": [
    "a.append(500)"
   ]
  },
  {
   "cell_type": "code",
   "execution_count": 18,
   "id": "0c95ff18",
   "metadata": {},
   "outputs": [
    {
     "data": {
      "text/plain": [
       "[100, 200, 300, 122, 500]"
      ]
     },
     "execution_count": 18,
     "metadata": {},
     "output_type": "execute_result"
    }
   ],
   "source": [
    "a"
   ]
  },
  {
   "cell_type": "code",
   "execution_count": 13,
   "id": "9d62ee96",
   "metadata": {},
   "outputs": [
    {
     "ename": "SyntaxError",
     "evalue": "unexpected EOF while parsing (<ipython-input-13-9bc31ff02139>, line 6)",
     "output_type": "error",
     "traceback": [
      "\u001b[1;36m  File \u001b[1;32m\"<ipython-input-13-9bc31ff02139>\"\u001b[1;36m, line \u001b[1;32m6\u001b[0m\n\u001b[1;33m    print (a(n//2)\u001b[0m\n\u001b[1;37m                  ^\u001b[0m\n\u001b[1;31mSyntaxError\u001b[0m\u001b[1;31m:\u001b[0m unexpected EOF while parsing\n"
     ]
    }
   ],
   "source": [
    "b=len(a)\n",
    "\n",
    "if b%2==0:\n",
    "    print(a)\n",
    "else:\n",
    "    print (a(n//2)"
   ]
  },
  {
   "cell_type": "code",
   "execution_count": 21,
   "id": "bce08eaa",
   "metadata": {},
   "outputs": [
    {
     "ename": "TypeError",
     "evalue": "'int' object is not iterable",
     "output_type": "error",
     "traceback": [
      "\u001b[1;31m---------------------------------------------------------------------------\u001b[0m",
      "\u001b[1;31mTypeError\u001b[0m                                 Traceback (most recent call last)",
      "\u001b[1;32m<ipython-input-21-c82df9c6e038>\u001b[0m in \u001b[0;36m<module>\u001b[1;34m\u001b[0m\n\u001b[1;32m----> 1\u001b[1;33m \u001b[0mlist\u001b[0m\u001b[1;33m(\u001b[0m\u001b[0mb\u001b[0m\u001b[1;33m)\u001b[0m\u001b[1;33m\u001b[0m\u001b[1;33m\u001b[0m\u001b[0m\n\u001b[0m",
      "\u001b[1;31mTypeError\u001b[0m: 'int' object is not iterable"
     ]
    }
   ],
   "source": [
    "list(b)"
   ]
  },
  {
   "cell_type": "code",
   "execution_count": 6,
   "id": "3d772721",
   "metadata": {},
   "outputs": [
    {
     "name": "stdout",
     "output_type": "stream",
     "text": [
      "20\n",
      "10\n"
     ]
    }
   ],
   "source": [
    "a=10\n",
    "b=20\n",
    "a,b=b,a\n",
    "\n",
    "print(a)\n",
    "print(b)"
   ]
  },
  {
   "cell_type": "code",
   "execution_count": null,
   "id": "1cf2fc78",
   "metadata": {},
   "outputs": [],
   "source": [
    "a"
   ]
  },
  {
   "cell_type": "code",
   "execution_count": 24,
   "id": "32950dca",
   "metadata": {},
   "outputs": [],
   "source": [
    "n=10"
   ]
  },
  {
   "cell_type": "code",
   "execution_count": 27,
   "id": "bbeced44",
   "metadata": {},
   "outputs": [
    {
     "name": "stdout",
     "output_type": "stream",
     "text": [
      "10\n"
     ]
    }
   ],
   "source": [
    "if type(n)==int:\n",
    "    print(n)\n",
    "else:\n",
    "    print(\"no\")"
   ]
  },
  {
   "cell_type": "code",
   "execution_count": 1,
   "id": "db13a789",
   "metadata": {},
   "outputs": [],
   "source": [
    " n=(10,20,30,40)"
   ]
  },
  {
   "cell_type": "code",
   "execution_count": 34,
   "id": "127cde5a",
   "metadata": {},
   "outputs": [],
   "source": [
    "del b"
   ]
  },
  {
   "cell_type": "code",
   "execution_count": 11,
   "id": "e42bd2df",
   "metadata": {},
   "outputs": [
    {
     "name": "stdout",
     "output_type": "stream",
     "text": [
      "it is tuple\n"
     ]
    }
   ],
   "source": [
    "b=len(n)\n",
    "if type(n) is (tuple):\n",
    "    print('it is tuple')\n",
    "    \n",
    "   \n"
   ]
  },
  {
   "cell_type": "code",
   "execution_count": 26,
   "id": "a3452646",
   "metadata": {},
   "outputs": [
    {
     "name": "stdout",
     "output_type": "stream",
     "text": [
      "learn codeing first\n"
     ]
    }
   ],
   "source": [
    "c=2222\n",
    "if 0<=c<=9:\n",
    "    print(\"single digit\")\n",
    "elif 10<=c<=99:\n",
    "    print(\"2 digit\")\n",
    "elif 100<=c<=999:\n",
    "    print(\"digit\")\n",
    "else:\n",
    "    print(\"learn codeing first\")"
   ]
  },
  {
   "cell_type": "code",
   "execution_count": null,
   "id": "3c234e6d",
   "metadata": {},
   "outputs": [],
   "source": []
  }
 ],
 "metadata": {
  "kernelspec": {
   "display_name": "Python 3",
   "language": "python",
   "name": "python3"
  },
  "language_info": {
   "codemirror_mode": {
    "name": "ipython",
    "version": 3
   },
   "file_extension": ".py",
   "mimetype": "text/x-python",
   "name": "python",
   "nbconvert_exporter": "python",
   "pygments_lexer": "ipython3",
   "version": "3.8.8"
  }
 },
 "nbformat": 4,
 "nbformat_minor": 5
}
