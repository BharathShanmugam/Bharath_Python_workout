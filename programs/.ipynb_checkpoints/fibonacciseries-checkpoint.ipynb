{
 "cells": [
  {
   "cell_type": "code",
   "execution_count": null,
   "id": "d02239d5",
   "metadata": {},
   "outputs": [],
   "source": [
    "num =int(input(\"enter a number :\"))\n",
    "n1,n2=0,1\n",
    "sum=0\n",
    "if num<=0:\n",
    "    print('please enter the number greater than zero')\n",
    "else:\n",
    "    for i in range(0,num):\n",
    "        print(sum,end =\" \")\n",
    "        n1=n2\n",
    "        n2=sum\n",
    "        sum=n1+n2"
   ]
  },
  {
   "cell_type": "code",
   "execution_count": null,
   "id": "4c51f51d",
   "metadata": {},
   "outputs": [],
   "source": []
  },
  {
   "cell_type": "code",
   "execution_count": 9,
   "id": "94223acc",
   "metadata": {},
   "outputs": [
    {
     "name": "stdout",
     "output_type": "stream",
     "text": [
      "seen n\n"
     ]
    }
   ],
   "source": [
    "n=[0,4,3,2,7,8,2,3,1]\n",
    "if num in n:\n",
    "    print (\"seen n\")"
   ]
  },
  {
   "cell_type": "code",
   "execution_count": 13,
   "id": "0df11e84",
   "metadata": {},
   "outputs": [
    {
     "name": "stdout",
     "output_type": "stream",
     "text": [
      "the repeating elements are :\n",
      "2 \n",
      "3 \n"
     ]
    }
   ],
   "source": [
    "num_array=[0,4,3,2,7,8,2,3,1]\n",
    "arr_size=len(num_array)\n",
    "for i in range(arr_size):\n",
    "    x=num_array[i] % arr_size\n",
    "    num_array[x]=num_array[x]+arr_size\n",
    "print('the repeating elements are :')\n",
    "for i in range(arr_size):\n",
    "    if (num_array[i]>=arr_size*2):\n",
    "        print(i,\"\")"
   ]
  },
  {
   "cell_type": "code",
   "execution_count": null,
   "id": "3dbef362",
   "metadata": {},
   "outputs": [],
   "source": []
  },
  {
   "cell_type": "code",
   "execution_count": null,
   "id": "cbfb4775",
   "metadata": {},
   "outputs": [],
   "source": [
    "num_array=[0,4,3,2,7,8,2,3,1]\n",
    "arr_size=len(num_array)"
   ]
  }
 ],
 "metadata": {
  "kernelspec": {
   "display_name": "Python 3",
   "language": "python",
   "name": "python3"
  },
  "language_info": {
   "codemirror_mode": {
    "name": "ipython",
    "version": 3
   },
   "file_extension": ".py",
   "mimetype": "text/x-python",
   "name": "python",
   "nbconvert_exporter": "python",
   "pygments_lexer": "ipython3",
   "version": "3.8.8"
  }
 },
 "nbformat": 4,
 "nbformat_minor": 5
}
