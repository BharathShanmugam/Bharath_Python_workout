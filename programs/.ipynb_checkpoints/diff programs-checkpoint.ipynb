{
 "cells": [
  {
   "cell_type": "markdown",
   "id": "d017a89d",
   "metadata": {},
   "source": [
    "***1. print all the number which is divisible by 7 in the given list***\n"
   ]
  },
  {
   "cell_type": "code",
   "execution_count": 1,
   "id": "0354f20d",
   "metadata": {},
   "outputs": [],
   "source": [
    "a=[7,14,21,88,56]"
   ]
  },
  {
   "cell_type": "code",
   "execution_count": 6,
   "id": "e4afee28",
   "metadata": {},
   "outputs": [
    {
     "name": "stdout",
     "output_type": "stream",
     "text": [
      "98\n"
     ]
    }
   ],
   "source": [
    "sum=0\n",
    "i=0\n",
    "while i<len(a):\n",
    "    if a[i]%7==0:\n",
    "        sum+=a[i]\n",
    "    i+=1\n",
    "print(sum)"
   ]
  },
  {
   "cell_type": "markdown",
   "id": "c8aef179",
   "metadata": {},
   "source": [
    "***2.print only numbers in the list***"
   ]
  },
  {
   "cell_type": "code",
   "execution_count": 1,
   "id": "5ed06dff",
   "metadata": {},
   "outputs": [
    {
     "name": "stdout",
     "output_type": "stream",
     "text": [
      "enter a str:  bha500\n",
      "5\n",
      "0\n",
      "0\n"
     ]
    }
   ],
   "source": [
    "b=input(\"enter a str:  \")\n",
    "i=0\n",
    "while i<len(b):\n",
    "    if \"0\"<=b[i]<=\"9\":\n",
    "        print(b[i])\n",
    "    i+=1"
   ]
  },
  {
   "cell_type": "markdown",
   "id": "79cc3096",
   "metadata": {},
   "source": [
    "***3.print hello world***"
   ]
  },
  {
   "cell_type": "code",
   "execution_count": 3,
   "id": "e828966f",
   "metadata": {},
   "outputs": [
    {
     "name": "stdout",
     "output_type": "stream",
     "text": [
      "hello world\n",
      "hello world\n",
      "hello world\n",
      "hello world\n",
      "hello world\n"
     ]
    }
   ],
   "source": [
    "b=\"hello world\"\n",
    "i=0\n",
    "while i<5:\n",
    "    if \n",
    "    i+=1\n",
    "    print(b)"
   ]
  },
  {
   "cell_type": "code",
   "execution_count": null,
   "id": "bee436fb",
   "metadata": {},
   "outputs": [],
   "source": [
    "len[b]"
   ]
  }
 ],
 "metadata": {
  "kernelspec": {
   "display_name": "Python 3",
   "language": "python",
   "name": "python3"
  },
  "language_info": {
   "codemirror_mode": {
    "name": "ipython",
    "version": 3
   },
   "file_extension": ".py",
   "mimetype": "text/x-python",
   "name": "python",
   "nbconvert_exporter": "python",
   "pygments_lexer": "ipython3",
   "version": "3.8.8"
  }
 },
 "nbformat": 4,
 "nbformat_minor": 5
}
