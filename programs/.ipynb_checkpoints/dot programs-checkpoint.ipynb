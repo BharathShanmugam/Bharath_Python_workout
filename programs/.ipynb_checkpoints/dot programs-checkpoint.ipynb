{
 "cells": [
  {
   "cell_type": "markdown",
   "id": "c04287cc",
   "metadata": {},
   "source": [
    "***1.row***\n"
   ]
  },
  {
   "cell_type": "code",
   "execution_count": 2,
   "id": "703bd9a0",
   "metadata": {},
   "outputs": [
    {
     "name": "stdout",
     "output_type": "stream",
     "text": [
      "enter a row :  4\n"
     ]
    }
   ],
   "source": [
    "n=int(input(\"enter a row :  \"))"
   ]
  },
  {
   "cell_type": "code",
   "execution_count": 2,
   "id": "215ad7f7",
   "metadata": {},
   "outputs": [
    {
     "name": "stdout",
     "output_type": "stream",
     "text": [
      "****"
     ]
    }
   ],
   "source": [
    "for i in range(n):\n",
    "    print(\"*\",end=\"\")"
   ]
  },
  {
   "cell_type": "markdown",
   "id": "8a58ac21",
   "metadata": {},
   "source": [
    "***2.square***"
   ]
  },
  {
   "cell_type": "code",
   "execution_count": 3,
   "id": "0aa2a84a",
   "metadata": {},
   "outputs": [
    {
     "name": "stdout",
     "output_type": "stream",
     "text": [
      "****\n",
      "****\n",
      "****\n",
      "****\n"
     ]
    }
   ],
   "source": [
    "for i in range(n):\n",
    "    print(\"*\"*n)"
   ]
  },
  {
   "cell_type": "code",
   "execution_count": 6,
   "id": "4a13f502",
   "metadata": {},
   "outputs": [
    {
     "name": "stdout",
     "output_type": "stream",
     "text": [
      "1111\n",
      "2222\n",
      "3333\n",
      "4444\n"
     ]
    }
   ],
   "source": [
    "for i in range(n):\n",
    "    print((str(i+1)+\"\")*n)"
   ]
  },
  {
   "cell_type": "markdown",
   "id": "b1a3ea1b",
   "metadata": {},
   "source": [
    "***4.CHAR PRINT***\n"
   ]
  },
  {
   "cell_type": "code",
   "execution_count": 10,
   "id": "4fa0e1c6",
   "metadata": {},
   "outputs": [
    {
     "name": "stdout",
     "output_type": "stream",
     "text": [
      "enter a char:  4\n",
      "AAAA\n",
      "BBBB\n",
      "CCCC\n",
      "DDDD\n"
     ]
    }
   ],
   "source": [
    "n=int(input(\"enter a char:  \"))\n",
    "for i in range(n):\n",
    "    print((chr(65+i)+\"\")*n)"
   ]
  },
  {
   "cell_type": "markdown",
   "id": "8c5ae542",
   "metadata": {},
   "source": [
    "***5.right angle triangle***\n"
   ]
  },
  {
   "cell_type": "code",
   "execution_count": 12,
   "id": "a7fc3ba1",
   "metadata": {},
   "outputs": [
    {
     "name": "stdout",
     "output_type": "stream",
     "text": [
      "*\n",
      "**\n",
      "***\n",
      "****\n"
     ]
    }
   ],
   "source": [
    "for i in range(n):\n",
    "    for j in range(i+1):\n",
    "        print(\"*\",end=\"\")\n",
    "    print()"
   ]
  },
  {
   "cell_type": "markdown",
   "id": "b44f6291",
   "metadata": {},
   "source": [
    "***6.prymid***"
   ]
  },
  {
   "cell_type": "code",
   "execution_count": 25,
   "id": "30cf157b",
   "metadata": {},
   "outputs": [
    {
     "name": "stdout",
     "output_type": "stream",
     "text": [
      "   * \n",
      "  * * \n",
      " * * * \n",
      "* * * * \n"
     ]
    }
   ],
   "source": [
    "for i in range(n):\n",
    "    print(( ' '*(n-i-1)+(\"* \")*(i+1)))"
   ]
  },
  {
   "cell_type": "markdown",
   "id": "56f63d05",
   "metadata": {},
   "source": [
    "***7.revers pyramaid***"
   ]
  },
  {
   "cell_type": "code",
   "execution_count": 28,
   "id": "a15459a5",
   "metadata": {},
   "outputs": [
    {
     "name": "stdout",
     "output_type": "stream",
     "text": [
      " * * * *\n",
      "  * * *\n",
      "   * *\n",
      "    *\n"
     ]
    }
   ],
   "source": [
    "for i in range(n):\n",
    "    print(\" \"*i+\" *\"*(n-i))"
   ]
  },
  {
   "cell_type": "code",
   "execution_count": 36,
   "id": "8e70cc54",
   "metadata": {},
   "outputs": [
    {
     "name": "stdout",
     "output_type": "stream",
     "text": [
      "    *\n",
      "   * *\n",
      "  * * *\n",
      " * * * *\n",
      "  * * *\n",
      "   * *\n",
      "    *\n"
     ]
    }
   ],
   "source": [
    "for i in range(n):\n",
    "    print(( ' '*(n-i-1)+(\" *\")*(i+1)))\n",
    "for i in range(n-1):\n",
    "    print(\" \"*(i+1)+\" *\"*(n-i-1))"
   ]
  },
  {
   "cell_type": "code",
   "execution_count": 3,
   "id": "2b38b8a3",
   "metadata": {},
   "outputs": [
    {
     "name": "stdout",
     "output_type": "stream",
     "text": [
      "****"
     ]
    }
   ],
   "source": [
    "for i in range(n):\n",
    "    print(\"*\",end=\"\")"
   ]
  },
  {
   "cell_type": "code",
   "execution_count": 4,
   "id": "cd558bef",
   "metadata": {},
   "outputs": [
    {
     "name": "stdout",
     "output_type": "stream",
     "text": [
      "****\n",
      "****\n",
      "****\n",
      "****\n"
     ]
    }
   ],
   "source": [
    "for i in range(n):\n",
    "    print(\"*\"*n)"
   ]
  },
  {
   "cell_type": "code",
   "execution_count": 10,
   "id": "7632da65",
   "metadata": {},
   "outputs": [
    {
     "name": "stdout",
     "output_type": "stream",
     "text": [
      "1111\n",
      "2222\n",
      "3333\n",
      "4444\n"
     ]
    }
   ],
   "source": [
    "for i in range(n):\n",
    "    print(str(i+1)*n)"
   ]
  },
  {
   "cell_type": "code",
   "execution_count": 15,
   "id": "1509bbff",
   "metadata": {},
   "outputs": [
    {
     "name": "stdout",
     "output_type": "stream",
     "text": [
      "1111\n",
      "2222\n",
      "3333\n",
      "4444\n"
     ]
    }
   ],
   "source": [
    "for i in range(n):\n",
    "    print((str(i+1)+\"\")*n)"
   ]
  },
  {
   "cell_type": "code",
   "execution_count": 20,
   "id": "713a4281",
   "metadata": {},
   "outputs": [
    {
     "name": "stdout",
     "output_type": "stream",
     "text": [
      "AAAA\n",
      "BBBB\n",
      "CCCC\n",
      "DDDD\n"
     ]
    }
   ],
   "source": [
    "for i in range(n):\n",
    "    print((chr(65+i)+\"\")*n)"
   ]
  },
  {
   "cell_type": "code",
   "execution_count": 44,
   "id": "00781c75",
   "metadata": {},
   "outputs": [
    {
     "name": "stdout",
     "output_type": "stream",
     "text": [
      "\n",
      "*\n",
      "**\n",
      "***\n"
     ]
    }
   ],
   "source": [
    "for i in range(n):\n",
    "    for j in range(i):\n",
    "        print(\"*\",end=\"\")\n",
    "    print()"
   ]
  },
  {
   "cell_type": "code",
   "execution_count": null,
   "id": "52a4ee44",
   "metadata": {},
   "outputs": [],
   "source": [
    "bharath"
   ]
  },
  {
   "cell_type": "code",
   "execution_count": null,
   "id": "e8d23da0",
   "metadata": {},
   "outputs": [],
   "source": []
  }
 ],
 "metadata": {
  "kernelspec": {
   "display_name": "Python 3",
   "language": "python",
   "name": "python3"
  },
  "language_info": {
   "codemirror_mode": {
    "name": "ipython",
    "version": 3
   },
   "file_extension": ".py",
   "mimetype": "text/x-python",
   "name": "python",
   "nbconvert_exporter": "python",
   "pygments_lexer": "ipython3",
   "version": "3.8.8"
  }
 },
 "nbformat": 4,
 "nbformat_minor": 5
}
