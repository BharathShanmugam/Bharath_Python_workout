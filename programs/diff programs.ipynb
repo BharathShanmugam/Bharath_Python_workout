{
 "cells": [
  {
   "cell_type": "markdown",
   "id": "d017a89d",
   "metadata": {},
   "source": [
    "***1. print all the number which is divisible by 7 in the given list***\n"
   ]
  },
  {
   "cell_type": "code",
   "execution_count": 1,
   "id": "0354f20d",
   "metadata": {},
   "outputs": [],
   "source": [
    "a=[7,14,21,88,56]"
   ]
  },
  {
   "cell_type": "code",
   "execution_count": 6,
   "id": "e4afee28",
   "metadata": {},
   "outputs": [
    {
     "name": "stdout",
     "output_type": "stream",
     "text": [
      "98\n"
     ]
    }
   ],
   "source": [
    "sum=0\n",
    "i=0\n",
    "while i<len(a):\n",
    "    if a[i]%7==0:\n",
    "        sum+=a[i]\n",
    "    i+=1\n",
    "print(sum)"
   ]
  },
  {
   "cell_type": "markdown",
   "id": "c8aef179",
   "metadata": {},
   "source": [
    "***2.print only numbers in the list***"
   ]
  },
  {
   "cell_type": "code",
   "execution_count": 8,
   "id": "5ed06dff",
   "metadata": {},
   "outputs": [
    {
     "name": "stdout",
     "output_type": "stream",
     "text": [
      "enter a str:  bharath2000\n",
      "2000"
     ]
    }
   ],
   "source": [
    "b=input(\"enter a str:  \")\n",
    "i=0\n",
    "while i<len(b):\n",
    "    if \"0\"<=b[i]<=\"9\":\n",
    "        print(b[i],end=\"\")\n",
    "    i+=1"
   ]
  },
  {
   "cell_type": "markdown",
   "id": "03b6b21f",
   "metadata": {},
   "source": [
    "***3.print hello world***"
   ]
  },
  {
   "cell_type": "code",
   "execution_count": 3,
   "id": "e828966f",
   "metadata": {},
   "outputs": [
    {
     "name": "stdout",
     "output_type": "stream",
     "text": [
      "hello world\n",
      "hello world\n",
      "hello world\n",
      "hello world\n",
      "hello world\n"
     ]
    }
   ],
   "source": [
    "b=\"hello world\"\n",
    "i=0\n",
    "while i<5:\n",
    "    i+=1\n",
    "    print(b)"
   ]
  },
  {
   "cell_type": "code",
   "execution_count": 4,
   "id": "87958bbb",
   "metadata": {},
   "outputs": [
    {
     "data": {
      "text/plain": [
       "11"
      ]
     },
     "execution_count": 4,
     "metadata": {},
     "output_type": "execute_result"
    }
   ],
   "source": [
    "len(b)"
   ]
  },
  {
   "cell_type": "markdown",
   "id": "da8e5357",
   "metadata": {},
   "source": [
    "***product of even num b/w the range m to n***"
   ]
  },
  {
   "cell_type": "code",
   "execution_count": 15,
   "id": "5cb5dd7c",
   "metadata": {},
   "outputs": [
    {
     "name": "stdout",
     "output_type": "stream",
     "text": [
      "this is before p 1\n",
      "1\n",
      "this is m 2\n",
      "this is before p 1\n",
      "2\n",
      "this is m 3\n",
      "this is before p 2\n",
      "6\n",
      "this is m 4\n",
      "this is before p 6\n",
      "24\n",
      "this is m 5\n",
      "this is before p 24\n",
      "120\n",
      "this is m 6\n",
      "this is before p 120\n",
      "720\n",
      "this is m 7\n",
      "this is before p 720\n",
      "5040\n",
      "this is m 8\n",
      "this is before p 5040\n",
      "40320\n",
      "this is m 9\n",
      "this is before p 40320\n",
      "362880\n",
      "this is m 10\n"
     ]
    }
   ],
   "source": [
    "m=1\n",
    "n=10\n",
    "p=1 \n",
    "while m<n:\n",
    "    print(f\"this is before p {p}\")\n",
    "    p=p*m\n",
    "    print(p)\n",
    "    m+=1\n",
    "    print(f'this is m {m}')\n",
    "    "
   ]
  },
  {
   "cell_type": "markdown",
   "id": "e350c466",
   "metadata": {},
   "source": [
    "***4.print the given op***"
   ]
  },
  {
   "cell_type": "code",
   "execution_count": 22,
   "id": "5d365af3",
   "metadata": {},
   "outputs": [
    {
     "ename": "TypeError",
     "evalue": "'str' object is not callable",
     "output_type": "error",
     "traceback": [
      "\u001b[1;31m---------------------------------------------------------------------------\u001b[0m",
      "\u001b[1;31mTypeError\u001b[0m                                 Traceback (most recent call last)",
      "\u001b[1;32m<ipython-input-22-e7acdd3c2595>\u001b[0m in \u001b[0;36m<module>\u001b[1;34m\u001b[0m\n\u001b[0;32m      3\u001b[0m \u001b[0mi\u001b[0m\u001b[1;33m=\u001b[0m\u001b[1;36m0\u001b[0m\u001b[1;33m\u001b[0m\u001b[1;33m\u001b[0m\u001b[0m\n\u001b[0;32m      4\u001b[0m \u001b[1;32mwhile\u001b[0m \u001b[0mi\u001b[0m\u001b[1;33m<\u001b[0m\u001b[0mlen\u001b[0m\u001b[1;33m(\u001b[0m\u001b[0ma\u001b[0m\u001b[1;33m)\u001b[0m\u001b[1;33m:\u001b[0m\u001b[1;33m\u001b[0m\u001b[1;33m\u001b[0m\u001b[0m\n\u001b[1;32m----> 5\u001b[1;33m     \u001b[0mb\u001b[0m\u001b[1;33m[\u001b[0m\u001b[0ma\u001b[0m\u001b[1;33m(\u001b[0m\u001b[0mi\u001b[0m\u001b[1;33m)\u001b[0m\u001b[1;33m]\u001b[0m\u001b[1;33m=\u001b[0m\u001b[0mi\u001b[0m\u001b[1;33m\u001b[0m\u001b[1;33m\u001b[0m\u001b[0m\n\u001b[0m\u001b[0;32m      6\u001b[0m     \u001b[0mi\u001b[0m\u001b[1;33m+=\u001b[0m\u001b[1;36m1\u001b[0m\u001b[1;33m\u001b[0m\u001b[1;33m\u001b[0m\u001b[0m\n\u001b[0;32m      7\u001b[0m \u001b[0mprint\u001b[0m\u001b[1;33m(\u001b[0m\u001b[0mb\u001b[0m\u001b[1;33m)\u001b[0m\u001b[1;33m\u001b[0m\u001b[1;33m\u001b[0m\u001b[0m\n",
      "\u001b[1;31mTypeError\u001b[0m: 'str' object is not callable"
     ]
    }
   ],
   "source": [
    "a=\"hello world\"\n",
    "b={}\n",
    "i=0\n",
    "while i<len(a):\n",
    "    b[a(i)]=i\n",
    "    i+=1\n",
    "print(b)"
   ]
  },
  {
   "cell_type": "code",
   "execution_count": 26,
   "id": "494989f4",
   "metadata": {},
   "outputs": [
    {
     "name": "stdout",
     "output_type": "stream",
     "text": [
      "(0, 'h')\n",
      "(1, 'e')\n",
      "(2, 'l')\n",
      "(3, 'l')\n",
      "(4, 'o')\n",
      "(5, ' ')\n",
      "(6, 'w')\n",
      "(7, 'o')\n",
      "(8, 'r')\n",
      "(9, 'l')\n",
      "(10, 'd')\n"
     ]
    }
   ],
   "source": [
    "for i in enumerate(a):\n",
    "    print(i)"
   ]
  },
  {
   "cell_type": "markdown",
   "id": "df28c9ac",
   "metadata": {},
   "source": [
    "***square allnum b/w range m to n***"
   ]
  },
  {
   "cell_type": "code",
   "execution_count": 4,
   "id": "5a23bb79",
   "metadata": {},
   "outputs": [
    {
     "name": "stdout",
     "output_type": "stream",
     "text": [
      "enter a number :  0\n",
      "enter a number :   3\n",
      "0 1 4 9 "
     ]
    }
   ],
   "source": [
    "m=int(input(\"enter a number :  \"))\n",
    "n=int(input(\"enter a number :   \"))\n",
    "i=m\n",
    "while i<=n:\n",
    "    print(i**2,end=\" \")\n",
    "    i+=1"
   ]
  },
  {
   "cell_type": "markdown",
   "id": "cc991da3",
   "metadata": {},
   "source": [
    "***if even print 0 odd 1***"
   ]
  },
  {
   "cell_type": "code",
   "execution_count": null,
   "id": "f159aa4a",
   "metadata": {},
   "outputs": [],
   "source": [
    "#a=[\"hai\",'hello','kite','are','call']\n",
    "#b={}\n",
    "#i=0\n",
    "#while i<len(a):\n",
    "#    if len(a[i])%2==0:\n",
    "        #b(a[i])=0\n",
    "    #else:\n",
    "        b(a[i])=1\n",
    "        i+=1\n",
    "    print(b)"
   ]
  },
  {
   "cell_type": "code",
   "execution_count": null,
   "id": "851aacd9",
   "metadata": {},
   "outputs": [],
   "source": []
  },
  {
   "cell_type": "markdown",
   "id": "2ccaf329",
   "metadata": {},
   "source": [
    "***amstrong number***"
   ]
  },
  {
   "cell_type": "code",
   "execution_count": 4,
   "id": "835b8017",
   "metadata": {},
   "outputs": [
    {
     "name": "stdout",
     "output_type": "stream",
     "text": [
      "enter a number :  153\n",
      "27\n",
      "152\n",
      "153\n",
      "153 is a Armstrong number\n"
     ]
    }
   ],
   "source": [
    "num=int(input(\"enter a number :  \"))\n",
    "sum=0\n",
    "temp=num\n",
    "while temp>0:\n",
    "    digit=temp%10\n",
    "    sum+=digit**3\n",
    "    temp//=10\n",
    "    print(sum)\n",
    "if num==sum:\n",
    "    print(num,\"is a Armstrong number\")\n",
    "else:\n",
    "    print(num,\"is not a Armstrong number\")"
   ]
  },
  {
   "cell_type": "markdown",
   "id": "b1db610e",
   "metadata": {},
   "source": [
    "***OR***"
   ]
  },
  {
   "cell_type": "code",
   "execution_count": null,
   "id": "4819e742",
   "metadata": {},
   "outputs": [],
   "source": []
  },
  {
   "cell_type": "code",
   "execution_count": null,
   "id": "7c4aee1e",
   "metadata": {},
   "outputs": [],
   "source": []
  },
  {
   "cell_type": "code",
   "execution_count": null,
   "id": "05026083",
   "metadata": {},
   "outputs": [],
   "source": []
  },
  {
   "cell_type": "code",
   "execution_count": null,
   "id": "72753257",
   "metadata": {},
   "outputs": [],
   "source": []
  },
  {
   "cell_type": "code",
   "execution_count": null,
   "id": "a2fcacd6",
   "metadata": {},
   "outputs": [],
   "source": []
  },
  {
   "cell_type": "markdown",
   "id": "61631787",
   "metadata": {},
   "source": [
    "***febonacseries***"
   ]
  },
  {
   "cell_type": "code",
   "execution_count": 5,
   "id": "e11b48fd",
   "metadata": {},
   "outputs": [
    {
     "name": "stdout",
     "output_type": "stream",
     "text": [
      "enter a number :  4\n",
      "0 1 1 2 "
     ]
    }
   ],
   "source": [
    "num=int(input(\"enter a number :  \"))\n",
    "n1,n2=0,1\n",
    "sum=0\n",
    "if num<=0:\n",
    "    print(\"please enter the num greater than zero\")\n",
    "else:\n",
    "    for i in range(0,num):\n",
    "        print(sum,end=\" \")\n",
    "        n1=n2\n",
    "        n2=sum\n",
    "        sum=n1+n2"
   ]
  },
  {
   "cell_type": "code",
   "execution_count": 3,
   "id": "d09bd0e9",
   "metadata": {},
   "outputs": [
    {
     "name": "stdout",
     "output_type": "stream",
     "text": [
      "enter a num :  4\n",
      "0 1 1 2 "
     ]
    }
   ],
   "source": [
    "num1=int(input(\"enter a num :  \"))\n",
    "n1,n2=0,1\n",
    "sum=0\n",
    "if num1<=0:\n",
    "    print(\"l than 0\")\n",
    "else:\n",
    "    for i in range(0,num1):\n",
    "        print(sum,end=\" \")\n",
    "        n1=n2\n",
    "        n2=sum\n",
    "        sum=n1+n2"
   ]
  },
  {
   "cell_type": "markdown",
   "id": "e72ef001",
   "metadata": {},
   "source": [
    "***prime number***"
   ]
  },
  {
   "cell_type": "code",
   "execution_count": 9,
   "id": "64c4e254",
   "metadata": {},
   "outputs": [
    {
     "name": "stdout",
     "output_type": "stream",
     "text": [
      "enter a number :  5\n",
      "it is prime number\n"
     ]
    }
   ],
   "source": [
    "num=(int(input(\"enter a number :  \")))\n",
    "if num>1:\n",
    "    for i in range(2,num):\n",
    "        if(num%i)==0:\n",
    "            print(num,\"it is not a prime number\")\n",
    "            print(i,\"time\",num//i ,\"is\" ,num)\n",
    "            break\n",
    "    else:\n",
    "        print(\"it is prime number\")"
   ]
  },
  {
   "cell_type": "code",
   "execution_count": 7,
   "id": "b12e06b7",
   "metadata": {},
   "outputs": [
    {
     "name": "stdout",
     "output_type": "stream",
     "text": [
      "enter a number :  5\n",
      "it is prime number\n"
     ]
    }
   ],
   "source": [
    "num=(int(input(\"enter a number :  \")))\n",
    "if num>1:\n",
    "    for i in range(2,num):\n",
    "        if(num%i)==0:\n",
    "            print(num,\"it is not a prime number\")\n",
    "            print(i,\"time\",num//i ,\"is\" ,num)\n",
    "            break\n",
    "    else:\n",
    "        print(\"it is prime number\")\n"
   ]
  },
  {
   "cell_type": "markdown",
   "id": "f8e14fde",
   "metadata": {},
   "source": [
    "***n natural number***"
   ]
  },
  {
   "cell_type": "code",
   "execution_count": 1,
   "id": "bfeee163",
   "metadata": {},
   "outputs": [
    {
     "name": "stdout",
     "output_type": "stream",
     "text": [
      "enter a number :  16\n",
      "the sum is 16\n",
      "the sum is 31\n",
      "the sum is 45\n",
      "the sum is 58\n",
      "the sum is 70\n",
      "the sum is 81\n",
      "the sum is 91\n",
      "the sum is 100\n",
      "the sum is 108\n",
      "the sum is 115\n",
      "the sum is 121\n",
      "the sum is 126\n",
      "the sum is 130\n",
      "the sum is 133\n",
      "the sum is 135\n",
      "the sum is 136\n"
     ]
    }
   ],
   "source": [
    "num=int(input(\"enter a number :  \"))\n",
    "if num<0:\n",
    "    print(\"enter a positive number\")\n",
    "else:\n",
    "    sum=0\n",
    "    while(num>0):\n",
    "        sum+=num\n",
    "        num-=1\n",
    "        print(\"the sum is\", sum )"
   ]
  },
  {
   "cell_type": "markdown",
   "id": "0969bcad",
   "metadata": {},
   "source": [
    "***find the missing number***"
   ]
  },
  {
   "cell_type": "code",
   "execution_count": 37,
   "id": "32a572b5",
   "metadata": {},
   "outputs": [],
   "source": [
    "def FirstMissingPosition(num):\n",
    "    i=1\n",
    "    d=set(num)\n",
    "    while i>0:\n",
    "        if i not in d:\n",
    "            return i\n",
    "        i+=1\n",
    "a=[1,2,3,6]"
   ]
  },
  {
   "cell_type": "code",
   "execution_count": 38,
   "id": "a7a04774",
   "metadata": {},
   "outputs": [
    {
     "data": {
      "text/plain": [
       "4"
      ]
     },
     "execution_count": 38,
     "metadata": {},
     "output_type": "execute_result"
    }
   ],
   "source": [
    "FirstMissingPosition(a)"
   ]
  },
  {
   "cell_type": "code",
   "execution_count": null,
   "id": "dbe4c9b7",
   "metadata": {},
   "outputs": [],
   "source": [
    "for i in range(0,num):\n",
    "    "
   ]
  },
  {
   "cell_type": "code",
   "execution_count": null,
   "id": "162109e6",
   "metadata": {},
   "outputs": [],
   "source": []
  },
  {
   "cell_type": "code",
   "execution_count": 32,
   "id": "a6ef461d",
   "metadata": {},
   "outputs": [
    {
     "name": "stdout",
     "output_type": "stream",
     "text": [
      "Current time is time.struct_time(tm_year=2022, tm_mon=7, tm_mday=28, tm_hour=12, tm_min=23, tm_sec=28, tm_wday=3, tm_yday=209, tm_isdst=0)\n"
     ]
    }
   ],
   "source": [
    "\n",
    "currenttime= time.localtime(time.time())\n",
    "print (\"Current time is\", currenttime)"
   ]
  },
  {
   "cell_type": "code",
   "execution_count": 2,
   "id": "9dc766c7",
   "metadata": {},
   "outputs": [
    {
     "data": {
      "text/plain": [
       "'gEEKSFORgEEKS'"
      ]
     },
     "execution_count": 2,
     "metadata": {},
     "output_type": "execute_result"
    }
   ],
   "source": [
    "string = \"GeeksforGeeks\"\n",
    "string.swapcase()"
   ]
  },
  {
   "cell_type": "code",
   "execution_count": 2,
   "id": "34637342",
   "metadata": {},
   "outputs": [
    {
     "data": {
      "text/plain": [
       "1"
      ]
     },
     "execution_count": 2,
     "metadata": {},
     "output_type": "execute_result"
    }
   ],
   "source": [
    "121%10"
   ]
  },
  {
   "cell_type": "code",
   "execution_count": 3,
   "id": "34f919ff",
   "metadata": {},
   "outputs": [
    {
     "name": "stdout",
     "output_type": "stream",
     "text": [
      "4.444444444444444\n"
     ]
    }
   ],
   "source": [
    "a=121\n",
    "b=0\n",
    "while a>0:\n",
    "    k = a%10\n",
    "    b = b+k\n",
    "    a = a/10\n",
    "print(b)"
   ]
  },
  {
   "cell_type": "markdown",
   "id": "44443112",
   "metadata": {},
   "source": [
    "***amstrong number***"
   ]
  },
  {
   "cell_type": "code",
   "execution_count": 12,
   "id": "515652be",
   "metadata": {},
   "outputs": [
    {
     "name": "stdout",
     "output_type": "stream",
     "text": [
      "enter a number:  153\n",
      "it is Amstrong\n"
     ]
    }
   ],
   "source": [
    "num=input(\"enter a number:  \")\n",
    "sum=0\n",
    "for i in num:\n",
    "    sum+=int(i)**3\n",
    "if sum==int(num):\n",
    "    print(\"it is Amstrong\")\n",
    "else:\n",
    "    print(\"it is  not an Amstrong\")"
   ]
  },
  {
   "cell_type": "code",
   "execution_count": 2,
   "id": "dbcb4e07",
   "metadata": {},
   "outputs": [],
   "source": [
    "a=[1,2,4,4,5]"
   ]
  },
  {
   "cell_type": "markdown",
   "id": "25932b0e",
   "metadata": {},
   "source": [
    "***duplicate number***"
   ]
  },
  {
   "cell_type": "code",
   "execution_count": 8,
   "id": "0780633b",
   "metadata": {},
   "outputs": [],
   "source": [
    "def duplicate(num):\n",
    "    d={}\n",
    "    for i in num:\n",
    "        if i in d:\n",
    "            return i\n",
    "        d[i]=1"
   ]
  },
  {
   "cell_type": "code",
   "execution_count": 9,
   "id": "0dc0786f",
   "metadata": {},
   "outputs": [
    {
     "data": {
      "text/plain": [
       "4"
      ]
     },
     "execution_count": 9,
     "metadata": {},
     "output_type": "execute_result"
    }
   ],
   "source": [
    "duplicate(a)"
   ]
  },
  {
   "cell_type": "code",
   "execution_count": 5,
   "id": "6780f1e0",
   "metadata": {},
   "outputs": [
    {
     "data": {
      "text/plain": [
       "list"
      ]
     },
     "execution_count": 5,
     "metadata": {},
     "output_type": "execute_result"
    }
   ],
   "source": [
    "type(a)"
   ]
  },
  {
   "cell_type": "code",
   "execution_count": null,
   "id": "0380f9d2",
   "metadata": {},
   "outputs": [],
   "source": []
  }
 ],
 "metadata": {
  "kernelspec": {
   "display_name": "Python 3",
   "language": "python",
   "name": "python3"
  },
  "language_info": {
   "codemirror_mode": {
    "name": "ipython",
    "version": 3
   },
   "file_extension": ".py",
   "mimetype": "text/x-python",
   "name": "python",
   "nbconvert_exporter": "python",
   "pygments_lexer": "ipython3",
   "version": "3.8.8"
  }
 },
 "nbformat": 4,
 "nbformat_minor": 5
}
