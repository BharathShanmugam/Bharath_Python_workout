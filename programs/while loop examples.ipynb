{
 "cells": [
  {
   "cell_type": "code",
   "execution_count": 1,
   "id": "c4b1adfb",
   "metadata": {},
   "outputs": [
    {
     "name": "stdout",
     "output_type": "stream",
     "text": [
      "enter a value:  6\n",
      "enter  a name:  b\n",
      "enter the age :  4\n",
      "{'b': 4}\n",
      "enter  a name:  5\n",
      "enter the age :  5\n",
      "{'b': 4, '5': 5}\n",
      "enter  a name:  5\n",
      "enter the age :  5\n",
      "{'b': 4, '5': 5}\n",
      "enter  a name:  5\n",
      "enter the age :  54\n",
      "{'b': 4, '5': 54}\n",
      "enter  a name:  .5\n",
      "enter the age :  5\n",
      "{'b': 4, '5': 54, '.5': 5}\n",
      "enter  a name:  5\n",
      "enter the age :  5\n",
      "{'b': 4, '5': 5, '.5': 5}\n"
     ]
    }
   ],
   "source": [
    "num=int(input(\"enter a value:  \"))\n",
    "i=0\n",
    "data={ }\n",
    "while i<num:\n",
    "    name=input(\"enter  a name:  \")\n",
    "    age=int(input(\"enter the age :  \"))\n",
    "    data[name]=age\n",
    "    i+=1\n",
    "    print (data)"
   ]
  },
  {
   "cell_type": "code",
   "execution_count": 5,
   "id": "0fc2e3f8",
   "metadata": {},
   "outputs": [
    {
     "name": "stdout",
     "output_type": "stream",
     "text": [
      "enter a value:  3\n",
      "enter  a name:  b\n",
      "enter the age :  1\n",
      "{'b': 1}\n",
      "b\n",
      "1\n",
      "enter  a name:  h\n",
      "enter the age :  2\n",
      "{'b': 1, 'h': 2}\n",
      "h\n",
      "2\n",
      "enter  a name:  a\n",
      "enter the age :  3\n",
      "{'b': 1, 'h': 2, 'a': 3}\n",
      "a\n",
      "3\n"
     ]
    }
   ],
   "source": [
    "num=int(input(\"enter a value:  \"))\n",
    "i=0\n",
    "data={ }\n",
    "while i<num:\n",
    "    name=input(\"enter  a name:  \")\n",
    "    age=int(input(\"enter the age :  \"))\n",
    "    data[name]=age\n",
    "    i+=1\n",
    "    print (data)\n",
    "    print(name)\n",
    "    print(age)"
   ]
  },
  {
   "cell_type": "code",
   "execution_count": 6,
   "id": "ef44ef9a",
   "metadata": {},
   "outputs": [
    {
     "data": {
      "text/plain": [
       "{'b': 1, 'h': 2, 'a': 3}"
      ]
     },
     "execution_count": 6,
     "metadata": {},
     "output_type": "execute_result"
    }
   ],
   "source": [
    "data"
   ]
  },
  {
   "cell_type": "code",
   "execution_count": 19,
   "id": "358d155c",
   "metadata": {},
   "outputs": [
    {
     "name": "stdout",
     "output_type": "stream",
     "text": [
      "1\n",
      "2\n",
      "3\n"
     ]
    }
   ],
   "source": [
    "for items,value in data.items():\n",
    "    print(value)"
   ]
  },
  {
   "cell_type": "code",
   "execution_count": 23,
   "id": "5c57e7af",
   "metadata": {},
   "outputs": [
    {
     "data": {
      "text/plain": [
       "dict_keys(['b', 'h', 'a'])"
      ]
     },
     "execution_count": 23,
     "metadata": {},
     "output_type": "execute_result"
    }
   ],
   "source": [
    "data.keys()"
   ]
  },
  {
   "cell_type": "code",
   "execution_count": 30,
   "id": "e6edc1ab",
   "metadata": {},
   "outputs": [],
   "source": [
    "d={1:1,2:1,1:1}"
   ]
  },
  {
   "cell_type": "code",
   "execution_count": 31,
   "id": "5f373d45",
   "metadata": {},
   "outputs": [
    {
     "data": {
      "text/plain": [
       "{1: 1, 2: 1}"
      ]
     },
     "execution_count": 31,
     "metadata": {},
     "output_type": "execute_result"
    }
   ],
   "source": [
    "d\n"
   ]
  },
  {
   "cell_type": "code",
   "execution_count": 1,
   "id": "18357eb6",
   "metadata": {},
   "outputs": [],
   "source": [
    "car={\"name\":77,\"age\":4,\"value\":7}"
   ]
  },
  {
   "cell_type": "code",
   "execution_count": 10,
   "id": "75b7e7b1",
   "metadata": {},
   "outputs": [
    {
     "name": "stdout",
     "output_type": "stream",
     "text": [
      "dict_keys(['name', 'age', 'value'])\n"
     ]
    }
   ],
   "source": [
    "print(car.keys())"
   ]
  },
  {
   "cell_type": "code",
   "execution_count": 1,
   "id": "6d3aa46b",
   "metadata": {},
   "outputs": [],
   "source": [
    "d=[2,3,4,4,5,6]"
   ]
  },
  {
   "cell_type": "code",
   "execution_count": 2,
   "id": "c355529c",
   "metadata": {},
   "outputs": [],
   "source": []
  },
  {
   "cell_type": "code",
   "execution_count": 3,
   "id": "5969948e",
   "metadata": {},
   "outputs": [],
   "source": [
    "dup(d)"
   ]
  },
  {
   "cell_type": "code",
   "execution_count": 8,
   "id": "fb19ea07",
   "metadata": {},
   "outputs": [
    {
     "name": "stdout",
     "output_type": "stream",
     "text": [
      "Enter the number: 5\n",
      "5\n",
      "5\n",
      "Factorial of 5 is: 5\n",
      "20\n",
      "4\n",
      "Factorial of 5 is: 20\n",
      "60\n",
      "3\n",
      "Factorial of 5 is: 60\n",
      "120\n",
      "2\n",
      "Factorial of 5 is: 120\n",
      "120\n",
      "1\n",
      "Factorial of 5 is: 120\n"
     ]
    }
   ],
   "source": [
    "n = int(input(\"Enter the number: \"))\n",
    "f =n\n",
    "r = 1\n",
    "while f != 0 :\n",
    "    r *= f \n",
    "    print(r)\n",
    "    print(f)\n",
    "    f -= 1\n",
    "    print(\"Factorial of\",n,\"is:\",r)"
   ]
  },
  {
   "cell_type": "code",
   "execution_count": null,
   "id": "495771e9",
   "metadata": {},
   "outputs": [],
   "source": []
  }
 ],
 "metadata": {
  "kernelspec": {
   "display_name": "Python 3",
   "language": "python",
   "name": "python3"
  },
  "language_info": {
   "codemirror_mode": {
    "name": "ipython",
    "version": 3
   },
   "file_extension": ".py",
   "mimetype": "text/x-python",
   "name": "python",
   "nbconvert_exporter": "python",
   "pygments_lexer": "ipython3",
   "version": "3.8.8"
  }
 },
 "nbformat": 4,
 "nbformat_minor": 5
}
