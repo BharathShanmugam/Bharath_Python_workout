{
 "cells": [
  {
   "cell_type": "markdown",
   "id": "a3378a2d",
   "metadata": {},
   "source": [
    "***1.fabincosires***\n"
   ]
  },
  {
   "cell_type": "code",
   "execution_count": 1,
   "id": "4363ef0c",
   "metadata": {},
   "outputs": [
    {
     "name": "stdout",
     "output_type": "stream",
     "text": [
      "enter a number:  5\n",
      "0 1 1 2 3 "
     ]
    }
   ],
   "source": [
    "n=int(input(\"enter a number:  \"))\n",
    "n1,n2=0,1\n",
    "sum=0\n",
    "if n<=0:\n",
    "    print(\"enter a positive number\")\n",
    "else:\n",
    "    for i in range( 0,n):\n",
    "        print(sum,end=\" \")\n",
    "        n1=n2\n",
    "        n2=sum\n",
    "        sum=n1+n2"
   ]
  },
  {
   "cell_type": "markdown",
   "id": "d142e45e",
   "metadata": {},
   "source": [
    "***2.N Natural Number***\n",
    "\n"
   ]
  },
  {
   "cell_type": "code",
   "execution_count": 6,
   "id": "f7cd899d",
   "metadata": {},
   "outputs": [
    {
     "name": "stdout",
     "output_type": "stream",
     "text": [
      "enter a number:  5\n",
      "5\n",
      "9\n",
      "12\n",
      "14\n",
      "15\n",
      "ALTER\n",
      "15\n"
     ]
    }
   ],
   "source": [
    "n=int(input(\"enter a number:  \"))\n",
    "sum=0\n",
    "if n<0:\n",
    "    print(\"enter a positive number\")\n",
    "else:\n",
    "    while(n>0):\n",
    "        sum+=n\n",
    "        n=n-1\n",
    "        print(sum)\n",
    "print('ALTER') \n",
    "\n",
    "for i in range(0,n+1):\n",
    "    sum=sum+i\n",
    "    print(sum)\n",
    "        "
   ]
  },
  {
   "cell_type": "code",
   "execution_count": null,
   "id": "9790e243",
   "metadata": {},
   "outputs": [],
   "source": [
    "\n"
   ]
  },
  {
   "cell_type": "markdown",
   "id": "ca1b5248",
   "metadata": {},
   "source": [
    "***3.Prime Number***\n"
   ]
  },
  {
   "cell_type": "code",
   "execution_count": 3,
   "id": "75c174a3",
   "metadata": {},
   "outputs": [
    {
     "name": "stdout",
     "output_type": "stream",
     "text": [
      "enter a number:  5\n",
      "it is a prime\n"
     ]
    }
   ],
   "source": [
    "n=int(input(\"enter a number:  \"))\n",
    "if n>1:\n",
    "    for i in range(2,n):\n",
    "        if (n%i)==0:\n",
    "            print(n,\"it is not a prime number\")\n",
    "            print(i,\"times\",n%i,'is',n)\n",
    "            break\n",
    "    else:\n",
    "        print('it is a prime')\n",
    "       "
   ]
  },
  {
   "cell_type": "markdown",
   "id": "a8259c95",
   "metadata": {},
   "source": [
    "***4.palindrom***"
   ]
  },
  {
   "cell_type": "code",
   "execution_count": 4,
   "id": "0b2c27be",
   "metadata": {},
   "outputs": [
    {
     "name": "stdout",
     "output_type": "stream",
     "text": [
      "enter a number:  525\n",
      "it is a palindrom\n"
     ]
    }
   ],
   "source": [
    "n=input(\"enter a number:  \")\n",
    "reverse=n[::-1]\n",
    "if n==reverse:\n",
    "    print(\"it is a palindrom\")\n",
    "else:\n",
    "        print(\"it is  not a palindrom\")"
   ]
  },
  {
   "cell_type": "markdown",
   "id": "4213e46d",
   "metadata": {},
   "source": [
    "***5.even or odd***"
   ]
  },
  {
   "cell_type": "code",
   "execution_count": 6,
   "id": "85b26b1f",
   "metadata": {},
   "outputs": [
    {
     "name": "stdout",
     "output_type": "stream",
     "text": [
      "enter a number:  5\n",
      "it is odd number\n"
     ]
    }
   ],
   "source": [
    "n=int(input(\"enter a number:  \"))\n",
    "if n%2==0:\n",
    "    print(\"it is even number\")\n",
    "else:\n",
    "    print(\"it is odd number\")"
   ]
  },
  {
   "cell_type": "markdown",
   "id": "c641bcb2",
   "metadata": {},
   "source": [
    "***6.amstrong number***"
   ]
  },
  {
   "cell_type": "code",
   "execution_count": null,
   "id": "94061d9b",
   "metadata": {},
   "outputs": [],
   "source": [
    "n=input(\"enter a number:  \")\n",
    "sum=0\n",
    "for i in n:\n",
    "    sum+=int(i)**3\n",
    "if sum==int(n):\n",
    "    print(\"it is a amstrong number\")\n",
    "else:\n",
    "    print(\"it is not a amstrong number\")"
   ]
  },
  {
   "cell_type": "code",
   "execution_count": null,
   "id": "6253d1b9",
   "metadata": {},
   "outputs": [],
   "source": [
    "\n"
   ]
  },
  {
   "cell_type": "markdown",
   "id": "a17828ac",
   "metadata": {},
   "source": [
    "***7.Missing number***"
   ]
  },
  {
   "cell_type": "code",
   "execution_count": null,
   "id": "4c30dda3",
   "metadata": {},
   "outputs": [],
   "source": [
    "def Missing(num):\n",
    "    i=1\n",
    "    d=set(num)\n",
    "    while(i>0):\n",
    "        if i  not in d:\n",
    "            return i\n",
    "        i+=1"
   ]
  },
  {
   "cell_type": "code",
   "execution_count": null,
   "id": "55b65d27",
   "metadata": {},
   "outputs": [],
   "source": [
    "a=[1,3,4]"
   ]
  },
  {
   "cell_type": "code",
   "execution_count": null,
   "id": "db778e1f",
   "metadata": {},
   "outputs": [],
   "source": [
    "Missing(a)"
   ]
  },
  {
   "cell_type": "markdown",
   "id": "385ab546",
   "metadata": {},
   "source": [
    "***8.duplicate***"
   ]
  },
  {
   "cell_type": "code",
   "execution_count": 9,
   "id": "3f6f9fdb",
   "metadata": {},
   "outputs": [
    {
     "name": "stdout",
     "output_type": "stream",
     "text": [
      "ALTER\n",
      "[4]\n"
     ]
    }
   ],
   "source": [
    "def Missing(num):\n",
    "    i=1\n",
    "    d=set(num)\n",
    "    while(i>0):\n",
    "        if i  not in d:\n",
    "            return i\n",
    "        i+=1\n",
    "a=[1,2,4,4,5]\n",
    "Missing(a)\n",
    "print(\"ALTER\")\n",
    "a=[1,2,4,4,5]\n",
    "dup=[]\n",
    "uni=[]\n",
    "for i in a:\n",
    "    if i not in uni:\n",
    "        uni.append(i)\n",
    "    elif i not in dup:\n",
    "        dup.append(i)\n",
    "print(dup)"
   ]
  },
  {
   "cell_type": "code",
   "execution_count": null,
   "id": "6aae9e52",
   "metadata": {},
   "outputs": [],
   "source": []
  },
  {
   "cell_type": "code",
   "execution_count": null,
   "id": "07b01a22",
   "metadata": {},
   "outputs": [],
   "source": []
  },
  {
   "cell_type": "markdown",
   "id": "65c775f4",
   "metadata": {},
   "source": [
    "***9.bubble sort***"
   ]
  },
  {
   "cell_type": "code",
   "execution_count": null,
   "id": "9cb47933",
   "metadata": {},
   "outputs": [],
   "source": [
    "def Bubblesort(arry):\n",
    "    for i in range(len(arry)):\n",
    "        for j in range(0,len(arry)-i-1):\n",
    "            if arry[j]>arry[j+1]:\n",
    "                temp=arry[j]\n",
    "                arry[j]=arry[j+1]\n",
    "                arry[j+1]=temp\n",
    "    return(arry)"
   ]
  },
  {
   "cell_type": "code",
   "execution_count": null,
   "id": "30942a29",
   "metadata": {},
   "outputs": [],
   "source": [
    "b=[9,2,8,3,7,4,6,5]"
   ]
  },
  {
   "cell_type": "code",
   "execution_count": null,
   "id": "583ceada",
   "metadata": {},
   "outputs": [],
   "source": [
    "Bubblesort(b)"
   ]
  },
  {
   "cell_type": "markdown",
   "id": "1c254fd9",
   "metadata": {},
   "source": [
    "***10.LEAP YEAR***\n"
   ]
  },
  {
   "cell_type": "code",
   "execution_count": 7,
   "id": "f3231716",
   "metadata": {},
   "outputs": [],
   "source": [
    "def leap_year(year):\n",
    "    leap=False\n",
    "    if year%400==0:\n",
    "        return True\n",
    "    if year%100==0:\n",
    "        return False\n",
    "    if year%4==0:\n",
    "        return True \n",
    "\n"
   ]
  },
  {
   "cell_type": "code",
   "execution_count": 8,
   "id": "ef34cc84",
   "metadata": {},
   "outputs": [
    {
     "data": {
      "text/plain": [
       "True"
      ]
     },
     "execution_count": 8,
     "metadata": {},
     "output_type": "execute_result"
    }
   ],
   "source": [
    "leap_year(2000)"
   ]
  },
  {
   "cell_type": "markdown",
   "id": "4f76bbed",
   "metadata": {},
   "source": [
    "***11.Reverse integer with both sign***"
   ]
  },
  {
   "cell_type": "code",
   "execution_count": 2,
   "id": "9bcbf05c",
   "metadata": {},
   "outputs": [
    {
     "data": {
      "text/plain": [
       "654"
      ]
     },
     "execution_count": 2,
     "metadata": {},
     "output_type": "execute_result"
    }
   ],
   "source": [
    "def reverse(number):\n",
    "    sum=0\n",
    "    sign=1\n",
    "#     if (number<0):\n",
    "#         sign=-1\n",
    "#         number=number*-1\n",
    "    while number>0:\n",
    "        rem=number%10\n",
    "        sum=sum*10+rem\n",
    "        number=number//10\n",
    "    return sum*sign\n",
    "\n",
    "reverse(456)"
   ]
  },
  {
   "cell_type": "code",
   "execution_count": null,
   "id": "286acb85",
   "metadata": {},
   "outputs": [],
   "source": []
  }
 ],
 "metadata": {
  "kernelspec": {
   "display_name": "Python 3 (ipykernel)",
   "language": "python",
   "name": "python3"
  },
  "language_info": {
   "codemirror_mode": {
    "name": "ipython",
    "version": 3
   },
   "file_extension": ".py",
   "mimetype": "text/x-python",
   "name": "python",
   "nbconvert_exporter": "python",
   "pygments_lexer": "ipython3",
   "version": "3.9.13"
  },
  "vscode": {
   "interpreter": {
    "hash": "5aaa717b57c7a3cc2d47f661872b8690cb1c935c52f4817bfc8248c7bd0a74ae"
   }
  }
 },
 "nbformat": 4,
 "nbformat_minor": 5
}
