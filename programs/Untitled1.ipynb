{
 "cells": [
  {
   "cell_type": "code",
   "execution_count": 2,
   "id": "3ea31fb9",
   "metadata": {},
   "outputs": [
    {
     "name": "stdout",
     "output_type": "stream",
     "text": [
      "enter a number:  5\n",
      "01123"
     ]
    }
   ],
   "source": [
    "n=int(input('enter a number:  '))\n",
    "n1,n2=0,1\n",
    "sum=0\n",
    "for i in range(0,n):\n",
    "    print(sum,end=\"\")\n",
    "    n1=n2\n",
    "    n2=sum\n",
    "    sum=n1+n2"
   ]
  },
  {
   "cell_type": "code",
   "execution_count": 4,
   "id": "9f1f3296",
   "metadata": {},
   "outputs": [
    {
     "name": "stdout",
     "output_type": "stream",
     "text": [
      "enter a number:  16\n",
      "16\n",
      "31\n",
      "45\n",
      "58\n",
      "70\n",
      "81\n",
      "91\n",
      "100\n",
      "108\n",
      "115\n",
      "121\n",
      "126\n",
      "130\n",
      "133\n",
      "135\n",
      "136\n"
     ]
    }
   ],
   "source": [
    "n=int(input('enter a number:  '))\n",
    "sum=0\n",
    "while(n>0):\n",
    "    sum+=n\n",
    "    n-=1\n",
    "    print(sum)"
   ]
  },
  {
   "cell_type": "code",
   "execution_count": 12,
   "id": "b46a6392",
   "metadata": {},
   "outputs": [
    {
     "name": "stdout",
     "output_type": "stream",
     "text": [
      "enter a number:  6\n",
      "it is not a prime number\n"
     ]
    }
   ],
   "source": [
    "n=int(input('enter a number:  '))\n",
    "if n>1:\n",
    "    for i in range(2,n):\n",
    "        if (n%i)==0:\n",
    "            print(\"it is not a prime number\")\n",
    "            break\n",
    "    else:\n",
    "        print(\"it is  a prime number\")"
   ]
  },
  {
   "cell_type": "code",
   "execution_count": 22,
   "id": "b3546bf6",
   "metadata": {},
   "outputs": [
    {
     "name": "stdout",
     "output_type": "stream",
     "text": [
      "enter a number:  154\n",
      "it is not a amstring number\n"
     ]
    }
   ],
   "source": [
    "n=input('enter a number:  ')\n",
    "sum=0\n",
    "for i in n:\n",
    "    sum+=int(i)**3\n",
    "if sum==int(n):\n",
    "    print(\"it is a amstrong number\")\n",
    "else:\n",
    "    print(\"it is not a amstring number\")"
   ]
  },
  {
   "cell_type": "code",
   "execution_count": null,
   "id": "4545eddf",
   "metadata": {},
   "outputs": [],
   "source": [
    "n=int(input('enter a number:  '))\n",
    "\n",
    "for i in range(2,n):\n",
    "    if (n%i)==0:\n",
    "        print(\"it is  nnort a oprie\")\n",
    "        break\n",
    "else:\n",
    "    print(\"jit i s prime\")"
   ]
  },
  {
   "cell_type": "code",
   "execution_count": 5,
   "id": "c1dc4d5c",
   "metadata": {},
   "outputs": [],
   "source": [
    "def miss(n):\n",
    "    i=1\n",
    "    d=set(n)\n",
    "    while i>0:\n",
    "        if i not in d:\n",
    "            return i\n",
    "        i+=1"
   ]
  },
  {
   "cell_type": "code",
   "execution_count": 6,
   "id": "2099aac1",
   "metadata": {},
   "outputs": [],
   "source": [
    "a=[1,2,3,3,5]"
   ]
  },
  {
   "cell_type": "code",
   "execution_count": 7,
   "id": "1dfb40d4",
   "metadata": {},
   "outputs": [
    {
     "data": {
      "text/plain": [
       "4"
      ]
     },
     "execution_count": 7,
     "metadata": {},
     "output_type": "execute_result"
    }
   ],
   "source": [
    "miss(a)"
   ]
  },
  {
   "cell_type": "code",
   "execution_count": 10,
   "id": "a19a36e5",
   "metadata": {},
   "outputs": [],
   "source": [
    "def dup(n):\n",
    "    d={}\n",
    "    for i in n:\n",
    "        if i in d:\n",
    "            return i\n",
    "        d[i]=1"
   ]
  },
  {
   "cell_type": "code",
   "execution_count": 11,
   "id": "7ae7539f",
   "metadata": {},
   "outputs": [
    {
     "data": {
      "text/plain": [
       "3"
      ]
     },
     "execution_count": 11,
     "metadata": {},
     "output_type": "execute_result"
    }
   ],
   "source": [
    "dup(a)"
   ]
  },
  {
   "cell_type": "code",
   "execution_count": 25,
   "id": "804cab37",
   "metadata": {},
   "outputs": [],
   "source": [
    "def bubblesort(arry):\n",
    "    for i in range(len(arry)):\n",
    "        for j  in range(0,len(arry)-i-1):\n",
    "            if arry[j]>arry[j+1]:\n",
    "                temp=arry[j]\n",
    "                arry[j]=arry[j+1]\n",
    "                arry[j+1]=temp\n",
    "    print(arry)\n",
    "        \n",
    "        "
   ]
  },
  {
   "cell_type": "code",
   "execution_count": 26,
   "id": "00e30929",
   "metadata": {},
   "outputs": [],
   "source": [
    "b=[9,2,8,3,7,4,6,5]"
   ]
  },
  {
   "cell_type": "code",
   "execution_count": 27,
   "id": "442d17ee",
   "metadata": {},
   "outputs": [
    {
     "name": "stdout",
     "output_type": "stream",
     "text": [
      "[2, 3, 4, 5, 6, 7, 8, 9]\n"
     ]
    }
   ],
   "source": [
    "bubblesort(b)"
   ]
  },
  {
   "cell_type": "code",
   "execution_count": 36,
   "id": "bef97d69",
   "metadata": {},
   "outputs": [
    {
     "name": "stdout",
     "output_type": "stream",
     "text": [
      "enter a number:  5\n",
      "X\n",
      "XX\n",
      "XXX\n",
      "XXXX\n",
      "XXXXX\n"
     ]
    }
   ],
   "source": [
    "n=int(input('enter a number:  '))\n",
    "for i in range(n):\n",
    "    for j in range(i+1):\n",
    "        print(\"X\",end=\"\")\n",
    "    print()"
   ]
  },
  {
   "cell_type": "code",
   "execution_count": 42,
   "id": "20bba4b8",
   "metadata": {},
   "outputs": [
    {
     "name": "stdout",
     "output_type": "stream",
     "text": [
      "enter a number:  5\n",
      "     *\n",
      "    * *\n",
      "   * * *\n",
      "  * * * *\n",
      " * * * * *\n",
      "  * * * *\n",
      "   * * *\n",
      "    * *\n",
      "     *\n"
     ]
    }
   ],
   "source": [
    "n=int(input('enter a number:  '))\n",
    "for i in range(n):\n",
    "    print(\" \"*(n-i-1)+(\" *\")*(i+1))\n",
    "for i in range(n-1):\n",
    "    print(\" \"*(i+1)+(\" *\")*(n-i-1))"
   ]
  },
  {
   "cell_type": "code",
   "execution_count": 92,
   "id": "1718299d",
   "metadata": {},
   "outputs": [
    {
     "name": "stdout",
     "output_type": "stream",
     "text": [
      "Dog Class is created\n",
      "CAt Class is created\n"
     ]
    }
   ],
   "source": [
    "class Animal():\n",
    "    def __init__(self,name):\n",
    "        self.name=name\n",
    "        print(\"Animal class creadted\")\n",
    "    def speak(self):\n",
    "        raise  NotImplementedError(\"sub class must be implemented\")\n",
    "class Dog(Animal):\n",
    "    print(\"Dog Class is created\")\n",
    "    def speak(self):\n",
    "        return self.name+\"bow bow\"\n",
    "class Cat(Animal):\n",
    "    print(\"CAt Class is created\")\n",
    "    def speak(self):\n",
    "        return self.name+\"mewo mewo\""
   ]
  },
  {
   "cell_type": "code",
   "execution_count": 93,
   "id": "3ec7d453",
   "metadata": {},
   "outputs": [
    {
     "name": "stdout",
     "output_type": "stream",
     "text": [
      "Animal class creadted\n"
     ]
    },
    {
     "data": {
      "text/plain": [
       "<__main__.Animal at 0x223d1d4b0d0>"
      ]
     },
     "execution_count": 93,
     "metadata": {},
     "output_type": "execute_result"
    }
   ],
   "source": [
    "Animal(1)"
   ]
  },
  {
   "cell_type": "code",
   "execution_count": 94,
   "id": "ef9fa047",
   "metadata": {},
   "outputs": [
    {
     "name": "stdout",
     "output_type": "stream",
     "text": [
      "Animal class creadted\n"
     ]
    }
   ],
   "source": [
    "judo=Dog(\"judo\") "
   ]
  },
  {
   "cell_type": "code",
   "execution_count": 95,
   "id": "06c069df",
   "metadata": {},
   "outputs": [
    {
     "data": {
      "text/plain": [
       "'judobow bow'"
      ]
     },
     "execution_count": 95,
     "metadata": {},
     "output_type": "execute_result"
    }
   ],
   "source": [
    "judo.speak()"
   ]
  },
  {
   "cell_type": "code",
   "execution_count": 16,
   "id": "67290162",
   "metadata": {},
   "outputs": [
    {
     "name": "stdout",
     "output_type": "stream",
     "text": [
      "[0, 2, 4, 6, 8, 10, 12, 14, 16, 18]\n"
     ]
    }
   ],
   "source": [
    "n=[]\n",
    "for s in range(10):\n",
    "    n.append(s*2)\n",
    "    \n",
    "print(n)"
   ]
  },
  {
   "cell_type": "code",
   "execution_count": 17,
   "id": "75b87bda",
   "metadata": {},
   "outputs": [],
   "source": [
    "n=\"bharath\""
   ]
  },
  {
   "cell_type": "code",
   "execution_count": 18,
   "id": "51b152e3",
   "metadata": {},
   "outputs": [],
   "source": [
    "a=\"wow\""
   ]
  },
  {
   "cell_type": "code",
   "execution_count": 26,
   "id": "ed75a02e",
   "metadata": {},
   "outputs": [],
   "source": [
    "b=[letter for letter in n]"
   ]
  },
  {
   "cell_type": "code",
   "execution_count": 24,
   "id": "ed42d925",
   "metadata": {},
   "outputs": [
    {
     "name": "stdout",
     "output_type": "stream",
     "text": [
      "['b', 'h', 'a', 'r', 'a', 't', 'h']\n"
     ]
    }
   ],
   "source": [
    "print(b)"
   ]
  },
  {
   "cell_type": "code",
   "execution_count": 33,
   "id": "b85e950b",
   "metadata": {},
   "outputs": [],
   "source": [
    "for letter in n:\n",
    "    c.append(a)"
   ]
  },
  {
   "cell_type": "code",
   "execution_count": 35,
   "id": "27132190",
   "metadata": {},
   "outputs": [],
   "source": [
    "c=[]"
   ]
  },
  {
   "cell_type": "code",
   "execution_count": 36,
   "id": "e992b9ec",
   "metadata": {},
   "outputs": [
    {
     "data": {
      "text/plain": [
       "[]"
      ]
     },
     "execution_count": 36,
     "metadata": {},
     "output_type": "execute_result"
    }
   ],
   "source": [
    "c"
   ]
  },
  {
   "cell_type": "code",
   "execution_count": 37,
   "id": "a46b889f",
   "metadata": {},
   "outputs": [],
   "source": [
    "c.append(a)"
   ]
  },
  {
   "cell_type": "code",
   "execution_count": 43,
   "id": "fb792a59",
   "metadata": {},
   "outputs": [],
   "source": [
    "c.append(\"hero\")"
   ]
  },
  {
   "cell_type": "code",
   "execution_count": 44,
   "id": "6bfc5027",
   "metadata": {},
   "outputs": [
    {
     "data": {
      "text/plain": [
       "['hero']"
      ]
     },
     "execution_count": 44,
     "metadata": {},
     "output_type": "execute_result"
    }
   ],
   "source": [
    "c"
   ]
  },
  {
   "cell_type": "code",
   "execution_count": 23,
   "id": "483036af",
   "metadata": {},
   "outputs": [],
   "source": [
    "def reverse(number):\n",
    "    number= number[::-1]\n",
    "    return int(number)\n",
    "    "
   ]
  },
  {
   "cell_type": "code",
   "execution_count": 22,
   "id": "0873afbb",
   "metadata": {},
   "outputs": [
    {
     "ename": "TypeError",
     "evalue": "'int' object is not subscriptable",
     "output_type": "error",
     "traceback": [
      "\u001b[1;31m---------------------------------------------------------------------------\u001b[0m",
      "\u001b[1;31mTypeError\u001b[0m                                 Traceback (most recent call last)",
      "Cell \u001b[1;32mIn[22], line 1\u001b[0m\n\u001b[1;32m----> 1\u001b[0m \u001b[43mreverse\u001b[49m\u001b[43m(\u001b[49m\u001b[38;5;241;43m-\u001b[39;49m\u001b[38;5;241;43m456\u001b[39;49m\u001b[43m)\u001b[49m\n",
      "Cell \u001b[1;32mIn[19], line 2\u001b[0m, in \u001b[0;36mreverse\u001b[1;34m(number)\u001b[0m\n\u001b[0;32m      1\u001b[0m \u001b[38;5;28;01mdef\u001b[39;00m \u001b[38;5;21mreverse\u001b[39m(number):\n\u001b[1;32m----> 2\u001b[0m     number\u001b[38;5;241m=\u001b[39m \u001b[43mnumber\u001b[49m\u001b[43m[\u001b[49m\u001b[43m:\u001b[49m\u001b[43m:\u001b[49m\u001b[38;5;241;43m-\u001b[39;49m\u001b[38;5;241;43m1\u001b[39;49m\u001b[43m]\u001b[49m\n\u001b[0;32m      3\u001b[0m     \u001b[38;5;28;01mreturn\u001b[39;00m \u001b[38;5;28mint\u001b[39m(number)\n",
      "\u001b[1;31mTypeError\u001b[0m: 'int' object is not subscriptable"
     ]
    }
   ],
   "source": [
    "reverse(-456)"
   ]
  },
  {
   "cell_type": "code",
   "execution_count": null,
   "id": "4910c666",
   "metadata": {},
   "outputs": [],
   "source": []
  }
 ],
 "metadata": {
  "kernelspec": {
   "display_name": "Python 3 (ipykernel)",
   "language": "python",
   "name": "python3"
  },
  "language_info": {
   "codemirror_mode": {
    "name": "ipython",
    "version": 3
   },
   "file_extension": ".py",
   "mimetype": "text/x-python",
   "name": "python",
   "nbconvert_exporter": "python",
   "pygments_lexer": "ipython3",
   "version": "3.11.1"
  }
 },
 "nbformat": 4,
 "nbformat_minor": 5
}
