{
 "cells": [
  {
   "cell_type": "code",
   "execution_count": 16,
   "id": "33d985a6",
   "metadata": {},
   "outputs": [],
   "source": [
    "def chocolatefeast(n,c,m):\n",
    "    choco =n/c\n",
    "    wrap=choco\n",
    "    newchoco=0\n",
    "    while wrap<=2:\n",
    "        newchoco=wrap/m\n",
    "        choco=choco+newchoco\n",
    "        wrap-=wrap%m+newchoco\n",
    "    print(choco)"
   ]
  },
  {
   "cell_type": "code",
   "execution_count": 17,
   "id": "81648246",
   "metadata": {},
   "outputs": [
    {
     "name": "stdout",
     "output_type": "stream",
     "text": [
      "5.0\n"
     ]
    }
   ],
   "source": [
    "chocolatefeast(15,3,2)"
   ]
  },
  {
   "cell_type": "code",
   "execution_count": null,
   "id": "dce8cb2a",
   "metadata": {},
   "outputs": [],
   "source": [
    "#choco"
   ]
  }
 ],
 "metadata": {
  "kernelspec": {
   "display_name": "Python 3 (ipykernel)",
   "language": "python",
   "name": "python3"
  },
  "language_info": {
   "codemirror_mode": {
    "name": "ipython",
    "version": 3
   },
   "file_extension": ".py",
   "mimetype": "text/x-python",
   "name": "python",
   "nbconvert_exporter": "python",
   "pygments_lexer": "ipython3",
   "version": "3.9.13"
  },
  "vscode": {
   "interpreter": {
    "hash": "5aaa717b57c7a3cc2d47f661872b8690cb1c935c52f4817bfc8248c7bd0a74ae"
   }
  }
 },
 "nbformat": 4,
 "nbformat_minor": 5
}
