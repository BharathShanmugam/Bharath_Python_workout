{
 "cells": [
  {
   "cell_type": "code",
   "execution_count": 1,
   "id": "091c40d5",
   "metadata": {},
   "outputs": [],
   "source": [
    "class Animal():\n",
    "    def __init__(self,name):\n",
    "        self.name=name\n",
    "    def speak(self):\n",
    "        raise NotImplementedError ('sub class must implement')\n",
    "        \n",
    "        "
   ]
  },
  {
   "cell_type": "code",
   "execution_count": 20,
   "id": "ab13c8d9",
   "metadata": {},
   "outputs": [],
   "source": [
    "class Dog(Animal):\n",
    "    def speak(self):\n",
    "        return self.name+'say woof!'\n",
    "    \n",
    "    \n",
    "        "
   ]
  },
  {
   "cell_type": "code",
   "execution_count": 19,
   "id": "3a4ae1fd",
   "metadata": {},
   "outputs": [],
   "source": [
    "class Cat(Animal):\n",
    "    def speak(self):\n",
    "        return self.name+\"say mewo\""
   ]
  },
  {
   "cell_type": "code",
   "execution_count": 22,
   "id": "500f0a52",
   "metadata": {},
   "outputs": [],
   "source": [
    "Isis=Cat(\"Isis\")"
   ]
  },
  {
   "cell_type": "code",
   "execution_count": 23,
   "id": "e13557cf",
   "metadata": {},
   "outputs": [],
   "source": [
    "boow=Dog(\"boow\")"
   ]
  },
  {
   "cell_type": "code",
   "execution_count": 25,
   "id": "cb7f5253",
   "metadata": {},
   "outputs": [
    {
     "data": {
      "text/plain": [
       "'boowsay woof!'"
      ]
     },
     "execution_count": 25,
     "metadata": {},
     "output_type": "execute_result"
    }
   ],
   "source": [
    "boow.speak()"
   ]
  },
  {
   "cell_type": "code",
   "execution_count": null,
   "id": "a492ca5a",
   "metadata": {},
   "outputs": [],
   "source": []
  }
 ],
 "metadata": {
  "kernelspec": {
   "display_name": "Python 3",
   "language": "python",
   "name": "python3"
  },
  "language_info": {
   "codemirror_mode": {
    "name": "ipython",
    "version": 3
   },
   "file_extension": ".py",
   "mimetype": "text/x-python",
   "name": "python",
   "nbconvert_exporter": "python",
   "pygments_lexer": "ipython3",
   "version": "3.8.8"
  }
 },
 "nbformat": 4,
 "nbformat_minor": 5
}
