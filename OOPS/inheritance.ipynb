{
 "cells": [
  {
   "cell_type": "code",
   "execution_count": 2,
   "id": "fa9f2c46",
   "metadata": {},
   "outputs": [],
   "source": [
    "class animal():\n",
    "    def __init__(self):\n",
    "        print(\"Animal Created\")\n",
    "    def who_am_i(self):\n",
    "        print(\"i am a animal\")\n",
    "    def eat(self):\n",
    "        print(\"i am eating\")\n",
    " "
   ]
  },
  {
   "cell_type": "code",
   "execution_count": 6,
   "id": "71a30004",
   "metadata": {},
   "outputs": [],
   "source": [
    "class dog(animal):\n",
    "    def __init(self,name):\n",
    "        animal.__init__(self)\n",
    "        self.name=name\n",
    "    def speak(self,name):\n",
    "        self.name=name\n",
    "        return self.name + \"helo\""
   ]
  },
  {
   "cell_type": "code",
   "execution_count": 7,
   "id": "e5322b0b",
   "metadata": {},
   "outputs": [
    {
     "name": "stdout",
     "output_type": "stream",
     "text": [
      "Animal Created\n"
     ]
    }
   ],
   "source": [
    "dog=dog()"
   ]
  },
  {
   "cell_type": "code",
   "execution_count": 5,
   "id": "8cd1ca01",
   "metadata": {},
   "outputs": [
    {
     "name": "stdout",
     "output_type": "stream",
     "text": [
      "i am a animal\n"
     ]
    }
   ],
   "source": [
    "dog.who_am_i()"
   ]
  },
  {
   "cell_type": "code",
   "execution_count": 5,
   "id": "21d5a6b2",
   "metadata": {},
   "outputs": [
    {
     "data": {
      "text/plain": [
       "'nanihelo'"
      ]
     },
     "execution_count": 5,
     "metadata": {},
     "output_type": "execute_result"
    }
   ],
   "source": [
    "dog.speak(\"nani\")"
   ]
  },
  {
   "cell_type": "code",
   "execution_count": 7,
   "id": "b37b53ac",
   "metadata": {},
   "outputs": [
    {
     "name": "stdout",
     "output_type": "stream",
     "text": [
      "i am eating\n"
     ]
    }
   ],
   "source": [
    "dog.eat()"
   ]
  },
  {
   "cell_type": "code",
   "execution_count": null,
   "id": "e8c17eaa",
   "metadata": {},
   "outputs": [],
   "source": [
    "dog.name"
   ]
  },
  {
   "cell_type": "code",
   "execution_count": null,
   "id": "cb6f67a6",
   "metadata": {},
   "outputs": [],
   "source": [
    "dog.eat"
   ]
  },
  {
   "cell_type": "code",
   "execution_count": null,
   "id": "27cdbe8c",
   "metadata": {},
   "outputs": [],
   "source": []
  }
 ],
 "metadata": {
  "kernelspec": {
   "display_name": "Python 3",
   "language": "python",
   "name": "python3"
  },
  "language_info": {
   "codemirror_mode": {
    "name": "ipython",
    "version": 3
   },
   "file_extension": ".py",
   "mimetype": "text/x-python",
   "name": "python",
   "nbconvert_exporter": "python",
   "pygments_lexer": "ipython3",
   "version": "3.8.8"
  }
 },
 "nbformat": 4,
 "nbformat_minor": 5
}
