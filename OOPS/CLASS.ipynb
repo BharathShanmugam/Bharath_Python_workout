{
 "cells": [
  {
   "cell_type": "code",
   "execution_count": 2,
   "id": "3e96370a",
   "metadata": {},
   "outputs": [],
   "source": [
    "class Dog():\n",
    "    def __init__(self,breed,name,age):\n",
    "        self.breed=breed\n",
    "        self.name=name\n",
    "        self.age=age"
   ]
  },
  {
   "cell_type": "code",
   "execution_count": 3,
   "id": "481a6569",
   "metadata": {},
   "outputs": [],
   "source": [
    "mydog=Dog(breed=\"husky\",name=\"bitu\",age=\"13+\")"
   ]
  },
  {
   "cell_type": "code",
   "execution_count": 4,
   "id": "3622cd18",
   "metadata": {},
   "outputs": [
    {
     "data": {
      "text/plain": [
       "'13+'"
      ]
     },
     "execution_count": 4,
     "metadata": {},
     "output_type": "execute_result"
    }
   ],
   "source": [
    "mydog.age"
   ]
  },
  {
   "cell_type": "code",
   "execution_count": 5,
   "id": "14d79f7a",
   "metadata": {},
   "outputs": [
    {
     "data": {
      "text/plain": [
       "'bitu'"
      ]
     },
     "execution_count": 5,
     "metadata": {},
     "output_type": "execute_result"
    }
   ],
   "source": [
    "mydog.name"
   ]
  },
  {
   "cell_type": "code",
   "execution_count": 6,
   "id": "9bece579",
   "metadata": {},
   "outputs": [
    {
     "data": {
      "text/plain": [
       "'husky'"
      ]
     },
     "execution_count": 6,
     "metadata": {},
     "output_type": "execute_result"
    }
   ],
   "source": [
    "mydog.breed"
   ]
  },
  {
   "cell_type": "code",
   "execution_count": null,
   "id": "fd6f751a",
   "metadata": {},
   "outputs": [],
   "source": []
  }
 ],
 "metadata": {
  "kernelspec": {
   "display_name": "Python 3",
   "language": "python",
   "name": "python3"
  },
  "language_info": {
   "codemirror_mode": {
    "name": "ipython",
    "version": 3
   },
   "file_extension": ".py",
   "mimetype": "text/x-python",
   "name": "python",
   "nbconvert_exporter": "python",
   "pygments_lexer": "ipython3",
   "version": "3.8.8"
  }
 },
 "nbformat": 4,
 "nbformat_minor": 5
}
