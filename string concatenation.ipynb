{
 "cells": [
  {
   "cell_type": "markdown",
   "id": "d5ad0410",
   "metadata": {},
   "source": [
    "***string concatenation means mixing or merging ***"
   ]
  },
  {
   "cell_type": "code",
   "execution_count": 25,
   "id": "29ba7bf6",
   "metadata": {},
   "outputs": [],
   "source": [
    "name=\"sam\""
   ]
  },
  {
   "cell_type": "code",
   "execution_count": 3,
   "id": "c00bc7d8",
   "metadata": {},
   "outputs": [],
   "source": [
    "last_letter=\"am\""
   ]
  },
  {
   "cell_type": "code",
   "execution_count": 4,
   "id": "2bf61d04",
   "metadata": {},
   "outputs": [
    {
     "data": {
      "text/plain": [
       "'pam'"
      ]
     },
     "execution_count": 4,
     "metadata": {},
     "output_type": "execute_result"
    }
   ],
   "source": [
    "'p'+last_letter"
   ]
  },
  {
   "cell_type": "code",
   "execution_count": 5,
   "id": "e0c6f6a3",
   "metadata": {},
   "outputs": [
    {
     "data": {
      "text/plain": [
       "'mam'"
      ]
     },
     "execution_count": 5,
     "metadata": {},
     "output_type": "execute_result"
    }
   ],
   "source": [
    "'m'+last_letter"
   ]
  },
  {
   "cell_type": "code",
   "execution_count": 6,
   "id": "3eb76a74",
   "metadata": {},
   "outputs": [],
   "source": [
    "x='hello world'"
   ]
  },
  {
   "cell_type": "code",
   "execution_count": 7,
   "id": "9e269599",
   "metadata": {},
   "outputs": [
    {
     "data": {
      "text/plain": [
       "'hello world'"
      ]
     },
     "execution_count": 7,
     "metadata": {},
     "output_type": "execute_result"
    }
   ],
   "source": [
    "x.\n"
   ]
  },
  {
   "cell_type": "code",
   "execution_count": 9,
   "id": "1b4f7f83",
   "metadata": {},
   "outputs": [
    {
     "data": {
      "text/plain": [
       "'HELLO WORLD'"
      ]
     },
     "execution_count": 9,
     "metadata": {},
     "output_type": "execute_result"
    }
   ],
   "source": [
    "x.upper()"
   ]
  },
  {
   "cell_type": "code",
   "execution_count": 15,
   "id": "104d6581",
   "metadata": {},
   "outputs": [
    {
     "data": {
      "text/plain": [
       "'hello world9'"
      ]
     },
     "execution_count": 15,
     "metadata": {},
     "output_type": "execute_result"
    }
   ],
   "source": [
    "x+\"9\""
   ]
  },
  {
   "cell_type": "code",
   "execution_count": 21,
   "id": "31c25214",
   "metadata": {},
   "outputs": [
    {
     "data": {
      "text/plain": [
       "'d+d\\nd'"
      ]
     },
     "execution_count": 21,
     "metadata": {},
     "output_type": "execute_result"
    }
   ],
   "source": []
  },
  {
   "cell_type": "code",
   "execution_count": 24,
   "id": "6cd7fae7",
   "metadata": {},
   "outputs": [
    {
     "data": {
      "text/plain": [
       "'sam'"
      ]
     },
     "execution_count": 24,
     "metadata": {},
     "output_type": "execute_result"
    }
   ],
   "source": [
    "name"
   ]
  },
  {
   "cell_type": "code",
   "execution_count": 27,
   "id": "3dcc98bb",
   "metadata": {},
   "outputs": [
    {
     "data": {
      "text/plain": [
       "'sam'"
      ]
     },
     "execution_count": 27,
     "metadata": {},
     "output_type": "execute_result"
    }
   ],
   "source": [
    "\"sam\""
   ]
  },
  {
   "cell_type": "code",
   "execution_count": 28,
   "id": "fd5dec3e",
   "metadata": {},
   "outputs": [
    {
     "data": {
      "text/plain": [
       "'samsam'"
      ]
     },
     "execution_count": 28,
     "metadata": {},
     "output_type": "execute_result"
    }
   ],
   "source": [
    "name+\"sam\""
   ]
  },
  {
   "cell_type": "code",
   "execution_count": null,
   "id": "0756541a",
   "metadata": {},
   "outputs": [],
   "source": []
  }
 ],
 "metadata": {
  "kernelspec": {
   "display_name": "Python 3",
   "language": "python",
   "name": "python3"
  },
  "language_info": {
   "codemirror_mode": {
    "name": "ipython",
    "version": 3
   },
   "file_extension": ".py",
   "mimetype": "text/x-python",
   "name": "python",
   "nbconvert_exporter": "python",
   "pygments_lexer": "ipython3",
   "version": "3.8.8"
  }
 },
 "nbformat": 4,
 "nbformat_minor": 5
}
