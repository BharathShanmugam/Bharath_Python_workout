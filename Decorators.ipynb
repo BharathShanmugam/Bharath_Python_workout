{
 "cells": [
  {
   "cell_type": "code",
   "execution_count": 1,
   "id": "df88ad62",
   "metadata": {},
   "outputs": [],
   "source": [
    "def one():\n",
    "    return 1"
   ]
  },
  {
   "cell_type": "code",
   "execution_count": 2,
   "id": "c9a52657",
   "metadata": {},
   "outputs": [
    {
     "data": {
      "text/plain": [
       "1"
      ]
     },
     "execution_count": 2,
     "metadata": {},
     "output_type": "execute_result"
    }
   ],
   "source": [
    "one()"
   ]
  },
  {
   "cell_type": "code",
   "execution_count": 3,
   "id": "4ef23cca",
   "metadata": {},
   "outputs": [],
   "source": [
    "def hello():\n",
    "    return \"Hello!\""
   ]
  },
  {
   "cell_type": "code",
   "execution_count": 4,
   "id": "793d7497",
   "metadata": {},
   "outputs": [
    {
     "data": {
      "text/plain": [
       "'Hello!'"
      ]
     },
     "execution_count": 4,
     "metadata": {},
     "output_type": "execute_result"
    }
   ],
   "source": [
    "hello()"
   ]
  },
  {
   "cell_type": "code",
   "execution_count": 5,
   "id": "b0f08c88",
   "metadata": {},
   "outputs": [],
   "source": [
    "greet=hello()"
   ]
  },
  {
   "cell_type": "code",
   "execution_count": 6,
   "id": "0f8087d7",
   "metadata": {},
   "outputs": [
    {
     "data": {
      "text/plain": [
       "'Hello!'"
      ]
     },
     "execution_count": 6,
     "metadata": {},
     "output_type": "execute_result"
    }
   ],
   "source": [
    "greet"
   ]
  },
  {
   "cell_type": "code",
   "execution_count": 7,
   "id": "dda7d4c8",
   "metadata": {},
   "outputs": [
    {
     "data": {
      "text/plain": [
       "'Hello!'"
      ]
     },
     "execution_count": 7,
     "metadata": {},
     "output_type": "execute_result"
    }
   ],
   "source": [
    "greet"
   ]
  },
  {
   "cell_type": "code",
   "execution_count": 8,
   "id": "29bc419f",
   "metadata": {},
   "outputs": [],
   "source": [
    "del hello"
   ]
  },
  {
   "cell_type": "code",
   "execution_count": 9,
   "id": "7f6460ab",
   "metadata": {},
   "outputs": [
    {
     "ename": "NameError",
     "evalue": "name 'hello' is not defined",
     "output_type": "error",
     "traceback": [
      "\u001b[1;31m---------------------------------------------------------------------------\u001b[0m",
      "\u001b[1;31mNameError\u001b[0m                                 Traceback (most recent call last)",
      "\u001b[1;32m<ipython-input-9-a75d7781aaeb>\u001b[0m in \u001b[0;36m<module>\u001b[1;34m\u001b[0m\n\u001b[1;32m----> 1\u001b[1;33m \u001b[0mhello\u001b[0m\u001b[1;33m(\u001b[0m\u001b[1;33m)\u001b[0m\u001b[1;33m\u001b[0m\u001b[1;33m\u001b[0m\u001b[0m\n\u001b[0m",
      "\u001b[1;31mNameError\u001b[0m: name 'hello' is not defined"
     ]
    }
   ],
   "source": [
    "hello()"
   ]
  },
  {
   "cell_type": "code",
   "execution_count": 10,
   "id": "28cd4542",
   "metadata": {},
   "outputs": [
    {
     "data": {
      "text/plain": [
       "'Hello!'"
      ]
     },
     "execution_count": 10,
     "metadata": {},
     "output_type": "execute_result"
    }
   ],
   "source": [
    "greet"
   ]
  },
  {
   "cell_type": "code",
   "execution_count": 11,
   "id": "0a2386af",
   "metadata": {},
   "outputs": [],
   "source": [
    "def name():\n",
    "    print(\"hi Bharath 🙌\")"
   ]
  },
  {
   "cell_type": "code",
   "execution_count": 12,
   "id": "f799c414",
   "metadata": {},
   "outputs": [
    {
     "name": "stdout",
     "output_type": "stream",
     "text": [
      "hi Bharath 🙌\n"
     ]
    }
   ],
   "source": [
    "name()"
   ]
  },
  {
   "cell_type": "code",
   "execution_count": 15,
   "id": "c6a5e031",
   "metadata": {},
   "outputs": [],
   "source": [
    "greet=name"
   ]
  },
  {
   "cell_type": "code",
   "execution_count": 14,
   "id": "9014a311",
   "metadata": {},
   "outputs": [
    {
     "name": "stdout",
     "output_type": "stream",
     "text": [
      "hi Bharath 🙌\n"
     ]
    }
   ],
   "source": [
    "greet()"
   ]
  },
  {
   "cell_type": "code",
   "execution_count": 16,
   "id": "7e65d3d3",
   "metadata": {},
   "outputs": [],
   "source": [
    "del name"
   ]
  },
  {
   "cell_type": "code",
   "execution_count": 17,
   "id": "4980f415",
   "metadata": {},
   "outputs": [
    {
     "ename": "NameError",
     "evalue": "name 'name' is not defined",
     "output_type": "error",
     "traceback": [
      "\u001b[1;31m---------------------------------------------------------------------------\u001b[0m",
      "\u001b[1;31mNameError\u001b[0m                                 Traceback (most recent call last)",
      "\u001b[1;32m<ipython-input-17-8afa4fbf817e>\u001b[0m in \u001b[0;36m<module>\u001b[1;34m\u001b[0m\n\u001b[1;32m----> 1\u001b[1;33m \u001b[0mname\u001b[0m\u001b[1;33m(\u001b[0m\u001b[1;33m)\u001b[0m\u001b[1;33m\u001b[0m\u001b[1;33m\u001b[0m\u001b[0m\n\u001b[0m",
      "\u001b[1;31mNameError\u001b[0m: name 'name' is not defined"
     ]
    }
   ],
   "source": [
    "name()"
   ]
  },
  {
   "cell_type": "code",
   "execution_count": 18,
   "id": "b11964c3",
   "metadata": {},
   "outputs": [
    {
     "name": "stdout",
     "output_type": "stream",
     "text": [
      "hi Bharath 🙌\n"
     ]
    }
   ],
   "source": [
    "greet()"
   ]
  },
  {
   "cell_type": "code",
   "execution_count": 5,
   "id": "962ad312",
   "metadata": {},
   "outputs": [
    {
     "ename": "NameError",
     "evalue": "name 'bharath' is not defined",
     "output_type": "error",
     "traceback": [
      "\u001b[1;31m---------------------------------------------------------------------------\u001b[0m",
      "\u001b[1;31mNameError\u001b[0m                                 Traceback (most recent call last)",
      "\u001b[1;32m<ipython-input-5-9befb3852f61>\u001b[0m in \u001b[0;36m<module>\u001b[1;34m\u001b[0m\n\u001b[0;32m      6\u001b[0m     \u001b[1;32mdef\u001b[0m \u001b[0mBharath_Shanmugam\u001b[0m\u001b[1;33m(\u001b[0m\u001b[1;33m)\u001b[0m\u001b[1;33m:\u001b[0m\u001b[1;33m\u001b[0m\u001b[1;33m\u001b[0m\u001b[0m\n\u001b[0;32m      7\u001b[0m         \u001b[0mprint\u001b[0m\u001b[1;33m(\u001b[0m\u001b[1;34m\"\\t hi bharath shanmugam welcome back\"\u001b[0m\u001b[1;33m)\u001b[0m\u001b[1;33m\u001b[0m\u001b[1;33m\u001b[0m\u001b[0m\n\u001b[1;32m----> 8\u001b[1;33m \u001b[0mprint\u001b[0m\u001b[1;33m(\u001b[0m\u001b[0mbharath\u001b[0m\u001b[1;33m(\u001b[0m\u001b[1;33m)\u001b[0m\u001b[1;33m)\u001b[0m\u001b[1;33m\u001b[0m\u001b[1;33m\u001b[0m\u001b[0m\n\u001b[0m\u001b[0;32m      9\u001b[0m \u001b[0mprint\u001b[0m\u001b[1;33m(\u001b[0m\u001b[0mBharath_Shanmugam\u001b[0m\u001b[1;33m(\u001b[0m\u001b[1;33m)\u001b[0m\u001b[1;33m)\u001b[0m\u001b[1;33m\u001b[0m\u001b[1;33m\u001b[0m\u001b[0m\n\u001b[0;32m     10\u001b[0m \u001b[1;33m\u001b[0m\u001b[0m\n",
      "\u001b[1;31mNameError\u001b[0m: name 'bharath' is not defined"
     ]
    }
   ],
   "source": [
    "def B():\n",
    "    print (\"this is the starting letter of your name\")\n",
    "    print (\"do u want to know your name\")\n",
    "    def bharath():\n",
    "        print(\"\\t hi bharath welcome back\")\n",
    "    def Bharath_Shanmugam():\n",
    "        print(\"\\t hi bharath shanmugam welcome back\")\n",
    "print(bharath())\n",
    "print(Bharath_Shanmugam())\n",
    "    \n"
   ]
  },
  {
   "cell_type": "code",
   "execution_count": 6,
   "id": "75b58d32",
   "metadata": {
    "scrolled": true
   },
   "outputs": [
    {
     "name": "stdout",
     "output_type": "stream",
     "text": [
      "this is the starting letter of your name\n",
      "do u want to know your name\n"
     ]
    }
   ],
   "source": [
    "B()"
   ]
  },
  {
   "cell_type": "code",
   "execution_count": 7,
   "id": "e4054c75",
   "metadata": {},
   "outputs": [
    {
     "name": "stdout",
     "output_type": "stream",
     "text": [
      "this is the starting letter of your name\n",
      "do u want to know your name\n"
     ]
    }
   ],
   "source": [
    "Name=B()"
   ]
  },
  {
   "cell_type": "code",
   "execution_count": 8,
   "id": "b248e5fd",
   "metadata": {},
   "outputs": [],
   "source": [
    "def hello(name=\"bharath\"):\n",
    "    print(\"the hello() function has been excuted!\")\n",
    "    \n",
    "    def greet():\n",
    "        return \"This is the greet() fun inside hello\"\n",
    "    def welcome():\n",
    "        return \" This is the welcone() fun inside hello\"\n",
    "    print(greet())\n",
    "    print(welcome())"
   ]
  },
  {
   "cell_type": "code",
   "execution_count": 9,
   "id": "fbf6001a",
   "metadata": {
    "scrolled": true
   },
   "outputs": [
    {
     "name": "stdout",
     "output_type": "stream",
     "text": [
      "the hello() function has been excuted!\n",
      "This is the greet() fun inside hello\n",
      " This is the welcone() fun inside hello\n"
     ]
    }
   ],
   "source": [
    "hello()\n"
   ]
  },
  {
   "cell_type": "code",
   "execution_count": 10,
   "id": "d670c1fd",
   "metadata": {},
   "outputs": [],
   "source": [
    "def hello(name=\"bharath\"):\n",
    "    print(\"the hello() function has been excuted!\")\n",
    "    \n",
    "    def greet():\n",
    "        return \"This is the greet() fun inside hello\"\n",
    "    def welcome():\n",
    "        return \" This is the welcone() fun inside hello\"\n",
    "\n",
    "    if name==\"bharath\":\n",
    "        return greet\n",
    "    else:\n",
    "        return welcome\n"
   ]
  },
  {
   "cell_type": "code",
   "execution_count": 11,
   "id": "8b2998e1",
   "metadata": {},
   "outputs": [
    {
     "name": "stdout",
     "output_type": "stream",
     "text": [
      "the hello() function has been excuted!\n"
     ]
    }
   ],
   "source": [
    "name=hello(\"bharath\")"
   ]
  },
  {
   "cell_type": "code",
   "execution_count": 12,
   "id": "182ad495",
   "metadata": {},
   "outputs": [
    {
     "data": {
      "text/plain": [
       "'This is the greet() fun inside hello'"
      ]
     },
     "execution_count": 12,
     "metadata": {},
     "output_type": "execute_result"
    }
   ],
   "source": [
    "name()"
   ]
  },
  {
   "cell_type": "code",
   "execution_count": 17,
   "id": "d4c0fcb5",
   "metadata": {},
   "outputs": [],
   "source": [
    "def name():\n",
    "    \n",
    "    def yourname():\n",
    "        print(\" Bharath is your name\")\n",
    "   \n",
    "    def namm():\n",
    "        print(\"hi ra \")\n",
    "    print( yourname())\n",
    "    print( namm())"
   ]
  },
  {
   "cell_type": "code",
   "execution_count": 18,
   "id": "dc64f784",
   "metadata": {},
   "outputs": [
    {
     "name": "stdout",
     "output_type": "stream",
     "text": [
      " Bharath is your name\n",
      "None\n",
      "hi ra \n",
      "None\n"
     ]
    }
   ],
   "source": [
    "Name=name()"
   ]
  },
  {
   "cell_type": "code",
   "execution_count": 14,
   "id": "aa36b329",
   "metadata": {},
   "outputs": [],
   "source": [
    "Name"
   ]
  },
  {
   "cell_type": "code",
   "execution_count": 13,
   "id": "6d11711b",
   "metadata": {},
   "outputs": [],
   "source": [
    "def hero():\n",
    "    def super_hero():\n",
    "        print(\"i am a super hero\")\n",
    "    return super_hero"
   ]
  },
  {
   "cell_type": "code",
   "execution_count": 14,
   "id": "6803fa32",
   "metadata": {},
   "outputs": [],
   "source": [
    "h=hero"
   ]
  },
  {
   "cell_type": "code",
   "execution_count": 17,
   "id": "ed33f119",
   "metadata": {},
   "outputs": [
    {
     "name": "stdout",
     "output_type": "stream",
     "text": [
      "i am a super hero\n"
     ]
    }
   ],
   "source": [
    "h()()"
   ]
  },
  {
   "cell_type": "code",
   "execution_count": 39,
   "id": "93d7eea3",
   "metadata": {},
   "outputs": [],
   "source": [
    "class Maths(object):\n",
    "    def add(a,b):\n",
    "        print(a+b)\n",
    "    def sub(a,b):\n",
    "        print(a-b)"
   ]
  },
  {
   "cell_type": "code",
   "execution_count": 44,
   "id": "9a525309",
   "metadata": {},
   "outputs": [],
   "source": [
    "m=Maths"
   ]
  },
  {
   "cell_type": "code",
   "execution_count": 45,
   "id": "ea546b06",
   "metadata": {},
   "outputs": [
    {
     "name": "stdout",
     "output_type": "stream",
     "text": [
      "30\n"
     ]
    }
   ],
   "source": [
    "m.add(10,20)"
   ]
  },
  {
   "cell_type": "code",
   "execution_count": 10,
   "id": "936593ca",
   "metadata": {},
   "outputs": [],
   "source": [
    "def full_name(orginal_func):\n",
    "    def wrap():\n",
    "        print(\"your full name \")\n",
    "        orginal_func()\n",
    "        print(\"this is your full name \")\n",
    "    return wrap"
   ]
  },
  {
   "cell_type": "code",
   "execution_count": 11,
   "id": "5c0dc246",
   "metadata": {},
   "outputs": [],
   "source": [
    "def your_name():\n",
    "    print(\"Bharath Shanmugam 😊\")"
   ]
  },
  {
   "cell_type": "code",
   "execution_count": 12,
   "id": "18673de3",
   "metadata": {},
   "outputs": [],
   "source": [
    "name=full_name(your_name)"
   ]
  },
  {
   "cell_type": "code",
   "execution_count": 13,
   "id": "168ddd31",
   "metadata": {},
   "outputs": [
    {
     "name": "stdout",
     "output_type": "stream",
     "text": [
      "your full name \n",
      "Bharath Shanmugam 😊\n",
      "this is your full name \n"
     ]
    }
   ],
   "source": [
    "name()"
   ]
  },
  {
   "cell_type": "markdown",
   "id": "241794a9",
   "metadata": {},
   "source": [
    "***in DECORATOR***"
   ]
  },
  {
   "cell_type": "code",
   "execution_count": 14,
   "id": "bf58c991",
   "metadata": {},
   "outputs": [],
   "source": [
    "@full_name\n",
    "def your_name():\n",
    "    print(\"Bharath Shanmugam 😊\")"
   ]
  },
  {
   "cell_type": "code",
   "execution_count": 15,
   "id": "80dc6a7f",
   "metadata": {},
   "outputs": [
    {
     "name": "stdout",
     "output_type": "stream",
     "text": [
      "your full name \n",
      "Bharath Shanmugam 😊\n",
      "this is your full name \n"
     ]
    }
   ],
   "source": [
    "your_name()"
   ]
  },
  {
   "cell_type": "code",
   "execution_count": 7,
   "id": "00bd17ee",
   "metadata": {},
   "outputs": [],
   "source": [
    "def something(do_something):\n",
    "    def anything ():\n",
    "        print(\"this is starting\")\n",
    "        do_something()\n",
    "        print(\"this is the end\")\n",
    "    return anything"
   ]
  },
  {
   "cell_type": "code",
   "execution_count": 19,
   "id": "da74b717",
   "metadata": {},
   "outputs": [],
   "source": [
    "hi=something(\"a\")"
   ]
  },
  {
   "cell_type": "code",
   "execution_count": 20,
   "id": "20d263a3",
   "metadata": {},
   "outputs": [
    {
     "name": "stdout",
     "output_type": "stream",
     "text": [
      "this is starting\n"
     ]
    },
    {
     "ename": "TypeError",
     "evalue": "'str' object is not callable",
     "output_type": "error",
     "traceback": [
      "\u001b[1;31m---------------------------------------------------------------------------\u001b[0m",
      "\u001b[1;31mTypeError\u001b[0m                                 Traceback (most recent call last)",
      "\u001b[1;32m<ipython-input-20-ce8dd9c0d491>\u001b[0m in \u001b[0;36m<module>\u001b[1;34m\u001b[0m\n\u001b[1;32m----> 1\u001b[1;33m \u001b[0mhi\u001b[0m\u001b[1;33m(\u001b[0m\u001b[1;33m)\u001b[0m\u001b[1;33m\u001b[0m\u001b[1;33m\u001b[0m\u001b[0m\n\u001b[0m",
      "\u001b[1;32m<ipython-input-7-b24954166d9c>\u001b[0m in \u001b[0;36manything\u001b[1;34m()\u001b[0m\n\u001b[0;32m      2\u001b[0m     \u001b[1;32mdef\u001b[0m \u001b[0manything\u001b[0m \u001b[1;33m(\u001b[0m\u001b[1;33m)\u001b[0m\u001b[1;33m:\u001b[0m\u001b[1;33m\u001b[0m\u001b[1;33m\u001b[0m\u001b[0m\n\u001b[0;32m      3\u001b[0m         \u001b[0mprint\u001b[0m\u001b[1;33m(\u001b[0m\u001b[1;34m\"this is starting\"\u001b[0m\u001b[1;33m)\u001b[0m\u001b[1;33m\u001b[0m\u001b[1;33m\u001b[0m\u001b[0m\n\u001b[1;32m----> 4\u001b[1;33m         \u001b[0mdo_something\u001b[0m\u001b[1;33m(\u001b[0m\u001b[1;33m)\u001b[0m\u001b[1;33m\u001b[0m\u001b[1;33m\u001b[0m\u001b[0m\n\u001b[0m\u001b[0;32m      5\u001b[0m         \u001b[0mprint\u001b[0m\u001b[1;33m(\u001b[0m\u001b[1;34m\"this is the end\"\u001b[0m\u001b[1;33m)\u001b[0m\u001b[1;33m\u001b[0m\u001b[1;33m\u001b[0m\u001b[0m\n\u001b[0;32m      6\u001b[0m     \u001b[1;32mreturn\u001b[0m \u001b[0manything\u001b[0m\u001b[1;33m\u001b[0m\u001b[1;33m\u001b[0m\u001b[0m\n",
      "\u001b[1;31mTypeError\u001b[0m: 'str' object is not callable"
     ]
    }
   ],
   "source": [
    "hi()"
   ]
  },
  {
   "cell_type": "code",
   "execution_count": 22,
   "id": "ba39ebf3",
   "metadata": {},
   "outputs": [],
   "source": [
    "\n",
    "def nothing():\n",
    "    print(\"i am doing nothing\")\n",
    "    return nothing"
   ]
  },
  {
   "cell_type": "code",
   "execution_count": 26,
   "id": "f876d2d9",
   "metadata": {},
   "outputs": [
    {
     "name": "stdout",
     "output_type": "stream",
     "text": [
      "i am doing nothing\n"
     ]
    }
   ],
   "source": [
    "hh=nothing()"
   ]
  },
  {
   "cell_type": "code",
   "execution_count": 27,
   "id": "31094862",
   "metadata": {},
   "outputs": [
    {
     "name": "stdout",
     "output_type": "stream",
     "text": [
      "i am doing nothing\n"
     ]
    },
    {
     "data": {
      "text/plain": [
       "<function __main__.nothing()>"
      ]
     },
     "execution_count": 27,
     "metadata": {},
     "output_type": "execute_result"
    }
   ],
   "source": [
    "hh()"
   ]
  },
  {
   "cell_type": "markdown",
   "id": "ad1d46e0",
   "metadata": {},
   "source": [
    "***workouts***"
   ]
  },
  {
   "cell_type": "code",
   "execution_count": 1,
   "id": "41b7060b",
   "metadata": {},
   "outputs": [],
   "source": [
    "def bharath(org_func):\n",
    "    def wrap():\n",
    "        print(\"this is the first line\")\n",
    "        org_func()\n",
    "        print(\"this is the last line\")\n",
    "    return wrap"
   ]
  },
  {
   "cell_type": "code",
   "execution_count": 5,
   "id": "c87b2e04",
   "metadata": {},
   "outputs": [],
   "source": [
    "def fun():\n",
    "    output=[i for i in range(10)]\n",
    "    return output\n",
    "    \n",
    "    \n",
    "    "
   ]
  },
  {
   "cell_type": "code",
   "execution_count": 6,
   "id": "45809305",
   "metadata": {},
   "outputs": [
    {
     "data": {
      "text/plain": [
       "[0, 1, 2, 3, 4, 5, 6, 7, 8, 9]"
      ]
     },
     "execution_count": 6,
     "metadata": {},
     "output_type": "execute_result"
    }
   ],
   "source": [
    "fun()"
   ]
  },
  {
   "cell_type": "code",
   "execution_count": 34,
   "id": "f4c57e27",
   "metadata": {},
   "outputs": [],
   "source": [
    "@bharath\n",
    "def fun():\n",
    "    \n",
    "    output=[]\n",
    "    for i in range(10):\n",
    "        output.append(i)\n",
    "    print(output) \n",
    "    print(\"something\")"
   ]
  },
  {
   "cell_type": "code",
   "execution_count": 35,
   "id": "227744d1",
   "metadata": {},
   "outputs": [
    {
     "name": "stdout",
     "output_type": "stream",
     "text": [
      "this is the first line\n",
      "[0, 1, 2, 3, 4, 5, 6, 7, 8, 9]\n",
      "something\n",
      "this is the last line\n"
     ]
    }
   ],
   "source": [
    "fun()"
   ]
  },
  {
   "cell_type": "markdown",
   "id": "53a446b3",
   "metadata": {},
   "source": [
    "my work out"
   ]
  },
  {
   "cell_type": "code",
   "execution_count": 9,
   "id": "65db2a32",
   "metadata": {},
   "outputs": [],
   "source": [
    "def fun(name=\"bharath\"):\n",
    "  def greet():\n",
    "    return (\"this is the greert func inside the fun\")\n",
    "  def welcome():\n",
    "    return (\"this is the welcome fun inside fun()\")\n",
    "  if name==\"bharath\":\n",
    "    print (greet())\n",
    "  else :\n",
    "    print (welcome())\n",
    "\n"
   ]
  },
  {
   "cell_type": "code",
   "execution_count": 10,
   "id": "b6dc5c42",
   "metadata": {},
   "outputs": [
    {
     "name": "stdout",
     "output_type": "stream",
     "text": [
      "this is the greert func inside the fun\n"
     ]
    }
   ],
   "source": [
    "fun()"
   ]
  },
  {
   "cell_type": "code",
   "execution_count": 11,
   "id": "fdd0d73d",
   "metadata": {},
   "outputs": [
    {
     "name": "stdout",
     "output_type": "stream",
     "text": [
      "this is the welcome fun inside fun()\n"
     ]
    }
   ],
   "source": [
    "fun(\"jhsfdj\")"
   ]
  },
  {
   "cell_type": "code",
   "execution_count": 16,
   "id": "fe913fa4",
   "metadata": {},
   "outputs": [],
   "source": [
    "my=fun"
   ]
  },
  {
   "cell_type": "code",
   "execution_count": 20,
   "id": "42ebb8ac",
   "metadata": {},
   "outputs": [],
   "source": [
    "del fun"
   ]
  },
  {
   "cell_type": "code",
   "execution_count": 21,
   "id": "367d899f",
   "metadata": {},
   "outputs": [
    {
     "ename": "NameError",
     "evalue": "name 'fun' is not defined",
     "output_type": "error",
     "traceback": [
      "\u001b[1;31m---------------------------------------------------------------------------\u001b[0m",
      "\u001b[1;31mNameError\u001b[0m                                 Traceback (most recent call last)",
      "Cell \u001b[1;32mIn[21], line 1\u001b[0m\n\u001b[1;32m----> 1\u001b[0m fun()\n",
      "\u001b[1;31mNameError\u001b[0m: name 'fun' is not defined"
     ]
    }
   ],
   "source": [
    "fun()"
   ]
  },
  {
   "cell_type": "code",
   "execution_count": 23,
   "id": "9a5ab0b0",
   "metadata": {},
   "outputs": [
    {
     "name": "stdout",
     "output_type": "stream",
     "text": [
      "this is the welcome fun inside fun()\n"
     ]
    }
   ],
   "source": [
    "my(\"jaghsdf\")"
   ]
  },
  {
   "cell_type": "code",
   "execution_count": 8,
   "id": "380d6e68",
   "metadata": {},
   "outputs": [],
   "source": [
    "def somefun(orginal):\n",
    "    def wrap():\n",
    "        print(\"this is the func in somefun\")\n",
    "        orginal()\n",
    "        print(\"this is the func after\")\n",
    "    return wrap"
   ]
  },
  {
   "cell_type": "code",
   "execution_count": 12,
   "id": "10ea5270",
   "metadata": {},
   "outputs": [],
   "source": [
    "\n",
    "def orginal():\n",
    "    print(\"do what ever you want\")"
   ]
  },
  {
   "cell_type": "code",
   "execution_count": 13,
   "id": "a2801638",
   "metadata": {},
   "outputs": [
    {
     "name": "stdout",
     "output_type": "stream",
     "text": [
      "do what ever you want\n"
     ]
    }
   ],
   "source": [
    "orginal()"
   ]
  },
  {
   "cell_type": "code",
   "execution_count": null,
   "id": "cece47d3",
   "metadata": {},
   "outputs": [],
   "source": [
    "\n"
   ]
  },
  {
   "cell_type": "code",
   "execution_count": null,
   "id": "12ef078d",
   "metadata": {},
   "outputs": [],
   "source": []
  }
 ],
 "metadata": {
  "kernelspec": {
   "display_name": "Python 3 (ipykernel)",
   "language": "python",
   "name": "python3"
  },
  "language_info": {
   "codemirror_mode": {
    "name": "ipython",
    "version": 3
   },
   "file_extension": ".py",
   "mimetype": "text/x-python",
   "name": "python",
   "nbconvert_exporter": "python",
   "pygments_lexer": "ipython3",
   "version": "3.9.13"
  },
  "vscode": {
   "interpreter": {
    "hash": "5aaa717b57c7a3cc2d47f661872b8690cb1c935c52f4817bfc8248c7bd0a74ae"
   }
  }
 },
 "nbformat": 4,
 "nbformat_minor": 5
}
