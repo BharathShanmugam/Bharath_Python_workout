{
 "cells": [
  {
   "cell_type": "code",
   "execution_count": 1,
   "id": "95884a1e",
   "metadata": {},
   "outputs": [],
   "source": [
    "mystring=\"bharath\""
   ]
  },
  {
   "cell_type": "code",
   "execution_count": 2,
   "id": "b3317289",
   "metadata": {},
   "outputs": [
    {
     "name": "stdout",
     "output_type": "stream",
     "text": [
      "b\n",
      "h\n",
      "a\n",
      "r\n",
      "a\n",
      "t\n",
      "h\n"
     ]
    }
   ],
   "source": [
    "for letter in mystring:\n",
    "    print(letter)"
   ]
  },
  {
   "cell_type": "code",
   "execution_count": 3,
   "id": "125c301c",
   "metadata": {},
   "outputs": [
    {
     "name": "stdout",
     "output_type": "stream",
     "text": [
      "the output is for while condition is 1\n",
      "the output is for while condition is 2\n",
      "the output is for while condition is 3\n",
      "the output is for while condition is 4\n"
     ]
    }
   ],
   "source": [
    "x=1\n",
    "\n",
    "while x<5:\n",
    "        print(f\"the output is for while condition is {x}\")\n",
    "        x+=1\n",
    "        \n"
   ]
  },
  {
   "cell_type": "code",
   "execution_count": 4,
   "id": "7e4577fd",
   "metadata": {},
   "outputs": [
    {
     "name": "stdout",
     "output_type": "stream",
     "text": [
      "the output is for while condition is 1\n"
     ]
    }
   ],
   "source": [
    "x=1\n",
    "\n",
    "while x<5:\n",
    "        print(f\"the output is for while condition is {x}\")\n",
    "        x+=1\n",
    "        if x==2:\n",
    "            break\n"
   ]
  },
  {
   "cell_type": "code",
   "execution_count": 5,
   "id": "6953540f",
   "metadata": {},
   "outputs": [
    {
     "name": "stdout",
     "output_type": "stream",
     "text": [
      "the output is for while condition is 1\n",
      "the output is for while condition is 2\n",
      "the output is for while condition is 3\n",
      "the output is for while condition is 4\n"
     ]
    }
   ],
   "source": [
    "x=1\n",
    "\n",
    "while x<5:\n",
    "        print(f\"the output is for while condition is {x}\")\n",
    "        x+=1\n",
    "        if x==2:\n",
    "            pass\n"
   ]
  },
  {
   "cell_type": "code",
   "execution_count": 6,
   "id": "a4c4bc6f",
   "metadata": {},
   "outputs": [
    {
     "name": "stdout",
     "output_type": "stream",
     "text": [
      "the output is for while condition is 3\n",
      "the output is for while condition is 4\n",
      "the output is for while condition is 5\n"
     ]
    }
   ],
   "source": [
    "x=1\n",
    "\n",
    "while x<5:\n",
    "    x+=1\n",
    "    if x==2:\n",
    "        continue\n",
    "    print(f\"the output is for while condition is {x}\")\n"
   ]
  },
  {
   "cell_type": "code",
   "execution_count": 7,
   "id": "fa2e7d3c",
   "metadata": {},
   "outputs": [
    {
     "name": "stdout",
     "output_type": "stream",
     "text": [
      "the output is for while condition is 1\n",
      "the output is for while condition is 2\n",
      "the output is for while condition is 3\n",
      "the output is for while condition is 4\n"
     ]
    }
   ],
   "source": [
    "x=1\n",
    "\n",
    "while x<5:\n",
    "        print(f\"the output is for while condition is {x}\")\n",
    "        x+=1\n",
    "        if x==2:\n",
    "            continue\n"
   ]
  },
  {
   "cell_type": "code",
   "execution_count": 8,
   "id": "84eb9f94",
   "metadata": {},
   "outputs": [
    {
     "name": "stdout",
     "output_type": "stream",
     "text": [
      "bharath\n"
     ]
    }
   ],
   "source": [
    "print(mystring)"
   ]
  },
  {
   "cell_type": "code",
   "execution_count": null,
   "id": "729c8558",
   "metadata": {},
   "outputs": [],
   "source": []
  },
  {
   "cell_type": "code",
   "execution_count": 10,
   "id": "514ebb93",
   "metadata": {},
   "outputs": [],
   "source": [
    "mystring=\"Bharath\""
   ]
  },
  {
   "cell_type": "code",
   "execution_count": 11,
   "id": "703597c3",
   "metadata": {},
   "outputs": [
    {
     "name": "stdout",
     "output_type": "stream",
     "text": [
      "Bharath\n"
     ]
    }
   ],
   "source": [
    "print(mystring)"
   ]
  },
  {
   "cell_type": "code",
   "execution_count": 15,
   "id": "2b16b126",
   "metadata": {},
   "outputs": [
    {
     "ename": "IndentationError",
     "evalue": "unindent does not match any outer indentation level (<tokenize>, line 4)",
     "output_type": "error",
     "traceback": [
      "\u001b[1;36m  File \u001b[1;32m\"<tokenize>\"\u001b[1;36m, line \u001b[1;32m4\u001b[0m\n\u001b[1;33m    print(letter)\u001b[0m\n\u001b[1;37m    ^\u001b[0m\n\u001b[1;31mIndentationError\u001b[0m\u001b[1;31m:\u001b[0m unindent does not match any outer indentation level\n"
     ]
    }
   ],
   "source": [
    "for letter in mystring:\n",
    "     if letter == a:\n",
    "        continue\n",
    "    print(letter)\n",
    "    "
   ]
  },
  {
   "cell_type": "code",
   "execution_count": 17,
   "id": "1188d26e",
   "metadata": {},
   "outputs": [
    {
     "name": "stdout",
     "output_type": "stream",
     "text": [
      "x is currently:  0\n",
      " x is still less than 10, adding 1 to x\n",
      "x is currently:  1\n",
      " x is still less than 10, adding 1 to x\n",
      "x is currently:  2\n",
      " x is still less than 10, adding 1 to x\n",
      "x is currently:  3\n",
      " x is still less than 10, adding 1 to x\n",
      "x is currently:  4\n",
      " x is still less than 10, adding 1 to x\n",
      "x is currently:  5\n",
      " x is still less than 10, adding 1 to x\n",
      "x is currently:  6\n",
      " x is still less than 10, adding 1 to x\n",
      "x is currently:  7\n",
      " x is still less than 10, adding 1 to x\n",
      "x is currently:  8\n",
      " x is still less than 10, adding 1 to x\n",
      "x is currently:  9\n",
      " x is still less than 10, adding 1 to x\n",
      "All Done!\n"
     ]
    }
   ],
   "source": [
    "x = 0\n",
    "\n",
    "while x < 10:\n",
    "    print('x is currently: ',x)\n",
    "    print(' x is still less than 10, adding 1 to x')\n",
    "    x+=1\n",
    "    \n",
    "else:\n",
    "    print('All Done!')"
   ]
  },
  {
   "cell_type": "code",
   "execution_count": 13,
   "id": "719585da",
   "metadata": {},
   "outputs": [
    {
     "name": "stdout",
     "output_type": "stream",
     "text": [
      "Bharath\n"
     ]
    }
   ],
   "source": [
    "print(mystring)"
   ]
  },
  {
   "cell_type": "code",
   "execution_count": 22,
   "id": "1cbae3b1",
   "metadata": {},
   "outputs": [
    {
     "name": "stdout",
     "output_type": "stream",
     "text": [
      "B\n",
      "h\n",
      "r\n",
      "t\n",
      "h\n"
     ]
    }
   ],
   "source": [
    "for letter in mystring:\n",
    "    if letter == \"a\":\n",
    "        continue\n",
    "    print(letter)\n",
    "    "
   ]
  }
 ],
 "metadata": {
  "kernelspec": {
   "display_name": "Python 3.10.6 64-bit",
   "language": "python",
   "name": "python3"
  },
  "language_info": {
   "codemirror_mode": {
    "name": "ipython",
    "version": 3
   },
   "file_extension": ".py",
   "mimetype": "text/x-python",
   "name": "python",
   "nbconvert_exporter": "python",
   "pygments_lexer": "ipython3",
   "version": "3.10.6"
  },
  "vscode": {
   "interpreter": {
    "hash": "2ca6819a7b235a9e9923d27ebe966cb7261666ab2e4abf79b2eb7e1de2b3fef6"
   }
  }
 },
 "nbformat": 4,
 "nbformat_minor": 5
}
