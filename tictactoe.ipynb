{
 "cells": [
  {
   "cell_type": "code",
   "execution_count": 1,
   "metadata": {},
   "outputs": [],
   "source": [
    "game_list=[0,1,2]"
   ]
  },
  {
   "cell_type": "code",
   "execution_count": 2,
   "metadata": {},
   "outputs": [],
   "source": [
    "def display_game(game_list):\n",
    "    print(\"here is the current list\")\n",
    "    print(game_list)"
   ]
  },
  {
   "cell_type": "code",
   "execution_count": 3,
   "metadata": {},
   "outputs": [],
   "source": [
    "def position_choice():\n",
    "    choice=\"wrong\"\n",
    "    while choice not in [\"0\",\"1\",\"2\"]:\n",
    "        choice=input(\"select the position (0,1,2):  \")\n",
    "        if choice not in [\"0\",\"1\",\"2\"]:\n",
    "            print(\"sorry! choose in this position (0,1,2)\")\n",
    "    return int(choice)"
   ]
  },
  {
   "cell_type": "code",
   "execution_count": 4,
   "metadata": {},
   "outputs": [],
   "source": [
    "def replacement_choise(game_list,position):\n",
    "    user_position=input(\"enter a postion to change :  \")\n",
    "    game_list[position]=user_position\n",
    "    return game_list"
   ]
  },
  {
   "cell_type": "code",
   "execution_count": 5,
   "metadata": {},
   "outputs": [],
   "source": [
    "def gameon_choice():\n",
    "    choice=\"wrong\"\n",
    "    while choice not in [\"y\",\"n\"]:\n",
    "        choice=input(\"select do you want to contunue[y or n]\")\n",
    "        if choice not in [\"y\" ,\"n\"]:\n",
    "            print(\"sorry! choose in this position \")\n",
    "    if choice==\"y\":\n",
    "        return True\n",
    "    else:\n",
    "        return False\n",
    "    \n",
    "    "
   ]
  },
  {
   "cell_type": "code",
   "execution_count": 6,
   "metadata": {},
   "outputs": [
    {
     "name": "stdout",
     "output_type": "stream",
     "text": [
      "here is the current list\n",
      "[0, 1, 2]\n",
      "select the position (0,1,2):  0\n",
      "enter a postion to change :  bharath\n",
      "here is the current list\n",
      "['bharath', 1, 2]\n",
      "select do you want to contunue[y or n]y\n",
      "here is the current list\n",
      "['bharath', 1, 2]\n",
      "select the position (0,1,2):  2\n",
      "enter a postion to change :  m,j\n",
      "here is the current list\n",
      "['bharath', 1, 'm,j']\n",
      "select do you want to contunue[y or n]n\n"
     ]
    }
   ],
   "source": [
    "game_on=True\n",
    "game_list=[0,1,2]\n",
    "while game_on:\n",
    "    display_game(game_list)\n",
    "    position=position_choice()\n",
    "    game_list=replacement_choise(game_list,position)\n",
    "    display_game(game_list)\n",
    "    game_on=gameon_choice()"
   ]
  },
  {
   "cell_type": "code",
   "execution_count": null,
   "metadata": {},
   "outputs": [],
   "source": []
  }
 ],
 "metadata": {
  "kernelspec": {
   "display_name": "Python 3 (ipykernel)",
   "language": "python",
   "name": "python3"
  },
  "language_info": {
   "codemirror_mode": {
    "name": "ipython",
    "version": 3
   },
   "file_extension": ".py",
   "mimetype": "text/x-python",
   "name": "python",
   "nbconvert_exporter": "python",
   "pygments_lexer": "ipython3",
   "version": "3.11.1"
  },
  "vscode": {
   "interpreter": {
    "hash": "5aaa717b57c7a3cc2d47f661872b8690cb1c935c52f4817bfc8248c7bd0a74ae"
   }
  }
 },
 "nbformat": 4,
 "nbformat_minor": 2
}
