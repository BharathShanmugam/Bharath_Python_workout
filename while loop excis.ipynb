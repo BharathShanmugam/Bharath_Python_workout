{
 "cells": [
  {
   "cell_type": "code",
   "execution_count": 19,
   "metadata": {},
   "outputs": [],
   "source": [
    "n=1"
   ]
  },
  {
   "cell_type": "code",
   "execution_count": 20,
   "metadata": {},
   "outputs": [
    {
     "name": "stdout",
     "output_type": "stream",
     "text": [
      "hello world\n",
      "hello world\n",
      "hello world\n",
      "hello world\n",
      "hello world\n"
     ]
    }
   ],
   "source": [
    "while n<=5:\n",
    "    print(\"hello world\")\n",
    "    n+=1"
   ]
  },
  {
   "cell_type": "code",
   "execution_count": 4,
   "metadata": {},
   "outputs": [
    {
     "name": "stdout",
     "output_type": "stream",
     "text": [
      "z is 0\n",
      "zzz is 1\n",
      "2\n",
      "zzz is 2\n",
      "3\n"
     ]
    }
   ],
   "source": [
    "z = 0\n",
    "\n",
    "while z < 3:\n",
    "    if z == 0:\n",
    "        print(\"z is\",z)\n",
    "        z += 1\n",
    "    elif z == False:\n",
    "        print(z ,\"z is\",z)\n",
    "        z += 1\n",
    "    else:\n",
    "        print(\"zzz is\",z)\n",
    "        z += 1\n",
    "        print(z)"
   ]
  },
  {
   "cell_type": "markdown",
   "metadata": {},
   "source": [
    "***ADDING ELEMENT IN THE LIST***"
   ]
  },
  {
   "cell_type": "code",
   "execution_count": 1,
   "metadata": {},
   "outputs": [
    {
     "name": "stdout",
     "output_type": "stream",
     "text": [
      "this is my listt  =[0]\n",
      "this is my i  =0\n",
      "this is my listt  =[0, 1]\n",
      "this is my i  =1\n",
      "this is my listt  =[0, 1, 2]\n",
      "this is my i  =2\n",
      "this is my listt  =[0, 1, 2, 3]\n",
      "this is my i  =3\n"
     ]
    }
   ],
   "source": [
    "mylist=[]\n",
    "i=0\n",
    "while len(mylist)<4:\n",
    "    mylist.append(i)\n",
    "    print(f'this is my listt  ={mylist}')\n",
    "    print(f'this is my i  ={i}')\n",
    "    i=i+1"
   ]
  },
  {
   "cell_type": "markdown",
   "metadata": {},
   "source": [
    "***PRINT ITEMS IN THE TUPLE***"
   ]
  },
  {
   "cell_type": "code",
   "execution_count": 2,
   "metadata": {},
   "outputs": [
    {
     "name": "stdout",
     "output_type": "stream",
     "text": [
      "10\n",
      "20\n",
      "30\n",
      "40\n",
      "50\n"
     ]
    }
   ],
   "source": [
    "tup=(10,20,30,40,50)\n",
    "for i in tup:\n",
    "    print(i)"
   ]
  },
  {
   "cell_type": "code",
   "execution_count": 3,
   "metadata": {},
   "outputs": [
    {
     "name": "stdout",
     "output_type": "stream",
     "text": [
      "(10, 20, 30, 40, 50)\n",
      "(10, 20, 30, 40, 50)\n",
      "(10, 20, 30, 40, 50)\n",
      "(10, 20, 30, 40, 50)\n",
      "(10, 20, 30, 40, 50)\n"
     ]
    }
   ],
   "source": [
    "tup=(10,20,30,40,50)\n",
    "i=0\n",
    "while i < len(tup):\n",
    "    print([i])\n",
    "    i += 1"
   ]
  },
  {
   "cell_type": "code",
   "execution_count": null,
   "metadata": {},
   "outputs": [],
   "source": []
  }
 ],
 "metadata": {
  "kernelspec": {
   "display_name": "Python 3",
   "language": "python",
   "name": "python3"
  },
  "language_info": {
   "codemirror_mode": {
    "name": "ipython",
    "version": 3
   },
   "file_extension": ".py",
   "mimetype": "text/x-python",
   "name": "python",
   "nbconvert_exporter": "python",
   "pygments_lexer": "ipython3",
   "version": "3.8.8"
  },
  "vscode": {
   "interpreter": {
    "hash": "2ca6819a7b235a9e9923d27ebe966cb7261666ab2e4abf79b2eb7e1de2b3fef6"
   }
  }
 },
 "nbformat": 4,
 "nbformat_minor": 2
}
