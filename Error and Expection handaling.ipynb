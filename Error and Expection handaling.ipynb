{
 "cells": [
  {
   "cell_type": "code",
   "execution_count": 1,
   "id": "c4aaa57f",
   "metadata": {},
   "outputs": [],
   "source": [
    "def ask_for_int():\n",
    "  while True:\n",
    "    try:\n",
    "      result=(int(input(\"please provide a number :  \")))\n",
    "      \n",
    "    except:\n",
    "      print(\"please provide a number not a str\")\n",
    "      continue\n",
    "    else:\n",
    "      print(\"thank you for provideing the number\")\n",
    "      break\n",
    "  print(result)\n"
   ]
  },
  {
   "cell_type": "code",
   "execution_count": 2,
   "id": "16aeaa25",
   "metadata": {},
   "outputs": [
    {
     "name": "stdout",
     "output_type": "stream",
     "text": [
      "please provide a number :  bhasr\n",
      "please provide a number not a str\n",
      "please provide a number :  hafs\n",
      "please provide a number not a str\n",
      "please provide a number :  745\n",
      "thank you for provideing the number\n",
      "745\n"
     ]
    }
   ],
   "source": [
    "ask_for_int()"
   ]
  },
  {
   "cell_type": "code",
   "execution_count": 30,
   "id": "a991e561",
   "metadata": {},
   "outputs": [
    {
     "name": "stdout",
     "output_type": "stream",
     "text": [
      "thank you for provideing the number\n",
      "45\n"
     ]
    }
   ],
   "source": [
    "ask_for_int()"
   ]
  },
  {
   "cell_type": "code",
   "execution_count": 1,
   "id": "09fc337f",
   "metadata": {},
   "outputs": [
    {
     "name": "stdout",
     "output_type": "stream",
     "text": [
      "0\n",
      "1\n",
      "2\n",
      "3\n",
      "4\n",
      "5\n"
     ]
    }
   ],
   "source": [
    "x=0\n",
    "y=5\n",
    "while x<=y:\n",
    "  print(x)\n",
    "  x+=1\n",
    "\n",
    "  "
   ]
  },
  {
   "cell_type": "code",
   "execution_count": 36,
   "id": "d1177c66",
   "metadata": {},
   "outputs": [],
   "source": [
    "a=\"bharath\""
   ]
  },
  {
   "cell_type": "code",
   "execution_count": 39,
   "id": "34404f37",
   "metadata": {},
   "outputs": [
    {
     "name": "stdout",
     "output_type": "stream",
     "text": [
      "bharath\n",
      "bharath\n",
      "bharath\n",
      "bharath\n",
      "bharath\n",
      "bharath\n"
     ]
    }
   ],
   "source": [
    "x=0\n",
    "i=5\n",
    "while x<=i:\n",
    "  x+=1\n",
    "  print(a)"
   ]
  },
  {
   "cell_type": "code",
   "execution_count": null,
   "id": "6f8cf479",
   "metadata": {},
   "outputs": [],
   "source": []
  }
 ],
 "metadata": {
  "kernelspec": {
   "display_name": "Python 3",
   "language": "python",
   "name": "python3"
  },
  "language_info": {
   "codemirror_mode": {
    "name": "ipython",
    "version": 3
   },
   "file_extension": ".py",
   "mimetype": "text/x-python",
   "name": "python",
   "nbconvert_exporter": "python",
   "pygments_lexer": "ipython3",
   "version": "3.10.6"
  },
  "vscode": {
   "interpreter": {
    "hash": "2ca6819a7b235a9e9923d27ebe966cb7261666ab2e4abf79b2eb7e1de2b3fef6"
   }
  }
 },
 "nbformat": 4,
 "nbformat_minor": 5
}
