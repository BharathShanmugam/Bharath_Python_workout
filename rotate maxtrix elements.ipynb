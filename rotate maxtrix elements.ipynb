{
 "cells": [
  {
   "cell_type": "code",
   "execution_count": 3,
   "id": "2eaede1b",
   "metadata": {},
   "outputs": [],
   "source": [
    "def rotateMatrix(mat):\n",
    "    if not len(mat):\n",
    "        return\n",
    "    top=0\n",
    "    bottom=len(mat)-1\n",
    "    lefft=0\n",
    "    right=len(mat[0])-1\n",
    "    while left<right and top<bottom:\n",
    "        prev=mat[top+1][left]\n",
    "        for i in range(left,right+1):\n",
    "            curr=mat[top][i]\n",
    "            mat [top][i]=prev\n",
    "            prev=curr\n",
    "        top+=1\n",
    "        \n",
    "            "
   ]
  },
  {
   "cell_type": "code",
   "execution_count": 4,
   "id": "f00187bd",
   "metadata": {},
   "outputs": [],
   "source": [
    "\n"
   ]
  },
  {
   "cell_type": "code",
   "execution_count": null,
   "id": "9d8ed1f0",
   "metadata": {},
   "outputs": [],
   "source": []
  },
  {
   "cell_type": "code",
   "execution_count": null,
   "id": "eee1a2d2",
   "metadata": {},
   "outputs": [],
   "source": []
  }
 ],
 "metadata": {
  "kernelspec": {
   "display_name": "Python 3",
   "language": "python",
   "name": "python3"
  },
  "language_info": {
   "codemirror_mode": {
    "name": "ipython",
    "version": 3
   },
   "file_extension": ".py",
   "mimetype": "text/x-python",
   "name": "python",
   "nbconvert_exporter": "python",
   "pygments_lexer": "ipython3",
   "version": "3.8.8"
  }
 },
 "nbformat": 4,
 "nbformat_minor": 5
}
