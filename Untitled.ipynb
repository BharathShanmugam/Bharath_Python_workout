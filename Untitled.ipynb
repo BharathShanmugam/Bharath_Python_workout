{
 "cells": [
  {
   "cell_type": "code",
   "execution_count": 1,
   "id": "8f621675",
   "metadata": {
    "vscode": {
     "languageId": "plaintext"
    }
   },
   "outputs": [],
   "source": [
    "class Node:\n",
    "    def __init__(self,value):\n",
    "        self.value=value\n",
    "        self.next=None"
   ]
  },
  {
   "cell_type": "code",
   "execution_count": 2,
   "id": "8b55b418",
   "metadata": {
    "vscode": {
     "languageId": "plaintext"
    }
   },
   "outputs": [],
   "source": [
    "class Linkedlist:\n",
    "    def __init__(self,value):\n",
    "        new_node=Node(value)\n",
    "        self.head=new_node\n",
    "        self.tail=new_node\n",
    "        self.length=1\n",
    "    def Print_ll(self):\n",
    "        temp=self.head\n",
    "        while temp is not None:\n",
    "            print(temp.value)\n",
    "            temp=temp.next\n",
    "    def append(self,value):\n",
    "        new_node=Node(value)\n",
    "        if self.head==0:\n",
    "            self.head=new_node\n",
    "            self.tail=new_node\n",
    "        else:\n",
    "            self.tail.next=new_node\n",
    "            self.tail=new_node\n",
    "        self.length+=1\n",
    "        return True\n",
    "    def prepend(self,value):\n",
    "        new_node=Node(value)\n",
    "        if self.head is None:\n",
    "            self.head=new_node\n",
    "            self.tail=new_node\n",
    "        else:\n",
    "            new_node.next=self.head\n",
    "            self.head=new_node\n",
    "        self.length+=1\n",
    "        return True\n",
    "    def Pop(self):\n",
    "        if self.length==0:\n",
    "            print(\"ll is Empty\")\n",
    "            return None\n",
    "        temp=self.head\n",
    "        pre=self.head\n",
    "        while(temp.next is not None):\n",
    "            pre=temp\n",
    "            temp=temp.next\n",
    "        self.tail=pre\n",
    "        self.tail.next=None\n",
    "        self.length-=1\n",
    "        if self.length==0:\n",
    "            self.head=None\n",
    "            self.tail=None\n",
    "        print(temp.value)\n",
    "        return temp\n",
    "    def Pop_first(self):\n",
    "        if self.length ==0:\n",
    "            return None\n",
    "        temp=self.head\n",
    "        self.head=self.head.next\n",
    "        temp.next=None\n",
    "        self.length-=1\n",
    "        if self.length==0:\n",
    "            self.head=None\n",
    "            self.tail=None\n",
    "        print(temp.value)\n",
    "        return temp\n",
    "    def get(self,index):\n",
    "        temp=self.head\n",
    "        for i in range(index):\n",
    "            temp=temp.next\n",
    "        return temp.value\n",
    "\n",
    "                  "
   ]
  },
  {
   "cell_type": "code",
   "execution_count": 3,
   "id": "745d4e42",
   "metadata": {},
   "outputs": [],
   "source": [
    "l=Linkedlist(3)"
   ]
  },
  {
   "cell_type": "code",
   "execution_count": 4,
   "id": "f824321b",
   "metadata": {},
   "outputs": [
    {
     "data": {
      "text/plain": [
       "True"
      ]
     },
     "execution_count": 4,
     "metadata": {},
     "output_type": "execute_result"
    }
   ],
   "source": [
    "l.append(5)\n",
    "l.append(6)\n",
    "l.append(7)"
   ]
  },
  {
   "cell_type": "code",
   "execution_count": 5,
   "id": "ca5a74a4",
   "metadata": {},
   "outputs": [
    {
     "name": "stdout",
     "output_type": "stream",
     "text": [
      "3\n",
      "5\n",
      "6\n",
      "7\n"
     ]
    }
   ],
   "source": [
    "l.Print_ll()"
   ]
  },
  {
   "cell_type": "code",
   "execution_count": 6,
   "id": "55a57a8a",
   "metadata": {},
   "outputs": [
    {
     "data": {
      "text/plain": [
       "True"
      ]
     },
     "execution_count": 6,
     "metadata": {},
     "output_type": "execute_result"
    }
   ],
   "source": [
    "l.prepend(3)"
   ]
  },
  {
   "cell_type": "code",
   "execution_count": 7,
   "id": "fb56306d",
   "metadata": {},
   "outputs": [
    {
     "name": "stdout",
     "output_type": "stream",
     "text": [
      "3\n",
      "3\n",
      "5\n",
      "6\n",
      "7\n"
     ]
    }
   ],
   "source": [
    "l.Print_ll()"
   ]
  },
  {
   "cell_type": "code",
   "execution_count": 8,
   "id": "7644a290",
   "metadata": {},
   "outputs": [
    {
     "name": "stdout",
     "output_type": "stream",
     "text": [
      "7\n"
     ]
    },
    {
     "data": {
      "text/plain": [
       "<__main__.Node at 0x1e255d3b9a0>"
      ]
     },
     "execution_count": 8,
     "metadata": {},
     "output_type": "execute_result"
    }
   ],
   "source": [
    "l.Pop()"
   ]
  },
  {
   "cell_type": "code",
   "execution_count": 9,
   "id": "b5c45a1f",
   "metadata": {},
   "outputs": [
    {
     "name": "stdout",
     "output_type": "stream",
     "text": [
      "3\n"
     ]
    },
    {
     "data": {
      "text/plain": [
       "<__main__.Node at 0x1e255d04e80>"
      ]
     },
     "execution_count": 9,
     "metadata": {},
     "output_type": "execute_result"
    }
   ],
   "source": [
    "l.Pop_first()"
   ]
  },
  {
   "cell_type": "code",
   "execution_count": 10,
   "id": "f7617f2f",
   "metadata": {},
   "outputs": [
    {
     "name": "stdout",
     "output_type": "stream",
     "text": [
      "3\n",
      "5\n",
      "6\n"
     ]
    }
   ],
   "source": [
    "l.Print_ll()"
   ]
  },
  {
   "cell_type": "code",
   "execution_count": 11,
   "id": "d3ffe59a",
   "metadata": {},
   "outputs": [
    {
     "data": {
      "text/plain": [
       "5"
      ]
     },
     "execution_count": 11,
     "metadata": {},
     "output_type": "execute_result"
    }
   ],
   "source": [
    "l.get(1)"
   ]
  },
  {
   "cell_type": "code",
   "execution_count": null,
   "id": "ddb618e5",
   "metadata": {},
   "outputs": [],
   "source": []
  }
 ],
 "metadata": {
  "kernelspec": {
   "display_name": "Python 3 (ipykernel)",
   "language": "python",
   "name": "python3"
  },
  "language_info": {
   "codemirror_mode": {
    "name": "ipython",
    "version": 3
   },
   "file_extension": ".py",
   "mimetype": "text/x-python",
   "name": "python",
   "nbconvert_exporter": "python",
   "pygments_lexer": "ipython3",
   "version": "3.9.13"
  }
 },
 "nbformat": 4,
 "nbformat_minor": 5
}
