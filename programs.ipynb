{
 "cells": [
  {
   "cell_type": "markdown",
   "id": "ff37c07a",
   "metadata": {},
   "source": [
    "1.***lower or upper***"
   ]
  },
  {
   "cell_type": "code",
   "execution_count": 1,
   "id": "f049862f",
   "metadata": {},
   "outputs": [],
   "source": [
    "my_name=\"Bharath Shanmugam\""
   ]
  },
  {
   "cell_type": "code",
   "execution_count": 2,
   "id": "bc17063b",
   "metadata": {},
   "outputs": [
    {
     "data": {
      "text/plain": [
       "['h', 'a', 'r', 'a', 't', 'h', 'h', 'a', 'n', 'm', 'u', 'g', 'a', 'm']"
      ]
     },
     "execution_count": 2,
     "metadata": {},
     "output_type": "execute_result"
    }
   ],
   "source": [
    "list(filter(lambda x:x.islower(),my_name))"
   ]
  },
  {
   "cell_type": "code",
   "execution_count": 1,
   "id": "a914fb93",
   "metadata": {},
   "outputs": [
    {
     "name": "stdout",
     "output_type": "stream",
     "text": [
      "enter a char:  B\n",
      "upper\n",
      "b\n"
     ]
    }
   ],
   "source": [
    "ch=input(\"enter a char:  \")\n",
    "if ch.isupper():\n",
    "    print(\"upper\")\n",
    "    print(ch.lower())"
   ]
  },
  {
   "cell_type": "markdown",
   "id": "44db2e7c",
   "metadata": {},
   "source": [
    "2.***Both are in same location or not***"
   ]
  },
  {
   "cell_type": "code",
   "execution_count": null,
   "id": "d3e81fe6",
   "metadata": {},
   "outputs": [],
   "source": [
    "a=[40,50,60]\n",
    "b=a\n",
    "if a is b:\n",
    "    print(\"a and b are in same location\")"
   ]
  },
  {
   "cell_type": "markdown",
   "id": "04a7fdcc",
   "metadata": {},
   "source": [
    "3.***collection of list is odd or even***"
   ]
  },
  {
   "cell_type": "code",
   "execution_count": null,
   "id": "bde6709a",
   "metadata": {},
   "outputs": [],
   "source": [
    "aa=len(a)\n",
    "print(aa)"
   ]
  },
  {
   "cell_type": "code",
   "execution_count": null,
   "id": "f1965b9c",
   "metadata": {},
   "outputs": [],
   "source": [
    "\n",
    "if aa % 2==0:\n",
    "    print (\"even\")\n",
    "else:\n",
    "    print(\"it is odd\")"
   ]
  },
  {
   "cell_type": "markdown",
   "id": "232194a1",
   "metadata": {},
   "source": [
    "4.***same type or not***\n"
   ]
  },
  {
   "cell_type": "code",
   "execution_count": null,
   "id": "62482372",
   "metadata": {},
   "outputs": [],
   "source": [
    "a=40\n",
    "b=20\n",
    "c=type(a)\n",
    "d=type(b)\n",
    "if c==d:\n",
    "    print(\"same\")\n",
    "else:\n",
    "    print(a)\n"
   ]
  },
  {
   "cell_type": "code",
   "execution_count": null,
   "id": "f069a1bb",
   "metadata": {},
   "outputs": [],
   "source": [
    "a"
   ]
  },
  {
   "cell_type": "code",
   "execution_count": null,
   "id": "9ca23399",
   "metadata": {},
   "outputs": [],
   "source": [
    "if type(a)==int:\n",
    "    print(\"yes it is integer\")"
   ]
  },
  {
   "cell_type": "markdown",
   "id": "f8a8c7c7",
   "metadata": {},
   "source": [
    "5.***to check how many number of digits***"
   ]
  },
  {
   "cell_type": "code",
   "execution_count": null,
   "id": "20664d9a",
   "metadata": {},
   "outputs": [],
   "source": [
    "num=int(input(\"enter a number: \"))\n",
    "if 0<=num<=9:\n",
    "    print(\"it is single digit\")\n",
    "elif 10<=num<=99:\n",
    "    print(\"it is double digit\")\n",
    "elif 100<=num<=999:\n",
    "    print(\"it is triple digit\")\n",
    "else:\n",
    "    print(\"it is more than three\")"
   ]
  },
  {
   "cell_type": "code",
   "execution_count": null,
   "id": "93b35ee2",
   "metadata": {},
   "outputs": [],
   "source": [
    "res=int(input(\"enter a number: \"))\n",
    "if 75<=res<=100:\n",
    "    print(\"distinction\")\n",
    "elif 60<=res<=74:\n",
    "    print(\"second class\")\n",
    "elif 45<=res<=59:\n",
    "    print(\"average\")\n",
    "else:\n",
    "    print(\"chaduvu kondi firstuuu\")"
   ]
  },
  {
   "cell_type": "code",
   "execution_count": 5,
   "id": "c0caefd8",
   "metadata": {},
   "outputs": [
    {
     "name": "stdout",
     "output_type": "stream",
     "text": [
      "num\n"
     ]
    }
   ],
   "source": [
    "che=2\n",
    "\n",
    "if 0<=che<=9:\n",
    "    print(\"num\")\n",
    "elif \"a\"<=che<=\"z\":\n",
    "    print(\"char\")"
   ]
  },
  {
   "cell_type": "markdown",
   "id": "e180e3fb",
   "metadata": {},
   "source": [
    "***6.password check***"
   ]
  },
  {
   "cell_type": "code",
   "execution_count": 9,
   "id": "c1d1d6ab",
   "metadata": {},
   "outputs": [
    {
     "name": "stdout",
     "output_type": "stream",
     "text": [
      "enter a userid: bharath\n",
      "enter a password: 1234\n",
      "invalid user id\n"
     ]
    }
   ],
   "source": [
    "ouser=\"Bharath\"\n",
    "opswd=\"1234\"\n",
    "user=input(\"enter a userid: \")\n",
    "pswd=input(\"enter a password: \")\n",
    "if ouser==user:\n",
    "    if opswd==pswd:\n",
    "        print(\"sucess\")\n",
    "    else:\n",
    "        print(\"invalid pswd\")\n",
    "else:\n",
    "    print(\"invalid user id\")"
   ]
  },
  {
   "cell_type": "markdown",
   "id": "ad392f4a",
   "metadata": {},
   "source": [
    "***7.print num of times***\n"
   ]
  },
  {
   "cell_type": "code",
   "execution_count": 11,
   "id": "87111312",
   "metadata": {
    "scrolled": true
   },
   "outputs": [
    {
     "name": "stdout",
     "output_type": "stream",
     "text": [
      "hello world\n",
      "hello world\n",
      "hello world\n",
      "hello world\n",
      "hello world\n"
     ]
    }
   ],
   "source": [
    "a=\"hello world\"\n",
    "x=0\n",
    "i=5\n",
    "while x<i:\n",
    "    x+=1\n",
    "    print(a)"
   ]
  },
  {
   "cell_type": "markdown",
   "id": "c018ee5c",
   "metadata": {},
   "source": [
    "***8. even number print 2-50***\n"
   ]
  },
  {
   "cell_type": "code",
   "execution_count": 1,
   "id": "dbe3a107",
   "metadata": {},
   "outputs": [
    {
     "name": "stdout",
     "output_type": "stream",
     "text": [
      "2\n",
      "4\n",
      "6\n",
      "8\n",
      "10\n",
      "12\n",
      "14\n",
      "16\n",
      "18\n",
      "20\n",
      "22\n",
      "24\n",
      "26\n",
      "28\n",
      "30\n",
      "32\n",
      "34\n",
      "36\n",
      "38\n",
      "40\n",
      "42\n",
      "44\n",
      "46\n",
      "48\n",
      "50\n"
     ]
    }
   ],
   "source": [
    "i=2\n",
    "n=50\n",
    "while i<=n:\n",
    "    print(i)\n",
    "    i+=2\n",
    "    "
   ]
  },
  {
   "cell_type": "markdown",
   "id": "25e4c7d2",
   "metadata": {},
   "source": [
    "***9.print even num inside the list***\n"
   ]
  },
  {
   "cell_type": "code",
   "execution_count": null,
   "id": "ea910604",
   "metadata": {},
   "outputs": [],
   "source": [
    "b=[10,23,46,78,91,40]"
   ]
  },
  {
   "cell_type": "code",
   "execution_count": null,
   "id": "c20de42f",
   "metadata": {},
   "outputs": [],
   "source": [
    "i=0\n",
    "while i<len(a):\n",
    "    if a[i]%2==0:\n",
    "        print(a[i])\n",
    "        i+=1#pending\n",
    "        "
   ]
  },
  {
   "cell_type": "code",
   "execution_count": null,
   "id": "408eed3c",
   "metadata": {},
   "outputs": [],
   "source": [
    "print(len(b))"
   ]
  },
  {
   "cell_type": "code",
   "execution_count": null,
   "id": "d9449cb2",
   "metadata": {},
   "outputs": [],
   "source": []
  },
  {
   "cell_type": "markdown",
   "id": "6ff056ec",
   "metadata": {},
   "source": [
    "***10.print alphabets present inside a given str***"
   ]
  },
  {
   "cell_type": "code",
   "execution_count": 1,
   "id": "c34c9f9c",
   "metadata": {},
   "outputs": [
    {
     "name": "stdout",
     "output_type": "stream",
     "text": [
      "B\n",
      "h\n",
      "a\n",
      "r\n",
      "a\n",
      "t\n",
      "h\n"
     ]
    }
   ],
   "source": [
    "a=\"Bharath\"\n",
    "i=0\n",
    "while i<len(a):\n",
    "    if \"a\"<=a[i]<=\"z\"or \"A\"<=a[i]<=\"Z\":\n",
    "        print (a[i])\n",
    "        i=i+1"
   ]
  },
  {
   "cell_type": "markdown",
   "id": "c223fb2f",
   "metadata": {},
   "source": [
    "***11.print all char in odd index***"
   ]
  },
  {
   "cell_type": "code",
   "execution_count": 4,
   "id": "9375f90a",
   "metadata": {},
   "outputs": [
    {
     "name": "stdout",
     "output_type": "stream",
     "text": [
      "enter the str: bharatj\n",
      "h\n",
      "r\n",
      "t\n"
     ]
    }
   ],
   "source": [
    "b=input('enter the str: ')\n",
    "i=0\n",
    "while i<len(b):\n",
    "    if i%2!=0:\n",
    "        print(b[i])\n",
    "    i+=1"
   ]
  },
  {
   "cell_type": "code",
   "execution_count": null,
   "id": "c6027774",
   "metadata": {},
   "outputs": [],
   "source": []
  },
  {
   "cell_type": "code",
   "execution_count": 5,
   "id": "2a499445",
   "metadata": {},
   "outputs": [
    {
     "name": "stdout",
     "output_type": "stream",
     "text": [
      "2\n",
      "8\n",
      "48\n",
      "384\n",
      "3840\n"
     ]
    }
   ],
   "source": [
    "m=1\n",
    "n=10\n",
    "pro=1\n",
    "while m<=n:\n",
    "    if m%2==0:\n",
    "        pro=pro*m\n",
    "        print(pro)\n",
    ",    m+=1"
   ]
  },
  {
   "cell_type": "code",
   "execution_count": 7,
   "id": "0d985696",
   "metadata": {},
   "outputs": [],
   "source": [
    "***"
   ]
  },
  {
   "cell_type": "code",
   "execution_count": 8,
   "id": "e925b0ae",
   "metadata": {},
   "outputs": [
    {
     "name": "stdout",
     "output_type": "stream",
     "text": [
      "[7, 14, 21, 88, 56]\n"
     ]
    }
   ],
   "source": [
    "print(a)"
   ]
  },
  {
   "cell_type": "code",
   "execution_count": 5,
   "id": "58b54c24",
   "metadata": {},
   "outputs": [
    {
     "data": {
      "text/plain": [
       "5"
      ]
     },
     "execution_count": 5,
     "metadata": {},
     "output_type": "execute_result"
    }
   ],
   "source": [
    "len(a)"
   ]
  },
  {
   "cell_type": "code",
   "execution_count": 15,
   "id": "f03c8492",
   "metadata": {},
   "outputs": [
    {
     "name": "stdout",
     "output_type": "stream",
     "text": [
      "98\n"
     ]
    }
   ],
   "source": []
  },
  {
   "cell_type": "code",
   "execution_count": null,
   "id": "20ad99ef",
   "metadata": {},
   "outputs": [],
   "source": []
  },
  {
   "cell_type": "code",
   "execution_count": null,
   "id": "cc0cbe7a",
   "metadata": {},
   "outputs": [],
   "source": []
  },
  {
   "cell_type": "code",
   "execution_count": null,
   "id": "b3053006",
   "metadata": {},
   "outputs": [],
   "source": []
  },
  {
   "cell_type": "code",
   "execution_count": null,
   "id": "46929bb1",
   "metadata": {},
   "outputs": [],
   "source": []
  },
  {
   "cell_type": "code",
   "execution_count": null,
   "id": "24cb7c8a",
   "metadata": {},
   "outputs": [],
   "source": []
  }
 ],
 "metadata": {
  "kernelspec": {
   "display_name": "Python 3",
   "language": "python",
   "name": "python3"
  },
  "language_info": {
   "codemirror_mode": {
    "name": "ipython",
    "version": 3
   },
   "file_extension": ".py",
   "mimetype": "text/x-python",
   "name": "python",
   "nbconvert_exporter": "python",
   "pygments_lexer": "ipython3",
   "version": "3.8.8"
  }
 },
 "nbformat": 4,
 "nbformat_minor": 5
}
