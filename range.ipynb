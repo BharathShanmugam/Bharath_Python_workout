{
 "cells": [
  {
   "cell_type": "code",
   "execution_count": 1,
   "id": "c7626e89",
   "metadata": {},
   "outputs": [],
   "source": [
    "mylist=[1,2,3]"
   ]
  },
  {
   "cell_type": "code",
   "execution_count": 2,
   "id": "fad60003",
   "metadata": {},
   "outputs": [
    {
     "name": "stdout",
     "output_type": "stream",
     "text": [
      "[1, 2, 3]\n"
     ]
    }
   ],
   "source": [
    "print(mylist)"
   ]
  },
  {
   "cell_type": "code",
   "execution_count": 5,
   "id": "578de6f5",
   "metadata": {},
   "outputs": [
    {
     "name": "stdout",
     "output_type": "stream",
     "text": [
      "this the numbers 0\n",
      "this the numbers 1\n",
      "this the numbers 2\n",
      "this the numbers 3\n",
      "this the numbers 4\n",
      "this the numbers 5\n",
      "this the numbers 6\n",
      "this the numbers 7\n",
      "this the numbers 8\n",
      "this the numbers 9\n"
     ]
    }
   ],
   "source": [
    "for num in range(10):\n",
    "    print(f\"this the numbers {num}\")"
   ]
  },
  {
   "cell_type": "code",
   "execution_count": 10,
   "id": "8c360680",
   "metadata": {},
   "outputs": [
    {
     "name": "stdout",
     "output_type": "stream",
     "text": [
      "this the numbers 2\n",
      "this the numbers 4\n",
      "this the numbers 6\n",
      "this the numbers 8\n",
      "this the numbers 10\n"
     ]
    }
   ],
   "source": [
    "for num in range(2,11,2):\n",
    "    print(f\"this the numbers {num}\")"
   ]
  },
  {
   "cell_type": "code",
   "execution_count": 19,
   "id": "bc76f379",
   "metadata": {},
   "outputs": [],
   "source": [
    "def user_ch():\n",
    "    ch=\"wrong\"\n",
    "    while ch.isdigit() == False:\n",
    "        ch =input('please enter a number(0-10): ')\n",
    "    return ch"
   ]
  },
  {
   "cell_type": "code",
   "execution_count": 22,
   "id": "e4dcbdad",
   "metadata": {},
   "outputs": [
    {
     "name": "stdout",
     "output_type": "stream",
     "text": [
      "please enter a number(0-10): 555666555\n"
     ]
    },
    {
     "data": {
      "text/plain": [
       "'555666555'"
      ]
     },
     "execution_count": 22,
     "metadata": {},
     "output_type": "execute_result"
    }
   ],
   "source": [
    "user_ch()"
   ]
  },
  {
   "cell_type": "code",
   "execution_count": null,
   "id": "17e107b2",
   "metadata": {},
   "outputs": [],
   "source": [
    ".isdigit()"
   ]
  }
 ],
 "metadata": {
  "kernelspec": {
   "display_name": "Python 3",
   "language": "python",
   "name": "python3"
  },
  "language_info": {
   "codemirror_mode": {
    "name": "ipython",
    "version": 3
   },
   "file_extension": ".py",
   "mimetype": "text/x-python",
   "name": "python",
   "nbconvert_exporter": "python",
   "pygments_lexer": "ipython3",
   "version": "3.8.8"
  }
 },
 "nbformat": 4,
 "nbformat_minor": 5
}
