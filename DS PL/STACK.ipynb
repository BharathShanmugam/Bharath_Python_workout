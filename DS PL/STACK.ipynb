{
 "cells": [
  {
   "cell_type": "code",
   "execution_count": null,
   "id": "01c77538",
   "metadata": {},
   "outputs": [],
   "source": []
  },
  {
   "cell_type": "code",
   "execution_count": 1,
   "id": "de10e995",
   "metadata": {},
   "outputs": [],
   "source": [
    "# class Stack():\n",
    "#     def __init__(self):\n",
    "#         self.stack=[]\n",
    "#         self.noofitems=0\n",
    "#     def empty(self):\n",
    "#         return self.stack==[]\n",
    "#     def pushing(self,data):\n",
    "#         self.stack.insert(self.noofitems,data)\n",
    "#         self.noofitems+=1\n",
    "#         return (f\"{data} this is the pushed element\")\n",
    "#         return self.stack\n",
    "#     def pop(self):\n",
    "#         self.noofitems-=1\n",
    "#         data=self.stack.pop(self.noofitems)\n",
    "        \n",
    "#         return (f\"{data} this is the pushed element\")\n",
    "        \n",
    "#     def clear(self):\n",
    "#         return self.stack.clear()\n",
    "#         print(self.stack)\n",
    "#     def lenth(self):\n",
    "#         return len(self.stack)\n",
    "        "
   ]
  },
  {
   "cell_type": "code",
   "execution_count": 2,
   "id": "ed67a68f",
   "metadata": {},
   "outputs": [],
   "source": [
    "# s=Stack()"
   ]
  },
  {
   "cell_type": "code",
   "execution_count": 3,
   "id": "22457f2c",
   "metadata": {},
   "outputs": [],
   "source": [
    "# s.empty()\n"
   ]
  },
  {
   "cell_type": "code",
   "execution_count": 4,
   "id": "9b0e946c",
   "metadata": {},
   "outputs": [],
   "source": [
    "# s.pushing(int(input(\"enter a value\")))"
   ]
  },
  {
   "cell_type": "code",
   "execution_count": null,
   "id": "a4c0dea2",
   "metadata": {},
   "outputs": [],
   "source": []
  },
  {
   "cell_type": "code",
   "execution_count": 5,
   "id": "bbe0d47b",
   "metadata": {},
   "outputs": [],
   "source": [
    "# s.lenth()\n",
    "# s.stack"
   ]
  },
  {
   "cell_type": "code",
   "execution_count": 6,
   "id": "a5207300",
   "metadata": {},
   "outputs": [],
   "source": [
    "# s.pop()"
   ]
  },
  {
   "cell_type": "code",
   "execution_count": 7,
   "id": "b44e4dbe",
   "metadata": {},
   "outputs": [],
   "source": [
    "class Node:\n",
    "    def __init__ (self,value):\n",
    "        self.value=value\n",
    "        self.next=None"
   ]
  },
  {
   "cell_type": "code",
   "execution_count": 8,
   "id": "40c913b1",
   "metadata": {},
   "outputs": [],
   "source": [
    "class Stack:\n",
    "    def __init__ (self,value):\n",
    "        new_node=Node(value)\n",
    "        self.top=new_node\n",
    "        self.height=1\n",
    "    def print_stack(self):\n",
    "        temp=self.top\n",
    "        while temp is not None:\n",
    "            print(temp.value)\n",
    "            temp=temp.next\n",
    "    def push_stack(self,value):\n",
    "        new_node=Node(value)\n",
    "        if self.height==0:\n",
    "            self.top=new_node\n",
    "        new_node.next=self.top\n",
    "        self.top=new_node\n",
    "        self.height+=1\n",
    "        return True\n",
    "    def pop_stack(self):\n",
    "        if self.height==0:\n",
    "            return None\n",
    "        temp=self.top\n",
    "        self.top=self.top.next\n",
    "        temp.next=None\n",
    "        self.height-=1\n",
    "        return temp.value\n",
    "        "
   ]
  },
  {
   "cell_type": "code",
   "execution_count": 9,
   "id": "9c492acd",
   "metadata": {},
   "outputs": [],
   "source": [
    "s=Stack(3)"
   ]
  },
  {
   "cell_type": "code",
   "execution_count": 10,
   "id": "8388c2b2",
   "metadata": {},
   "outputs": [
    {
     "data": {
      "text/plain": [
       "True"
      ]
     },
     "execution_count": 10,
     "metadata": {},
     "output_type": "execute_result"
    }
   ],
   "source": [
    "s.push_stack(13)\n",
    "s.push_stack(23)\n",
    "s.push_stack(33)\n",
    "s.push_stack(43)\n",
    "s.push_stack(53)"
   ]
  },
  {
   "cell_type": "code",
   "execution_count": 20,
   "id": "0ce207a9",
   "metadata": {},
   "outputs": [],
   "source": [
    "s.print_stack()"
   ]
  },
  {
   "cell_type": "code",
   "execution_count": 19,
   "id": "c176d481",
   "metadata": {},
   "outputs": [],
   "source": [
    "s.pop_stack()"
   ]
  },
  {
   "cell_type": "code",
   "execution_count": null,
   "id": "090b51de",
   "metadata": {},
   "outputs": [],
   "source": []
  }
 ],
 "metadata": {
  "kernelspec": {
   "display_name": "Python 3 (ipykernel)",
   "language": "python",
   "name": "python3"
  },
  "language_info": {
   "codemirror_mode": {
    "name": "ipython",
    "version": 3
   },
   "file_extension": ".py",
   "mimetype": "text/x-python",
   "name": "python",
   "nbconvert_exporter": "python",
   "pygments_lexer": "ipython3",
   "version": "3.9.13"
  },
  "vscode": {
   "interpreter": {
    "hash": "2ca6819a7b235a9e9923d27ebe966cb7261666ab2e4abf79b2eb7e1de2b3fef6"
   }
  }
 },
 "nbformat": 4,
 "nbformat_minor": 5
}
