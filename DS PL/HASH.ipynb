{
 "cells": [
  {
   "cell_type": "code",
   "execution_count": 1,
   "id": "4689a35f",
   "metadata": {},
   "outputs": [],
   "source": [
    "class Hash:\n",
    "    def __init__(self,size=7):\n",
    "        self.my_data=[None]*size\n",
    "    def __hash(self,key):\n",
    "        my_hash=0\n",
    "        for letter in key:\n",
    "            my_hash=(my_hash+ord(letter)*23)%len(self.my_data)\n",
    "        return my_hash\n",
    "    def print_table(self):\n",
    "        for i,value in enumerate(self.my_data):\n",
    "            print(i,\":\",value)\n",
    "    def set_value(self,key,value):\n",
    "        index=self.__hash(key)\n",
    "        if self.my_data[index]==None:\n",
    "            self.my_data[index]=[]\n",
    "        self.my_data[index].append([key,value])\n",
    "        return True\n",
    "    def get_item(self,key):\n",
    "        index=self.__hash(key)\n",
    "        if self.my_data[index] is not None:\n",
    "            print(f'this is before value {self.my_data[index]}')\n",
    "            for i in range(len(self.my_data[index])):\n",
    "                print(f'this is after value {len(self.my_data[index])}')\n",
    "                return self.my_data[index][i][1]\n",
    "            return None\n",
    "    def keys(self):\n",
    "        all_keys=[]\n",
    "        for i in range(len(self.my_data)):\n",
    "            if self.my_data[i] is not None:\n",
    "                for j in range(len(self.my_data[i])):\n",
    "                    all_keys.append(self.my_data[i][j][0])\n",
    "        return all_keys"
   ]
  },
  {
   "cell_type": "code",
   "execution_count": 2,
   "id": "2d04e090",
   "metadata": {},
   "outputs": [],
   "source": [
    "h=Hash()\n"
   ]
  },
  {
   "cell_type": "code",
   "execution_count": 3,
   "id": "04fff57a",
   "metadata": {
    "scrolled": false
   },
   "outputs": [
    {
     "name": "stdout",
     "output_type": "stream",
     "text": [
      "0 : None\n",
      "1 : None\n",
      "2 : None\n",
      "3 : None\n",
      "4 : None\n",
      "5 : None\n",
      "6 : None\n"
     ]
    }
   ],
   "source": [
    "h.print_table()"
   ]
  },
  {
   "cell_type": "code",
   "execution_count": 4,
   "id": "7224f23d",
   "metadata": {},
   "outputs": [
    {
     "data": {
      "text/plain": [
       "True"
      ]
     },
     "execution_count": 4,
     "metadata": {},
     "output_type": "execute_result"
    }
   ],
   "source": [
    "h.set_value(\"washers\",50)"
   ]
  },
  {
   "cell_type": "code",
   "execution_count": 5,
   "id": "b30fcb45",
   "metadata": {},
   "outputs": [
    {
     "name": "stdout",
     "output_type": "stream",
     "text": [
      "this is before value [['washers', 50]]\n",
      "this is after value 1\n"
     ]
    },
    {
     "data": {
      "text/plain": [
       "50"
      ]
     },
     "execution_count": 5,
     "metadata": {},
     "output_type": "execute_result"
    }
   ],
   "source": [
    "h.get_item(\"washers\")"
   ]
  },
  {
   "cell_type": "code",
   "execution_count": 6,
   "id": "ee66ec65",
   "metadata": {},
   "outputs": [
    {
     "data": {
      "text/plain": [
       "1"
      ]
     },
     "execution_count": 6,
     "metadata": {},
     "output_type": "execute_result"
    }
   ],
   "source": [
    "len([['washers', 50]])"
   ]
  },
  {
   "cell_type": "code",
   "execution_count": 11,
   "id": "eeef4af7",
   "metadata": {},
   "outputs": [
    {
     "data": {
      "text/plain": [
       "['washers']"
      ]
     },
     "execution_count": 11,
     "metadata": {},
     "output_type": "execute_result"
    }
   ],
   "source": [
    "h.keys()"
   ]
  },
  {
   "cell_type": "code",
   "execution_count": null,
   "id": "9d646266",
   "metadata": {},
   "outputs": [],
   "source": []
  }
 ],
 "metadata": {
  "kernelspec": {
   "display_name": "Python 3 (ipykernel)",
   "language": "python",
   "name": "python3"
  },
  "language_info": {
   "codemirror_mode": {
    "name": "ipython",
    "version": 3
   },
   "file_extension": ".py",
   "mimetype": "text/x-python",
   "name": "python",
   "nbconvert_exporter": "python",
   "pygments_lexer": "ipython3",
   "version": "3.9.13"
  }
 },
 "nbformat": 4,
 "nbformat_minor": 5
}
