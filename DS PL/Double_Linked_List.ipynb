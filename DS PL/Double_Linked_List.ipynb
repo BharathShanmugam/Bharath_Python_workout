{
 "cells": [
  {
   "cell_type": "code",
   "execution_count": 1,
   "id": "6d440fe2",
   "metadata": {},
   "outputs": [],
   "source": [
    "class Node:\n",
    "    def __init__(self,value):\n",
    "        self.value=value\n",
    "        self.next=None\n",
    "        self.prev=None"
   ]
  },
  {
   "cell_type": "code",
   "execution_count": 2,
   "id": "146aee59",
   "metadata": {},
   "outputs": [],
   "source": [
    "class DoubleLinkedList:\n",
    "    def __init__(self,value):\n",
    "        node=Node(value)\n",
    "        self.head=node\n",
    "        self.tail=node\n",
    "        self.length=1\n",
    "    def print_ll(self):\n",
    "        temp=self.head\n",
    "        while temp is not None:\n",
    "            print(temp.value)\n",
    "            temp=temp.next\n",
    "        \n",
    "    def append(self,value):\n",
    "        node=Node(value)\n",
    "        if self.length==0:\n",
    "            self.head=node\n",
    "            self.tail=node\n",
    "        else:\n",
    "            self.tail.next=node\n",
    "            node.prev=self.tail\n",
    "            self.tail=node\n",
    "        self.length+=1\n",
    "        return True\n",
    "    def pop(self):\n",
    "        if self.length==0:\n",
    "            return None\n",
    "        temp=self.tail\n",
    "        if self.length==1:\n",
    "            self.head=None\n",
    "            self.tail=None\n",
    "        else:\n",
    "            self.tail=self.tail.prev\n",
    "            self.tail.next=None\n",
    "            temp.prev=None\n",
    "        self.length-=1\n",
    "        return temp\n",
    "    def prepend(self,value):\n",
    "        node=Node(value)\n",
    "        if self.length==0:\n",
    "            self.head=node\n",
    "            self.tail=node\n",
    "        else:\n",
    "            node.next=self.head\n",
    "            self.head.prev=node\n",
    "            self.head=node\n",
    "        self.length+=1\n",
    "        return True\n",
    "    def pop_first(self):\n",
    "        if self.length==0:\n",
    "            return None\n",
    "        if self.length>0:\n",
    "            temp=self.head\n",
    "            self.head=self.head.next\n",
    "            temp.next=None\n",
    "            self.head.prev=None\n",
    "            self.length-=1\n",
    "            return temp\n",
    "        if self.length==0:\n",
    "                self.head=None\n",
    "                self.tail=None\n",
    "    def get_ll(self,index):\n",
    "        if index<0 or index>self.length:\n",
    "            return None\n",
    "        temp=self.head\n",
    "        if index<self.length/2:\n",
    "            for _ in range(index):\n",
    "                temp=temp.next\n",
    "        else:\n",
    "            temp=self.tail\n",
    "            for _ in range(self.length-1, index,-1):\n",
    "                temp=temp.prev\n",
    "        return temp\n",
    "    def set_value(self,index,value):\n",
    "        temp=self.get_ll(index)\n",
    "        if temp:\n",
    "            temp.value=value\n",
    "            return True\n",
    "    def insert(self,index,value):\n",
    "        if index<0 or index>self.length:\n",
    "            return None\n",
    "        if index==0:\n",
    "            return self.prepend(value)\n",
    "        if index==self.length:\n",
    "            return self.append(value)\n",
    "        new_node=Node(value)\n",
    "        before=self.get_ll(index-1)\n",
    "        after=before.next\n",
    "        before.next=new_node\n",
    "        after.prev=new_node\n",
    "        new_node.next=after\n",
    "        new_node.prev=before\n",
    "        self.length+=1\n",
    "        return True\n",
    "    def remove(self,index):\n",
    "        if index<0 or index>self.length:\n",
    "            return None\n",
    "        if index==0:\n",
    "            return self.prepend(value)\n",
    "        if index==self.length:\n",
    "            return self.append(value)\n",
    "        temp=self.get_ll(index)\n",
    "        temp.next.prev=temp.prev\n",
    "        temp.prev.next=temp.next\n",
    "        temp.next=None\n",
    "        temp.prev=None\n",
    "        self.length-=1\n",
    "        return temp\n",
    "\n",
    "        "
   ]
  },
  {
   "cell_type": "code",
   "execution_count": 3,
   "id": "3739d972",
   "metadata": {},
   "outputs": [],
   "source": [
    "dl=DoubleLinkedList(4)"
   ]
  },
  {
   "cell_type": "code",
   "execution_count": 4,
   "id": "acb33c51",
   "metadata": {
    "scrolled": false
   },
   "outputs": [
    {
     "name": "stdout",
     "output_type": "stream",
     "text": [
      "4\n"
     ]
    }
   ],
   "source": [
    "print(dl.head.value)"
   ]
  },
  {
   "cell_type": "code",
   "execution_count": 5,
   "id": "71860321",
   "metadata": {},
   "outputs": [
    {
     "data": {
      "text/plain": [
       "True"
      ]
     },
     "execution_count": 5,
     "metadata": {},
     "output_type": "execute_result"
    }
   ],
   "source": [
    "dl.append(1)\n",
    "dl.append(2)\n",
    "dl.append(3)\n",
    "dl.append(4)\n",
    "dl.append(5)\n",
    "dl.append(60)\n",
    "dl.append(70)\n",
    "dl.append(80)\n",
    "dl.append(90)\n",
    "dl.append(10)\n",
    "dl.append(110)"
   ]
  },
  {
   "cell_type": "code",
   "execution_count": 6,
   "id": "8c7ab172",
   "metadata": {},
   "outputs": [
    {
     "data": {
      "text/plain": [
       "True"
      ]
     },
     "execution_count": 6,
     "metadata": {},
     "output_type": "execute_result"
    }
   ],
   "source": [
    "dl.prepend(77)"
   ]
  },
  {
   "cell_type": "code",
   "execution_count": 7,
   "id": "ac689322",
   "metadata": {
    "scrolled": true
   },
   "outputs": [
    {
     "name": "stdout",
     "output_type": "stream",
     "text": [
      "77\n",
      "4\n",
      "1\n",
      "2\n",
      "3\n",
      "4\n",
      "5\n",
      "60\n",
      "70\n",
      "80\n",
      "90\n",
      "10\n",
      "110\n"
     ]
    }
   ],
   "source": [
    "dl.print_ll()"
   ]
  },
  {
   "cell_type": "code",
   "execution_count": 8,
   "id": "e9e8c2ae",
   "metadata": {},
   "outputs": [
    {
     "data": {
      "text/plain": [
       "<__main__.Node at 0x1ccbec96490>"
      ]
     },
     "execution_count": 8,
     "metadata": {},
     "output_type": "execute_result"
    }
   ],
   "source": [
    "dl.pop_first()"
   ]
  },
  {
   "cell_type": "code",
   "execution_count": 9,
   "id": "9ef9554f",
   "metadata": {
    "scrolled": false
   },
   "outputs": [
    {
     "name": "stdout",
     "output_type": "stream",
     "text": [
      "4\n",
      "1\n",
      "2\n",
      "3\n",
      "4\n",
      "5\n",
      "60\n",
      "70\n",
      "80\n",
      "90\n",
      "10\n",
      "110\n"
     ]
    }
   ],
   "source": [
    "dl.print_ll()"
   ]
  },
  {
   "cell_type": "code",
   "execution_count": 10,
   "id": "e1824f84",
   "metadata": {
    "scrolled": false
   },
   "outputs": [
    {
     "data": {
      "text/plain": [
       "<__main__.Node at 0x1ccbec4ce20>"
      ]
     },
     "execution_count": 10,
     "metadata": {},
     "output_type": "execute_result"
    }
   ],
   "source": [
    "dl.get_ll(10)"
   ]
  },
  {
   "cell_type": "code",
   "execution_count": 11,
   "id": "ddf25b08",
   "metadata": {},
   "outputs": [
    {
     "data": {
      "text/plain": [
       "True"
      ]
     },
     "execution_count": 11,
     "metadata": {},
     "output_type": "execute_result"
    }
   ],
   "source": [
    "dl.set_value(10,100)"
   ]
  },
  {
   "cell_type": "code",
   "execution_count": 12,
   "id": "e9502fc6",
   "metadata": {},
   "outputs": [
    {
     "data": {
      "text/plain": [
       "True"
      ]
     },
     "execution_count": 12,
     "metadata": {},
     "output_type": "execute_result"
    }
   ],
   "source": [
    "dl.insert(10,1000)"
   ]
  },
  {
   "cell_type": "code",
   "execution_count": 13,
   "id": "1165c99e",
   "metadata": {},
   "outputs": [
    {
     "name": "stdout",
     "output_type": "stream",
     "text": [
      "4\n",
      "1\n",
      "2\n",
      "3\n",
      "4\n",
      "5\n",
      "60\n",
      "70\n",
      "80\n",
      "90\n",
      "1000\n",
      "100\n",
      "110\n"
     ]
    }
   ],
   "source": [
    "dl.print_ll()"
   ]
  },
  {
   "cell_type": "code",
   "execution_count": null,
   "id": "12450640",
   "metadata": {},
   "outputs": [],
   "source": []
  },
  {
   "cell_type": "code",
   "execution_count": null,
   "id": "3412ede2",
   "metadata": {},
   "outputs": [],
   "source": []
  }
 ],
 "metadata": {
  "kernelspec": {
   "display_name": "Python 3 (ipykernel)",
   "language": "python",
   "name": "python3"
  },
  "language_info": {
   "codemirror_mode": {
    "name": "ipython",
    "version": 3
   },
   "file_extension": ".py",
   "mimetype": "text/x-python",
   "name": "python",
   "nbconvert_exporter": "python",
   "pygments_lexer": "ipython3",
   "version": "3.9.13"
  }
 },
 "nbformat": 4,
 "nbformat_minor": 5
}
