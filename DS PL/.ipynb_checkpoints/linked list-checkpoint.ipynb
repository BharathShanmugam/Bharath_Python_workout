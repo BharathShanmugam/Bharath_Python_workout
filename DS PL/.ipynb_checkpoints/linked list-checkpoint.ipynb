{
 "cells": [
  {
   "cell_type": "markdown",
   "id": "5dd79b8a",
   "metadata": {},
   "source": [
    "class Node(object):\n",
    "    def __init__(self,data,next_node=None):\n",
    "        self.data=data\n",
    "        self.next_node=next_node\n",
    "    def get_next(self):\n",
    "        return self.next_nodedd\n",
    "    def get_data(self):\n",
    "        return self.data\n",
    "    def set_next(self,n):\n",
    "        self.next_node=n\n",
    "    def set_data(self,d):\n",
    "        self.data=d"
   ]
  },
  {
   "cell_type": "markdown",
   "id": "0343aee5",
   "metadata": {},
   "source": [
    "class LinkedList(object):\n",
    "    def __init__(self,r=None):\n",
    "        self.root=r\n",
    "        self.size=0\n",
    "    def get_size (self):\n",
    "        return self.size\n",
    "    def add(self,d):\n",
    "        new_node=Node(d,self.root)\n",
    "        self.root=new_node\n",
    "        self.size+=1\n",
    "    def remove(self,d):\n",
    "        this_node=self.root\n",
    "        prev_node=None\n",
    "        \n",
    "        while this_node:\n",
    "            if this_node.get_data()==d:\n",
    "                if prev_node:\n",
    "                    prev_node.set_next(this_node.get_next())\n",
    "                else:\n",
    "                    self.root=this_node.get_next()\n",
    "                    \n",
    "                self.size-=1   #data removed\n",
    "                return True\n",
    "            else:\n",
    "                prev_node=this_node\n",
    "                this_node=this_node.get_next()\n",
    "                return False  #data not found\n",
    "                \n",
    "            "
   ]
  },
  {
   "cell_type": "markdown",
   "id": "97f29d41",
   "metadata": {},
   "source": [
    "class Node():\n",
    "    def __init__(self,data,next=None):\n",
    "        self.data=data\n",
    "        self.next=next"
   ]
  },
  {
   "cell_type": "markdown",
   "id": "092afbd0",
   "metadata": {},
   "source": [
    "class LinkedList():\n",
    "    def __init__(self):\n",
    "        self.head=None\n",
    "    def print(self):\n",
    "        if self.head is None:\n",
    "            print(\"linked list is empty\")\n",
    "            \n",
    "        itr=self.head\n",
    "        llstr= \" \" \n",
    "        \n",
    "        while itr:\n",
    "            llstr+=str(itr.data)+\"------>\" if itr.next else str(itr.data)\n",
    "            itr=itr.next\n",
    "            print(llstr)\n",
    "            "
   ]
  },
  {
   "cell_type": "markdown",
   "id": "3a804d30",
   "metadata": {},
   "source": [
    "#starting with empty list\n",
    "ll=LinkedList()"
   ]
  },
  {
   "cell_type": "markdown",
   "id": "ba54d94c",
   "metadata": {},
   "source": [
    "#instialing the node values\n",
    "ll.head=Node(1)\n",
    "second=Node(2)\n",
    "third=Node(3)\n",
    "foruth=Node(4)"
   ]
  },
  {
   "cell_type": "markdown",
   "id": "8196b5ce",
   "metadata": {},
   "source": [
    "# connecting the values\n",
    "ll.head.next=second\n",
    "second.next=third\n",
    "third.next=foruth"
   ]
  },
  {
   "cell_type": "markdown",
   "id": "cf60f93d",
   "metadata": {},
   "source": [
    "ll.print()"
   ]
  },
  {
   "cell_type": "markdown",
   "id": "47e161a0",
   "metadata": {},
   "source": [
    "***Linked list***"
   ]
  },
  {
   "cell_type": "code",
   "execution_count": 1,
   "id": "ce22858f",
   "metadata": {},
   "outputs": [],
   "source": [
    "class Node:\n",
    "    def __init__(self,value):\n",
    "        self.value=value\n",
    "        self.next=None"
   ]
  },
  {
   "cell_type": "code",
   "execution_count": 2,
   "id": "17c77010",
   "metadata": {},
   "outputs": [],
   "source": [
    "class Linkedlist:\n",
    "    def __init__(self,value):\n",
    "        new_node=Node(value)\n",
    "        self.head=new_node\n",
    "        self.tail=new_node\n",
    "        self.length=1\n",
    "    def print_ll(self):\n",
    "        temp=self.head\n",
    "        while temp is not None:\n",
    "            print(temp.value)\n",
    "            temp=temp.next\n",
    "    def append(self,value):\n",
    "        new_node=Node(value)\n",
    "        if self.head is None:\n",
    "            self.head=new_node\n",
    "            self.tail=new_node\n",
    "        else:\n",
    "            self.tail.next=new_node\n",
    "            self.tail=new_node\n",
    "        self.length+=1\n",
    "        return True\n",
    "    def pop(self):\n",
    "        if self.length==0:\n",
    "            return None\n",
    "        temp=self.head\n",
    "        pre=self.head\n",
    "        while temp.next is not None:\n",
    "            pre=temp\n",
    "            temp=temp.next\n",
    "        self.tail=pre\n",
    "        print(self.tail.next)\n",
    "        self.tail.next=None\n",
    "        self.length=-1\n",
    "        if  self.length==0:# after removeing the last item will remain we will makeit none\n",
    "            self.head=None\n",
    "            self.tail=None\n",
    "            \n",
    "            return temp\n",
    "        return temp.value\n",
    "    def prepend(self,value):\n",
    "        new_node=Node(value)\n",
    "        if self.length==0:\n",
    "            self.head=None\n",
    "            self.tail=None\n",
    "        else:\n",
    "            new_node.next=self.head\n",
    "            self.head=new_node\n",
    "        self.length+=1\n",
    "        return True\n",
    "    def pop_first(self):\n",
    "        if self.length==0:\n",
    "            return None\n",
    "        temp=self.head\n",
    "        self.head=self.head.next\n",
    "        temp.next=None\n",
    "        if self.length==0:\n",
    "            self.head=None\n",
    "            self.tail=None\n",
    "        self.length-=1\n",
    "        return temp\n",
    "    def get_index(self,index):\n",
    "        if index < 0 or index >= self.length:\n",
    "            return (\"no value\")\n",
    "        temp=self.head\n",
    "        for _ in range(index):\n",
    "            temp=temp.next\n",
    "        return temp\n",
    "    def set_value(self,index,value):\n",
    "        temp=self.get_index(index)\n",
    "        if temp is not None:\n",
    "            temp.value=value\n",
    "            return True\n",
    "        return False\n",
    "    def insert(self, index, value):\n",
    "        if index < 0 or index >= self.length:\n",
    "            return False\n",
    "        if index == 0:\n",
    "            return self.prepend(value)\n",
    "        if index == self.length - 1:\n",
    "            return self.append(value)\n",
    "        new_node = Node(value)\n",
    "        temp = self.get_index(index - 1)\n",
    "        if temp is not None:\n",
    "            new_node.next = temp.next\n",
    "            temp.next = new_node\n",
    "            self.length += 1\n",
    "            return True\n",
    "        return False\n"
   ]
  },
  {
   "cell_type": "code",
   "execution_count": 3,
   "id": "29462bb4",
   "metadata": {},
   "outputs": [],
   "source": [
    "ll=Linkedlist(4)"
   ]
  },
  {
   "cell_type": "code",
   "execution_count": null,
   "id": "9bd31bd1",
   "metadata": {},
   "outputs": [],
   "source": []
  },
  {
   "cell_type": "code",
   "execution_count": 4,
   "id": "b81d99d2",
   "metadata": {},
   "outputs": [
    {
     "name": "stdout",
     "output_type": "stream",
     "text": [
      "4\n"
     ]
    }
   ],
   "source": [
    "print(ll.head.value)"
   ]
  },
  {
   "cell_type": "code",
   "execution_count": 5,
   "id": "2342572a",
   "metadata": {},
   "outputs": [
    {
     "data": {
      "text/plain": [
       "True"
      ]
     },
     "execution_count": 5,
     "metadata": {},
     "output_type": "execute_result"
    }
   ],
   "source": [
    "ll.append(1)\n",
    "ll.append(2)\n",
    "ll.append(3)\n",
    "ll.append(4)\n",
    "ll.append(5)\n",
    "ll.append(60)\n",
    "ll.append(70)\n",
    "ll.append(80)\n",
    "ll.append(90)\n",
    "ll.append(10)\n",
    "ll.append(110)"
   ]
  },
  {
   "cell_type": "code",
   "execution_count": 6,
   "id": "7aa886b6",
   "metadata": {},
   "outputs": [
    {
     "name": "stdout",
     "output_type": "stream",
     "text": [
      "4\n",
      "1\n",
      "2\n",
      "3\n",
      "4\n",
      "5\n",
      "60\n",
      "70\n",
      "80\n",
      "90\n",
      "10\n",
      "110\n"
     ]
    }
   ],
   "source": [
    "ll.print_ll()"
   ]
  },
  {
   "cell_type": "code",
   "execution_count": 7,
   "id": "aa7a35c5",
   "metadata": {},
   "outputs": [
    {
     "name": "stdout",
     "output_type": "stream",
     "text": [
      "<__main__.Node object at 0x0000028C1074D490>\n"
     ]
    }
   ],
   "source": [
    "print(ll.get_index(9))"
   ]
  },
  {
   "cell_type": "code",
   "execution_count": 10,
   "id": "c2ed3315",
   "metadata": {},
   "outputs": [
    {
     "name": "stdout",
     "output_type": "stream",
     "text": [
      "4\n",
      "1\n",
      "2\n",
      "3\n",
      "4\n",
      "22\n",
      "5\n",
      "60\n",
      "70\n",
      "80\n",
      "90\n",
      "10\n",
      "110\n"
     ]
    }
   ],
   "source": [
    "ll.print_ll()"
   ]
  },
  {
   "cell_type": "code",
   "execution_count": 9,
   "id": "61c0c9a7",
   "metadata": {
    "scrolled": true
   },
   "outputs": [
    {
     "data": {
      "text/plain": [
       "True"
      ]
     },
     "execution_count": 9,
     "metadata": {},
     "output_type": "execute_result"
    }
   ],
   "source": [
    "ll.insert(5,22)"
   ]
  },
  {
   "cell_type": "code",
   "execution_count": null,
   "id": "51d56912",
   "metadata": {},
   "outputs": [],
   "source": []
  },
  {
   "cell_type": "code",
   "execution_count": null,
   "id": "1c226463",
   "metadata": {},
   "outputs": [],
   "source": []
  }
 ],
 "metadata": {
  "kernelspec": {
   "display_name": "Python 3 (ipykernel)",
   "language": "python",
   "name": "python3"
  },
  "language_info": {
   "codemirror_mode": {
    "name": "ipython",
    "version": 3
   },
   "file_extension": ".py",
   "mimetype": "text/x-python",
   "name": "python",
   "nbconvert_exporter": "python",
   "pygments_lexer": "ipython3",
   "version": "3.9.13"
  }
 },
 "nbformat": 4,
 "nbformat_minor": 5
}
