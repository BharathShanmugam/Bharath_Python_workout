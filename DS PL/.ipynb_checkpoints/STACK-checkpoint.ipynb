{
 "cells": [
  {
   "cell_type": "code",
   "execution_count": 44,
   "id": "c67ed766",
   "metadata": {},
   "outputs": [],
   "source": [
    "class Stack():\n",
    "    def __init__(self,stack,numofoitems,index):\n",
    "        self.stack=[]\n",
    "        self.numofoitems=0\n",
    "    #checkint empty\n",
    "    def isEmpty(self):\n",
    "        return self.stack==[]\n",
    "    #pushing the element\n",
    "    def push(self,data):\n",
    "        self.stack.insert(self.numofoitems,data)\n",
    "        self.numofoitems+=1 \n",
    "        return f\"{data} pushed to stack\"\n",
    "    #deleting the element\n",
    "    def delete(self):\n",
    "        self.numofoitems-=1\n",
    "        self.stack.pop()\n",
    "        return f\"{data} pop to stack\"\n",
    "    def stacksize(self):\n",
    "        return len (self.stack)\n",
    "    def stackplace(self,p):\n",
    "        return self.stack.index(p)\n",
    "   "
   ]
  },
  {
   "cell_type": "code",
   "execution_count": 2,
   "id": "5a41c9be",
   "metadata": {},
   "outputs": [],
   "source": [
    "s=Stack()"
   ]
  },
  {
   "cell_type": "code",
   "execution_count": 4,
   "id": "c9e702fe",
   "metadata": {},
   "outputs": [
    {
     "data": {
      "text/plain": [
       "True"
      ]
     },
     "execution_count": 4,
     "metadata": {},
     "output_type": "execute_result"
    }
   ],
   "source": [
    "s.isEmpty()"
   ]
  },
  {
   "cell_type": "code",
   "execution_count": 5,
   "id": "382d8895",
   "metadata": {},
   "outputs": [
    {
     "data": {
      "text/plain": [
       "[]"
      ]
     },
     "execution_count": 5,
     "metadata": {},
     "output_type": "execute_result"
    }
   ],
   "source": [
    "s.stack"
   ]
  },
  {
   "cell_type": "code",
   "execution_count": 7,
   "id": "10d70e33",
   "metadata": {},
   "outputs": [
    {
     "data": {
      "text/plain": [
       "'4 pushed to stack'"
      ]
     },
     "execution_count": 7,
     "metadata": {},
     "output_type": "execute_result"
    }
   ],
   "source": [
    "s.push(4)"
   ]
  },
  {
   "cell_type": "code",
   "execution_count": 8,
   "id": "8f296c52",
   "metadata": {},
   "outputs": [
    {
     "data": {
      "text/plain": [
       "'3 pushed to stack'"
      ]
     },
     "execution_count": 8,
     "metadata": {},
     "output_type": "execute_result"
    }
   ],
   "source": [
    "s.push(3)"
   ]
  },
  {
   "cell_type": "code",
   "execution_count": 9,
   "id": "ffdbe390",
   "metadata": {},
   "outputs": [
    {
     "data": {
      "text/plain": [
       "'2 pushed to stack'"
      ]
     },
     "execution_count": 9,
     "metadata": {},
     "output_type": "execute_result"
    }
   ],
   "source": [
    "s.push(2)"
   ]
  },
  {
   "cell_type": "code",
   "execution_count": 10,
   "id": "76a6ac1f",
   "metadata": {},
   "outputs": [
    {
     "data": {
      "text/plain": [
       "'1 pushed to stack'"
      ]
     },
     "execution_count": 10,
     "metadata": {},
     "output_type": "execute_result"
    }
   ],
   "source": [
    "s.push(1)"
   ]
  },
  {
   "cell_type": "code",
   "execution_count": 18,
   "id": "122fb38c",
   "metadata": {},
   "outputs": [
    {
     "data": {
      "text/plain": [
       "3"
      ]
     },
     "execution_count": 18,
     "metadata": {},
     "output_type": "execute_result"
    }
   ],
   "source": [
    "s.numofoitems"
   ]
  },
  {
   "cell_type": "code",
   "execution_count": 12,
   "id": "f3c1315e",
   "metadata": {},
   "outputs": [
    {
     "data": {
      "text/plain": [
       "False"
      ]
     },
     "execution_count": 12,
     "metadata": {},
     "output_type": "execute_result"
    }
   ],
   "source": [
    "s.isEmpty()"
   ]
  },
  {
   "cell_type": "code",
   "execution_count": 13,
   "id": "2f7261b9",
   "metadata": {},
   "outputs": [
    {
     "data": {
      "text/plain": [
       "4"
      ]
     },
     "execution_count": 13,
     "metadata": {},
     "output_type": "execute_result"
    }
   ],
   "source": [
    "s.stacksize()"
   ]
  },
  {
   "cell_type": "code",
   "execution_count": 15,
   "id": "caed617b",
   "metadata": {},
   "outputs": [
    {
     "data": {
      "text/plain": [
       "'1 pop to stack'"
      ]
     },
     "execution_count": 15,
     "metadata": {},
     "output_type": "execute_result"
    }
   ],
   "source": [
    "s.delete()"
   ]
  },
  {
   "cell_type": "code",
   "execution_count": 20,
   "id": "6581682c",
   "metadata": {},
   "outputs": [
    {
     "data": {
      "text/plain": [
       "[4, 3, 2]"
      ]
     },
     "execution_count": 20,
     "metadata": {},
     "output_type": "execute_result"
    }
   ],
   "source": [
    "s.stack"
   ]
  },
  {
   "cell_type": "code",
   "execution_count": 21,
   "id": "e971bbc1",
   "metadata": {},
   "outputs": [
    {
     "data": {
      "text/plain": [
       "'434 pushed to stack'"
      ]
     },
     "execution_count": 21,
     "metadata": {},
     "output_type": "execute_result"
    }
   ],
   "source": [
    "s.push(434)"
   ]
  },
  {
   "cell_type": "code",
   "execution_count": 22,
   "id": "25db0471",
   "metadata": {},
   "outputs": [
    {
     "data": {
      "text/plain": [
       "[4, 3, 2, 434]"
      ]
     },
     "execution_count": 22,
     "metadata": {},
     "output_type": "execute_result"
    }
   ],
   "source": [
    "s.stack"
   ]
  },
  {
   "cell_type": "code",
   "execution_count": 24,
   "id": "f155551e",
   "metadata": {},
   "outputs": [
    {
     "data": {
      "text/plain": [
       "'434 pop to stack'"
      ]
     },
     "execution_count": 24,
     "metadata": {},
     "output_type": "execute_result"
    }
   ],
   "source": [
    "s.delete()"
   ]
  },
  {
   "cell_type": "code",
   "execution_count": 26,
   "id": "4d41154b",
   "metadata": {},
   "outputs": [
    {
     "data": {
      "text/plain": [
       "3"
      ]
     },
     "execution_count": 26,
     "metadata": {},
     "output_type": "execute_result"
    }
   ],
   "source": [
    "s.numofoitems"
   ]
  },
  {
   "cell_type": "code",
   "execution_count": 39,
   "id": "f9663393",
   "metadata": {},
   "outputs": [
    {
     "data": {
      "text/plain": [
       "1"
      ]
     },
     "execution_count": 39,
     "metadata": {},
     "output_type": "execute_result"
    }
   ],
   "source": [
    "s.stack.index(3)"
   ]
  },
  {
   "cell_type": "code",
   "execution_count": 37,
   "id": "9cd99dcf",
   "metadata": {},
   "outputs": [
    {
     "data": {
      "text/plain": [
       "[4, 3, 2]"
      ]
     },
     "execution_count": 37,
     "metadata": {},
     "output_type": "execute_result"
    }
   ],
   "source": [
    "s.stack"
   ]
  },
  {
   "cell_type": "code",
   "execution_count": 42,
   "id": "8242bd22",
   "metadata": {},
   "outputs": [
    {
     "data": {
      "text/plain": [
       "'5 pushed to stack'"
      ]
     },
     "execution_count": 42,
     "metadata": {},
     "output_type": "execute_result"
    }
   ],
   "source": [
    "s.push(5)"
   ]
  },
  {
   "cell_type": "code",
   "execution_count": 43,
   "id": "8e337f11",
   "metadata": {},
   "outputs": [
    {
     "data": {
      "text/plain": [
       "[4, 3, 2, 5]"
      ]
     },
     "execution_count": 43,
     "metadata": {},
     "output_type": "execute_result"
    }
   ],
   "source": [
    "s.stack"
   ]
  },
  {
   "cell_type": "code",
   "execution_count": 45,
   "id": "6d446ddb",
   "metadata": {},
   "outputs": [
    {
     "data": {
      "text/plain": [
       "'bharath pushed to stack'"
      ]
     },
     "execution_count": 45,
     "metadata": {},
     "output_type": "execute_result"
    }
   ],
   "source": [
    "s.push(\"bharath\")"
   ]
  },
  {
   "cell_type": "code",
   "execution_count": 46,
   "id": "f812848c",
   "metadata": {},
   "outputs": [
    {
     "data": {
      "text/plain": [
       "[4, 3, 2, 5, 'bharath']"
      ]
     },
     "execution_count": 46,
     "metadata": {},
     "output_type": "execute_result"
    }
   ],
   "source": [
    "s.stack"
   ]
  },
  {
   "cell_type": "code",
   "execution_count": 48,
   "id": "5508e8f6",
   "metadata": {},
   "outputs": [
    {
     "data": {
      "text/plain": [
       "'bharath pop to stack'"
      ]
     },
     "execution_count": 48,
     "metadata": {},
     "output_type": "execute_result"
    }
   ],
   "source": [
    "s.delete()"
   ]
  },
  {
   "cell_type": "code",
   "execution_count": null,
   "id": "a6fb8eb9",
   "metadata": {},
   "outputs": [],
   "source": []
  }
 ],
 "metadata": {
  "kernelspec": {
   "display_name": "Python 3",
   "language": "python",
   "name": "python3"
  },
  "language_info": {
   "codemirror_mode": {
    "name": "ipython",
    "version": 3
   },
   "file_extension": ".py",
   "mimetype": "text/x-python",
   "name": "python",
   "nbconvert_exporter": "python",
   "pygments_lexer": "ipython3",
   "version": "3.8.8"
  }
 },
 "nbformat": 4,
 "nbformat_minor": 5
}
