{
 "cells": [
  {
   "cell_type": "code",
   "execution_count": 1,
   "id": "3c8d1163",
   "metadata": {},
   "outputs": [],
   "source": [
    "class Graph:\n",
    "    def __init__(self):\n",
    "        self.adj_list={}\n",
    "    def print_adj_list(self):\n",
    "        for vertex in self.adj_list:\n",
    "            print(vertex,\":\",self.adj_list[vertex])\n",
    "    def add_vertex(self,vertex):\n",
    "        if vertex not in self.adj_list.keys():\n",
    "            self.adj_list[vertex]=[]\n",
    "            return True\n",
    "        return False\n",
    "    def add_edge(self,v1,v2):\n",
    "        if v1 in self.adj_list.keys() and v2 in self.adj_list.keys():\n",
    "            self.adj_list[v1].append(v2)\n",
    "            self.adj_list[v2].append(v1)\n",
    "            return True\n",
    "        return False\n",
    "    def remove_edge(self,v1,v2):\n",
    "        if v1 in self.adj_list.keys() and v2 in self.adj_list.keys():\n",
    "            self.adj_list[v1].remove(v2)\n",
    "            self.adj_list[v2].remove(v1)\n",
    "            return True\n",
    "        return False\n",
    "    def remove_vertex(self,vertex):\n",
    "        if vertex in self.adj_list.keys():\n",
    "            for other_vertex in self.adj_list[vertex]:\n",
    "                self.adj_list[other_vertex].remove(vertex)\n",
    "            del self.adj_list[vertex]\n",
    "            return True\n",
    "        return False"
   ]
  },
  {
   "cell_type": "code",
   "execution_count": 2,
   "id": "1924efc4",
   "metadata": {},
   "outputs": [],
   "source": [
    "g=Graph()"
   ]
  },
  {
   "cell_type": "code",
   "execution_count": 3,
   "id": "0a53037f",
   "metadata": {},
   "outputs": [
    {
     "data": {
      "text/plain": [
       "True"
      ]
     },
     "execution_count": 3,
     "metadata": {},
     "output_type": "execute_result"
    }
   ],
   "source": [
    "g.add_vertex(\"A\")\n",
    "g.add_vertex(\"B\")\n",
    "g.add_vertex(\"C\")\n",
    "g.add_vertex(\"D\")"
   ]
  },
  {
   "cell_type": "code",
   "execution_count": 4,
   "id": "d1b67e83",
   "metadata": {
    "scrolled": true
   },
   "outputs": [
    {
     "name": "stdout",
     "output_type": "stream",
     "text": [
      "A : []\n",
      "B : []\n",
      "C : []\n",
      "D : []\n"
     ]
    }
   ],
   "source": [
    "g.print_adj_list()"
   ]
  },
  {
   "cell_type": "code",
   "execution_count": 5,
   "id": "c293a92d",
   "metadata": {},
   "outputs": [
    {
     "data": {
      "text/plain": [
       "True"
      ]
     },
     "execution_count": 5,
     "metadata": {},
     "output_type": "execute_result"
    }
   ],
   "source": [
    "g.add_edge(\"A\",\"B\")\n",
    "g.add_edge(\"A\",\"C\")\n",
    "g.add_edge(\"C\",\"D\")\n",
    "g.add_edge(\"B\",\"D\")\n",
    "g.add_edge(\"D\",\"A\")\n",
    "\n"
   ]
  },
  {
   "cell_type": "code",
   "execution_count": 6,
   "id": "74519379",
   "metadata": {},
   "outputs": [
    {
     "name": "stdout",
     "output_type": "stream",
     "text": [
      "A : ['B', 'C', 'D']\n",
      "B : ['A', 'D']\n",
      "C : ['A', 'D']\n",
      "D : ['C', 'B', 'A']\n"
     ]
    }
   ],
   "source": [
    "g.print_adj_list()"
   ]
  },
  {
   "cell_type": "code",
   "execution_count": 8,
   "id": "cc0584bf",
   "metadata": {},
   "outputs": [
    {
     "data": {
      "text/plain": [
       "True"
      ]
     },
     "execution_count": 8,
     "metadata": {},
     "output_type": "execute_result"
    }
   ],
   "source": [
    "g.remove_vertex(\"D\")"
   ]
  },
  {
   "cell_type": "code",
   "execution_count": 9,
   "id": "efcb8597",
   "metadata": {},
   "outputs": [
    {
     "name": "stdout",
     "output_type": "stream",
     "text": [
      "A : ['B', 'C']\n",
      "B : ['A']\n",
      "C : ['A']\n"
     ]
    }
   ],
   "source": [
    "g.print_adj_list()"
   ]
  },
  {
   "cell_type": "code",
   "execution_count": null,
   "id": "dae2b646",
   "metadata": {},
   "outputs": [],
   "source": []
  }
 ],
 "metadata": {
  "kernelspec": {
   "display_name": "Python 3 (ipykernel)",
   "language": "python",
   "name": "python3"
  },
  "language_info": {
   "codemirror_mode": {
    "name": "ipython",
    "version": 3
   },
   "file_extension": ".py",
   "mimetype": "text/x-python",
   "name": "python",
   "nbconvert_exporter": "python",
   "pygments_lexer": "ipython3",
   "version": "3.9.13"
  }
 },
 "nbformat": 4,
 "nbformat_minor": 5
}
