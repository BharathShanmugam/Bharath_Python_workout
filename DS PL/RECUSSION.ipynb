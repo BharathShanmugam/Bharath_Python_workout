{
 "cells": [
  {
   "cell_type": "code",
   "execution_count": 1,
   "id": "c47298f8",
   "metadata": {},
   "outputs": [
    {
     "data": {
      "text/plain": [
       "24"
      ]
     },
     "execution_count": 1,
     "metadata": {},
     "output_type": "execute_result"
    }
   ],
   "source": [
    "def factioral(n):\n",
    "    if n==1:\n",
    "        return 1\n",
    "    return n*factioral(n-1)\n",
    "\n",
    "factioral(4)\n"
   ]
  },
  {
   "cell_type": "code",
   "execution_count": 2,
   "id": "16a36bbf",
   "metadata": {},
   "outputs": [],
   "source": [
    "def function3():\n",
    "    print(\"f3\")\n",
    "def function2():\n",
    "    function3()\n",
    "    print(\"f2\")\n",
    "def function1():\n",
    "    function1()\n",
    "    print(\"f1\")\n",
    "\n",
    "    "
   ]
  },
  {
   "cell_type": "code",
   "execution_count": null,
   "id": "70cbcc3c",
   "metadata": {},
   "outputs": [],
   "source": [
    "function1()"
   ]
  },
  {
   "cell_type": "code",
   "execution_count": null,
   "id": "65bb4890",
   "metadata": {},
   "outputs": [],
   "source": []
  }
 ],
 "metadata": {
  "kernelspec": {
   "display_name": "Python 3 (ipykernel)",
   "language": "python",
   "name": "python3"
  },
  "language_info": {
   "codemirror_mode": {
    "name": "ipython",
    "version": 3
   },
   "file_extension": ".py",
   "mimetype": "text/x-python",
   "name": "python",
   "nbconvert_exporter": "python",
   "pygments_lexer": "ipython3",
   "version": "3.9.13"
  }
 },
 "nbformat": 4,
 "nbformat_minor": 5
}
