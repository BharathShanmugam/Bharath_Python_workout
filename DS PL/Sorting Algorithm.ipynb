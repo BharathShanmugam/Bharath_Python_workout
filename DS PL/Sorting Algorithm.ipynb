{
 "cells": [
  {
   "cell_type": "markdown",
   "id": "f361b592",
   "metadata": {},
   "source": [
    "***1.Bubble Sort***"
   ]
  },
  {
   "cell_type": "code",
   "execution_count": 1,
   "id": "a96852f3",
   "metadata": {},
   "outputs": [],
   "source": [
    "def Bubble_sort(list):\n",
    "    for i in range(len(list)-1,0,-1):\n",
    "        for j in range(i):\n",
    "            if list[j]>list[j+1]:\n",
    "                temp=list[j]\n",
    "                list[j]=list[j+1]\n",
    "                list[j+1]=temp\n",
    "    return list"
   ]
  },
  {
   "cell_type": "code",
   "execution_count": 2,
   "id": "f91e7688",
   "metadata": {},
   "outputs": [
    {
     "data": {
      "text/plain": [
       "3"
      ]
     },
     "execution_count": 2,
     "metadata": {},
     "output_type": "execute_result"
    }
   ],
   "source": [
    "list1=[5,1,3,4,2]\n",
    "list1[2]"
   ]
  },
  {
   "cell_type": "code",
   "execution_count": 3,
   "id": "ed86068f",
   "metadata": {},
   "outputs": [],
   "source": [
    "list2=[1,2,3,4,5]"
   ]
  },
  {
   "cell_type": "code",
   "execution_count": 4,
   "id": "499605a7",
   "metadata": {},
   "outputs": [
    {
     "data": {
      "text/plain": [
       "[1, 2, 3, 4, 5]"
      ]
     },
     "execution_count": 4,
     "metadata": {},
     "output_type": "execute_result"
    }
   ],
   "source": [
    "Bubble_sort(list2)"
   ]
  },
  {
   "cell_type": "markdown",
   "id": "8275347c",
   "metadata": {},
   "source": [
    "***2.Selection Sort***"
   ]
  },
  {
   "cell_type": "code",
   "execution_count": 5,
   "id": "3ec2f4ec",
   "metadata": {},
   "outputs": [],
   "source": [
    "def selection_sort(my_list):\n",
    "    for i in range(len(my_list)-1):\n",
    "        min_index=i\n",
    "        for j in range(i+1,len(my_list)):\n",
    "            if my_list[j]<my_list[min_index]:\n",
    "                min_index=j\n",
    "        if i!=min_index:\n",
    "            temp=my_list[i]\n",
    "            my_list[i]=my_list[min_index]\n",
    "            my_list[min_index]=temp\n",
    "    return my_list"
   ]
  },
  {
   "cell_type": "code",
   "execution_count": 6,
   "id": "80b6ad1f",
   "metadata": {},
   "outputs": [
    {
     "data": {
      "text/plain": [
       "[1, 2, 3, 4, 5]"
      ]
     },
     "execution_count": 6,
     "metadata": {},
     "output_type": "execute_result"
    }
   ],
   "source": [
    "selection_sort(list1)"
   ]
  },
  {
   "cell_type": "markdown",
   "id": "99638f50",
   "metadata": {},
   "source": [
    "***3.INSERTION SORT***"
   ]
  },
  {
   "cell_type": "code",
   "execution_count": 7,
   "id": "736c6c4a",
   "metadata": {},
   "outputs": [],
   "source": [
    "def insertion_sort(mylist):\n",
    "    for i in range(0,len(mylist)):\n",
    "        temp=i\n",
    "        j=i-1\n",
    "        while temp<mylist[j] and j>-1:\n",
    "            mylist[j+1]=mylist[j]\n",
    "            mylist[j]=temp\n",
    "            j-=1\n",
    "    return mylist"
   ]
  },
  {
   "cell_type": "code",
   "execution_count": 8,
   "id": "bc0758ae",
   "metadata": {},
   "outputs": [
    {
     "data": {
      "text/plain": [
       "[1, 2, 3, 4, 5]"
      ]
     },
     "execution_count": 8,
     "metadata": {},
     "output_type": "execute_result"
    }
   ],
   "source": [
    "insertion_sort([5,3,4,2,1])"
   ]
  },
  {
   "cell_type": "markdown",
   "id": "be043644",
   "metadata": {},
   "source": [
    "***4.MERGE SORT***"
   ]
  },
  {
   "cell_type": "code",
   "execution_count": 9,
   "id": "d506adc8",
   "metadata": {},
   "outputs": [],
   "source": [
    "def merge(list1,list2):\n",
    "    combined_list=[]\n",
    "    i=0\n",
    "    j=0\n",
    "    while i<len(list1) and j<len(list2):\n",
    "        if list1[i]<list2[j]:\n",
    "            combined_list.append(list1[i])\n",
    "            i+=1\n",
    "        else:\n",
    "            combined_list.append(list2[j])\n",
    "            j+=1\n",
    "    while i<len(list1):\n",
    "        combined_list.append(list1[i])\n",
    "        i+=1\n",
    "    while j<len(list2):\n",
    "        combined_list.append(list2[j])\n",
    "        j+=1\n",
    "    return combined_list\n",
    "def merge_sort(mylist):\n",
    "    if len(mylist)==1:\n",
    "        return mylist\n",
    "    mid=int(len(mylist)/2)\n",
    "    left=mylist[:mid]\n",
    "    right=mylist[mid:]\n",
    "    return merge(merge_sort(left),merge_sort(right))"
   ]
  },
  {
   "cell_type": "code",
   "execution_count": 10,
   "id": "4a9031b1",
   "metadata": {},
   "outputs": [],
   "source": [
    "l1=[1,3,7,8]\n",
    "l2=[2,4,5,6,]"
   ]
  },
  {
   "cell_type": "code",
   "execution_count": 11,
   "id": "5a9a22d8",
   "metadata": {},
   "outputs": [
    {
     "data": {
      "text/plain": [
       "[1, 2, 3, 4]"
      ]
     },
     "execution_count": 11,
     "metadata": {},
     "output_type": "execute_result"
    }
   ],
   "source": [
    "merge_sort([3,4,2,1])"
   ]
  },
  {
   "cell_type": "code",
   "execution_count": 12,
   "id": "fb887ea3",
   "metadata": {},
   "outputs": [
    {
     "data": {
      "text/plain": [
       "2"
      ]
     },
     "execution_count": 12,
     "metadata": {},
     "output_type": "execute_result"
    }
   ],
   "source": [
    "int(len(l1)/2)"
   ]
  },
  {
   "cell_type": "markdown",
   "id": "3e322e11",
   "metadata": {},
   "source": [
    "***QUICK SORT***"
   ]
  },
  {
   "cell_type": "code",
   "execution_count": 13,
   "id": "163ef876",
   "metadata": {},
   "outputs": [],
   "source": [
    "def swap(mylist,index1,index2):\n",
    "    temp=mylist[index1]\n",
    "    mylist[index1]=mylist[index2]\n",
    "    mylist[index2]=temp\n",
    "def pivot(mylist,pivot_index,end_index):\n",
    "    swap_index=pivot_index\n",
    "    for i in range(pivot_index+1,end_index+1):\n",
    "        if mylist[i]<mylist[pivot_index]:\n",
    "            swap_index+=1\n",
    "            swap(mylist,swap_index,i)\n",
    "    swap(mylist,pivot_index,swap_index)\n",
    "    return swap_index\n",
    "def quick_sort_helper(mylist,starting,ending):\n",
    "    if starting<ending:\n",
    "        pivot_index=pivot(mylist,starting,ending)\n",
    "        quick_sort_helper(mylist,starting,pivot_index-1)\n",
    "        quick_sort_helper(mylist,pivot_index+1,ending)\n",
    "    return mylist\n",
    "def quick_sort(mylist):\n",
    "    return quick_sort_helper(mylist,0,len(mylist)-1)"
   ]
  },
  {
   "cell_type": "code",
   "execution_count": 14,
   "id": "8de2cda1",
   "metadata": {},
   "outputs": [],
   "source": [
    "a=[4,6,1,7,3,2,5]"
   ]
  },
  {
   "cell_type": "code",
   "execution_count": 15,
   "id": "5eb83f55",
   "metadata": {},
   "outputs": [
    {
     "data": {
      "text/plain": [
       "3"
      ]
     },
     "execution_count": 15,
     "metadata": {},
     "output_type": "execute_result"
    }
   ],
   "source": [
    "pivot(a,0,len(a)-1)"
   ]
  },
  {
   "cell_type": "code",
   "execution_count": 16,
   "id": "a022596c",
   "metadata": {},
   "outputs": [
    {
     "data": {
      "text/plain": [
       "[1, 2, 3, 4, 5, 6, 7]"
      ]
     },
     "execution_count": 16,
     "metadata": {},
     "output_type": "execute_result"
    }
   ],
   "source": [
    "quick_sort([4,6,1,7,3,2,5])"
   ]
  },
  {
   "cell_type": "code",
   "execution_count": null,
   "id": "c99c07cb",
   "metadata": {},
   "outputs": [],
   "source": []
  },
  {
   "cell_type": "code",
   "execution_count": null,
   "id": "972e1bc7",
   "metadata": {},
   "outputs": [],
   "source": [
    "\n"
   ]
  }
 ],
 "metadata": {
  "kernelspec": {
   "display_name": "Python 3 (ipykernel)",
   "language": "python",
   "name": "python3"
  },
  "language_info": {
   "codemirror_mode": {
    "name": "ipython",
    "version": 3
   },
   "file_extension": ".py",
   "mimetype": "text/x-python",
   "name": "python",
   "nbconvert_exporter": "python",
   "pygments_lexer": "ipython3",
   "version": "3.9.13"
  }
 },
 "nbformat": 4,
 "nbformat_minor": 5
}
