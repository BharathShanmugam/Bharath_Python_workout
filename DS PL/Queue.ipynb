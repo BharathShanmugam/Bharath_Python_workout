{
 "cells": [
  {
   "cell_type": "code",
   "execution_count": 1,
   "id": "af939646",
   "metadata": {},
   "outputs": [],
   "source": [
    "# class Queue():\n",
    "#     def __init__(self):\n",
    "#         self.queue=[]\n",
    "#     def isempty(self):\n",
    "#         return self.queue==[]\n",
    "#     def enqueue(self,data):\n",
    "#         self.queue.insert(0,data)\n",
    "#         print(f'this is the {data} of the queue is added')\n",
    "#         print(self.queue)\n",
    "#     def dequeue(self):\n",
    "#         self.queue.pop()\n",
    "#         print(self.queue)\n",
    "#     def sizeofqueue(self):\n",
    "#         return f\"this size of the queue is {len(self.queue)}\"\n"
   ]
  },
  {
   "cell_type": "code",
   "execution_count": 2,
   "id": "0300e392",
   "metadata": {},
   "outputs": [],
   "source": [
    "# q=Queue()"
   ]
  },
  {
   "cell_type": "code",
   "execution_count": 3,
   "id": "f4faa6a8",
   "metadata": {},
   "outputs": [],
   "source": [
    "# q.isempty()"
   ]
  },
  {
   "cell_type": "code",
   "execution_count": 4,
   "id": "cdda09c3",
   "metadata": {},
   "outputs": [],
   "source": [
    "#   q.enqueue(1)"
   ]
  },
  {
   "cell_type": "code",
   "execution_count": 5,
   "id": "19036703",
   "metadata": {},
   "outputs": [],
   "source": [
    "#   q.enqueue(2)"
   ]
  },
  {
   "cell_type": "code",
   "execution_count": 6,
   "id": "042c4dce",
   "metadata": {},
   "outputs": [],
   "source": [
    "# q.enqueue(3)"
   ]
  },
  {
   "cell_type": "code",
   "execution_count": 7,
   "id": "26be1f34",
   "metadata": {},
   "outputs": [],
   "source": [
    "# q.dequeue() "
   ]
  },
  {
   "cell_type": "code",
   "execution_count": 8,
   "id": "58529c2a",
   "metadata": {},
   "outputs": [],
   "source": [
    "# q.sizeofqueue()"
   ]
  },
  {
   "cell_type": "markdown",
   "id": "068b7fc6",
   "metadata": {},
   "source": [
    "***Queue Using Linked List***"
   ]
  },
  {
   "cell_type": "code",
   "execution_count": 9,
   "id": "383f3d87",
   "metadata": {},
   "outputs": [],
   "source": [
    "class Node:\n",
    "    def __init__(self,value):\n",
    "        self.value=value\n",
    "        self.next=None\n",
    "class Queue:\n",
    "    def __init__(self,value):\n",
    "        new_node=Node(value)\n",
    "        self.first=new_node\n",
    "        self.last=new_node\n",
    "        self.length=1\n",
    "    def print_queue(self):\n",
    "        temp=self.first\n",
    "        while temp is not None:\n",
    "            print(temp.value)\n",
    "            temp=temp.next\n",
    "    def enqueue(self,value):\n",
    "        new_node=Node(value)\n",
    "        if self.length==0:\n",
    "            self.first=new_node\n",
    "            self.last=new_node\n",
    "        else:\n",
    "            self.last.next=new_node\n",
    "            self.last=new_node\n",
    "        self.length+=1\n",
    "        return True\n",
    "    def dequeue(self):\n",
    "        temp=self.first\n",
    "        if self.length==0:\n",
    "            return None\n",
    "        if self.length==1:\n",
    "            self.first=None\n",
    "            self.last=None\n",
    "        else:\n",
    "            self.first=self.first.next\n",
    "            temp.next=None\n",
    "        self.length-=1\n",
    "        return temp.value\n",
    "    \n",
    "            "
   ]
  },
  {
   "cell_type": "code",
   "execution_count": 10,
   "id": "41f33ccb",
   "metadata": {},
   "outputs": [],
   "source": [
    "q=Queue(7)"
   ]
  },
  {
   "cell_type": "code",
   "execution_count": 11,
   "id": "b910d928",
   "metadata": {},
   "outputs": [
    {
     "data": {
      "text/plain": [
       "True"
      ]
     },
     "execution_count": 11,
     "metadata": {},
     "output_type": "execute_result"
    }
   ],
   "source": [
    "q.enqueue(6)\n",
    "q.enqueue(5)\n",
    "q.enqueue(4)\n",
    "q.enqueue(3)\n",
    "q.enqueue(2)\n",
    "q.enqueue(1)\n"
   ]
  },
  {
   "cell_type": "code",
   "execution_count": 12,
   "id": "cfb9e6a9",
   "metadata": {
    "scrolled": true
   },
   "outputs": [
    {
     "name": "stdout",
     "output_type": "stream",
     "text": [
      "7\n",
      "6\n",
      "5\n",
      "4\n",
      "3\n",
      "2\n",
      "1\n"
     ]
    }
   ],
   "source": [
    "q.print_queue()"
   ]
  },
  {
   "cell_type": "code",
   "execution_count": 20,
   "id": "e99cb6c6",
   "metadata": {},
   "outputs": [
    {
     "data": {
      "text/plain": [
       "2"
      ]
     },
     "execution_count": 20,
     "metadata": {},
     "output_type": "execute_result"
    }
   ],
   "source": [
    "q.dequeue()"
   ]
  },
  {
   "cell_type": "code",
   "execution_count": 24,
   "id": "da8b0bb5",
   "metadata": {},
   "outputs": [
    {
     "name": "stdout",
     "output_type": "stream",
     "text": [
      "1\n"
     ]
    }
   ],
   "source": [
    "q.print_queue()"
   ]
  },
  {
   "cell_type": "code",
   "execution_count": null,
   "id": "a907b9f4",
   "metadata": {},
   "outputs": [],
   "source": []
  }
 ],
 "metadata": {
  "kernelspec": {
   "display_name": "Python 3 (ipykernel)",
   "language": "python",
   "name": "python3"
  },
  "language_info": {
   "codemirror_mode": {
    "name": "ipython",
    "version": 3
   },
   "file_extension": ".py",
   "mimetype": "text/x-python",
   "name": "python",
   "nbconvert_exporter": "python",
   "pygments_lexer": "ipython3",
   "version": "3.9.13"
  },
  "vscode": {
   "interpreter": {
    "hash": "2ca6819a7b235a9e9923d27ebe966cb7261666ab2e4abf79b2eb7e1de2b3fef6"
   }
  }
 },
 "nbformat": 4,
 "nbformat_minor": 5
}
