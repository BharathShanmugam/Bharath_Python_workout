{
 "cells": [
  {
   "cell_type": "code",
   "execution_count": 1,
   "id": "55f3d270",
   "metadata": {},
   "outputs": [],
   "source": [
    "class Node: \n",
    "    def __init__(self,value):\n",
    "        self.value=value\n",
    "        self.left=None\n",
    "        self.right=None\n",
    "class  Binary_Search_Tree:\n",
    "    def __init__(self):\n",
    "        self.root=None\n",
    "    def insert(self,value):\n",
    "        new_node=Node(value)\n",
    "        if self.root==None:\n",
    "            self.root=new_node\n",
    "            return True\n",
    "        temp=self.root\n",
    "        while (True):\n",
    "            if new_node.value==temp.value:\n",
    "                return False\n",
    "            if new_node.value < temp.value:\n",
    "                if temp.left==None:\n",
    "                    temp.left=new_node\n",
    "                    return True\n",
    "                temp=temp.left\n",
    "            else:\n",
    "                if temp.right==None:\n",
    "                    temp.right=new_node\n",
    "                    return True\n",
    "                temp=temp.right\n",
    "    def contain(self,value):\n",
    "        if self.root is None:\n",
    "            return False\n",
    "        temp=self.root\n",
    "        while temp is not None:\n",
    "            if value < temp.value:\n",
    "                temp=temp.left\n",
    "            elif value > temp.value:\n",
    "                temp=temp.right\n",
    "            else:\n",
    "                print(f'{temp.value} is inside the tree')\n",
    "                return True\n",
    "        return False"
   ]
  },
  {
   "cell_type": "code",
   "execution_count": 2,
   "id": "b2b7a611",
   "metadata": {},
   "outputs": [],
   "source": [
    "t= Binary_Search_Tree()"
   ]
  },
  {
   "cell_type": "code",
   "execution_count": 3,
   "id": "54399439",
   "metadata": {},
   "outputs": [
    {
     "data": {
      "text/plain": [
       "True"
      ]
     },
     "execution_count": 3,
     "metadata": {},
     "output_type": "execute_result"
    }
   ],
   "source": [
    "t.insert(5)"
   ]
  },
  {
   "cell_type": "code",
   "execution_count": 4,
   "id": "d44e9187",
   "metadata": {},
   "outputs": [
    {
     "data": {
      "text/plain": [
       "True"
      ]
     },
     "execution_count": 4,
     "metadata": {},
     "output_type": "execute_result"
    }
   ],
   "source": [
    "t.insert(4)"
   ]
  },
  {
   "cell_type": "code",
   "execution_count": 5,
   "id": "0119f2c3",
   "metadata": {},
   "outputs": [
    {
     "data": {
      "text/plain": [
       "True"
      ]
     },
     "execution_count": 5,
     "metadata": {},
     "output_type": "execute_result"
    }
   ],
   "source": [
    "t.insert(10)"
   ]
  },
  {
   "cell_type": "code",
   "execution_count": 6,
   "id": "b682b3f0",
   "metadata": {},
   "outputs": [
    {
     "data": {
      "text/plain": [
       "True"
      ]
     },
     "execution_count": 6,
     "metadata": {},
     "output_type": "execute_result"
    }
   ],
   "source": [
    "t.insert(50)\n",
    "t.insert(49)\n",
    "t.insert(51)\n",
    "t.insert(46)\n",
    "t.insert(60)\n",
    "t.insert(30)\n",
    "t.insert(35)\n",
    "t.insert(66)\n"
   ]
  },
  {
   "cell_type": "code",
   "execution_count": 7,
   "id": "05454f68",
   "metadata": {},
   "outputs": [
    {
     "data": {
      "text/plain": [
       "4"
      ]
     },
     "execution_count": 7,
     "metadata": {},
     "output_type": "execute_result"
    }
   ],
   "source": [
    "t.root.left.value"
   ]
  },
  {
   "cell_type": "code",
   "execution_count": 8,
   "id": "397e1278",
   "metadata": {},
   "outputs": [
    {
     "name": "stdout",
     "output_type": "stream",
     "text": [
      "30 is inside the tree\n"
     ]
    },
    {
     "data": {
      "text/plain": [
       "True"
      ]
     },
     "execution_count": 8,
     "metadata": {},
     "output_type": "execute_result"
    }
   ],
   "source": [
    "t.contain(30)"
   ]
  },
  {
   "cell_type": "code",
   "execution_count": null,
   "id": "9f8f7ea8",
   "metadata": {},
   "outputs": [],
   "source": []
  }
 ],
 "metadata": {
  "kernelspec": {
   "display_name": "Python 3 (ipykernel)",
   "language": "python",
   "name": "python3"
  },
  "language_info": {
   "codemirror_mode": {
    "name": "ipython",
    "version": 3
   },
   "file_extension": ".py",
   "mimetype": "text/x-python",
   "name": "python",
   "nbconvert_exporter": "python",
   "pygments_lexer": "ipython3",
   "version": "3.9.13"
  }
 },
 "nbformat": 4,
 "nbformat_minor": 5
}
